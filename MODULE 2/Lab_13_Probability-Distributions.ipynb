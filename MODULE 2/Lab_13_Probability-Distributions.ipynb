{
 "cells": [
  {
   "cell_type": "markdown",
   "metadata": {},
   "source": [
    "# Before your start:\n",
    "- Read the README.md file.\n",
    "- Comment as much as you can and use the resources (README.md file).\n",
    "- Happy learning!"
   ]
  },
  {
   "cell_type": "code",
   "execution_count": 1,
   "metadata": {},
   "outputs": [],
   "source": [
    "# Libraries\n",
    "import matplotlib.pyplot as plt\n",
    "import pandas as pd\n",
    "import numpy as np"
   ]
  },
  {
   "cell_type": "markdown",
   "metadata": {},
   "source": [
    "# Challenge 1 - Generate and Plot Normal Distributions\n",
    "#### Step 1: Generate samples and test normal distribution.\n",
    "\n",
    "Use mean=50, standard_deviation=5, and sample_size=[10, 50, 500, 5000] to generate 4 random samples that are normally distributed.\n",
    "\n",
    "**Hint**: Read the documentation for `scipy.stats.norm.rvs`. The function will help you create the normal random samples."
   ]
  },
  {
   "cell_type": "code",
   "execution_count": 2,
   "metadata": {},
   "outputs": [
    {
     "data": {
      "text/html": [
       "<div>\n",
       "<style scoped>\n",
       "    .dataframe tbody tr th:only-of-type {\n",
       "        vertical-align: middle;\n",
       "    }\n",
       "\n",
       "    .dataframe tbody tr th {\n",
       "        vertical-align: top;\n",
       "    }\n",
       "\n",
       "    .dataframe thead th {\n",
       "        text-align: right;\n",
       "    }\n",
       "</style>\n",
       "<table border=\"1\" class=\"dataframe\">\n",
       "  <thead>\n",
       "    <tr style=\"text-align: right;\">\n",
       "      <th></th>\n",
       "      <th>0</th>\n",
       "    </tr>\n",
       "  </thead>\n",
       "  <tbody>\n",
       "    <tr>\n",
       "      <th>0</th>\n",
       "      <td>42.037737</td>\n",
       "    </tr>\n",
       "    <tr>\n",
       "      <th>1</th>\n",
       "      <td>44.173419</td>\n",
       "    </tr>\n",
       "    <tr>\n",
       "      <th>2</th>\n",
       "      <td>50.012721</td>\n",
       "    </tr>\n",
       "    <tr>\n",
       "      <th>3</th>\n",
       "      <td>58.303249</td>\n",
       "    </tr>\n",
       "    <tr>\n",
       "      <th>4</th>\n",
       "      <td>51.379329</td>\n",
       "    </tr>\n",
       "    <tr>\n",
       "      <th>5</th>\n",
       "      <td>47.821776</td>\n",
       "    </tr>\n",
       "    <tr>\n",
       "      <th>6</th>\n",
       "      <td>53.661294</td>\n",
       "    </tr>\n",
       "    <tr>\n",
       "      <th>7</th>\n",
       "      <td>47.022404</td>\n",
       "    </tr>\n",
       "    <tr>\n",
       "      <th>8</th>\n",
       "      <td>53.379799</td>\n",
       "    </tr>\n",
       "    <tr>\n",
       "      <th>9</th>\n",
       "      <td>49.254620</td>\n",
       "    </tr>\n",
       "  </tbody>\n",
       "</table>\n",
       "</div>"
      ],
      "text/plain": [
       "           0\n",
       "0  42.037737\n",
       "1  44.173419\n",
       "2  50.012721\n",
       "3  58.303249\n",
       "4  51.379329\n",
       "5  47.821776\n",
       "6  53.661294\n",
       "7  47.022404\n",
       "8  53.379799\n",
       "9  49.254620"
      ]
     },
     "execution_count": 2,
     "metadata": {},
     "output_type": "execute_result"
    }
   ],
   "source": [
    "# your code here\n",
    "population_mean = 50\n",
    "population_sd = 5\n",
    "sizes = [10, 50, 500, 5000]\n",
    "\n",
    "samples = [pd.DataFrame(np.random.normal(population_mean, population_sd, size)) for size in sizes]\n",
    "samples[0]"
   ]
  },
  {
   "cell_type": "markdown",
   "metadata": {},
   "source": [
    "#### Step 2: Plot normal distributions.\n",
    "\n",
    "To check the shape of the samples you have just created, you can use matplotlib. For example, you can use it to plot a histogram of each sample. \n",
    "\n",
    "If you did, your outputs would be really similar to the ones below:\n",
    "\n",
    "![normal distributions with different sample sizes](../images/ch-1.png)"
   ]
  },
  {
   "cell_type": "markdown",
   "metadata": {},
   "source": [
    "#### Compare the distributions above. What do you observe? Explain with the Central Limit Theorem."
   ]
  },
  {
   "cell_type": "code",
   "execution_count": null,
   "metadata": {},
   "outputs": [],
   "source": [
    "\"\"\"\n",
    "The more samples we take from the population, the distribution of the sample means is more approach to approximately normally distributed.\n",
    "\"\"\""
   ]
  },
  {
   "cell_type": "markdown",
   "metadata": {},
   "source": [
    "#### Bonus: Plot normal distributions.\n",
    "\n",
    "Even though you still don't know how to use matplotlib, as a bonus challenge, you can try to reproduce the plot above using the samples you have created. This plotting library will be introduced later this week, so don't worry if you don't manage to get the results you want now: you can always come back to solve this challenge later."
   ]
  },
  {
   "cell_type": "code",
   "execution_count": 3,
   "metadata": {},
   "outputs": [
    {
     "data": {
      "image/png": "[encoded data removed]",
      "text/plain": [
       "<Figure size 1296x360 with 4 Axes>"
      ]
     },
     "metadata": {
      "needs_background": "light"
     },
     "output_type": "display_data"
    }
   ],
   "source": [
    "# your code here\n",
    "fig, ax = plt.subplots(1,4,figsize=(18,5))\n",
    "\n",
    "for i in range(4):\n",
    "    ax[i].set_title('sample sizes n = '+ str(sizes[i]))\n",
    "    ax[i].hist(samples[i], bins=50)  "
   ]
  },
  {
   "cell_type": "markdown",
   "metadata": {},
   "source": [
    "# Challenge 2 - Plot Probability Mass Function (PMF)"
   ]
  },
  {
   "cell_type": "markdown",
   "metadata": {},
   "source": [
    "### Background knowledge\n",
    "\n",
    "[PMF](https://en.wikipedia.org/wiki/Probability_mass_function) shows the probability distribution of a **discrete random variable**. A [discrete random variable](https://en.wikipedia.org/wiki/Random_variable#Discrete_random_variable) has random numeric values that are not continuous. For example, the number of people in a household can only be integers but not floats. Therefore the number of people in a household is a discrete variable.\n",
    "\n",
    "### Challenge\n",
    "\n",
    "We assume that the probability of clicking an advertisement in a Youtube video is 0.15. We have a sample of 5 people who watched the video and we want to plot the PMF for a binomial distribution.\n",
    "\n",
    "#### Step 1: Create the binomial distribution mentioned above. Store the result in a variable called `dist`. \n",
    "**Hint**: use binom from `scipy.stats.binom`. This object takes *n* and *p* as shape parameters, where *n* is the number of independent experiments and *p* the probability of success of the experiment."
   ]
  },
  {
   "cell_type": "code",
   "execution_count": 4,
   "metadata": {},
   "outputs": [],
   "source": [
    "# your code here\n",
    "# your code here\n",
    "from scipy.stats import binom\n",
    "\n",
    "n, p= 5, 0.15\n",
    "\n",
    "# defining the list of k values\n",
    "ks = list(range(n + 1))\n",
    "\n",
    "# list of pmf values\n",
    "dist = [binom.pmf(k, n, p) for k in ks]"
   ]
  },
  {
   "cell_type": "markdown",
   "metadata": {},
   "source": [
    "#### Step 2: Plot the PMF of the distribution. \n",
    "To do it, run the code in the cell below. \n",
    "\n",
    "**Hint**: Your output should look like the one below:\n",
    "\n",
    "![binom 10](../images/ch-2.png)"
   ]
  },
  {
   "cell_type": "code",
   "execution_count": 7,
   "metadata": {},
   "outputs": [
    {
     "data": {
      "image/png": "[encoded data removed]",
      "text/plain": [
       "<Figure size 432x288 with 1 Axes>"
      ]
     },
     "metadata": {
      "needs_background": "light"
     },
     "output_type": "display_data"
    }
   ],
   "source": [
    "# run this code\n",
    "fig, ax = plt.subplots(1, 1)\n",
    "\n",
    "plt.plot(ks, dist)\n",
    "plt.xlabel('num_success')\n",
    "plt.ylabel('probability')\n",
    "plt.show()"
   ]
  },
  {
   "cell_type": "markdown",
   "metadata": {},
   "source": [
    "#### Step 3: Explain what you observe from the plot above."
   ]
  },
  {
   "cell_type": "code",
   "execution_count": null,
   "metadata": {},
   "outputs": [],
   "source": [
    "\"\"\"\n",
    "your comments here\n",
    "\"\"\""
   ]
  },
  {
   "cell_type": "markdown",
   "metadata": {},
   "source": [
    "#### Step 4: Now plot PMF with 50, 500, and 5000 visitors.\n",
    "To plot the PMF, you can copy the code given above and replace variable `dist` for the name of the variables where you have stored the new binomial objects for 50, 500 and 5000 visitors."
   ]
  },
  {
   "cell_type": "code",
   "execution_count": 6,
   "metadata": {},
   "outputs": [
    {
     "name": "stderr",
     "output_type": "stream",
     "text": [
      "C:\\ProgramData\\Anaconda3\\lib\\site-packages\\scipy\\stats\\_discrete_distns.py:67: RuntimeWarning: divide by zero encountered in _binom_pdf\n",
      "  return _boost._binom_pdf(x, n, p)\n"
     ]
    },
    {
     "data": {
      "image/png": "[encoded data removed]",
      "text/plain": [
       "<Figure size 1080x360 with 3 Axes>"
      ]
     },
     "metadata": {
      "needs_background": "light"
     },
     "output_type": "display_data"
    }
   ],
   "source": [
    "# your code here\n",
    "# your code here\n",
    "ns = [50, 500, 5000]\n",
    "\n",
    "# defining the list of k values\n",
    "ks = list(range(n + 1))\n",
    "\n",
    "# list of pmf values\n",
    "fig, ax = plt.subplots(1, 3,figsize=(15,5))\n",
    "\n",
    "for n in range(0,3):\n",
    "    ks = list(range(ns[n] + 1))\n",
    "    ax[n].set_title('visitors no. = '+ str(ns[n]))\n",
    "    dist = [binom.pmf(k, ns[n], p) for k in ks]\n",
    "    ax[n].plot(ks, dist)"
   ]
  },
  {
   "cell_type": "markdown",
   "metadata": {},
   "source": [
    "#### Step 5: What did you notice from the distribution plots? Comment your findings."
   ]
  },
  {
   "cell_type": "code",
   "execution_count": null,
   "metadata": {},
   "outputs": [],
   "source": [
    "\"\"\"\n",
    "your comments here\n",
    "The graph shows that among 5 people of clicking an advertisement in a Youtube video \n",
    "it's most likely that only one people will click an advertisement in a Youtube video with a probability of a bit less than 40%\n",
    "probability of 2 people click on the video is around 10%, almost impossible for more than 3 people click on the ads\n",
    "\"\"\""
   ]
  },
  {
   "cell_type": "markdown",
   "metadata": {},
   "source": [
    "# Challenge 3\n",
    "#### Step 1: Research the Poisson distribution. Write about your own understanding of the Poisson distribution."
   ]
  },
  {
   "cell_type": "code",
   "execution_count": null,
   "metadata": {},
   "outputs": [],
   "source": [
    "\"\"\"\n",
    "A mathematical concept for translating mean averages into a probability for variable outcomes across a distribution. \n",
    "\"\"\""
   ]
  },
  {
   "cell_type": "markdown",
   "metadata": {},
   "source": [
    "#### Step 2: A website has an average of 300 visits per day. What is the probability of getting 320 visitors in a day?\n",
    "\n",
    "**Hint**: use `scipy.stats.poisson.pmf`."
   ]
  },
  {
   "cell_type": "code",
   "execution_count": 8,
   "metadata": {},
   "outputs": [
    {
     "name": "stdout",
     "output_type": "stream",
     "text": [
      "0.011612348610402475\n"
     ]
    },
    {
     "data": {
      "text/plain": [
       "'1.16123%'"
      ]
     },
     "execution_count": 8,
     "metadata": {},
     "output_type": "execute_result"
    }
   ],
   "source": [
    "# your code here\n",
    "from scipy.stats import poisson\n",
    "p1 = poisson.pmf(320,300)\n",
    "print(p1)\n",
    "\"{:.5%}\". format(p1)"
   ]
  },
  {
   "cell_type": "markdown",
   "metadata": {},
   "source": [
    "#### Step 3: What is the probability of getting 60 visits?"
   ]
  },
  {
   "cell_type": "code",
   "execution_count": 9,
   "metadata": {},
   "outputs": [
    {
     "name": "stdout",
     "output_type": "stream",
     "text": [
      "2.622743762294515e-64\n"
     ]
    },
    {
     "data": {
      "text/plain": [
       "'0.00000%'"
      ]
     },
     "execution_count": 9,
     "metadata": {},
     "output_type": "execute_result"
    }
   ],
   "source": [
    "# your code here\n",
    "p2 = poisson.pmf(60,300)\n",
    "print(p2)\n",
    "\"{:.5%}\". format(p2)\n",
    "#nearly 0%"
   ]
  },
  {
   "cell_type": "markdown",
   "metadata": {},
   "source": [
    "#### Step 4: Create a list to store the Poisson distribution probabilities for 0 to 1000 visitors. Store your list in a variable called `arr`."
   ]
  },
  {
   "cell_type": "code",
   "execution_count": 10,
   "metadata": {},
   "outputs": [],
   "source": [
    "# your code here\n",
    "arr = [poisson.pmf(i,300) for i in range(0,1001)]"
   ]
  },
  {
   "cell_type": "markdown",
   "metadata": {},
   "source": [
    "#### Step 5: Plot the probabilities.\n",
    "To do it, run the code in the cell below. Your plot should look like the one below:\n",
    "\n",
    "![poisson distribution](../images/ch-3.png)"
   ]
  },
  {
   "cell_type": "code",
   "execution_count": 11,
   "metadata": {},
   "outputs": [
    {
     "data": {
      "image/png": "[encoded data removed]",
      "text/plain": [
       "<Figure size 432x288 with 1 Axes>"
      ]
     },
     "metadata": {
      "needs_background": "light"
     },
     "output_type": "display_data"
    }
   ],
   "source": [
    "# run this code\n",
    "plt.plot(arr)\n",
    "plt.show()"
   ]
  },
  {
   "cell_type": "markdown",
   "metadata": {},
   "source": [
    "# Challenge 4 - Central Limit Theorem\n",
    "\n",
    "A delivery company needs 35 minutes to deliver a package, with a standard deviation of 8 minutes. Suppose that in one day, they deliver 200 packages.\n",
    "\n",
    "**Hint**: `stats.norm.cdf` can help you find the answers.\n",
    "\n",
    "#### Step 1: What is the probability that the mean delivery time today is between 30 and 35 minutes?"
   ]
  },
  {
   "cell_type": "code",
   "execution_count": 12,
   "metadata": {},
   "outputs": [
    {
     "data": {
      "text/plain": [
       "'24.30870%'"
      ]
     },
     "execution_count": 12,
     "metadata": {},
     "output_type": "execute_result"
    }
   ],
   "source": [
    "# your code here\n",
    "#A normal continuous random variable \n",
    "#norm.pdf(x, loc, scale)\n",
    "\n",
    "#real number x\n",
    "#The location (loc) keyword specifies the mean. \n",
    "#The scale (scale) keyword specifies the standard deviation.\n",
    "\n",
    "from scipy.stats import norm\n",
    "c1 = norm.cdf(35.1, 35, 8)-norm.cdf(29.9, 35, 8)\n",
    "'{:.5%}'.format(c1)"
   ]
  },
  {
   "cell_type": "markdown",
   "metadata": {},
   "source": [
    "#### Step 2: What is the probability that in total, it takes more than 115 hours to deliver all 200 packages?"
   ]
  },
  {
   "cell_type": "code",
   "execution_count": 13,
   "metadata": {},
   "outputs": [
    {
     "data": {
      "text/plain": [
       "'52.49177%'"
      ]
     },
     "execution_count": 13,
     "metadata": {},
     "output_type": "execute_result"
    }
   ],
   "source": [
    "# your code here\n",
    "time_per_pac = 115*60/200\n",
    "c2 = 1- norm.cdf(time_per_pac, 35, 8)\n",
    "'{:.5%}'.format(c2)"
   ]
  },
  {
   "cell_type": "markdown",
   "metadata": {},
   "source": [
    "# Challenge 5 - Normal Variables\n",
    "The value (in thousands) of the monthly sales of a publishing company follows a normal distribution with a mean equal to 200 and a standard deviation equal to 40.\n",
    "\n",
    "<div align=\"center\">$X → N(200,40)$</div>\n",
    "\n",
    "**Hint**: `stats.norm.cdf` can help you find the answers.\n",
    "\n",
    "#### Step 1: Find the probability that the monthly sales are more than 300."
   ]
  },
  {
   "cell_type": "code",
   "execution_count": 14,
   "metadata": {},
   "outputs": [
    {
     "data": {
      "text/plain": [
       "'0.62097%'"
      ]
     },
     "execution_count": 14,
     "metadata": {},
     "output_type": "execute_result"
    }
   ],
   "source": [
    "# your code here\n",
    "c1 = 1- norm.cdf(300, 200, 40)\n",
    "'{:.5%}'.format(c1)"
   ]
  },
  {
   "cell_type": "markdown",
   "metadata": {},
   "source": [
    "#### Step 2: Find the probability that the monthly sales fall between 160 and 240."
   ]
  },
  {
   "cell_type": "code",
   "execution_count": 15,
   "metadata": {},
   "outputs": [
    {
     "data": {
      "text/plain": [
       "'68.26895%'"
      ]
     },
     "execution_count": 15,
     "metadata": {},
     "output_type": "execute_result"
    }
   ],
   "source": [
    "# your code here\n",
    "c2 = norm.cdf(240,200,40)- norm.cdf(160,200,40)\n",
    "'{:.5%}'.format(c2)"
   ]
  },
  {
   "cell_type": "markdown",
   "metadata": {},
   "source": [
    "#### Step 3: Find the probability that the monthly sales do not exceed 150."
   ]
  },
  {
   "cell_type": "code",
   "execution_count": 17,
   "metadata": {},
   "outputs": [
    {
     "data": {
      "text/plain": [
       "'10.56498%'"
      ]
     },
     "execution_count": 17,
     "metadata": {},
     "output_type": "execute_result"
    }
   ],
   "source": [
    "# your code here\n",
    "c3 = norm.cdf(150,200,40)\n",
    "'{:.5%}'.format(c3)"
   ]
  },
  {
   "cell_type": "markdown",
   "metadata": {},
   "source": [
    "#### Step 4: Find the probability that the monthly sales exceed 3000."
   ]
  },
  {
   "cell_type": "code",
   "execution_count": 16,
   "metadata": {},
   "outputs": [
    {
     "data": {
      "text/plain": [
       "'0.00000000000000000000%'"
      ]
     },
     "execution_count": 16,
     "metadata": {},
     "output_type": "execute_result"
    }
   ],
   "source": [
    "# your code here\n",
    "c4 = 1-norm.cdf(3000,200,40)\n",
    "'{:.20%}'.format(c4)\n",
    "\n",
    "#almost no probability "
   ]
  },
  {
   "cell_type": "markdown",
   "metadata": {},
   "source": [
    "# Challenge 6 - Poisson distribution\n",
    "The mean number of violent robberies per month that are registered in a particular barrio is 4.\n",
    "\n",
    "**Hint**: `stats.poisson.cdf` can help you find the answers.\n",
    "\n",
    "#### Step 1: Find the probability that in a particular month there is no violent robbery."
   ]
  },
  {
   "cell_type": "code",
   "execution_count": 18,
   "metadata": {},
   "outputs": [
    {
     "data": {
      "text/plain": [
       "'1.83156%'"
      ]
     },
     "execution_count": 18,
     "metadata": {},
     "output_type": "execute_result"
    }
   ],
   "source": [
    "# your code here\n",
    "c1 = poisson.cdf(0,4)\n",
    "\"{:.5%}\". format(c1)"
   ]
  },
  {
   "cell_type": "markdown",
   "metadata": {},
   "source": [
    "#### Step 2: Find the probability that there are at least 1 robbery in a given month."
   ]
  },
  {
   "cell_type": "code",
   "execution_count": 19,
   "metadata": {},
   "outputs": [
    {
     "data": {
      "text/plain": [
       "'98.16844%'"
      ]
     },
     "execution_count": 19,
     "metadata": {},
     "output_type": "execute_result"
    }
   ],
   "source": [
    "# your code here\n",
    "c2 = 1-poisson.cdf(0,4)\n",
    "\"{:.5%}\". format(c2)"
   ]
  },
  {
   "cell_type": "markdown",
   "metadata": {},
   "source": [
    "#### Step 3: Find the probability that there are between 2 and 6 (inclusive) robberies in a given month."
   ]
  },
  {
   "cell_type": "code",
   "execution_count": 20,
   "metadata": {},
   "outputs": [
    {
     "data": {
      "text/plain": [
       "'79.77478%'"
      ]
     },
     "execution_count": 20,
     "metadata": {},
     "output_type": "execute_result"
    }
   ],
   "source": [
    "# your code here\n",
    "c3 = poisson.cdf(6.1,4)-poisson.cdf(1.9,4)\n",
    "\"{:.5%}\". format(c3)"
   ]
  },
  {
   "cell_type": "markdown",
   "metadata": {},
   "source": [
    "#### Step 4: Find the probability that there are more than 2 robberies in 15 days."
   ]
  },
  {
   "cell_type": "code",
   "execution_count": 21,
   "metadata": {},
   "outputs": [
    {
     "data": {
      "text/plain": [
       "'32.33236%'"
      ]
     },
     "execution_count": 21,
     "metadata": {},
     "output_type": "execute_result"
    }
   ],
   "source": [
    "# your code here\n",
    "c4 = (1-poisson.cdf(2,4/2))\n",
    "\"{:.5%}\". format(c4)"
   ]
  },
  {
   "cell_type": "code",
   "execution_count": null,
   "metadata": {},
   "outputs": [],
   "source": []
  }
 ],
 "metadata": {
  "anaconda-cloud": {},
  "kernelspec": {
   "display_name": "Python 3 (ipykernel)",
   "language": "python",
   "name": "python3"
  },
  "language_info": {
   "codemirror_mode": {
    "name": "ipython",
    "version": 3
   },
   "file_extension": ".py",
   "mimetype": "text/x-python",
   "name": "python",
   "nbconvert_exporter": "python",
   "pygments_lexer": "ipython3",
   "version": "3.9.7"
  }
 },
 "nbformat": 4,
 "nbformat_minor": 1
}
