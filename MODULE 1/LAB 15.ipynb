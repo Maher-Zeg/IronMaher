{
 "cells": [
  {
   "cell_type": "markdown",
   "metadata": {},
   "source": [
    "# StackAPI\n",
    "\n",
    "#### Import the necessary libraries here:"
   ]
  },
  {
   "cell_type": "code",
   "execution_count": 1,
   "metadata": {},
   "outputs": [
    {
     "ename": "SyntaxError",
     "evalue": "invalid syntax (<ipython-input-1-bae40948c1bf>, line 2)",
     "output_type": "error",
     "traceback": [
      "\u001b[1;36m  File \u001b[1;32m\"<ipython-input-1-bae40948c1bf>\"\u001b[1;36m, line \u001b[1;32m2\u001b[0m\n\u001b[1;33m    pip install stackapi\u001b[0m\n\u001b[1;37m        ^\u001b[0m\n\u001b[1;31mSyntaxError\u001b[0m\u001b[1;31m:\u001b[0m invalid syntax\n"
     ]
    }
   ],
   "source": [
    "# your code here\n",
    "pip install stackapi"
   ]
  },
  {
   "cell_type": "markdown",
   "metadata": {},
   "source": [
    "#### Question 1: Find the questions and answers of last month."
   ]
  },
  {
   "cell_type": "code",
   "execution_count": 2,
   "metadata": {},
   "outputs": [],
   "source": [
    "# your code here\n",
    "from stackapi import StackAPI\n",
    "\n",
    "SITE = StackAPI('stackoverflow')\n"
   ]
  },
  {
   "cell_type": "markdown",
   "metadata": {},
   "source": [
    "#### Question 2: Find the most voted question today with at least a score of 5 and tagged with 'python'. "
   ]
  },
  {
   "cell_type": "code",
   "execution_count": 3,
   "metadata": {},
   "outputs": [],
   "source": [
    "# your code here\n",
    "import time\n",
    "import datetime\n",
    "s1 = \"01/11/2011\"\n",
    "s2 = \"30/11/2021\"\n",
    "d1=int(time.mktime(datetime.datetime.strptime(s1, \"%d/%m/%Y\").timetuple()))\n",
    "d2=int(time.mktime(datetime.datetime.strptime(s2, \"%d/%m/%Y\").timetuple()))"
   ]
  },
  {
   "cell_type": "markdown",
   "metadata": {},
   "source": [
    "#### Question 3: Find the answers with id 6784 and 6473."
   ]
  },
  {
   "cell_type": "code",
   "execution_count": 4,
   "metadata": {},
   "outputs": [
    {
     "name": "stdout",
     "output_type": "stream",
     "text": [
      "Question : Why is processing a sorted array faster than processing an unsorted array?\n",
      "Question : Why does HTML think “chucknorris” is a color?\n",
      "Question : How do I find all files containing specific text on Linux?\n",
      "Question : How to return the response from an asynchronous call\n",
      "Question : For-each over an array in JavaScript\n",
      "Question : How do I exit the Vim editor?\n",
      "Question : &quot;Thinking in AngularJS&quot; if I have a jQuery background?\n",
      "Question : What&#39;s the difference between tilde(~) and caret(^) in package.json?\n",
      "Question : How is Docker different from a virtual machine?\n",
      "Question : How can I pair socks from a pile efficiently?\n"
     ]
    }
   ],
   "source": [
    "# your code here\n",
    "SITE.max_pages=1\n",
    "SITE.page_size=10\n",
    "\n",
    "questions = SITE.fetch('questions', fromdate=d1, todate=d2, min=100, sort='votes')\n",
    "\n",
    "for q in questions['items']:\n",
    "    title = q['title']\n",
    "    print(f'Question : {title}')"
   ]
  },
  {
   "cell_type": "code",
   "execution_count": null,
   "metadata": {},
   "outputs": [],
   "source": []
  }
 ],
 "metadata": {
  "kernelspec": {
   "display_name": "Python 3",
   "language": "python",
   "name": "python3"
  },
  "language_info": {
   "codemirror_mode": {
    "name": "ipython",
    "version": 3
   },
   "file_extension": ".py",
   "mimetype": "text/x-python",
   "name": "python",
   "nbconvert_exporter": "python",
   "pygments_lexer": "ipython3",
   "version": "3.8.8"
  }
 },
 "nbformat": 4,
 "nbformat_minor": 2
}
