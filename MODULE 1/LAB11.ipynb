{
 "cells": [
  {
   "cell_type": "code",
   "execution_count": 1,
   "id": "449a3496",
   "metadata": {},
   "outputs": [
    {
     "data": {
      "text/plain": [
       "[8, 7, 6, 5, 1]"
      ]
     },
     "execution_count": 1,
     "metadata": {},
     "output_type": "execute_result"
    }
   ],
   "source": [
    "#1.Remove All The Marked Elements of a List\n",
    "#Define a method/function that removes from a given array of integers all the values contained in a second array.\n",
    "\n",
    "# integer_list =  [1, 1, 2 ,3 ,1 ,2 ,3 ,4]\n",
    "# values_list = [1, 3]\n",
    "# l.remove_(integer_list, values_list) == [2, 2, 4]\n",
    "\n",
    "def rmint(integer_list,values_list):\n",
    "    nlst = [i for i in integer_list if i not in values_list]\n",
    "    return nlst\n",
    "\n",
    "ilst1=[8, 2, 7, 2, 3, 4, 6, 5, 4, 4, 1, 2 , 3]\n",
    "\n",
    "vlst1=[2, 4, 3]\n",
    "\n",
    "rmint(ilst1,vlst1)"
   ]
  },
  {
   "cell_type": "code",
   "execution_count": 2,
   "id": "791633aa",
   "metadata": {},
   "outputs": [
    {
     "data": {
      "text/plain": [
       "[('a', 5), ('b', 2), ('r', 2), ('c', 1), ('d', 1)]"
      ]
     },
     "execution_count": 2,
     "metadata": {},
     "output_type": "execute_result"
    }
   ],
   "source": [
    "#3.Ordered Count of Characters\n",
    "#Count the number of occurrences of each character and return it as a list of tuples in order of appearance. For empty output return an empty list.\n",
    "#ex:\n",
    "#ordered_count(\"abracadabra\") == [('a', 5), ('b', 2), ('r', 2), ('c', 1), ('d', 1)]\n",
    "\n",
    "def ocount(astr):\n",
    "    dict1={}\n",
    "    for i in astr:\n",
    "        n=astr.count(i)\n",
    "        dict1[i]=n\n",
    "    return [(i,n) for i,n in dict1.items()]\n",
    "\n",
    "ocount(\"abracadabra\")"
   ]
  },
  {
   "cell_type": "code",
   "execution_count": null,
   "id": "4061f09b",
   "metadata": {},
   "outputs": [],
   "source": []
  }
 ],
 "metadata": {
  "kernelspec": {
   "display_name": "Python 3",
   "language": "python",
   "name": "python3"
  },
  "language_info": {
   "codemirror_mode": {
    "name": "ipython",
    "version": 3
   },
   "file_extension": ".py",
   "mimetype": "text/x-python",
   "name": "python",
   "nbconvert_exporter": "python",
   "pygments_lexer": "ipython3",
   "version": "3.8.8"
  }
 },
 "nbformat": 4,
 "nbformat_minor": 5
}
