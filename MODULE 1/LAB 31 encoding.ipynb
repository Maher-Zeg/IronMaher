<!DOCTYPE html>
<!-- saved from url=(0095)https://github.com/Maher-Zeg/IronMaher/blame/main/LAB%2031%20encoding/LAB%2031%20encoding.ipynb -->
<html lang="en" data-color-mode="auto" data-light-theme="dark_high_contrast" data-dark-theme="dark_high_contrast"><head><meta http-equiv="Content-Type" content="text/html; charset=UTF-8">
    
  <link rel="dns-prefetch" href="https://github.githubassets.com/">
  <link rel="dns-prefetch" href="https://avatars.githubusercontent.com/">
  <link rel="dns-prefetch" href="https://github-cloud.s3.amazonaws.com/">
  <link rel="dns-prefetch" href="https://user-images.githubusercontent.com/">
  <link rel="preconnect" href="https://github.githubassets.com/" crossorigin="">
  <link rel="preconnect" href="https://avatars.githubusercontent.com/">



  <link crossorigin="anonymous" media="all" integrity="sha512-PDguTqV/sgFBBIdGLWGe50pI4GUQjVg3NQIm1ue9+6Wtn5qdx122aGJ1/M6IydIYhVs1tRfeLBl8P+7lNRRHlg==" rel="stylesheet" href="./LAB 31 encoding_files/dark_high_contrast-3c382e4ea57f.css"><link crossorigin="anonymous" media="all" integrity="sha512-PDguTqV/sgFBBIdGLWGe50pI4GUQjVg3NQIm1ue9+6Wtn5qdx122aGJ1/M6IydIYhVs1tRfeLBl8P+7lNRRHlg==" rel="stylesheet" href="./LAB 31 encoding_files/dark_high_contrast-3c382e4ea57f.css"><link data-color-theme="light" crossorigin="anonymous" media="all" integrity="sha512-sD8zc/Dn1lguLc4FdbeVhD2gfxFCTXGr/y+MpJG3oX1vkAyaFf/7BHPtvv1dAHA0KG4bDEW3Ex1EPrzGTMtN2Q==" rel="stylesheet" data-href="https://github.githubassets.com/assets/light-b03f3373f0e7.css"><link data-color-theme="dark" crossorigin="anonymous" media="all" integrity="sha512-V0872pNNqPTaPQFzdwX9tHIzJvB4F1Foi6VYDciZAMo/qHgBC8PvN2d/SkMweiNDbR6eF3cXcG0aPVrEtC8zqw==" rel="stylesheet" data-href="https://github.githubassets.com/assets/dark-574f3bda934d.css"><link data-color-theme="dark_dimmed" crossorigin="anonymous" media="all" integrity="sha512-PzuUWYSTZfXfFMEstZYF7zd5TnBiunweYKf7SA0USRWwzNBPELoB8ZhGVGTwcMSwF5ff9kyBAdGzEbfJ2/4cig==" rel="stylesheet" data-href="https://github.githubassets.com/assets/dark_dimmed-3f3b94598493.css"><link data-color-theme="dark_colorblind" crossorigin="anonymous" media="all" integrity="sha512-PZ0pkh4DltajJswDsmdCrHotI3eS5qb+etb48dcRDxUuiy0g2YP+kw5sQi04CE7AO+J33JXg86PAQoivVKkdKg==" rel="stylesheet" data-href="https://github.githubassets.com/assets/dark_colorblind-3d9d29921e03.css"><link data-color-theme="light_colorblind" crossorigin="anonymous" media="all" integrity="sha512-P+VDoZFVyqfAb06foA/ZLUzHkdMPqEQq1d1B0VSzEzOF3fidwKWULgI+b1E+OoF7VnC5HXRS4lMJPKKc6wrc8g==" rel="stylesheet" data-href="https://github.githubassets.com/assets/light_colorblind-3fe543a19155.css"><link data-color-theme="light_high_contrast" crossorigin="anonymous" media="all" integrity="sha512-33ulzUgAM4pZv65KAcvjwZLHiC4bQaF61LiK9BiAQ/kuCG/+LtNi2clT1gfb72sa9SOsiu4fs4bEBL543Ms3Iw==" rel="stylesheet" data-href="https://github.githubassets.com/assets/light_high_contrast-df7ba5cd4800.css">
    <link crossorigin="anonymous" media="all" integrity="sha512-p4ShjcZR/EJgf/cEieEqYD2znkfMm+ZCcW8M92V3njUlizkjgPbfbHbTgzS/uap+P4HgwLMNEmI+WhqZXAbF+Q==" rel="stylesheet" href="./LAB 31 encoding_files/frameworks-a784a18dc651.css">
    <link crossorigin="anonymous" media="all" integrity="sha512-5PxO6l9oTKozVtpDq8Tbn22voXMCYpKm7iY5nAC62h6HISfnvQPY9Mae+XRB8wf5OBnaqoPiLQWLpReQXP6yEA==" rel="stylesheet" href="./LAB 31 encoding_files/behaviors-e4fc4eea5f68.css">
  <link crossorigin="anonymous" media="all" integrity="sha512-MZaR7MwVNJ3cHnY4UJHuMjPTAirAu5C6VtUTFx7vDrlt9kRKyYWBIJ/uG71w30FT7Cb/3I/nWg6huGwq6D892Q==" rel="stylesheet" href="./LAB 31 encoding_files/github-319691eccc15.css">



  <script crossorigin="anonymous" defer="defer" type="application/javascript" integrity="sha512-+B1ug6tbKx1ZKCMzp1g1m7CsPZQhlQbrz39NXJ+y7Ql054oZWyZJRcqZ1AVOgc/wfYONHcfH8TIu98huxQHRJQ==" src="./LAB 31 encoding_files/runtime-f81d6e83ab5b.js.téléchargement"></script>
<script crossorigin="anonymous" defer="defer" type="application/javascript" integrity="sha512-/60A2/6dLC43TT9rA0QBLRuG9Sreq8FCULwAwUt8sxZWcDMhjHyiYSSO6TaEEcnb55AnhIBJTcgjkuoqcK8iKQ==" src="./LAB 31 encoding_files/environment-ffad00dbfe9d.js.téléchargement"></script>
<script crossorigin="anonymous" defer="defer" type="application/javascript" integrity="sha512-mNt9opq5jyqeZdWMV25dquh3PeAJZk/NFBfdGMUbTN7JB344FlZu6Jr8g/ieGGy+3sy5REA/uZXM0GmGKqOpcw==" src="./LAB 31 encoding_files/5329-98db7da29ab9.js.téléchargement"></script>
<script crossorigin="anonymous" defer="defer" type="application/javascript" integrity="sha512-9n/KDFl7RTBwlMhFd7BrFVXj5dJnvyMjRzKu4rxr4eKDf8zqcP3hbZVzCiBdR0e0jS2L8asQfzsnHSK2c+ZF7g==" src="./LAB 31 encoding_files/2486-f67fca0c597b.js.téléchargement"></script>
<script crossorigin="anonymous" defer="defer" type="application/javascript" integrity="sha512-qNL70NcbKIFaK7Pc/pynQJLTpp1jZIBaFA7o31IrfbYEiuDqi/TnCkEU4QxKSVaLxtt5B1Y6zNRz2iUgqaqdew==" src="./LAB 31 encoding_files/8475-a8d2fbd0d71b.js.téléchargement"></script>
<script crossorigin="anonymous" defer="defer" type="application/javascript" integrity="sha512-H/F50N+M9z2+JkI/7v34Hcedrm01LD6TPomVD3jiqhDkjk/uIAate1EKFGfoQOT+jJGEOuWw7zxoXd/MpeD6qg==" src="./LAB 31 encoding_files/github-elements-1ff179d0df8c.js.téléchargement"></script>
<script crossorigin="anonymous" defer="defer" type="application/javascript" integrity="sha512-qoe4a0rbf/a7flufGgla8SWMel24jStMi0ITDQ91AUixRDhulPUfyQWAMtsRNVokEFDHgWZLBD02RlZcwKtpWQ==" src="./LAB 31 encoding_files/element-registry-aa87b86b4adb.js.téléchargement"></script>
<script crossorigin="anonymous" defer="defer" type="application/javascript" integrity="sha512-ZAKZQWCEc6bs9LSQOCPRWq3wqRDkQxG2bPL/pW9Lj/Seap0PV0kF/yKCHske8mW3Zytde9n1Im83jxrCmpaMrA==" src="./LAB 31 encoding_files/5724-640299416084.js.téléchargement"></script>
<script crossorigin="anonymous" defer="defer" type="application/javascript" integrity="sha512-Hb8d69V10VxkC90NX3zvjNovHq5vrRv0XCde5qNf5WiQAB6BziCN+gEbKG+fDj8i05B2pBdyGIh+3pmaRvzLJA==" src="./LAB 31 encoding_files/5388-1dbf1debd575.js.téléchargement"></script>
<script crossorigin="anonymous" defer="defer" type="application/javascript" integrity="sha512-j9tCiIT7h+++Hko9qwRezOfoO32kBBlf6Te9zZyxxmrxG1EA5ji2QCYAIzd5vXB7616gZ5m9J+WMQwv3VEf1wA==" src="./LAB 31 encoding_files/93-8fdb428884fb.js.téléchargement"></script>
<script crossorigin="anonymous" defer="defer" type="application/javascript" integrity="sha512-JPHg6lXC/kVMbA05VoaD5W739fMUF/ObaJ4NrZWLi91OWI9xEhJ9NtwbGROmxjCm5FGwNOVohY+DXILkO19dtA==" src="./LAB 31 encoding_files/8932-24f1e0ea55c2.js.téléchargement"></script>
<script crossorigin="anonymous" defer="defer" type="application/javascript" integrity="sha512-heG3JMoQq3ducVj0rke7ixXR6HU4XKtSlNnKQ6uGDD+JjKmcpeXRiBBQnX1biRw9F33Eyqkqv7wifIWv4lEk/Q==" src="./LAB 31 encoding_files/1717-85e1b724ca10.js.téléchargement"></script>
<script crossorigin="anonymous" defer="defer" type="application/javascript" integrity="sha512-n2oK+L9azw6RosotvTCUd1Jxr802Hv6tJyGrbiZO2D0Dy1kWE/qXLS6fPc7EcQH5DiSpLHJsySDgDRuC40TbUA==" src="./LAB 31 encoding_files/901-9f6a0af8bf5a.js.téléchargement"></script>
<script crossorigin="anonymous" defer="defer" type="application/javascript" integrity="sha512-/V7241I4oTyrmfzf1ZLgzrDMftUwrGlFXG26BaMgW8Koi8/8InvjGu+skviYVpZN5G4FOCsUNoE3zS6R73Sqgg==" src="./LAB 31 encoding_files/3682-fd5ef6e35238.js.téléchargement"></script>
<script crossorigin="anonymous" defer="defer" type="application/javascript" integrity="sha512-HAkxnw9T7k6o8jrwnCU02jjyGxcy4XwAFi4EahWVnXfnZNapkX5FKajEOzz7QakIoYSzQYxKHedPAhw8RuwAsw==" src="./LAB 31 encoding_files/3932-1c09319f0f53.js.téléchargement"></script>
<script crossorigin="anonymous" defer="defer" type="application/javascript" integrity="sha512-6Z042pDIkQL8gBC8c8IuDLV2NrsRl4D0rQ/zMAIpjGgSWuzL3H0iXADdpwlB/L00dl0Nus2uL3JBUcQYcWPP0w==" src="./LAB 31 encoding_files/3826-e99d38da90c8.js.téléchargement"></script>
<script crossorigin="anonymous" defer="defer" type="application/javascript" integrity="sha512-yvzIhSyniMQb1fkQ7iaHIxqVCwk34Zd7jEqriSPiBq4N+M4hHPyOhOQYnBupCQwgwE6iHHbWPQpX18Hu4HXVfQ==" src="./LAB 31 encoding_files/5222-cafcc8852ca7.js.téléchargement"></script>
<script crossorigin="anonymous" defer="defer" type="application/javascript" integrity="sha512-Lzk5710+ba13Vz7GtPC1cBevcxujkROLaYmHCDhfYiBfpNWFbJDr9XoS3qQ21ncbGAMCRwXeCXvlv4RYjIsaPA==" src="./LAB 31 encoding_files/behaviors-2f3939ef5d3e.js.téléchargement"></script>
<script crossorigin="anonymous" defer="defer" type="application/javascript" integrity="sha512-gy8qIM5ywfZwY9t64qGa3rDcqWJGKXayF+CsUt0owghpz2eqnNX2tMtSRRdOybIIwu6cScH/b8SkXvSHQt5qow==" src="./LAB 31 encoding_files/7749-832f2a20ce72.js.téléchargement"></script>
<script crossorigin="anonymous" defer="defer" type="application/javascript" integrity="sha512-XWCpyEQy0ukcAhCgvebb7RhB3Gl9ap6gzdKXsD2zOb099rINj1JJNqwQl3xCEzq4VQKz0OTVRe+2f9RiPrEBcQ==" src="./LAB 31 encoding_files/notifications-global-5d60a9c84432.js.téléchargement"></script>
<script crossorigin="anonymous" defer="defer" type="application/javascript" integrity="sha512-xyGHYwjeMuGHmOdgy9Kb/p7zpSxjrw197tH6c+PzJj3L9zUCmjXBRbPky6B3Dqc/dN0x6OPF7n2Uh5u5MdbVUw==" src="./LAB 31 encoding_files/90-c721876308de.js.téléchargement"></script>
<script crossorigin="anonymous" defer="defer" type="application/javascript" integrity="sha512-AYqt3h3e9yBPkTVipsLLUCU2qCv7M31EodfqWxo5UKYyx8iI44MniIvWI5K+skqivkk0Auq3QaWslerlSihYqA==" src="./LAB 31 encoding_files/6813-018aadde1dde.js.téléchargement"></script>
<script crossorigin="anonymous" defer="defer" type="application/javascript" integrity="sha512-fVWEYrwNiNqMDgK2qU/B+IumJZbvKseQoon/V//Dxcm9+btlS1AEfEWqogm9ZVQtDGEeu+fyazqJuSOxYsqSLA==" src="./LAB 31 encoding_files/6637-7d558462bc0d.js.téléchargement"></script>
<script crossorigin="anonymous" defer="defer" type="application/javascript" integrity="sha512-/QlUgO5cJKKqK71jHy3JgJbh7lu8OmQCyC9bRthe/2Oe6exWHKdR9a3il0Qz1DP+UM5BSGcdh0AF9woPn80kUg==" src="./LAB 31 encoding_files/6791-fd095480ee5c.js.téléchargement"></script>
<script crossorigin="anonymous" defer="defer" type="application/javascript" integrity="sha512-IIxK8FhcKILtaqpL41RZDRx2+5bMvqOMrZmaFwzJU4sy9OwoqEd1lP8ZCi1LrRAZBU2SkkHk2o1dr1Qsco7msg==" src="./LAB 31 encoding_files/repositories-208c4af0585c.js.téléchargement"></script>
<script crossorigin="anonymous" defer="defer" type="application/javascript" integrity="sha512-FcPG85tQcvQQcW67wmp069DaTyZlqqLodSNqJ7DzjAFfffO0P2TZyzT9WWSGVnh4lb0KLTv+qweWAwDVh8+XzA==" src="./LAB 31 encoding_files/diffs-15c3c6f39b50.js.téléchargement"></script>
  

  <meta name="viewport" content="width=device-width">
  
  <title>IronMaher/LAB 31 encoding/LAB 31 encoding.ipynb at main · Maher-Zeg/IronMaher</title>
    <meta name="description" content="Contribute to Maher-Zeg/IronMaher development by creating an account on GitHub.">
    <link rel="search" type="application/opensearchdescription+xml" href="https://github.com/opensearch.xml" title="GitHub">
  <link rel="fluid-icon" href="https://github.com/fluidicon.png" title="GitHub">
  <meta property="fb:app_id" content="1401488693436528">
  <meta name="apple-itunes-app" content="app-id=1477376905">
    <meta name="twitter:image:src" content="https://avatars.githubusercontent.com/u/94024100?s=400&amp;v=4"><meta name="twitter:site" content="@github"><meta name="twitter:card" content="summary"><meta name="twitter:title" content="IronMaher/LAB 31 encoding/LAB 31 encoding.ipynb at main · Maher-Zeg/IronMaher"><meta name="twitter:description" content="Contribute to Maher-Zeg/IronMaher development by creating an account on GitHub.">
    <meta property="og:image" content="https://avatars.githubusercontent.com/u/94024100?s=400&amp;v=4"><meta property="og:image:alt" content="Contribute to Maher-Zeg/IronMaher development by creating an account on GitHub."><meta property="og:site_name" content="GitHub"><meta property="og:type" content="object"><meta property="og:title" content="IronMaher/LAB 31 encoding/LAB 31 encoding.ipynb at main · Maher-Zeg/IronMaher"><meta property="og:url" content="https://github.com/Maher-Zeg/IronMaher"><meta property="og:description" content="Contribute to Maher-Zeg/IronMaher development by creating an account on GitHub.">
    



    

  <link rel="assets" href="https://github.githubassets.com/">
    <link rel="shared-web-socket" href="wss://alive.github.com/_sockets/u/94024100/ws?session=eyJ2IjoiVjMiLCJ1Ijo5NDAyNDEwMCwicyI6ODE4NTQ5MjMwLCJjIjoxOTEzNDcyMTY1LCJ0IjoxNjQ4NzYxNTcwfQ==--429fd6e24596a6e923d557bbcee69a816cbf6b4363ddf3c749af7af47c0dd8ca" data-refresh-url="/_alive" data-session-id="8285646e6fcebbc0425f7c5f1acbd23b448ddbd206be3fb44b9f21ac2d0ef037">
    <link rel="shared-web-socket-src" href="https://github.com/assets-cdn/worker/socket-worker-b98ccfd9236e.js">
  <link rel="sudo-modal" href="https://github.com/sessions/sudo_modal">

  <meta name="request-id" content="459F:13DBB:68544C:6DA125:62461ADD" data-pjax-transient="true"><meta name="html-safe-nonce" content="e6f187fd981baddfe759c88b3d9033775162bf127c1a9a7de51a59bde7687436" data-pjax-transient="true"><meta name="visitor-payload" content="eyJyZWZlcnJlciI6Imh0dHBzOi8vZ2l0aHViLmNvbS9NYWhlci1aZWcvSXJvbk1haGVyL2Jsb2IvbWFpbi9MQUIlMjAzMSUyMGVuY29kaW5nL0xBQiUyMDMxJTIwZW5jb2RpbmcuaXB5bmIiLCJyZXF1ZXN0X2lkIjoiNDU5RjoxM0RCQjo2ODU0NEM6NkRBMTI1OjYyNDYxQUREIiwidmlzaXRvcl9pZCI6IjYwODYwNzM3OTY1NzkxNjE5NDUiLCJyZWdpb25fZWRnZSI6ImZyYSIsInJlZ2lvbl9yZW5kZXIiOiJpYWQifQ==" data-pjax-transient="true"><meta name="visitor-hmac" content="57d2c5ae050d6c50f8883d835703f64397548466bed60a221b9b4e9da4f01776" data-pjax-transient="true">

    <meta name="hovercard-subject-tag" content="repository:433020099" data-pjax-transient="">


  <meta name="github-keyboard-shortcuts" content="repository" data-pjax-transient="true">

  

  <meta name="selected-link" value="repo_source" data-pjax-transient="">

    <meta name="google-site-verification" content="c1kuD-K2HIVF635lypcsWPoD4kilo5-jA_wBFyT4uMY">
  <meta name="google-site-verification" content="KT5gs8h0wvaagLKAVWq8bbeNwnZZK1r1XQysX3xurLU">
  <meta name="google-site-verification" content="ZzhVyEFwb7w3e0-uOTltm8Jsck2F5StVihD0exw2fsA">
  <meta name="google-site-verification" content="GXs5KoUUkNCoaAZn7wPN-t01Pywp9M3sEjnt_3_ZWPc">

<meta name="octolytics-url" content="https://collector.github.com/github/collect"><meta name="octolytics-actor-id" content="94024100"><meta name="octolytics-actor-login" content="Maher-Zeg"><meta name="octolytics-actor-hash" content="ac9b18056b67372554d0300f98880dd867c7a69d33dd3873416bafc8ea1d135b">

  <meta name="analytics-location" content="/&lt;user-name&gt;/&lt;repo-name&gt;/blob/blame" data-pjax-transient="true">

  




  

      <meta name="hostname" content="github.com">
    <meta name="user-login" content="Maher-Zeg">


    <meta name="keyboard-shortcuts-preference" content="all">
    <script type="application/json" id="memex_keyboard_shortcuts_preference">"all"</script>

      <meta name="expected-hostname" content="github.com">

      <meta name="js-proxy-site-detection-payload" content="NjBiMDU2MzM3NzVkM2YwN2IxYzQ2MDNmMzY3ZGRhYjgxYWFlOGI1NTYwYzk0Y2EwMzg0NmUzYWU0ZGU3MjgzY3x7InJlbW90ZV9hZGRyZXNzIjoiMTc2LjE1OC4xODcuMjE1IiwicmVxdWVzdF9pZCI6IjQ1OUY6MTNEQkI6Njg1NDRDOjZEQTEyNTo2MjQ2MUFERCIsInRpbWVzdGFtcCI6MTY0ODc2MTU3MCwiaG9zdCI6ImdpdGh1Yi5jb20ifQ==">

    <meta name="enabled-features" content="ACTIONS_CALLABLE_WORKFLOWS,MARKETPLACE_PENDING_INSTALLATIONS,PRESENCE_IDLE">


  <meta http-equiv="x-pjax-version" content="3e7b48aa010c7c0e61c5e14c8669bea3c57137ef5be1d02a26d58d44bff6278b" data-turbo-track="reload">
  <meta http-equiv="x-pjax-csp-version" content="fae078b7b0f21a3e87927a83cac351f9689d75ae7723ea091b3b1ae42747c273" data-turbo-track="reload">
  <meta http-equiv="x-pjax-css-version" content="7a6987e1e2a64c7428e128be3752bd53be6e06321326240d3246e908ca594138" data-turbo-track="reload">
  <meta http-equiv="x-pjax-js-version" content="ad5cb112574400d5a127e47e5783d5e3ce238f4ac92d72710a9bae025280c293" data-turbo-track="reload">
  

    
  <meta name="go-import" content="github.com/Maher-Zeg/IronMaher git https://github.com/Maher-Zeg/IronMaher.git">

  <meta name="octolytics-dimension-user_id" content="94024100"><meta name="octolytics-dimension-user_login" content="Maher-Zeg"><meta name="octolytics-dimension-repository_id" content="433020099"><meta name="octolytics-dimension-repository_nwo" content="Maher-Zeg/IronMaher"><meta name="octolytics-dimension-repository_public" content="false"><meta name="octolytics-dimension-repository_is_fork" content="false"><meta name="octolytics-dimension-repository_network_root_id" content="433020099"><meta name="octolytics-dimension-repository_network_root_nwo" content="Maher-Zeg/IronMaher">





  <meta name="browser-stats-url" content="https://api.github.com/_private/browser/stats">

  <meta name="browser-errors-url" content="https://api.github.com/_private/browser/errors">

  <meta name="browser-optimizely-client-errors-url" content="https://api.github.com/_private/browser/optimizely_client/errors">

  <link rel="mask-icon" href="https://github.githubassets.com/pinned-octocat.svg" color="#000000">
  <link rel="alternate icon" class="js-site-favicon" type="image/png" href="https://github.githubassets.com/favicons/favicon.png">
  <link rel="icon" class="js-site-favicon" type="image/svg+xml" href="https://github.githubassets.com/favicons/favicon.svg">

<meta name="theme-color" content="#1e2327">
<meta name="color-scheme" content="light dark">


  <link rel="manifest" href="https://github.com/manifest.json" crossorigin="use-credentials">

  <style type="text/css">@import url(https://fonts.googleapis.com/css?family=Lato:300,400,700,900);</style><style type="text/css">.huntr-ext-add-job-container .add-job-container {
  padding: 25px 25px 100px 25px;
  max-height: 550px;
}
.huntr-ext-add-job-container .save-job-footer {
  width: 300px;
  position: absolute;
  bottom: 22px;
  background-color: #f3f1f5;
  border-top: 1px solid rgba(0,0,0,0.1);
  border-bottom: 1px solid rgba(0,0,0,0.1);
}
.huntr-ext-add-job-container .btn {
  margin-left: auto !important;
  margin-right: auto !important;
  margin-top: 10px !important;
  margin-bottom: 10px !important;
  width: 150px !important;
}
.huntr-ext-add-job-container .btn.waiting {
  pointer-events: none;
  cursor: not-allowed;
}
.huntr-ext-add-job-container .list-item {
  text-transform: capitalize;
}
.huntr-ext-parsed-jobs-container .no-results {
  font-size: 14px !important;
  color: rgba(25,4,69,0.7) !important;
  padding: 40px;
  text-align: center;
}
.huntr-ext-parsed-jobs-container .job-result {
  padding: 20px 25px;
  border-bottom: 1px solid rgba(0,0,0,0.1);
  cursor: pointer;
}
.huntr-ext-parsed-jobs-container .job-result:hover {
  background-color: rgba(25,4,69,0.1);
}
.huntr-ext-parsed-jobs-container .job-title {
  font-size: 14px !important;
  font-weight: bold !important;
  color: #190445 !important;
  margin-bottom: 3px !important;
}
.huntr-ext-parsed-jobs-container .job-company,
.huntr-ext-parsed-jobs-container .job-location {
  max-width: 100px !important;
}
.huntr-ext-parsed-jobs-container .job-company {
  margin-right: 10px !important;
  font-weight: bold;
  color: rgba(25,4,69,0.9);
}
.huntr-ext-parsed-jobs-container .job-location {
  color: rgba(25,4,69,0.7);
}
.huntr-ext-parsed-jobs-container .job-description {
  color: rgba(25,4,69,0.4);
}
.huntr-ext-parsed-jobs-container .job-company,
.huntr-ext-parsed-jobs-container .job-description,
.huntr-ext-parsed-jobs-container .job-location {
  font-size: 13px;
}
.huntr-ext-parsed-jobs-container p {
  line-height: 15px !important;
  margin: 0 !important;
}
.huntr-ext-parsed-jobs-container span {
  margin: 0 !important;
  max-width: 240px;
  white-space: nowrap;
  overflow: hidden;
  text-overflow: ellipsis;
  display: inline-block;
}
.huntr-capitalize {
  text-transform: capitalize;
}
.huntr-error-footer {
  position: absolute;
  bottom: 0;
  left: 0;
  right: 0;
  cursor: pointer;
  background-color: #ff3569;
  padding: 15px;
  font-size: 12px;
  color: #fff;
  border-top: 1px solid rgba(0,0,0,0.1);
  text-align: center;
  font-family: Lato, sans-serif;
}
.huntr-ext-add-job-success-container {
  padding: 30px;
  text-align: center;
}
.huntr-ext-add-job-success-container .message {
  height: 180px !important;
  margin-top: 20px !important;
  border-bottom: 1px solid #eaeaea !important;
}
.huntr-ext-add-job-success-container .message p {
  font-size: 22px !important;
  line-height: 50px !important;
  text-align: center !important;
}
.huntr-ext-add-job-success-container .message .huntr-icon {
  font-size: 45px !important;
  color: rgba(74,74,74,0.2) !important;
}
.huntr-ext-add-job-success-container .huntr-footer {
  margin-top: 30px;
}
.huntr-ext-add-job-success-container .huntr-footer a.btn {
  color: #fff !important;
  width: 200px;
}
.huntr-ext-add-job-success-container .huntr-footer .btn img {
  position: absolute;
  left: 8px;
  top: 7px;
  width: 20px;
  height: 20px;
  border-radius: 20px;
}
.huntr-ext-settings-container {
  margin-top: 25px;
  font-family: 'Lato', sans-serif !important;
  font-size: 16px;
  text-align: center;
  color: #4a4a4a;
  height: 140px;
  margin-top: 50px;
}
.huntr-ext-settings-container p {
  line-height: 18px;
}
.huntr-ext-time-to-upgrade {
  padding: 35px;
  text-align: center;
  color: #6a4feb;
}
.huntr-ext-time-to-upgrade .huntr-icon {
  margin: 10px 0 40px 0;
  font-size: 60px;
  color: rgba(106,79,235,0.1);
}
#huntr-react-container-2 {
  font-smoothing: antialiased;
  -webkit-font-smoothing: antialiased;
  position: absolute;
  display: block !important;
  font-family: 'Lato', sans-serif;
}
#huntr-react-container-2 a,
#huntr-react-container-2 p,
#huntr-react-container-2 span,
#huntr-react-container-2 div {
  font-family: 'Lato', sans-serif !important;
}
#huntr-react-container-2 form {
  margin: 0;
  padding: 0;
}
#huntr-react-container-2 ::-webkit-scrollbar-button {
  width: 0px !important;
  height: 0px !important;
}
#huntr-react-container-2 ::-webkit-scrollbar-track {
  box-shadow: none !important;
  background-color: "white" !important;
}
#huntr-react-container-2 ::-webkit-scrollbar-thumb {
  background-color: rgba(24,0,69,0.1) !important;
  border: 4px solid #fff !important;
  border-radius: 100px !important;
}
#huntr-react-container-2 ::-webkit-scrollbar-thumb:hover {
  background-color: rgba(24,0,69,0.2) !important;
}
#huntr-react-container-2 ::-webkit-scrollbar-thumb:active {
  background-color: rgba(24,0,69,0.2) !important;
}
#huntr-react-container-2 ::-webkit-scrollbar {
  width: 13px !important;
  height: 20px !important;
}
#huntr-react-container-2 .huntr-title {
  font-size: 22px;
  font-weight: regular;
  color: #190445 !important;
}
#huntr-react-container-2 .huntr-description {
  font-size: 15px;
  font-weight: regular;
  color: rgba(25,4,69,0.7) !important;
}
#huntr-react-container-2 a {
  cursor: pointer;
}
#huntr-react-container-2 .centered {
  margin-right: auto;
  margin-left: auto;
  text-align: center;
}
#huntr-react-container-2 .field {
  position: relative;
}
#huntr-react-container-2 .field-container .huntr-icon {
  position: absolute;
  right: 5px;
  bottom: 14px;
  font-size: 16px;
  color: #d4d4d4;
  cursor: pointer;
}
#huntr-react-container-2 .field-container .input-image {
  width: 20px;
  height: 20px;
  position: absolute;
  right: 5px;
  bottom: 14px;
  border-radius: 100%;
  box-shadow: 0px 0px 4px rgba(0,0,0,0.1);
}
#huntr-react-container-2 .hide {
  visibility: hidden;
}
#huntr-react-container-2 .btn {
  font-family: 'Lato', sans-serif !important;
  border-radius: 4px !important;
  font-size: 14px;
  display: block !important;
  cursor: pointer !important;
  text-transform: capitalize !important;
  font-weight: 400 !important;
  letter-spacing: 0.2px !important;
  position: relative;
  transition: all 0.4s ease-out !important;
  text-align: center !important;
  box-shadow: none !important;
  border: none !important;
  padding: 0 !important;
  background-image: none !important;
  background-repeat: no-repeat !important;
  text-shadow: none !important;
  line-height: 37px;
  box-sizing: border-box !important;
}
#huntr-react-container-2 .btn .huntr-icon {
  position: absolute;
  right: 15px;
  top: 13px;
  color: rgba(255,255,255,0.4);
  font-size: 16px;
}
#huntr-react-container-2 .btn-purple {
  color: #fff;
  text-shadow: 0px 1px 4px rgba(0,0,0,0.1);
  background-color: #6a4feb;
}
#huntr-react-container-2 .btn-purple:hover {
  background-color: #8c35ff;
}
#huntr-react-container-2 .btn-purple:disabled {
  cursor: not-allowed;
  color: rgba(25,4,69,0.4) !important;
  background-color: rgba(25,4,69,0.2) !important;
}
#huntr-react-container-2 ul {
  margin: 0px;
  padding: 0px;
}
#huntr-react-container-2 ul li {
  list-style: none;
}
#huntr-react-container-2 .location-search .huntr-drop-down-menu span {
  font-size: 11px;
  display: inline-block;
}
#huntr-react-container-2 .truncate {
  text-overflow: ellipsis;
  overflow: hidden;
  white-space: nowrap;
}
#huntr-react-container-2 .huntr-drop-down-menu {
  color: #4a4a4a;
  font-family: 'Lato', sans-serif;
  background-color: #fff;
  position: absolute;
  width: 100%;
  border-radius: 4px;
  font-size: 13px;
  box-shadow: 0px 0px 4px rgba(0,0,0,0.1);
  z-index: 1;
  border: 1px solid #ddd;
  max-height: 250px;
  overflow-y: auto;
}
#huntr-react-container-2 .huntr-drop-down-menu .huntr-ddmenu-footer {
  padding: 10px 10px;
  border-bottom: 1px solid #eee;
  text-align: left;
  cursor: pointer;
}
#huntr-react-container-2 .huntr-drop-down-menu .huntr-ddmenu-footer .huntr-icon {
  margin-right: 10px;
}
#huntr-react-container-2 .huntr-logo img {
  width: 16px;
  position: relative;
  top: -5px;
}
#huntr-react-container-2 .huntr-ext-nav-menu {
  width: 100%;
  position: relative;
  border-bottom: 1px solid rgba(0,0,0,0.1);
}
#huntr-react-container-2 .huntr-ext-nav-menu .nav-tooltip {
  display: none;
  position: absolute;
  background-color: #7f7b92;
  color: #fff;
  left: -45px;
  font-size: 11px;
  width: 90px;
  line-height: 30px;
  padding: 0px 15px;
  border-radius: 20px;
  top: -25px;
  text-align: center;
}
#huntr-react-container-2 .huntr-ext-nav-menu .nav-tooltip:before {
  content: '';
  display: block;
  width: 0;
  height: 0;
  position: absolute;
  border-left: 6px solid transparent;
  border-right: 6px solid transparent;
  border-top: 6px solid #7f7b92;
  top: 30px;
  left: 45px;
}
#huntr-react-container-2 .huntr-ext-nav-menu ul li {
  position: relative;
  padding: 0px;
  cursor: pointer;
  margin: 0px 31px 0px 0px;
  font-size: 17px;
  display: inline-block;
  color: #b5b5b5;
}
#huntr-react-container-2 .huntr-ext-nav-menu ul li a,
#huntr-react-container-2 .huntr-ext-nav-menu ul li span {
  line-height: 50px;
  vertical-align: middle;
}
#huntr-react-container-2 .huntr-ext-nav-menu ul li:first-child {
  margin-left: 20px;
}
#huntr-react-container-2 .huntr-ext-nav-menu ul li:last-child {
  margin: 0px;
}
#huntr-react-container-2 .huntr-ext-nav-menu ul li:hover {
  color: rgba(0,0,0,0.8);
}
#huntr-react-container-2 .huntr-ext-nav-menu ul li:hover .nav-tooltip {
  display: inline-block;
}
#huntr-react-container-2 .huntr-ext-top-menu {
  background-color: #f3f1f5;
  border-bottom: 1px solid rgba(0,0,0,0.1);
  position: relative;
  width: 100%;
  color: rgba(0,0,0,0.25);
}
#huntr-react-container-2 .huntr-ext-top-menu img {
  max-width: 60px;
  box-sizing: content-box;
  padding: 12px 0px 10px 12px;
}
#huntr-react-container-2 p,
#huntr-react-container-2 span {
  text-shadow: none;
}
#huntr-react-container-2 p.huntr-icon,
#huntr-react-container-2 span.huntr-icon {
  font-family: 'simple-line-icons' !important;
}
#huntr-react-container-2 p.huntr-icon:before,
#huntr-react-container-2 span.huntr-icon:before {
  font-family: 'simple-line-icons' !important;
}
#huntr-react-container-2 h1 {
  font-family: 'Lato', sans-serif !important;
  text-transform: uppercase !important;
  color: #4a4a4a !important;
  letter-spacing: 5px !important;
  font-size: 16px !important;
  font-weight: 900;
}
#huntr-react-container-2 .huntr-ext-app-container {
  position: fixed;
  right: 30px;
  top: 30px;
  z-index: 100000;
  max-height: 600px;
  min-height: 300px;
}
#huntr-react-container-2 .huntr-ext-app-container .inner-container {
  height: 100%;
  background-color: #fff;
  width: 300px;
  box-shadow: 0px 0px 10px rgba(0,0,0,0.2);
  outline: 1px solid rgba(0,0,0,0.1);
}
#huntr-react-container-2 .huntr-ext-minimize {
  position: absolute;
  right: 10px;
  top: 0px;
  font-size: 35px;
  font-family: 'Lato', sans-serif;
  line-height: normal;
  transform: rotate(45deg);
  cursor: pointer;
  color: rgba(74,74,74,0.2);
  font-weight: 400;
  z-index: 1;
}
#huntr-react-container-2 .huntr-ext-minimize:hover {
  color: rgba(74,74,74,0.7);
}
#huntr-react-container-2 .editable-text-field {
  width: 100%;
}
#huntr-react-container-2 .huntr-ext-app-mini {
  background-color: #6a4feb;
  width: 50px;
  height: 50px;
  border-radius: 50px;
  position: fixed;
  z-index: 10000;
  bottom: 30px;
  right: 30px;
  cursor: pointer;
}
#huntr-react-container-2 .huntr-ext-app-mini:after {
  content: 'h';
}
#huntr-react-container-2 .huntr-ext-component-container h1 {
  text-align: center;
  margin: 60px 0px;
}
#huntr-react-container-2 .huntr-ext-component-container .drop-down-button {
  font-family: 'Lato', sans-serif !important;
  -webkit-appearance: none !important;
  outline: 0 !important;
  border-radius: 2px !important;
  box-sizing: border-box !important;
  font-family: 'Lato', sans-serif !important;
  width: 100% !important;
  padding: 12px 12px !important;
  font-size: 14px !important;
  color: rgba(74,74,74,0.9) !important;
  margin-bottom: 14px !important;
  font-weight: 400 !important;
  background-color: #fafafa !important;
  border: 1px solid #dcdcdc !important;
  transition: none !important;
  text-align: left !important;
  cursor: pointer !important;
}
#huntr-react-container-2 .huntr-ext-component-container input {
  font-size: 16px;
  height: 35px;
}
#huntr-react-container-2 .huntr-ext-component-container input::-webkit-input-placeholder {
  font-size: 16px !important;
  font-weight: 400 !important;
  font-family: 'Lato', sans-serif !important;
  color: rgba(24,0,69,0.3) !important;
}
#huntr-react-container-2 .huntr-ext-component-container textarea {
  font-size: 14px;
  height: 130px;
}
#huntr-react-container-2 .huntr-ext-component-container textarea::-webkit-input-placeholder {
  font-size: 14px !important;
  font-weight: 400 !important;
  font-family: 'Lato', sans-serif !important;
  color: rgba(24,0,69,0.3) !important;
}
#huntr-react-container-2 .huntr-ext-component-container input,
#huntr-react-container-2 .huntr-ext-component-container textarea {
  box-shadow: none;
  background-color: #fff;
  background-image: none !important;
  outline: 0;
  box-sizing: border-box;
  font-family: 'Lato', sans-serif !important;
  letter-spacing: 0px;
  width: 100%;
  border-top: none !important;
  border-left: none !important;
  border-right: none !important;
  box-shadow: none !important;
  border-bottom: 1px solid #eee !important;
  font-weight: 400 !important;
  margin: 0px !important;
  color: rgba(25,4,69,0.7) !important;
  border-radius: 0 !important;
  line-height: normal !important;
  padding: 20px 0 !important;
}
#huntr-react-container-2 .huntr-ext-component-container input.clean,
#huntr-react-container-2 .huntr-ext-component-container textarea.clean {
  border: none !important;
  height: 100%;
  padding: 0 !important;
}
#huntr-react-container-2 .huntr-ext-component-container input.clean:focus,
#huntr-react-container-2 .huntr-ext-component-container textarea.clean:focus,
#huntr-react-container-2 .huntr-ext-component-container input.clean::selection,
#huntr-react-container-2 .huntr-ext-component-container textarea.clean::selection {
  border-bottom: none !important;
}
#huntr-react-container-2 .huntr-ext-component-container input:focus,
#huntr-react-container-2 .huntr-ext-component-container textarea:focus,
#huntr-react-container-2 .huntr-ext-component-container input::selection,
#huntr-react-container-2 .huntr-ext-component-container textarea::selection {
  outline: 0;
  border-bottom: 1px solid #8c35ff !important;
  background-color: #fff !important;
}
#huntr-react-container-2 .huntr-ext-component-container input::selection,
#huntr-react-container-2 .huntr-ext-component-container textarea::selection {
  background-color: #8c35ff !important;
  color: #fff;
}
.huntr-loader ::after,
.huntr-loader ::before {
  -webkit-box-sizing: border-box;
  box-sizing: border-box;
}
.huntr-loader {
  display: block;
  height: 50px;
  width: 50px;
  animation: huntr-loader-1 3s linear infinite;
  -webkit-animation: huntr-loader-1 3s linear infinite;
}
@-webkit-keyframes huntr-loader-1 {
  0% {
    -webkit-transform: rotate(0deg);
  }
  100% {
    -webkit-transform: rotate(360deg);
  }
}
.huntr-loader span {
  display: block;
  position: absolute;
  top: 0;
  left: 0;
  bottom: 0;
  right: 0;
  margin: auto;
  height: 50px;
  width: 50px;
  clip: rect(0px, 50px, 50px, 0);
  -webkit-animation: huntr-loader-2 1.5s cubic-bezier(0.77, 0, 0.175, 1) infinite;
  animation: huntr-loader-2 1.5s cubic-bezier(0.77, 0, 0.175, 1) infinite;
}
@-webkit-keyframes huntr-loader-2 {
  0% {
    -webkit-transform: rotate(0deg);
  }
  100% {
    -webkit-transform: rotate(360deg);
  }
}
.huntr-loader span::before {
  content: "";
  display: block;
  position: absolute;
  top: 0;
  left: 0;
  bottom: 0;
  right: 0;
  margin: auto;
  height: 50px;
  width: 50px;
  border: 4px solid transparent;
  border-top: 4px solid #6a4feb;
  border-radius: 50%;
  -webkit-animation: huntr-loader-3 1.5s cubic-bezier(0.77, 0, 0.175, 1) infinite;
  animation: huntr-loader-3 1.5s cubic-bezier(0.77, 0, 0.175, 1) infinite;
}
@-webkit-keyframes huntr-loader-3 {
  0% {
    -webkit-transform: rotate(0deg);
  }
  100% {
    -webkit-transform: rotate(360deg);
  }
}
.huntr-loader span::after {
  content: "";
  display: block;
  position: absolute;
  top: 0;
  left: 0;
  bottom: 0;
  right: 0;
  margin: auto;
  height: 50px;
  width: 50px;
  border: 4px solid rgba(106,79,235,0.2);
  border-radius: 50%;
}
.react-datepicker-wrapper,
.react-datepicker__input-container {
  display: block !important;
}
.huntr-date-picker-popper {
  font-size: 0.8rem;
}
.huntr-date-picker-popper .react-datepicker {
  font-family: "Lato", Helvetica, Arial, sans-serif !important;
  background-color: #fff !important;
  color: #180045 !important;
  border: 1px solid rgba(24,0,69,0.1) !important;
  border-radius: 8px !important;
  box-shadow: 0px 3px 7px -1px rgba(24,0,69,0.1) !important;
}
.huntr-date-picker-popper .react-datepicker__header {
  background-color: #fafafb !important;
  border-bottom: 1px solid rgba(24,0,69,0.1) !important;
}
.huntr-date-picker-popper .react-datepicker__day {
  color: rgba(24,0,69,0.6) !important;
}
.huntr-date-picker-popper .react-datepicker__day-name {
  color: rgba(24,0,69,0.7) !important;
}
.huntr-date-picker-popper .react-datepicker__day--disabled {
  color: rgba(24,0,69,0.21) !important;
}
.huntr-date-picker-popper .react-datepicker__day--keyboard-selected,
.huntr-date-picker-popper .react-datepicker__day--selected {
  background-color: #8c35ff !important;
  color: #fff !important;
}
.huntr-date-picker-popper .react-datepicker__today-button {
  background-color: rgba(24,0,69,0.02) !important;
  border-top: 1px solid rgba(24,0,69,0.1) !important;
}
.huntr-date-picker-popper .react-datepicker__time-container--with-today-button {
  right: -96px !important;
  border: 1px solid rgba(24,0,69,0.1) !important;
  border-radius: 8px !important;
  box-shadow: 0px 3px 7px -1px rgba(24,0,69,0.1) !important;
}
.huntr-date-picker-popper .react-datepicker__time-list-item {
  color: rgba(24,0,69,0.7) !important;
  height: 18px !important;
}
.huntr-date-picker-popper .react-datepicker__time-list-item::hover {
  background-color: #fafafb !important;
}
.huntr-date-picker-popper .react-datepicker__time-list-item--selected {
  background-color: #8c35ff !important;
  color: #fff;
}
.huntr-date-picker {
  display: block;
}
.react-datepicker__close-icon {
  width: auto !important;
}
.react-datepicker__close-icon::after {
  background-color: #180045 !important;
  width: 12px !important;
  height: 12px !important;
}
@-moz-keyframes huntr-loader-1 {
  0% {
    transform: rotate(0deg);
  }
  100% {
    transform: rotate(360deg);
  }
}
@-webkit-keyframes huntr-loader-1 {
  0% {
    transform: rotate(0deg);
  }
  100% {
    transform: rotate(360deg);
  }
}
@-o-keyframes huntr-loader-1 {
  0% {
    transform: rotate(0deg);
  }
  100% {
    transform: rotate(360deg);
  }
}
@keyframes huntr-loader-1 {
  0% {
    transform: rotate(0deg);
  }
  100% {
    transform: rotate(360deg);
  }
}
@-moz-keyframes huntr-loader-2 {
  0% {
    transform: rotate(0deg);
  }
  100% {
    transform: rotate(360deg);
  }
}
@-webkit-keyframes huntr-loader-2 {
  0% {
    transform: rotate(0deg);
  }
  100% {
    transform: rotate(360deg);
  }
}
@-o-keyframes huntr-loader-2 {
  0% {
    transform: rotate(0deg);
  }
  100% {
    transform: rotate(360deg);
  }
}
@keyframes huntr-loader-2 {
  0% {
    transform: rotate(0deg);
  }
  100% {
    transform: rotate(360deg);
  }
}
@-moz-keyframes huntr-loader-3 {
  0% {
    transform: rotate(0deg);
  }
  100% {
    transform: rotate(360deg);
  }
}
@-webkit-keyframes huntr-loader-3 {
  0% {
    transform: rotate(0deg);
  }
  100% {
    transform: rotate(360deg);
  }
}
@-o-keyframes huntr-loader-3 {
  0% {
    transform: rotate(0deg);
  }
  100% {
    transform: rotate(360deg);
  }
}
@keyframes huntr-loader-3 {
  0% {
    transform: rotate(0deg);
  }
  100% {
    transform: rotate(360deg);
  }
}
</style><style type="text/css">/*!
 * Quill Editor v1.3.0
 * https://quilljs.com/
 * Copyright (c) 2014, Jason Chen
 * Copyright (c) 2013, salesforce.com
 */
#huntr-react-container-2 .ql-container span,
#huntr-react-container-2 .ql-container li,
#huntr-react-container-2 .ql-container ul,
#huntr-react-container-2 .ql-container div,
#huntr-react-container-2 .ql-container strong,
#huntr-react-container-2 .ql-container b,
#huntr-react-container-2 .ql-container h1,
#huntr-react-container-2 .ql-container h2,
#huntr-react-container-2 .ql-container h3,
#huntr-react-container-2 .ql-container p  {
  font-size: 14px;
  font-family: Lato, Arial, sans-serif !important;
  color: #180045 !important;
}

#huntr-react-container-2 .ql-container {
  box-sizing: border-box;
  font-family: Lato, Arial, sans-serif;
  font-size: 13px;
  height: 100%;
  margin: 0px;
  position: relative;
}
#huntr-react-container-2 .ql-container.ql-disabled .ql-tooltip {
  visibility: hidden;
}
#huntr-react-container-2 .ql-container.ql-disabled .ql-editor ul[data-checked] > li::before {
  pointer-events: none;
}
#huntr-react-container-2 .ql-clipboard {
  left: -100000px;
  height: 1px;
  overflow-y: hidden;
  position: absolute;
  top: 50%;
}
#huntr-react-container-2 .ql-clipboard p {
  margin: 0;
  padding: 0;
}
#huntr-react-container-2 .ql-editor {
  box-sizing: border-box;
  line-height: 1.42;
  height: 100% !important;
  outline: none;
  overflow-y: auto;
  padding: 12px 18px;
  tab-size: 4;
  -moz-tab-size: 4;
  text-align: left;
  white-space: pre-wrap;
  word-wrap: break-word;
}
#huntr-react-container-2 .ql-editor > * {
  cursor: text;
}
#huntr-react-container-2 .ql-editor p,
#huntr-react-container-2 .ql-editor ol,
#huntr-react-container-2 .ql-editor ul,
#huntr-react-container-2 .ql-editor pre,
#huntr-react-container-2 .ql-editor blockquote,
#huntr-react-container-2 .ql-editor h1,
#huntr-react-container-2 .ql-editor h2,
#huntr-react-container-2 .ql-editor h3,
#huntr-react-container-2 .ql-editor h4,
#huntr-react-container-2 .ql-editor h5,
#huntr-react-container-2 .ql-editor h6 {
  margin: 0;
  padding: 0;
  counter-reset: list-1 list-2 list-3 list-4 list-5 list-6 list-7 list-8 list-9;
}
#huntr-react-container-2 .ql-editor ol,
#huntr-react-container-2 .ql-editor ul {
  padding-left: 1.5em;
}
#huntr-react-container-2 .ql-editor ol > li,
#huntr-react-container-2 .ql-editor ul > li {
  list-style-type: none;
}
#huntr-react-container-2 .ql-editor ul > li::before {
  content: '\2022';
}
#huntr-react-container-2 .ql-editor ul[data-checked=true],
#huntr-react-container-2 .ql-editor ul[data-checked=false] {
  pointer-events: none;
}
#huntr-react-container-2 .ql-editor ul[data-checked=true] > li *,
#huntr-react-container-2 .ql-editor ul[data-checked=false] > li * {
  pointer-events: all;
}
#huntr-react-container-2 .ql-editor ul[data-checked=true] > li::before,
#huntr-react-container-2 .ql-editor ul[data-checked=false] > li::before {
  color: #777;
  cursor: pointer;
  pointer-events: all;
}
#huntr-react-container-2 .ql-editor ul[data-checked=true] > li::before {
  content: '\2611';
}
#huntr-react-container-2 .ql-editor ul[data-checked=false] > li::before {
  content: '\2610';
}
#huntr-react-container-2 .ql-editor li::before {
  display: inline-block;
  white-space: nowrap;
  width: 1.2em;
}
#huntr-react-container-2 .ql-editor li:not(.ql-direction-rtl)::before {
  margin-left: -1.5em;
  margin-right: 0.3em;
  text-align: right;
}
#huntr-react-container-2 .ql-editor li.ql-direction-rtl::before {
  margin-left: 0.3em;
  margin-right: -1.5em;
}
#huntr-react-container-2 .ql-editor ol li:not(.ql-direction-rtl),
#huntr-react-container-2 .ql-editor ul li:not(.ql-direction-rtl) {
  padding-left: 1.5em;
}
#huntr-react-container-2 .ql-editor ol li.ql-direction-rtl,
#huntr-react-container-2 .ql-editor ul li.ql-direction-rtl {
  padding-right: 1.5em;
}
#huntr-react-container-2 .ql-editor ol li {
  counter-reset: list-1 list-2 list-3 list-4 list-5 list-6 list-7 list-8 list-9;
  counter-increment: list-0;
}
#huntr-react-container-2 .ql-editor ol li:before {
  content: counter(list-0, decimal) '. ';
}
#huntr-react-container-2 .ql-editor ol li.ql-indent-1 {
  counter-increment: list-1;
}
#huntr-react-container-2 .ql-editor ol li.ql-indent-1:before {
  content: counter(list-1, lower-alpha) '. ';
}
#huntr-react-container-2 .ql-editor ol li.ql-indent-1 {
  counter-reset: list-2 list-3 list-4 list-5 list-6 list-7 list-8 list-9;
}
#huntr-react-container-2 .ql-editor ol li.ql-indent-2 {
  counter-increment: list-2;
}
#huntr-react-container-2 .ql-editor ol li.ql-indent-2:before {
  content: counter(list-2, lower-roman) '. ';
}
#huntr-react-container-2 .ql-editor ol li.ql-indent-2 {
  counter-reset: list-3 list-4 list-5 list-6 list-7 list-8 list-9;
}
#huntr-react-container-2 .ql-editor ol li.ql-indent-3 {
  counter-increment: list-3;
}
#huntr-react-container-2 .ql-editor ol li.ql-indent-3:before {
  content: counter(list-3, decimal) '. ';
}
#huntr-react-container-2 .ql-editor ol li.ql-indent-3 {
  counter-reset: list-4 list-5 list-6 list-7 list-8 list-9;
}
#huntr-react-container-2 .ql-editor ol li.ql-indent-4 {
  counter-increment: list-4;
}
#huntr-react-container-2 .ql-editor ol li.ql-indent-4:before {
  content: counter(list-4, lower-alpha) '. ';
}
#huntr-react-container-2 .ql-editor ol li.ql-indent-4 {
  counter-reset: list-5 list-6 list-7 list-8 list-9;
}
#huntr-react-container-2 .ql-editor ol li.ql-indent-5 {
  counter-increment: list-5;
}
#huntr-react-container-2 .ql-editor ol li.ql-indent-5:before {
  content: counter(list-5, lower-roman) '. ';
}
#huntr-react-container-2 .ql-editor ol li.ql-indent-5 {
  counter-reset: list-6 list-7 list-8 list-9;
}
#huntr-react-container-2 .ql-editor ol li.ql-indent-6 {
  counter-increment: list-6;
}
#huntr-react-container-2 .ql-editor ol li.ql-indent-6:before {
  content: counter(list-6, decimal) '. ';
}
#huntr-react-container-2 .ql-editor ol li.ql-indent-6 {
  counter-reset: list-7 list-8 list-9;
}
#huntr-react-container-2 .ql-editor ol li.ql-indent-7 {
  counter-increment: list-7;
}
#huntr-react-container-2 .ql-editor ol li.ql-indent-7:before {
  content: counter(list-7, lower-alpha) '. ';
}
#huntr-react-container-2 .ql-editor ol li.ql-indent-7 {
  counter-reset: list-8 list-9;
}
#huntr-react-container-2 .ql-editor ol li.ql-indent-8 {
  counter-increment: list-8;
}
#huntr-react-container-2 .ql-editor ol li.ql-indent-8:before {
  content: counter(list-8, lower-roman) '. ';
}
#huntr-react-container-2 .ql-editor ol li.ql-indent-8 {
  counter-reset: list-9;
}
#huntr-react-container-2 .ql-editor ol li.ql-indent-9 {
  counter-increment: list-9;
}
#huntr-react-container-2 .ql-editor ol li.ql-indent-9:before {
  content: counter(list-9, decimal) '. ';
}
#huntr-react-container-2 .ql-editor .ql-indent-1:not(.ql-direction-rtl) {
  padding-left: 3em;
}
#huntr-react-container-2 .ql-editor li.ql-indent-1:not(.ql-direction-rtl) {
  padding-left: 4.5em;
}
#huntr-react-container-2 .ql-editor .ql-indent-1.ql-direction-rtl.ql-align-right {
  padding-right: 3em;
}
#huntr-react-container-2 .ql-editor li.ql-indent-1.ql-direction-rtl.ql-align-right {
  padding-right: 4.5em;
}
#huntr-react-container-2 .ql-editor .ql-indent-2:not(.ql-direction-rtl) {
  padding-left: 6em;
}
#huntr-react-container-2 .ql-editor li.ql-indent-2:not(.ql-direction-rtl) {
  padding-left: 7.5em;
}
#huntr-react-container-2 .ql-editor .ql-indent-2.ql-direction-rtl.ql-align-right {
  padding-right: 6em;
}
#huntr-react-container-2 .ql-editor li.ql-indent-2.ql-direction-rtl.ql-align-right {
  padding-right: 7.5em;
}
#huntr-react-container-2 .ql-editor .ql-indent-3:not(.ql-direction-rtl) {
  padding-left: 9em;
}
#huntr-react-container-2 .ql-editor li.ql-indent-3:not(.ql-direction-rtl) {
  padding-left: 10.5em;
}
#huntr-react-container-2 .ql-editor .ql-indent-3.ql-direction-rtl.ql-align-right {
  padding-right: 9em;
}
#huntr-react-container-2 .ql-editor li.ql-indent-3.ql-direction-rtl.ql-align-right {
  padding-right: 10.5em;
}
#huntr-react-container-2 .ql-editor .ql-indent-4:not(.ql-direction-rtl) {
  padding-left: 12em;
}
#huntr-react-container-2 .ql-editor li.ql-indent-4:not(.ql-direction-rtl) {
  padding-left: 13.5em;
}
#huntr-react-container-2 .ql-editor .ql-indent-4.ql-direction-rtl.ql-align-right {
  padding-right: 12em;
}
#huntr-react-container-2 .ql-editor li.ql-indent-4.ql-direction-rtl.ql-align-right {
  padding-right: 13.5em;
}
#huntr-react-container-2 .ql-editor .ql-indent-5:not(.ql-direction-rtl) {
  padding-left: 15em;
}
#huntr-react-container-2 .ql-editor li.ql-indent-5:not(.ql-direction-rtl) {
  padding-left: 16.5em;
}
#huntr-react-container-2 .ql-editor .ql-indent-5.ql-direction-rtl.ql-align-right {
  padding-right: 15em;
}
#huntr-react-container-2 .ql-editor li.ql-indent-5.ql-direction-rtl.ql-align-right {
  padding-right: 16.5em;
}
#huntr-react-container-2 .ql-editor .ql-indent-6:not(.ql-direction-rtl) {
  padding-left: 18em;
}
#huntr-react-container-2 .ql-editor li.ql-indent-6:not(.ql-direction-rtl) {
  padding-left: 19.5em;
}
#huntr-react-container-2 .ql-editor .ql-indent-6.ql-direction-rtl.ql-align-right {
  padding-right: 18em;
}
#huntr-react-container-2 .ql-editor li.ql-indent-6.ql-direction-rtl.ql-align-right {
  padding-right: 19.5em;
}
#huntr-react-container-2 .ql-editor .ql-indent-7:not(.ql-direction-rtl) {
  padding-left: 21em;
}
#huntr-react-container-2 .ql-editor li.ql-indent-7:not(.ql-direction-rtl) {
  padding-left: 22.5em;
}
#huntr-react-container-2 .ql-editor .ql-indent-7.ql-direction-rtl.ql-align-right {
  padding-right: 21em;
}
#huntr-react-container-2 .ql-editor li.ql-indent-7.ql-direction-rtl.ql-align-right {
  padding-right: 22.5em;
}
#huntr-react-container-2 .ql-editor .ql-indent-8:not(.ql-direction-rtl) {
  padding-left: 24em;
}
#huntr-react-container-2 .ql-editor li.ql-indent-8:not(.ql-direction-rtl) {
  padding-left: 25.5em;
}
#huntr-react-container-2 .ql-editor .ql-indent-8.ql-direction-rtl.ql-align-right {
  padding-right: 24em;
}
#huntr-react-container-2 .ql-editor li.ql-indent-8.ql-direction-rtl.ql-align-right {
  padding-right: 25.5em;
}
#huntr-react-container-2 .ql-editor .ql-indent-9:not(.ql-direction-rtl) {
  padding-left: 27em;
}
#huntr-react-container-2 .ql-editor li.ql-indent-9:not(.ql-direction-rtl) {
  padding-left: 28.5em;
}
#huntr-react-container-2 .ql-editor .ql-indent-9.ql-direction-rtl.ql-align-right {
  padding-right: 27em;
}
#huntr-react-container-2 .ql-editor li.ql-indent-9.ql-direction-rtl.ql-align-right {
  padding-right: 28.5em;
}
#huntr-react-container-2 .ql-editor .ql-video {
  display: block;
  max-width: 100%;
}
#huntr-react-container-2 .ql-editor .ql-video.ql-align-center {
  margin: 0 auto;
}
#huntr-react-container-2 .ql-editor .ql-video.ql-align-right {
  margin: 0 0 0 auto;
}
#huntr-react-container-2 .ql-editor .ql-bg-black {
  background-color: #000;
}
#huntr-react-container-2 .ql-editor .ql-bg-red {
  background-color: #e60000;
}
#huntr-react-container-2 .ql-editor .ql-bg-orange {
  background-color: #f90;
}
#huntr-react-container-2 .ql-editor .ql-bg-yellow {
  background-color: #ff0;
}
#huntr-react-container-2 .ql-editor .ql-bg-green {
  background-color: #008a00;
}
#huntr-react-container-2 .ql-editor .ql-bg-blue {
  background-color: #06c;
}
#huntr-react-container-2 .ql-editor .ql-bg-purple {
  background-color: #93f;
}
#huntr-react-container-2 .ql-editor .ql-color-white {
  color: #fff;
}
#huntr-react-container-2 .ql-editor .ql-color-red {
  color: #e60000;
}
#huntr-react-container-2 .ql-editor .ql-color-orange {
  color: #f90;
}
#huntr-react-container-2 .ql-editor .ql-color-yellow {
  color: #ff0;
}
#huntr-react-container-2 .ql-editor .ql-color-green {
  color: #008a00;
}
#huntr-react-container-2 .ql-editor .ql-color-blue {
  color: #06c;
}
#huntr-react-container-2 .ql-editor .ql-color-purple {
  color: #93f;
}
#huntr-react-container-2 .ql-editor .ql-font-serif {
  font-family: Georgia, Times New Roman, serif;
}
#huntr-react-container-2 .ql-editor .ql-font-monospace {
  font-family: Monaco, Courier New, monospace;
}
#huntr-react-container-2 .ql-editor .ql-size-small {
  font-size: 0.75em;
}
#huntr-react-container-2 .ql-editor .ql-size-large {
  font-size: 1.5em;
}
#huntr-react-container-2 .ql-editor .ql-size-huge {
  font-size: 2.5em;
}
#huntr-react-container-2 .ql-editor .ql-direction-rtl {
  direction: rtl;
  text-align: inherit;
}
#huntr-react-container-2 .ql-editor .ql-align-center {
  text-align: center;
}
#huntr-react-container-2 .ql-editor .ql-align-justify {
  text-align: justify;
}
#huntr-react-container-2 .ql-editor .ql-align-right {
  text-align: right;
}
#huntr-react-container-2 .ql-editor .ql-embed-selected {
  border: 1px solid #777;
  user-select: none;
}
#huntr-react-container-2 .ql-editor.ql-blank::before {
  color: rgba(25,4,69,0.4);
  content: attr(data-placeholder);
  font-style: normal;
  pointer-events: none;
  position: absolute;
}
#huntr-react-container-2 .ql-snow.ql-toolbar:after,
#huntr-react-container-2 .ql-snow .ql-toolbar:after {
  clear: both;
  content: '';
  display: table;
}
#huntr-react-container-2 .ql-snow.ql-toolbar button,
#huntr-react-container-2 .ql-snow .ql-toolbar button {
  background: none;
  border: none;
  cursor: pointer;
  display: inline-block;
  float: left;
  height: 24px;
  padding: 3px 5px;
  width: 28px;
  box-shadow: none;
  min-height: 1em;
}
#huntr-react-container-2 .ql-snow.ql-toolbar button svg,
#huntr-react-container-2 .ql-snow .ql-toolbar button svg {
  float: left;
  height: 100%;
}
#huntr-react-container-2 .ql-snow.ql-toolbar button:active:hover,
#huntr-react-container-2 .ql-snow .ql-toolbar button:active:hover {
  outline: none;
}
#huntr-react-container-2 .ql-snow.ql-toolbar input.ql-image[type=file],
#huntr-react-container-2 .ql-snow .ql-toolbar input.ql-image[type=file] {
  display: none;
}
#huntr-react-container-2 .ql-snow.ql-toolbar button:hover,
#huntr-react-container-2 .ql-snow .ql-toolbar button:hover,
#huntr-react-container-2 .ql-snow.ql-toolbar button:focus,
#huntr-react-container-2 .ql-snow .ql-toolbar button:focus,
#huntr-react-container-2 .ql-snow.ql-toolbar button.ql-active,
#huntr-react-container-2 .ql-snow .ql-toolbar button.ql-active,
#huntr-react-container-2 .ql-snow.ql-toolbar .ql-picker-label:hover,
#huntr-react-container-2 .ql-snow .ql-toolbar .ql-picker-label:hover,
#huntr-react-container-2 .ql-snow.ql-toolbar .ql-picker-label.ql-active,
#huntr-react-container-2 .ql-snow .ql-toolbar .ql-picker-label.ql-active,
#huntr-react-container-2 .ql-snow.ql-toolbar .ql-picker-item:hover,
#huntr-react-container-2 .ql-snow .ql-toolbar .ql-picker-item:hover,
#huntr-react-container-2 .ql-snow.ql-toolbar .ql-picker-item.ql-selected,
#huntr-react-container-2 .ql-snow .ql-toolbar .ql-picker-item.ql-selected {
  color: #06c;
}
#huntr-react-container-2 .ql-snow.ql-toolbar button:hover .ql-fill,
#huntr-react-container-2 .ql-snow .ql-toolbar button:hover .ql-fill,
#huntr-react-container-2 .ql-snow.ql-toolbar button:focus .ql-fill,
#huntr-react-container-2 .ql-snow .ql-toolbar button:focus .ql-fill,
#huntr-react-container-2 .ql-snow.ql-toolbar button.ql-active .ql-fill,
#huntr-react-container-2 .ql-snow .ql-toolbar button.ql-active .ql-fill,
#huntr-react-container-2 .ql-snow.ql-toolbar .ql-picker-label:hover .ql-fill,
#huntr-react-container-2 .ql-snow .ql-toolbar .ql-picker-label:hover .ql-fill,
#huntr-react-container-2 .ql-snow.ql-toolbar .ql-picker-label.ql-active .ql-fill,
#huntr-react-container-2 .ql-snow .ql-toolbar .ql-picker-label.ql-active .ql-fill,
#huntr-react-container-2 .ql-snow.ql-toolbar .ql-picker-item:hover .ql-fill,
#huntr-react-container-2 .ql-snow .ql-toolbar .ql-picker-item:hover .ql-fill,
#huntr-react-container-2 .ql-snow.ql-toolbar .ql-picker-item.ql-selected .ql-fill,
#huntr-react-container-2 .ql-snow .ql-toolbar .ql-picker-item.ql-selected .ql-fill,
#huntr-react-container-2 .ql-snow.ql-toolbar button:hover .ql-stroke.ql-fill,
#huntr-react-container-2 .ql-snow .ql-toolbar button:hover .ql-stroke.ql-fill,
#huntr-react-container-2 .ql-snow.ql-toolbar button:focus .ql-stroke.ql-fill,
#huntr-react-container-2 .ql-snow .ql-toolbar button:focus .ql-stroke.ql-fill,
#huntr-react-container-2 .ql-snow.ql-toolbar button.ql-active .ql-stroke.ql-fill,
#huntr-react-container-2 .ql-snow .ql-toolbar button.ql-active .ql-stroke.ql-fill,
#huntr-react-container-2 .ql-snow.ql-toolbar .ql-picker-label:hover .ql-stroke.ql-fill,
#huntr-react-container-2 .ql-snow .ql-toolbar .ql-picker-label:hover .ql-stroke.ql-fill,
#huntr-react-container-2 .ql-snow.ql-toolbar .ql-picker-label.ql-active .ql-stroke.ql-fill,
#huntr-react-container-2 .ql-snow .ql-toolbar .ql-picker-label.ql-active .ql-stroke.ql-fill,
#huntr-react-container-2 .ql-snow.ql-toolbar .ql-picker-item:hover .ql-stroke.ql-fill,
#huntr-react-container-2 .ql-snow .ql-toolbar .ql-picker-item:hover .ql-stroke.ql-fill,
#huntr-react-container-2 .ql-snow.ql-toolbar .ql-picker-item.ql-selected .ql-stroke.ql-fill,
#huntr-react-container-2 .ql-snow .ql-toolbar .ql-picker-item.ql-selected .ql-stroke.ql-fill {
  fill: #06c;
}
#huntr-react-container-2 .ql-snow.ql-toolbar button:hover .ql-stroke,
#huntr-react-container-2 .ql-snow .ql-toolbar button:hover .ql-stroke,
#huntr-react-container-2 .ql-snow.ql-toolbar button:focus .ql-stroke,
#huntr-react-container-2 .ql-snow .ql-toolbar button:focus .ql-stroke,
#huntr-react-container-2 .ql-snow.ql-toolbar button.ql-active .ql-stroke,
#huntr-react-container-2 .ql-snow .ql-toolbar button.ql-active .ql-stroke,
#huntr-react-container-2 .ql-snow.ql-toolbar .ql-picker-label:hover .ql-stroke,
#huntr-react-container-2 .ql-snow .ql-toolbar .ql-picker-label:hover .ql-stroke,
#huntr-react-container-2 .ql-snow.ql-toolbar .ql-picker-label.ql-active .ql-stroke,
#huntr-react-container-2 .ql-snow .ql-toolbar .ql-picker-label.ql-active .ql-stroke,
#huntr-react-container-2 .ql-snow.ql-toolbar .ql-picker-item:hover .ql-stroke,
#huntr-react-container-2 .ql-snow .ql-toolbar .ql-picker-item:hover .ql-stroke,
#huntr-react-container-2 .ql-snow.ql-toolbar .ql-picker-item.ql-selected .ql-stroke,
#huntr-react-container-2 .ql-snow .ql-toolbar .ql-picker-item.ql-selected .ql-stroke,
#huntr-react-container-2 .ql-snow.ql-toolbar button:hover .ql-stroke-miter,
#huntr-react-container-2 .ql-snow .ql-toolbar button:hover .ql-stroke-miter,
#huntr-react-container-2 .ql-snow.ql-toolbar button:focus .ql-stroke-miter,
#huntr-react-container-2 .ql-snow .ql-toolbar button:focus .ql-stroke-miter,
#huntr-react-container-2 .ql-snow.ql-toolbar button.ql-active .ql-stroke-miter,
#huntr-react-container-2 .ql-snow .ql-toolbar button.ql-active .ql-stroke-miter,
#huntr-react-container-2 .ql-snow.ql-toolbar .ql-picker-label:hover .ql-stroke-miter,
#huntr-react-container-2 .ql-snow .ql-toolbar .ql-picker-label:hover .ql-stroke-miter,
#huntr-react-container-2 .ql-snow.ql-toolbar .ql-picker-label.ql-active .ql-stroke-miter,
#huntr-react-container-2 .ql-snow .ql-toolbar .ql-picker-label.ql-active .ql-stroke-miter,
#huntr-react-container-2 .ql-snow.ql-toolbar .ql-picker-item:hover .ql-stroke-miter,
#huntr-react-container-2 .ql-snow .ql-toolbar .ql-picker-item:hover .ql-stroke-miter,
#huntr-react-container-2 .ql-snow.ql-toolbar .ql-picker-item.ql-selected .ql-stroke-miter,
#huntr-react-container-2 .ql-snow .ql-toolbar .ql-picker-item.ql-selected .ql-stroke-miter {
  stroke: #06c;
}
@media (pointer: coarse) {
  .ql-snow.ql-toolbar button:hover:not(.ql-active),
  .ql-snow .ql-toolbar button:hover:not(.ql-active) {
    color: #444;
  }
  .ql-snow.ql-toolbar button:hover:not(.ql-active) .ql-fill,
  .ql-snow .ql-toolbar button:hover:not(.ql-active) .ql-fill,
  .ql-snow.ql-toolbar button:hover:not(.ql-active) .ql-stroke.ql-fill,
  .ql-snow .ql-toolbar button:hover:not(.ql-active) .ql-stroke.ql-fill {
    fill: #444;
  }
  .ql-snow.ql-toolbar button:hover:not(.ql-active) .ql-stroke,
  .ql-snow .ql-toolbar button:hover:not(.ql-active) .ql-stroke,
  .ql-snow.ql-toolbar button:hover:not(.ql-active) .ql-stroke-miter,
  .ql-snow .ql-toolbar button:hover:not(.ql-active) .ql-stroke-miter {
    stroke: #444;
  }
}
#huntr-react-container-2 .ql-snow {
  box-sizing: border-box;
}
#huntr-react-container-2 .ql-snow * {
  box-sizing: border-box;
}
#huntr-react-container-2 .ql-snow .ql-hidden {
  display: none;
}
#huntr-react-container-2 .ql-snow .ql-out-bottom,
#huntr-react-container-2 .ql-snow .ql-out-top {
  visibility: hidden;
}
#huntr-react-container-2 .ql-snow .ql-tooltip {
  position: absolute;
  transform: translateY(10px);
}
#huntr-react-container-2 .ql-snow .ql-tooltip a {
  cursor: pointer;
  text-decoration: none;
}
#huntr-react-container-2 .ql-snow .ql-tooltip.ql-flip {
  transform: translateY(-10px);
}
#huntr-react-container-2 .ql-snow .ql-formats {
  display: inline-block;
  vertical-align: middle;
}
#huntr-react-container-2 .ql-snow .ql-formats:after {
  clear: both;
  content: '';
  display: table;
}
#huntr-react-container-2 .ql-snow .ql-stroke {
  fill: none;
  stroke: #444;
  stroke-linecap: round;
  stroke-linejoin: round;
  stroke-width: 2;
}
#huntr-react-container-2 .ql-snow .ql-stroke-miter {
  fill: none;
  stroke: #444;
  stroke-miterlimit: 10;
  stroke-width: 2;
}
#huntr-react-container-2 .ql-snow .ql-fill,
#huntr-react-container-2 .ql-snow .ql-stroke.ql-fill {
  fill: #444;
}
#huntr-react-container-2 .ql-snow .ql-empty {
  fill: none;
}
#huntr-react-container-2 .ql-snow .ql-even {
  fill-rule: evenodd;
}
#huntr-react-container-2 .ql-snow .ql-thin,
#huntr-react-container-2 .ql-snow .ql-stroke.ql-thin {
  stroke-width: 1;
}
#huntr-react-container-2 .ql-snow .ql-transparent {
  opacity: 0.4;
}
#huntr-react-container-2 .ql-snow .ql-direction svg:last-child {
  display: none;
}
#huntr-react-container-2 .ql-snow .ql-direction.ql-active svg:last-child {
  display: inline;
}
#huntr-react-container-2 .ql-snow .ql-direction.ql-active svg:first-child {
  display: none;
}
#huntr-react-container-2 .ql-snow .ql-editor h1 {
  font-size: 2em;
}
#huntr-react-container-2 .ql-snow .ql-editor h2 {
  font-size: 1.5em;
}
#huntr-react-container-2 .ql-snow .ql-editor h3 {
  font-size: 1.17em;
}
#huntr-react-container-2 .ql-snow .ql-editor h4 {
  font-size: 1em;
}
#huntr-react-container-2 .ql-snow .ql-editor h5 {
  font-size: 0.83em;
}
#huntr-react-container-2 .ql-snow .ql-editor h6 {
  font-size: 0.67em;
}
#huntr-react-container-2 .ql-snow .ql-editor a {
  text-decoration: underline;
}
#huntr-react-container-2 .ql-snow .ql-editor blockquote {
  border-left: 4px solid #ccc;
  margin-bottom: 5px;
  margin-top: 5px;
  padding-left: 16px;
}
#huntr-react-container-2 .ql-snow .ql-editor code,
#huntr-react-container-2 .ql-snow .ql-editor pre {
  background-color: #f0f0f0;
  border-radius: 3px;
}
#huntr-react-container-2 .ql-snow .ql-editor pre {
  white-space: pre-wrap;
  margin-bottom: 5px;
  margin-top: 5px;
  padding: 5px 10px;
}
#huntr-react-container-2 .ql-snow .ql-editor code {
  font-size: 85%;
  padding-bottom: 2px;
  padding-top: 2px;
}
#huntr-react-container-2 .ql-snow .ql-editor code:before,
#huntr-react-container-2 .ql-snow .ql-editor code:after {
  content: "\A0";
  letter-spacing: -2px;
}
#huntr-react-container-2 .ql-snow .ql-editor pre.ql-syntax {
  background-color: #23241f;
  color: #f8f8f2;
  overflow: visible;
}
#huntr-react-container-2 .ql-snow .ql-editor img {
  max-width: 100%;
}
#huntr-react-container-2 .ql-snow .ql-picker {
  color: #444;
  display: inline-block;
  float: left;
  font-size: 14px;
  font-weight: 500;
  height: 24px;
  position: relative;
  vertical-align: middle;
}
#huntr-react-container-2 .ql-snow .ql-picker-label {
  cursor: pointer;
  display: inline-block;
  height: 100%;
  padding-left: 8px;
  padding-right: 2px;
  position: relative;
  width: 100%;
}
#huntr-react-container-2 .ql-snow .ql-picker-label::before {
  display: inline-block;
  line-height: 22px;
}
#huntr-react-container-2 .ql-snow .ql-picker-options {
  background-color: #fff;
  display: none;
  min-width: 100%;
  padding: 4px 8px;
  position: absolute;
  white-space: nowrap;
}
#huntr-react-container-2 .ql-snow .ql-picker-options .ql-picker-item {
  cursor: pointer;
  display: block;
  padding-bottom: 5px;
  padding-top: 5px;
}
#huntr-react-container-2 .ql-snow .ql-picker.ql-expanded .ql-picker-label {
  color: #ccc;
  z-index: 2;
}
#huntr-react-container-2 .ql-snow .ql-picker.ql-expanded .ql-picker-label .ql-fill {
  fill: #ccc;
}
#huntr-react-container-2 .ql-snow .ql-picker.ql-expanded .ql-picker-label .ql-stroke {
  stroke: #ccc;
}
#huntr-react-container-2 .ql-snow .ql-picker.ql-expanded .ql-picker-options {
  display: block;
  margin-top: -1px;
  top: 100%;
  z-index: 1;
}
#huntr-react-container-2 .ql-snow .ql-color-picker,
#huntr-react-container-2 .ql-snow .ql-icon-picker {
  width: 28px;
}
#huntr-react-container-2 .ql-snow .ql-color-picker .ql-picker-label,
#huntr-react-container-2 .ql-snow .ql-icon-picker .ql-picker-label {
  padding: 2px 4px;
}
#huntr-react-container-2 .ql-snow .ql-color-picker .ql-picker-label svg,
#huntr-react-container-2 .ql-snow .ql-icon-picker .ql-picker-label svg {
  right: 4px;
}
#huntr-react-container-2 .ql-snow .ql-icon-picker .ql-picker-options {
  padding: 4px 0px;
}
#huntr-react-container-2 .ql-snow .ql-icon-picker .ql-picker-item {
  height: 24px;
  width: 24px;
  padding: 2px 4px;
}
#huntr-react-container-2 .ql-snow .ql-color-picker .ql-picker-options {
  padding: 3px 5px;
  width: 152px;
}
#huntr-react-container-2 .ql-snow .ql-color-picker .ql-picker-item {
  border: 1px solid transparent;
  float: left;
  height: 16px;
  margin: 2px;
  padding: 0px;
  width: 16px;
}
#huntr-react-container-2 .ql-snow .ql-picker:not(.ql-color-picker):not(.ql-icon-picker) svg {
  position: absolute;
  margin-top: -9px;
  right: 0;
  top: 50%;
  width: 18px;
}
#huntr-react-container-2 .ql-snow .ql-picker.ql-header .ql-picker-label[data-label]:not([data-label=''])::before,
#huntr-react-container-2 .ql-snow .ql-picker.ql-font .ql-picker-label[data-label]:not([data-label=''])::before,
#huntr-react-container-2 .ql-snow .ql-picker.ql-size .ql-picker-label[data-label]:not([data-label=''])::before,
#huntr-react-container-2 .ql-snow .ql-picker.ql-header .ql-picker-item[data-label]:not([data-label=''])::before,
#huntr-react-container-2 .ql-snow .ql-picker.ql-font .ql-picker-item[data-label]:not([data-label=''])::before,
#huntr-react-container-2 .ql-snow .ql-picker.ql-size .ql-picker-item[data-label]:not([data-label=''])::before {
  content: attr(data-label);
}
#huntr-react-container-2 .ql-snow .ql-picker.ql-header {
  width: 98px;
}
#huntr-react-container-2 .ql-snow .ql-picker.ql-header .ql-picker-label::before,
#huntr-react-container-2 .ql-snow .ql-picker.ql-header .ql-picker-item::before {
  content: 'Normal';
}
#huntr-react-container-2 .ql-snow .ql-picker.ql-header .ql-picker-label[data-value="1"]::before,
#huntr-react-container-2 .ql-snow .ql-picker.ql-header .ql-picker-item[data-value="1"]::before {
  content: 'Heading 1';
}
#huntr-react-container-2 .ql-snow .ql-picker.ql-header .ql-picker-label[data-value="2"]::before,
#huntr-react-container-2 .ql-snow .ql-picker.ql-header .ql-picker-item[data-value="2"]::before {
  content: 'Heading 2';
}
#huntr-react-container-2 .ql-snow .ql-picker.ql-header .ql-picker-label[data-value="3"]::before,
#huntr-react-container-2 .ql-snow .ql-picker.ql-header .ql-picker-item[data-value="3"]::before {
  content: 'Heading 3';
}
#huntr-react-container-2 .ql-snow .ql-picker.ql-header .ql-picker-label[data-value="4"]::before,
#huntr-react-container-2 .ql-snow .ql-picker.ql-header .ql-picker-item[data-value="4"]::before {
  content: 'Heading 4';
}
#huntr-react-container-2 .ql-snow .ql-picker.ql-header .ql-picker-label[data-value="5"]::before,
#huntr-react-container-2 .ql-snow .ql-picker.ql-header .ql-picker-item[data-value="5"]::before {
  content: 'Heading 5';
}
#huntr-react-container-2 .ql-snow .ql-picker.ql-header .ql-picker-label[data-value="6"]::before,
#huntr-react-container-2 .ql-snow .ql-picker.ql-header .ql-picker-item[data-value="6"]::before {
  content: 'Heading 6';
}
#huntr-react-container-2 .ql-snow .ql-picker.ql-header .ql-picker-item[data-value="1"]::before {
  font-size: 2em;
}
#huntr-react-container-2 .ql-snow .ql-picker.ql-header .ql-picker-item[data-value="2"]::before {
  font-size: 1.5em;
}
#huntr-react-container-2 .ql-snow .ql-picker.ql-header .ql-picker-item[data-value="3"]::before {
  font-size: 1.17em;
}
#huntr-react-container-2 .ql-snow .ql-picker.ql-header .ql-picker-item[data-value="4"]::before {
  font-size: 1em;
}
#huntr-react-container-2 .ql-snow .ql-picker.ql-header .ql-picker-item[data-value="5"]::before {
  font-size: 0.83em;
}
#huntr-react-container-2 .ql-snow .ql-picker.ql-header .ql-picker-item[data-value="6"]::before {
  font-size: 0.67em;
}
#huntr-react-container-2 .ql-snow .ql-picker.ql-font {
  width: 108px;
}
#huntr-react-container-2 .ql-snow .ql-picker.ql-font .ql-picker-label::before,
#huntr-react-container-2 .ql-snow .ql-picker.ql-font .ql-picker-item::before {
  content: 'Sans Serif';
}
#huntr-react-container-2 .ql-snow .ql-picker.ql-font .ql-picker-label[data-value=serif]::before,
#huntr-react-container-2 .ql-snow .ql-picker.ql-font .ql-picker-item[data-value=serif]::before {
  content: 'Serif';
}
#huntr-react-container-2 .ql-snow .ql-picker.ql-font .ql-picker-label[data-value=monospace]::before,
#huntr-react-container-2 .ql-snow .ql-picker.ql-font .ql-picker-item[data-value=monospace]::before {
  content: 'Monospace';
}
#huntr-react-container-2 .ql-snow .ql-picker.ql-font .ql-picker-item[data-value=serif]::before {
  font-family: Georgia, Times New Roman, serif;
}
#huntr-react-container-2 .ql-snow .ql-picker.ql-font .ql-picker-item[data-value=monospace]::before {
  font-family: Monaco, Courier New, monospace;
}
#huntr-react-container-2 .ql-snow .ql-picker.ql-size {
  width: 98px;
}
#huntr-react-container-2 .ql-snow .ql-picker.ql-size .ql-picker-label::before,
#huntr-react-container-2 .ql-snow .ql-picker.ql-size .ql-picker-item::before {
  content: 'Normal';
}
#huntr-react-container-2 .ql-snow .ql-picker.ql-size .ql-picker-label[data-value=small]::before,
#huntr-react-container-2 .ql-snow .ql-picker.ql-size .ql-picker-item[data-value=small]::before {
  content: 'Small';
}
#huntr-react-container-2 .ql-snow .ql-picker.ql-size .ql-picker-label[data-value=large]::before,
#huntr-react-container-2 .ql-snow .ql-picker.ql-size .ql-picker-item[data-value=large]::before {
  content: 'Large';
}
#huntr-react-container-2 .ql-snow .ql-picker.ql-size .ql-picker-label[data-value=huge]::before,
#huntr-react-container-2 .ql-snow .ql-picker.ql-size .ql-picker-item[data-value=huge]::before {
  content: 'Huge';
}
#huntr-react-container-2 .ql-snow .ql-picker.ql-size .ql-picker-item[data-value=small]::before {
  font-size: 10px;
}
#huntr-react-container-2 .ql-snow .ql-picker.ql-size .ql-picker-item[data-value=large]::before {
  font-size: 18px;
}
#huntr-react-container-2 .ql-snow .ql-picker.ql-size .ql-picker-item[data-value=huge]::before {
  font-size: 32px;
}
#huntr-react-container-2 .ql-snow .ql-color-picker.ql-background .ql-picker-item {
  background-color: #fff;
}
#huntr-react-container-2 .ql-snow .ql-color-picker.ql-color .ql-picker-item {
  background-color: #000;
}
#huntr-react-container-2 .ql-toolbar.ql-snow {
  border-bottom: 1px solid #ECE9F2;
  box-sizing: border-box;
  font-family: 'Helvetica Neue', 'Helvetica', 'Arial', sans-serif;
  padding: 8px;
}
#huntr-react-container-2 .ql-toolbar.ql-snow .ql-formats {
  margin-right: 15px;
}
#huntr-react-container-2 .ql-toolbar.ql-snow .ql-picker-label {
  border: 1px solid transparent;
}
#huntr-react-container-2 .ql-toolbar.ql-snow .ql-picker-options {
  border: 1px solid transparent;
  box-shadow: rgba(0,0,0,0.2) 0 2px 8px;
}
#huntr-react-container-2 .ql-toolbar.ql-snow .ql-picker.ql-expanded .ql-picker-label {
  border-color: #ccc;
}
#huntr-react-container-2 .ql-toolbar.ql-snow .ql-picker.ql-expanded .ql-picker-options {
  border-color: #ccc;
}
#huntr-react-container-2 .ql-toolbar.ql-snow .ql-color-picker .ql-picker-item.ql-selected,
#huntr-react-container-2 .ql-toolbar.ql-snow .ql-color-picker .ql-picker-item:hover {
  border-color: #000;
}
#huntr-react-container-2 .ql-toolbar.ql-snow + .ql-container.ql-snow {
  border-top: 0px;
  padding-bottom: 40px;
}
#huntr-react-container-2 .ql-snow .ql-tooltip {
  background-color: #fff;
  border: 1px solid #ccc;
  box-shadow: 0px 0px 5px #ddd;
  color: #444;
  padding: 5px 12px;
  white-space: nowrap;
}
#huntr-react-container-2 .ql-snow .ql-tooltip::before {
  content: "Visit URL:";
  line-height: 26px;
  margin-right: 8px;
}
#huntr-react-container-2 .ql-snow .ql-tooltip input[type=text] {
  display: none;
  border: 1px solid #ccc;
  font-size: 13px;
  height: 26px;
  margin: 0px;
  padding: 3px 5px;
  width: 170px;
}
#huntr-react-container-2 .ql-snow .ql-tooltip a.ql-preview {
  display: inline-block;
  max-width: 200px;
  overflow-x: hidden;
  text-overflow: ellipsis;
  vertical-align: top;
}
#huntr-react-container-2 .ql-snow .ql-tooltip a.ql-action::after {
  border-right: 1px solid #ccc;
  content: 'Edit';
  margin-left: 16px;
  padding-right: 8px;
}
#huntr-react-container-2 .ql-snow .ql-tooltip a.ql-remove::before {
  content: 'Remove';
  margin-left: 8px;
}
#huntr-react-container-2 .ql-snow .ql-tooltip a {
  line-height: 26px;
}
#huntr-react-container-2 .ql-snow .ql-tooltip.ql-editing a.ql-preview,
#huntr-react-container-2 .ql-snow .ql-tooltip.ql-editing a.ql-remove {
  display: none;
}
#huntr-react-container-2 .ql-snow .ql-tooltip.ql-editing input[type=text] {
  display: inline-block;
}
#huntr-react-container-2 .ql-snow .ql-tooltip.ql-editing a.ql-action::after {
  border-right: 0px;
  content: 'Save';
  padding-right: 0px;
}
#huntr-react-container-2 .ql-snow .ql-tooltip[data-mode=link]::before {
  content: "Enter link:";
}
#huntr-react-container-2 .ql-snow .ql-tooltip[data-mode=formula]::before {
  content: "Enter formula:";
}
#huntr-react-container-2 .ql-snow .ql-tooltip[data-mode=video]::before {
  content: "Enter video:";
}
#huntr-react-container-2 .ql-snow a {
  color: #06c;
}
</style><style type="text/css">.react-datepicker-popper[data-placement^="bottom"] .react-datepicker__triangle, .react-datepicker-popper[data-placement^="top"] .react-datepicker__triangle, .react-datepicker__year-read-view--down-arrow,
.react-datepicker__month-read-view--down-arrow,
.react-datepicker__month-year-read-view--down-arrow {
  margin-left: -8px;
  position: absolute;
}

.react-datepicker-popper[data-placement^="bottom"] .react-datepicker__triangle, .react-datepicker-popper[data-placement^="top"] .react-datepicker__triangle, .react-datepicker__year-read-view--down-arrow,
.react-datepicker__month-read-view--down-arrow,
.react-datepicker__month-year-read-view--down-arrow, .react-datepicker-popper[data-placement^="bottom"] .react-datepicker__triangle::before, .react-datepicker-popper[data-placement^="top"] .react-datepicker__triangle::before, .react-datepicker__year-read-view--down-arrow::before,
.react-datepicker__month-read-view--down-arrow::before,
.react-datepicker__month-year-read-view--down-arrow::before {
  box-sizing: content-box;
  position: absolute;
  border: 8px solid transparent;
  height: 0;
  width: 1px;
}

.react-datepicker-popper[data-placement^="bottom"] .react-datepicker__triangle::before, .react-datepicker-popper[data-placement^="top"] .react-datepicker__triangle::before, .react-datepicker__year-read-view--down-arrow::before,
.react-datepicker__month-read-view--down-arrow::before,
.react-datepicker__month-year-read-view--down-arrow::before {
  content: "";
  z-index: -1;
  border-width: 8px;
  left: -8px;
  border-bottom-color: #aeaeae;
}

.react-datepicker-popper[data-placement^="bottom"] .react-datepicker__triangle {
  top: 0;
  margin-top: -8px;
}

.react-datepicker-popper[data-placement^="bottom"] .react-datepicker__triangle, .react-datepicker-popper[data-placement^="bottom"] .react-datepicker__triangle::before {
  border-top: none;
  border-bottom-color: #f0f0f0;
}

.react-datepicker-popper[data-placement^="bottom"] .react-datepicker__triangle::before {
  top: -1px;
  border-bottom-color: #aeaeae;
}

.react-datepicker-popper[data-placement^="top"] .react-datepicker__triangle, .react-datepicker__year-read-view--down-arrow,
.react-datepicker__month-read-view--down-arrow,
.react-datepicker__month-year-read-view--down-arrow {
  bottom: 0;
  margin-bottom: -8px;
}

.react-datepicker-popper[data-placement^="top"] .react-datepicker__triangle, .react-datepicker__year-read-view--down-arrow,
.react-datepicker__month-read-view--down-arrow,
.react-datepicker__month-year-read-view--down-arrow, .react-datepicker-popper[data-placement^="top"] .react-datepicker__triangle::before, .react-datepicker__year-read-view--down-arrow::before,
.react-datepicker__month-read-view--down-arrow::before,
.react-datepicker__month-year-read-view--down-arrow::before {
  border-bottom: none;
  border-top-color: #fff;
}

.react-datepicker-popper[data-placement^="top"] .react-datepicker__triangle::before, .react-datepicker__year-read-view--down-arrow::before,
.react-datepicker__month-read-view--down-arrow::before,
.react-datepicker__month-year-read-view--down-arrow::before {
  bottom: -1px;
  border-top-color: #aeaeae;
}

.react-datepicker-wrapper {
  display: inline-block;
  padding: 0;
  border: 0;
}

.react-datepicker {
  font-family: "Helvetica Neue", Helvetica, Arial, sans-serif;
  font-size: 0.8rem;
  background-color: #fff;
  color: #000;
  border: 1px solid #aeaeae;
  border-radius: 0.3rem;
  display: inline-block;
  position: relative;
}

.react-datepicker--time-only .react-datepicker__triangle {
  left: 35px;
}

.react-datepicker--time-only .react-datepicker__time-container {
  border-left: 0;
}

.react-datepicker--time-only .react-datepicker__time,
.react-datepicker--time-only .react-datepicker__time-box {
  border-bottom-left-radius: 0.3rem;
  border-bottom-right-radius: 0.3rem;
}

.react-datepicker__triangle {
  position: absolute;
  left: 50px;
}

.react-datepicker-popper {
  z-index: 1;
}

.react-datepicker-popper[data-placement^="bottom"] {
  margin-top: 10px;
}

.react-datepicker-popper[data-placement="bottom-end"] .react-datepicker__triangle, .react-datepicker-popper[data-placement="top-end"] .react-datepicker__triangle {
  left: auto;
  right: 50px;
}

.react-datepicker-popper[data-placement^="top"] {
  margin-bottom: 10px;
}

.react-datepicker-popper[data-placement^="right"] {
  margin-left: 8px;
}

.react-datepicker-popper[data-placement^="right"] .react-datepicker__triangle {
  left: auto;
  right: 42px;
}

.react-datepicker-popper[data-placement^="left"] {
  margin-right: 8px;
}

.react-datepicker-popper[data-placement^="left"] .react-datepicker__triangle {
  left: 42px;
  right: auto;
}

.react-datepicker__header {
  text-align: center;
  background-color: #f0f0f0;
  border-bottom: 1px solid #aeaeae;
  border-top-left-radius: 0.3rem;
  padding-top: 8px;
  position: relative;
}

.react-datepicker__header--time {
  padding-bottom: 8px;
  padding-left: 5px;
  padding-right: 5px;
}

.react-datepicker__header--time:not(.react-datepicker__header--time--only) {
  border-top-left-radius: 0;
}

.react-datepicker__header:not(.react-datepicker__header--has-time-select) {
  border-top-right-radius: 0.3rem;
}

.react-datepicker__year-dropdown-container--select,
.react-datepicker__month-dropdown-container--select,
.react-datepicker__month-year-dropdown-container--select,
.react-datepicker__year-dropdown-container--scroll,
.react-datepicker__month-dropdown-container--scroll,
.react-datepicker__month-year-dropdown-container--scroll {
  display: inline-block;
  margin: 0 2px;
}

.react-datepicker__current-month,
.react-datepicker-time__header,
.react-datepicker-year-header {
  margin-top: 0;
  color: #000;
  font-weight: bold;
  font-size: 0.944rem;
}

.react-datepicker-time__header {
  text-overflow: ellipsis;
  white-space: nowrap;
  overflow: hidden;
}

.react-datepicker__navigation {
  background: none;
  line-height: 1.7rem;
  text-align: center;
  cursor: pointer;
  position: absolute;
  top: 10px;
  width: 0;
  padding: 0;
  border: 0.45rem solid transparent;
  z-index: 1;
  height: 10px;
  width: 10px;
  text-indent: -999em;
  overflow: hidden;
}

.react-datepicker__navigation--previous {
  left: 10px;
  border-right-color: #ccc;
}

.react-datepicker__navigation--previous:hover {
  border-right-color: #b3b3b3;
}

.react-datepicker__navigation--previous--disabled, .react-datepicker__navigation--previous--disabled:hover {
  border-right-color: #e6e6e6;
  cursor: default;
}

.react-datepicker__navigation--next {
  right: 10px;
  border-left-color: #ccc;
}

.react-datepicker__navigation--next--with-time:not(.react-datepicker__navigation--next--with-today-button) {
  right: 95px;
}

.react-datepicker__navigation--next:hover {
  border-left-color: #b3b3b3;
}

.react-datepicker__navigation--next--disabled, .react-datepicker__navigation--next--disabled:hover {
  border-left-color: #e6e6e6;
  cursor: default;
}

.react-datepicker__navigation--years {
  position: relative;
  top: 0;
  display: block;
  margin-left: auto;
  margin-right: auto;
}

.react-datepicker__navigation--years-previous {
  top: 4px;
  border-top-color: #ccc;
}

.react-datepicker__navigation--years-previous:hover {
  border-top-color: #b3b3b3;
}

.react-datepicker__navigation--years-upcoming {
  top: -4px;
  border-bottom-color: #ccc;
}

.react-datepicker__navigation--years-upcoming:hover {
  border-bottom-color: #b3b3b3;
}

.react-datepicker__month-container {
  float: left;
}

.react-datepicker__year {
  margin: 0.4rem;
  text-align: center;
}

.react-datepicker__year-wrapper {
  display: flex;
  flex-wrap: wrap;
  max-width: 180px;
}

.react-datepicker__year .react-datepicker__year-text {
  display: inline-block;
  width: 4rem;
  margin: 2px;
}

.react-datepicker__month {
  margin: 0.4rem;
  text-align: center;
}

.react-datepicker__month .react-datepicker__month-text,
.react-datepicker__month .react-datepicker__quarter-text {
  display: inline-block;
  width: 4rem;
  margin: 2px;
}

.react-datepicker__input-time-container {
  clear: both;
  width: 100%;
  float: left;
  margin: 5px 0 10px 15px;
  text-align: left;
}

.react-datepicker__input-time-container .react-datepicker-time__caption {
  display: inline-block;
}

.react-datepicker__input-time-container .react-datepicker-time__input-container {
  display: inline-block;
}

.react-datepicker__input-time-container .react-datepicker-time__input-container .react-datepicker-time__input {
  display: inline-block;
  margin-left: 10px;
}

.react-datepicker__input-time-container .react-datepicker-time__input-container .react-datepicker-time__input input {
  width: auto;
}

.react-datepicker__input-time-container .react-datepicker-time__input-container .react-datepicker-time__input input[type="time"]::-webkit-inner-spin-button,
.react-datepicker__input-time-container .react-datepicker-time__input-container .react-datepicker-time__input input[type="time"]::-webkit-outer-spin-button {
  -webkit-appearance: none;
  margin: 0;
}

.react-datepicker__input-time-container .react-datepicker-time__input-container .react-datepicker-time__input input[type="time"] {
  -moz-appearance: textfield;
}

.react-datepicker__input-time-container .react-datepicker-time__input-container .react-datepicker-time__delimiter {
  margin-left: 5px;
  display: inline-block;
}

.react-datepicker__time-container {
  float: right;
  border-left: 1px solid #aeaeae;
  width: 85px;
}

.react-datepicker__time-container--with-today-button {
  display: inline;
  border: 1px solid #aeaeae;
  border-radius: 0.3rem;
  position: absolute;
  right: -72px;
  top: 0;
}

.react-datepicker__time-container .react-datepicker__time {
  position: relative;
  background: white;
  border-bottom-right-radius: 0.3rem;
}

.react-datepicker__time-container .react-datepicker__time .react-datepicker__time-box {
  width: 85px;
  overflow-x: hidden;
  margin: 0 auto;
  text-align: center;
  border-bottom-right-radius: 0.3rem;
}

.react-datepicker__time-container .react-datepicker__time .react-datepicker__time-box ul.react-datepicker__time-list {
  list-style: none;
  margin: 0;
  height: calc(195px + (1.7rem / 2));
  overflow-y: scroll;
  padding-right: 0px;
  padding-left: 0px;
  width: 100%;
  box-sizing: content-box;
}

.react-datepicker__time-container .react-datepicker__time .react-datepicker__time-box ul.react-datepicker__time-list li.react-datepicker__time-list-item {
  height: 30px;
  padding: 5px 10px;
  white-space: nowrap;
}

.react-datepicker__time-container .react-datepicker__time .react-datepicker__time-box ul.react-datepicker__time-list li.react-datepicker__time-list-item:hover {
  cursor: pointer;
  background-color: #f0f0f0;
}

.react-datepicker__time-container .react-datepicker__time .react-datepicker__time-box ul.react-datepicker__time-list li.react-datepicker__time-list-item--selected {
  background-color: #216ba5;
  color: white;
  font-weight: bold;
}

.react-datepicker__time-container .react-datepicker__time .react-datepicker__time-box ul.react-datepicker__time-list li.react-datepicker__time-list-item--selected:hover {
  background-color: #216ba5;
}

.react-datepicker__time-container .react-datepicker__time .react-datepicker__time-box ul.react-datepicker__time-list li.react-datepicker__time-list-item--disabled {
  color: #ccc;
}

.react-datepicker__time-container .react-datepicker__time .react-datepicker__time-box ul.react-datepicker__time-list li.react-datepicker__time-list-item--disabled:hover {
  cursor: default;
  background-color: transparent;
}

.react-datepicker__week-number {
  color: #ccc;
  display: inline-block;
  width: 1.7rem;
  line-height: 1.7rem;
  text-align: center;
  margin: 0.166rem;
}

.react-datepicker__week-number.react-datepicker__week-number--clickable {
  cursor: pointer;
}

.react-datepicker__week-number.react-datepicker__week-number--clickable:hover {
  border-radius: 0.3rem;
  background-color: #f0f0f0;
}

.react-datepicker__day-names,
.react-datepicker__week {
  white-space: nowrap;
}

.react-datepicker__day-name,
.react-datepicker__day,
.react-datepicker__time-name {
  color: #000;
  display: inline-block;
  width: 1.7rem;
  line-height: 1.7rem;
  text-align: center;
  margin: 0.166rem;
}

.react-datepicker__month--selected, .react-datepicker__month--in-selecting-range, .react-datepicker__month--in-range,
.react-datepicker__quarter--selected,
.react-datepicker__quarter--in-selecting-range,
.react-datepicker__quarter--in-range {
  border-radius: 0.3rem;
  background-color: #216ba5;
  color: #fff;
}

.react-datepicker__month--selected:hover, .react-datepicker__month--in-selecting-range:hover, .react-datepicker__month--in-range:hover,
.react-datepicker__quarter--selected:hover,
.react-datepicker__quarter--in-selecting-range:hover,
.react-datepicker__quarter--in-range:hover {
  background-color: #1d5d90;
}

.react-datepicker__month--disabled,
.react-datepicker__quarter--disabled {
  color: #ccc;
  pointer-events: none;
}

.react-datepicker__month--disabled:hover,
.react-datepicker__quarter--disabled:hover {
  cursor: default;
  background-color: transparent;
}

.react-datepicker__day,
.react-datepicker__month-text,
.react-datepicker__quarter-text,
.react-datepicker__year-text {
  cursor: pointer;
}

.react-datepicker__day:hover,
.react-datepicker__month-text:hover,
.react-datepicker__quarter-text:hover,
.react-datepicker__year-text:hover {
  border-radius: 0.3rem;
  background-color: #f0f0f0;
}

.react-datepicker__day--today,
.react-datepicker__month-text--today,
.react-datepicker__quarter-text--today,
.react-datepicker__year-text--today {
  font-weight: bold;
}

.react-datepicker__day--highlighted,
.react-datepicker__month-text--highlighted,
.react-datepicker__quarter-text--highlighted,
.react-datepicker__year-text--highlighted {
  border-radius: 0.3rem;
  background-color: #3dcc4a;
  color: #fff;
}

.react-datepicker__day--highlighted:hover,
.react-datepicker__month-text--highlighted:hover,
.react-datepicker__quarter-text--highlighted:hover,
.react-datepicker__year-text--highlighted:hover {
  background-color: #32be3f;
}

.react-datepicker__day--highlighted-custom-1,
.react-datepicker__month-text--highlighted-custom-1,
.react-datepicker__quarter-text--highlighted-custom-1,
.react-datepicker__year-text--highlighted-custom-1 {
  color: magenta;
}

.react-datepicker__day--highlighted-custom-2,
.react-datepicker__month-text--highlighted-custom-2,
.react-datepicker__quarter-text--highlighted-custom-2,
.react-datepicker__year-text--highlighted-custom-2 {
  color: green;
}

.react-datepicker__day--selected, .react-datepicker__day--in-selecting-range, .react-datepicker__day--in-range,
.react-datepicker__month-text--selected,
.react-datepicker__month-text--in-selecting-range,
.react-datepicker__month-text--in-range,
.react-datepicker__quarter-text--selected,
.react-datepicker__quarter-text--in-selecting-range,
.react-datepicker__quarter-text--in-range,
.react-datepicker__year-text--selected,
.react-datepicker__year-text--in-selecting-range,
.react-datepicker__year-text--in-range {
  border-radius: 0.3rem;
  background-color: #216ba5;
  color: #fff;
}

.react-datepicker__day--selected:hover, .react-datepicker__day--in-selecting-range:hover, .react-datepicker__day--in-range:hover,
.react-datepicker__month-text--selected:hover,
.react-datepicker__month-text--in-selecting-range:hover,
.react-datepicker__month-text--in-range:hover,
.react-datepicker__quarter-text--selected:hover,
.react-datepicker__quarter-text--in-selecting-range:hover,
.react-datepicker__quarter-text--in-range:hover,
.react-datepicker__year-text--selected:hover,
.react-datepicker__year-text--in-selecting-range:hover,
.react-datepicker__year-text--in-range:hover {
  background-color: #1d5d90;
}

.react-datepicker__day--keyboard-selected,
.react-datepicker__month-text--keyboard-selected,
.react-datepicker__quarter-text--keyboard-selected,
.react-datepicker__year-text--keyboard-selected {
  border-radius: 0.3rem;
  background-color: #2a87d0;
  color: #fff;
}

.react-datepicker__day--keyboard-selected:hover,
.react-datepicker__month-text--keyboard-selected:hover,
.react-datepicker__quarter-text--keyboard-selected:hover,
.react-datepicker__year-text--keyboard-selected:hover {
  background-color: #1d5d90;
}

.react-datepicker__day--in-selecting-range ,
.react-datepicker__month-text--in-selecting-range ,
.react-datepicker__quarter-text--in-selecting-range ,
.react-datepicker__year-text--in-selecting-range {
  background-color: rgba(33, 107, 165, 0.5);
}

.react-datepicker__month--selecting-range .react-datepicker__day--in-range , .react-datepicker__month--selecting-range
.react-datepicker__month-text--in-range , .react-datepicker__month--selecting-range
.react-datepicker__quarter-text--in-range , .react-datepicker__month--selecting-range
.react-datepicker__year-text--in-range {
  background-color: #f0f0f0;
  color: #000;
}

.react-datepicker__day--disabled,
.react-datepicker__month-text--disabled,
.react-datepicker__quarter-text--disabled,
.react-datepicker__year-text--disabled {
  cursor: default;
  color: #ccc;
}

.react-datepicker__day--disabled:hover,
.react-datepicker__month-text--disabled:hover,
.react-datepicker__quarter-text--disabled:hover,
.react-datepicker__year-text--disabled:hover {
  background-color: transparent;
}

.react-datepicker__month-text.react-datepicker__month--selected:hover, .react-datepicker__month-text.react-datepicker__month--in-range:hover, .react-datepicker__month-text.react-datepicker__quarter--selected:hover, .react-datepicker__month-text.react-datepicker__quarter--in-range:hover,
.react-datepicker__quarter-text.react-datepicker__month--selected:hover,
.react-datepicker__quarter-text.react-datepicker__month--in-range:hover,
.react-datepicker__quarter-text.react-datepicker__quarter--selected:hover,
.react-datepicker__quarter-text.react-datepicker__quarter--in-range:hover {
  background-color: #216ba5;
}

.react-datepicker__month-text:hover,
.react-datepicker__quarter-text:hover {
  background-color: #f0f0f0;
}

.react-datepicker__input-container {
  position: relative;
  display: inline-block;
  width: 100%;
}

.react-datepicker__year-read-view,
.react-datepicker__month-read-view,
.react-datepicker__month-year-read-view {
  border: 1px solid transparent;
  border-radius: 0.3rem;
}

.react-datepicker__year-read-view:hover,
.react-datepicker__month-read-view:hover,
.react-datepicker__month-year-read-view:hover {
  cursor: pointer;
}

.react-datepicker__year-read-view:hover .react-datepicker__year-read-view--down-arrow,
.react-datepicker__year-read-view:hover .react-datepicker__month-read-view--down-arrow,
.react-datepicker__month-read-view:hover .react-datepicker__year-read-view--down-arrow,
.react-datepicker__month-read-view:hover .react-datepicker__month-read-view--down-arrow,
.react-datepicker__month-year-read-view:hover .react-datepicker__year-read-view--down-arrow,
.react-datepicker__month-year-read-view:hover .react-datepicker__month-read-view--down-arrow {
  border-top-color: #b3b3b3;
}

.react-datepicker__year-read-view--down-arrow,
.react-datepicker__month-read-view--down-arrow,
.react-datepicker__month-year-read-view--down-arrow {
  border-top-color: #ccc;
  float: right;
  margin-left: 20px;
  top: 8px;
  position: relative;
  border-width: 0.45rem;
}

.react-datepicker__year-dropdown,
.react-datepicker__month-dropdown,
.react-datepicker__month-year-dropdown {
  background-color: #f0f0f0;
  position: absolute;
  width: 50%;
  left: 25%;
  top: 30px;
  z-index: 1;
  text-align: center;
  border-radius: 0.3rem;
  border: 1px solid #aeaeae;
}

.react-datepicker__year-dropdown:hover,
.react-datepicker__month-dropdown:hover,
.react-datepicker__month-year-dropdown:hover {
  cursor: pointer;
}

.react-datepicker__year-dropdown--scrollable,
.react-datepicker__month-dropdown--scrollable,
.react-datepicker__month-year-dropdown--scrollable {
  height: 150px;
  overflow-y: scroll;
}

.react-datepicker__year-option,
.react-datepicker__month-option,
.react-datepicker__month-year-option {
  line-height: 20px;
  width: 100%;
  display: block;
  margin-left: auto;
  margin-right: auto;
}

.react-datepicker__year-option:first-of-type,
.react-datepicker__month-option:first-of-type,
.react-datepicker__month-year-option:first-of-type {
  border-top-left-radius: 0.3rem;
  border-top-right-radius: 0.3rem;
}

.react-datepicker__year-option:last-of-type,
.react-datepicker__month-option:last-of-type,
.react-datepicker__month-year-option:last-of-type {
  -webkit-user-select: none;
  -moz-user-select: none;
  -ms-user-select: none;
  user-select: none;
  border-bottom-left-radius: 0.3rem;
  border-bottom-right-radius: 0.3rem;
}

.react-datepicker__year-option:hover,
.react-datepicker__month-option:hover,
.react-datepicker__month-year-option:hover {
  background-color: #ccc;
}

.react-datepicker__year-option:hover .react-datepicker__navigation--years-upcoming,
.react-datepicker__month-option:hover .react-datepicker__navigation--years-upcoming,
.react-datepicker__month-year-option:hover .react-datepicker__navigation--years-upcoming {
  border-bottom-color: #b3b3b3;
}

.react-datepicker__year-option:hover .react-datepicker__navigation--years-previous,
.react-datepicker__month-option:hover .react-datepicker__navigation--years-previous,
.react-datepicker__month-year-option:hover .react-datepicker__navigation--years-previous {
  border-top-color: #b3b3b3;
}

.react-datepicker__year-option--selected,
.react-datepicker__month-option--selected,
.react-datepicker__month-year-option--selected {
  position: absolute;
  left: 15px;
}

.react-datepicker__close-icon {
  cursor: pointer;
  background-color: transparent;
  border: 0;
  outline: 0;
  padding: 0px 6px 0px 0px;
  position: absolute;
  top: 0;
  right: 0;
  height: 100%;
  display: table-cell;
  vertical-align: middle;
}

.react-datepicker__close-icon::after {
  cursor: pointer;
  background-color: #216ba5;
  color: #fff;
  border-radius: 50%;
  height: 16px;
  width: 16px;
  padding: 2px;
  font-size: 12px;
  line-height: 1;
  text-align: center;
  display: table-cell;
  vertical-align: middle;
  content: "\D7";
}

.react-datepicker__today-button {
  background: #f0f0f0;
  border-top: 1px solid #aeaeae;
  cursor: pointer;
  text-align: center;
  font-weight: bold;
  padding: 5px 0;
  clear: left;
}

.react-datepicker__portal {
  position: fixed;
  width: 100vw;
  height: 100vh;
  background-color: rgba(0, 0, 0, 0.8);
  left: 0;
  top: 0;
  justify-content: center;
  align-items: center;
  display: flex;
  z-index: 2147483647;
}

.react-datepicker__portal .react-datepicker__day-name,
.react-datepicker__portal .react-datepicker__day,
.react-datepicker__portal .react-datepicker__time-name {
  width: 3rem;
  line-height: 3rem;
}

@media (max-width: 400px), (max-height: 550px) {
  .react-datepicker__portal .react-datepicker__day-name,
  .react-datepicker__portal .react-datepicker__day,
  .react-datepicker__portal .react-datepicker__time-name {
    width: 2rem;
    line-height: 2rem;
  }
}

.react-datepicker__portal .react-datepicker__current-month,
.react-datepicker__portal .react-datepicker-time__header {
  font-size: 1.44rem;
}

.react-datepicker__portal .react-datepicker__navigation {
  border: 0.81rem solid transparent;
}

.react-datepicker__portal .react-datepicker__navigation--previous {
  border-right-color: #ccc;
}

.react-datepicker__portal .react-datepicker__navigation--previous:hover {
  border-right-color: #b3b3b3;
}

.react-datepicker__portal .react-datepicker__navigation--previous--disabled, .react-datepicker__portal .react-datepicker__navigation--previous--disabled:hover {
  border-right-color: #e6e6e6;
  cursor: default;
}

.react-datepicker__portal .react-datepicker__navigation--next {
  border-left-color: #ccc;
}

.react-datepicker__portal .react-datepicker__navigation--next:hover {
  border-left-color: #b3b3b3;
}

.react-datepicker__portal .react-datepicker__navigation--next--disabled, .react-datepicker__portal .react-datepicker__navigation--next--disabled:hover {
  border-left-color: #e6e6e6;
  cursor: default;
}
</style><style type="text/css">@font-face { font-family: 'simple-line-icons'; src: url('chrome-extension://mihdfbecejheednfigjpdacgeilhlmnf/assets/fonts/Simple-Line-Icons.ttf') format('truetype'); }</style></head>

  <body class="logged-in env-production page-responsive full-width" style="word-wrap: break-word;">
    

    <div class="position-relative js-header-wrapper ">
      <a href="https://github.com/Maher-Zeg/IronMaher/blame/main/LAB%2031%20encoding/LAB%2031%20encoding.ipynb#start-of-content" class="p-3 color-bg-accent-emphasis color-fg-on-emphasis show-on-focus js-skip-to-content">Skip to content</a>
      <span data-view-component="true" class="progress-pjax-loader js-pjax-loader-bar Progress position-fixed width-full">
    <span style="width: 0%;" data-view-component="true" class="Progress-item progress-pjax-loader-bar left-0 top-0 color-bg-accent-emphasis"></span>
</span>      
      


        <script crossorigin="anonymous" defer="defer" type="application/javascript" integrity="sha512-dp9NWljGko4dWiA5IsI4nM0UjWZQM6o/KauF1OpLp6T78Wc9p0khjP3HeHjlb4pUR6sI0Dgq1KvLjFWH6U3aOg==" src="./LAB 31 encoding_files/6319-769f4d5a58c6.js.téléchargement"></script>
<script crossorigin="anonymous" defer="defer" type="application/javascript" integrity="sha512-8yNF7k3IEYK6K9eB12rJ6qC+VbM5G5yaZnl/i5YB2VB5/o76R/gvSNNWeUb1q+yBgdPKiG/jJpKFUygD26y+Iw==" src="./LAB 31 encoding_files/9255-f32345ee4dc8.js.téléchargement"></script>
<script crossorigin="anonymous" defer="defer" type="application/javascript" integrity="sha512-0vqniFrkscBAFewT6Krki8kE7HdoGwuodX8cWsap+/0JGWpw5xpGRXmfjIMqVihDdgJeI0aKJEqqsp0epWGabQ==" src="./LAB 31 encoding_files/5623-d2faa7885ae4.js.téléchargement"></script>
<script crossorigin="anonymous" defer="defer" type="application/javascript" integrity="sha512-F4KJWSjKysCe1wHNxusL4tGUy3gWz9yhD1PgmZIaAqc5AtE+tJG5Ok29Kql8rORj3dEitg76yFscVkxlH3ZljQ==" src="./LAB 31 encoding_files/command-palette-1782895928ca.js.téléchargement"></script>

            <header class="Header js-details-container Details px-3 px-md-4 px-lg-5 flex-wrap flex-md-nowrap" role="banner">
    <div class="Header-item mt-n1 mb-n1  d-none d-md-flex">
      <a class="Header-link " href="https://github.com/" data-hotkey="g d" aria-label="Homepage " data-turbo="false" data-analytics-event="{&quot;category&quot;:&quot;Header&quot;,&quot;action&quot;:&quot;go to dashboard&quot;,&quot;label&quot;:&quot;icon:logo&quot;}">
  <svg height="32" aria-hidden="true" viewBox="0 0 16 16" version="1.1" width="32" data-view-component="true" class="octicon octicon-mark-github v-align-middle">
    <path fill-rule="evenodd" d="M8 0C3.58 0 0 3.58 0 8c0 3.54 2.29 6.53 5.47 7.59.4.07.55-.17.55-.38 0-.19-.01-.82-.01-1.49-2.01.37-2.53-.49-2.69-.94-.09-.23-.48-.94-.82-1.13-.28-.15-.68-.52-.01-.53.63-.01 1.08.58 1.23.82.72 1.21 1.87.87 2.33.66.07-.52.28-.87.51-1.07-1.78-.2-3.64-.89-3.64-3.95 0-.87.31-1.59.82-2.15-.08-.2-.36-1.02.08-2.12 0 0 .67-.21 2.2.82.64-.18 1.32-.27 2-.27.68 0 1.36.09 2 .27 1.53-1.04 2.2-.82 2.2-.82.44 1.1.16 1.92.08 2.12.51.56.82 1.27.82 2.15 0 3.07-1.87 3.75-3.65 3.95.29.25.54.73.54 1.48 0 1.07-.01 1.93-.01 2.2 0 .21.15.46.55.38A8.013 8.013 0 0016 8c0-4.42-3.58-8-8-8z"></path>
</svg>
</a>

    </div>

    <div class="Header-item d-md-none">
      <button aria-label="Toggle navigation" aria-expanded="false" type="button" data-view-component="true" class="Header-link js-details-target btn-link">  <svg aria-hidden="true" height="24" viewBox="0 0 16 16" version="1.1" width="24" data-view-component="true" class="octicon octicon-three-bars">
    <path fill-rule="evenodd" d="M1 2.75A.75.75 0 011.75 2h12.5a.75.75 0 110 1.5H1.75A.75.75 0 011 2.75zm0 5A.75.75 0 011.75 7h12.5a.75.75 0 110 1.5H1.75A.75.75 0 011 7.75zM1.75 12a.75.75 0 100 1.5h12.5a.75.75 0 100-1.5H1.75z"></path>
</svg>
</button>    </div>

    <div class="Header-item Header-item--full flex-column flex-md-row width-full flex-order-2 flex-md-order-none mr-0 mr-md-3 mt-3 mt-md-0 Details-content--hidden-not-important d-md-flex">
          



<div class="header-search flex-auto js-site-search position-relative flex-self-stretch flex-md-self-auto mb-3 mb-md-0 mr-0 mr-md-3 scoped-search site-scoped-search js-jump-to">
  <div class="position-relative">
    <!-- '"` --><!-- </textarea></xmp> --><form class="js-site-search-form" role="search" aria-label="Site" data-scope-type="Repository" data-scope-id="433020099" data-scoped-search-url="/Maher-Zeg/IronMaher/search" data-owner-scoped-search-url="/users/Maher-Zeg/search" data-unscoped-search-url="/search" data-turbo="false" action="https://github.com/Maher-Zeg/IronMaher/search" accept-charset="UTF-8" method="get">
      <label class="form-control input-sm header-search-wrapper p-0 js-chromeless-input-container header-search-wrapper-jump-to position-relative d-flex flex-justify-between flex-items-center">
        <input type="text" class="form-control input-sm header-search-input jump-to-field js-jump-to-field js-site-search-focus js-site-search-field is-clearable" data-hotkey="s,/" name="q" data-test-selector="nav-search-input" placeholder="Search or jump to…" data-unscoped-placeholder="Search or jump to…" data-scoped-placeholder="Search or jump to…" autocapitalize="off" role="combobox" aria-haspopup="listbox" aria-expanded="false" aria-autocomplete="list" aria-controls="jump-to-results" aria-label="Search or jump to…" data-jump-to-suggestions-path="/_graphql/GetSuggestedNavigationDestinations" spellcheck="false" autocomplete="off">
        <input type="hidden" value="wRxdsGo3kPQfDPdwU5wSoRwd5i1TBOA4tOBaNu70zUTOaK93UlkDiwhMkiqKt53cFw0yVNNM0fhebMbPrfrQ8A" data-csrf="true" class="js-data-jump-to-suggestions-path-csrf">
        <input type="hidden" class="js-site-search-type-field" name="type">
            <svg xmlns="http://www.w3.org/2000/svg" width="22" height="20" aria-hidden="true" class="mr-1 header-search-key-slash"><path fill="none" stroke="#979A9C" opacity=".4" d="M3.5.5h12c1.7 0 3 1.3 3 3v13c0 1.7-1.3 3-3 3h-12c-1.7 0-3-1.3-3-3v-13c0-1.7 1.3-3 3-3z"></path><path fill="#979A9C" d="M11.8 6L8 15.1h-.9L10.8 6h1z"></path></svg>


          <div class="Box position-absolute overflow-hidden d-none jump-to-suggestions js-jump-to-suggestions-container">
            
<ul class="d-none js-jump-to-suggestions-template-container">
  

<li class="d-flex flex-justify-start flex-items-center p-0 f5 navigation-item js-navigation-item js-jump-to-suggestion" role="option">
  <a tabindex="-1" class="no-underline d-flex flex-auto flex-items-center jump-to-suggestions-path js-jump-to-suggestion-path js-navigation-open p-2" href="https://github.com/Maher-Zeg/IronMaher/blame/main/LAB%2031%20encoding/LAB%2031%20encoding.ipynb" data-item-type="suggestion">
    <div class="jump-to-octicon js-jump-to-octicon flex-shrink-0 mr-2 text-center d-none">
      <svg title="Repository" aria-label="Repository" role="img" height="16" viewBox="0 0 16 16" version="1.1" width="16" data-view-component="true" class="octicon octicon-repo js-jump-to-octicon-repo d-none flex-shrink-0">
    <path fill-rule="evenodd" d="M2 2.5A2.5 2.5 0 014.5 0h8.75a.75.75 0 01.75.75v12.5a.75.75 0 01-.75.75h-2.5a.75.75 0 110-1.5h1.75v-2h-8a1 1 0 00-.714 1.7.75.75 0 01-1.072 1.05A2.495 2.495 0 012 11.5v-9zm10.5-1V9h-8c-.356 0-.694.074-1 .208V2.5a1 1 0 011-1h8zM5 12.25v3.25a.25.25 0 00.4.2l1.45-1.087a.25.25 0 01.3 0L8.6 15.7a.25.25 0 00.4-.2v-3.25a.25.25 0 00-.25-.25h-3.5a.25.25 0 00-.25.25z"></path>
</svg>
      <svg title="Project" aria-label="Project" role="img" height="16" viewBox="0 0 16 16" version="1.1" width="16" data-view-component="true" class="octicon octicon-project js-jump-to-octicon-project d-none flex-shrink-0">
    <path fill-rule="evenodd" d="M1.75 0A1.75 1.75 0 000 1.75v12.5C0 15.216.784 16 1.75 16h12.5A1.75 1.75 0 0016 14.25V1.75A1.75 1.75 0 0014.25 0H1.75zM1.5 1.75a.25.25 0 01.25-.25h12.5a.25.25 0 01.25.25v12.5a.25.25 0 01-.25.25H1.75a.25.25 0 01-.25-.25V1.75zM11.75 3a.75.75 0 00-.75.75v7.5a.75.75 0 001.5 0v-7.5a.75.75 0 00-.75-.75zm-8.25.75a.75.75 0 011.5 0v5.5a.75.75 0 01-1.5 0v-5.5zM8 3a.75.75 0 00-.75.75v3.5a.75.75 0 001.5 0v-3.5A.75.75 0 008 3z"></path>
</svg>
      <svg title="Search" aria-label="Search" role="img" height="16" viewBox="0 0 16 16" version="1.1" width="16" data-view-component="true" class="octicon octicon-search js-jump-to-octicon-search d-none flex-shrink-0">
    <path fill-rule="evenodd" d="M11.5 7a4.499 4.499 0 11-8.998 0A4.499 4.499 0 0111.5 7zm-.82 4.74a6 6 0 111.06-1.06l3.04 3.04a.75.75 0 11-1.06 1.06l-3.04-3.04z"></path>
</svg>
    </div>

    <img class="avatar mr-2 flex-shrink-0 js-jump-to-suggestion-avatar d-none" alt="" aria-label="Team" src="https://github.com/Maher-Zeg/IronMaher/blame/main/LAB%2031%20encoding/LAB%2031%20encoding.ipynb" width="28" height="28">

    <div class="jump-to-suggestion-name js-jump-to-suggestion-name flex-auto overflow-hidden text-left no-wrap css-truncate css-truncate-target">
    </div>

    <div class="border rounded-2 flex-shrink-0 color-bg-subtle px-1 color-fg-muted ml-1 f6 d-none js-jump-to-badge-search">
      <span class="js-jump-to-badge-search-text-default d-none" aria-label="in this repository">
        In this repository
      </span>
      <span class="js-jump-to-badge-search-text-global d-none" aria-label="in all of GitHub">
        All GitHub
      </span>
      <span aria-hidden="true" class="d-inline-block ml-1 v-align-middle">↵</span>
    </div>

    <div aria-hidden="true" class="border rounded-2 flex-shrink-0 color-bg-subtle px-1 color-fg-muted ml-1 f6 d-none d-on-nav-focus js-jump-to-badge-jump">
      Jump to
      <span class="d-inline-block ml-1 v-align-middle">↵</span>
    </div>
  </a>
</li>

</ul>

<ul class="d-none js-jump-to-no-results-template-container">
  <li class="d-flex flex-justify-center flex-items-center f5 d-none js-jump-to-suggestion p-2">
    <span class="color-fg-muted">No suggested jump to results</span>
  </li>
</ul>

<ul id="jump-to-results" role="listbox" class="p-0 m-0 js-navigation-container jump-to-suggestions-results-container js-jump-to-suggestions-results-container">
  

<li class="d-flex flex-justify-start flex-items-center p-0 f5 navigation-item js-navigation-item js-jump-to-scoped-search d-none" role="option">
  <a tabindex="-1" class="no-underline d-flex flex-auto flex-items-center jump-to-suggestions-path js-jump-to-suggestion-path js-navigation-open p-2" href="https://github.com/Maher-Zeg/IronMaher/blame/main/LAB%2031%20encoding/LAB%2031%20encoding.ipynb" data-item-type="scoped_search">
    <div class="jump-to-octicon js-jump-to-octicon flex-shrink-0 mr-2 text-center d-none">
      <svg title="Repository" aria-label="Repository" role="img" height="16" viewBox="0 0 16 16" version="1.1" width="16" data-view-component="true" class="octicon octicon-repo js-jump-to-octicon-repo d-none flex-shrink-0">
    <path fill-rule="evenodd" d="M2 2.5A2.5 2.5 0 014.5 0h8.75a.75.75 0 01.75.75v12.5a.75.75 0 01-.75.75h-2.5a.75.75 0 110-1.5h1.75v-2h-8a1 1 0 00-.714 1.7.75.75 0 01-1.072 1.05A2.495 2.495 0 012 11.5v-9zm10.5-1V9h-8c-.356 0-.694.074-1 .208V2.5a1 1 0 011-1h8zM5 12.25v3.25a.25.25 0 00.4.2l1.45-1.087a.25.25 0 01.3 0L8.6 15.7a.25.25 0 00.4-.2v-3.25a.25.25 0 00-.25-.25h-3.5a.25.25 0 00-.25.25z"></path>
</svg>
      <svg title="Project" aria-label="Project" role="img" height="16" viewBox="0 0 16 16" version="1.1" width="16" data-view-component="true" class="octicon octicon-project js-jump-to-octicon-project d-none flex-shrink-0">
    <path fill-rule="evenodd" d="M1.75 0A1.75 1.75 0 000 1.75v12.5C0 15.216.784 16 1.75 16h12.5A1.75 1.75 0 0016 14.25V1.75A1.75 1.75 0 0014.25 0H1.75zM1.5 1.75a.25.25 0 01.25-.25h12.5a.25.25 0 01.25.25v12.5a.25.25 0 01-.25.25H1.75a.25.25 0 01-.25-.25V1.75zM11.75 3a.75.75 0 00-.75.75v7.5a.75.75 0 001.5 0v-7.5a.75.75 0 00-.75-.75zm-8.25.75a.75.75 0 011.5 0v5.5a.75.75 0 01-1.5 0v-5.5zM8 3a.75.75 0 00-.75.75v3.5a.75.75 0 001.5 0v-3.5A.75.75 0 008 3z"></path>
</svg>
      <svg title="Search" aria-label="Search" role="img" height="16" viewBox="0 0 16 16" version="1.1" width="16" data-view-component="true" class="octicon octicon-search js-jump-to-octicon-search d-none flex-shrink-0">
    <path fill-rule="evenodd" d="M11.5 7a4.499 4.499 0 11-8.998 0A4.499 4.499 0 0111.5 7zm-.82 4.74a6 6 0 111.06-1.06l3.04 3.04a.75.75 0 11-1.06 1.06l-3.04-3.04z"></path>
</svg>
    </div>

    <img class="avatar mr-2 flex-shrink-0 js-jump-to-suggestion-avatar d-none" alt="" aria-label="Team" src="https://github.com/Maher-Zeg/IronMaher/blame/main/LAB%2031%20encoding/LAB%2031%20encoding.ipynb" width="28" height="28">

    <div class="jump-to-suggestion-name js-jump-to-suggestion-name flex-auto overflow-hidden text-left no-wrap css-truncate css-truncate-target">
    </div>

    <div class="border rounded-2 flex-shrink-0 color-bg-subtle px-1 color-fg-muted ml-1 f6 d-none js-jump-to-badge-search">
      <span class="js-jump-to-badge-search-text-default d-none" aria-label="in this repository">
        In this repository
      </span>
      <span class="js-jump-to-badge-search-text-global d-none" aria-label="in all of GitHub">
        All GitHub
      </span>
      <span aria-hidden="true" class="d-inline-block ml-1 v-align-middle">↵</span>
    </div>

    <div aria-hidden="true" class="border rounded-2 flex-shrink-0 color-bg-subtle px-1 color-fg-muted ml-1 f6 d-none d-on-nav-focus js-jump-to-badge-jump">
      Jump to
      <span class="d-inline-block ml-1 v-align-middle">↵</span>
    </div>
  </a>
</li>

  

<li class="d-flex flex-justify-start flex-items-center p-0 f5 navigation-item js-navigation-item js-jump-to-owner-scoped-search d-none" role="option">
  <a tabindex="-1" class="no-underline d-flex flex-auto flex-items-center jump-to-suggestions-path js-jump-to-suggestion-path js-navigation-open p-2" href="https://github.com/Maher-Zeg/IronMaher/blame/main/LAB%2031%20encoding/LAB%2031%20encoding.ipynb" data-item-type="owner_scoped_search">
    <div class="jump-to-octicon js-jump-to-octicon flex-shrink-0 mr-2 text-center d-none">
      <svg title="Repository" aria-label="Repository" role="img" height="16" viewBox="0 0 16 16" version="1.1" width="16" data-view-component="true" class="octicon octicon-repo js-jump-to-octicon-repo d-none flex-shrink-0">
    <path fill-rule="evenodd" d="M2 2.5A2.5 2.5 0 014.5 0h8.75a.75.75 0 01.75.75v12.5a.75.75 0 01-.75.75h-2.5a.75.75 0 110-1.5h1.75v-2h-8a1 1 0 00-.714 1.7.75.75 0 01-1.072 1.05A2.495 2.495 0 012 11.5v-9zm10.5-1V9h-8c-.356 0-.694.074-1 .208V2.5a1 1 0 011-1h8zM5 12.25v3.25a.25.25 0 00.4.2l1.45-1.087a.25.25 0 01.3 0L8.6 15.7a.25.25 0 00.4-.2v-3.25a.25.25 0 00-.25-.25h-3.5a.25.25 0 00-.25.25z"></path>
</svg>
      <svg title="Project" aria-label="Project" role="img" height="16" viewBox="0 0 16 16" version="1.1" width="16" data-view-component="true" class="octicon octicon-project js-jump-to-octicon-project d-none flex-shrink-0">
    <path fill-rule="evenodd" d="M1.75 0A1.75 1.75 0 000 1.75v12.5C0 15.216.784 16 1.75 16h12.5A1.75 1.75 0 0016 14.25V1.75A1.75 1.75 0 0014.25 0H1.75zM1.5 1.75a.25.25 0 01.25-.25h12.5a.25.25 0 01.25.25v12.5a.25.25 0 01-.25.25H1.75a.25.25 0 01-.25-.25V1.75zM11.75 3a.75.75 0 00-.75.75v7.5a.75.75 0 001.5 0v-7.5a.75.75 0 00-.75-.75zm-8.25.75a.75.75 0 011.5 0v5.5a.75.75 0 01-1.5 0v-5.5zM8 3a.75.75 0 00-.75.75v3.5a.75.75 0 001.5 0v-3.5A.75.75 0 008 3z"></path>
</svg>
      <svg title="Search" aria-label="Search" role="img" height="16" viewBox="0 0 16 16" version="1.1" width="16" data-view-component="true" class="octicon octicon-search js-jump-to-octicon-search d-none flex-shrink-0">
    <path fill-rule="evenodd" d="M11.5 7a4.499 4.499 0 11-8.998 0A4.499 4.499 0 0111.5 7zm-.82 4.74a6 6 0 111.06-1.06l3.04 3.04a.75.75 0 11-1.06 1.06l-3.04-3.04z"></path>
</svg>
    </div>

    <img class="avatar mr-2 flex-shrink-0 js-jump-to-suggestion-avatar d-none" alt="" aria-label="Team" src="https://github.com/Maher-Zeg/IronMaher/blame/main/LAB%2031%20encoding/LAB%2031%20encoding.ipynb" width="28" height="28">

    <div class="jump-to-suggestion-name js-jump-to-suggestion-name flex-auto overflow-hidden text-left no-wrap css-truncate css-truncate-target">
    </div>

    <div class="border rounded-2 flex-shrink-0 color-bg-subtle px-1 color-fg-muted ml-1 f6 d-none js-jump-to-badge-search">
      <span class="js-jump-to-badge-search-text-default d-none" aria-label="in this user">
        In this user
      </span>
      <span class="js-jump-to-badge-search-text-global d-none" aria-label="in all of GitHub">
        All GitHub
      </span>
      <span aria-hidden="true" class="d-inline-block ml-1 v-align-middle">↵</span>
    </div>

    <div aria-hidden="true" class="border rounded-2 flex-shrink-0 color-bg-subtle px-1 color-fg-muted ml-1 f6 d-none d-on-nav-focus js-jump-to-badge-jump">
      Jump to
      <span class="d-inline-block ml-1 v-align-middle">↵</span>
    </div>
  </a>
</li>

  

<li class="d-flex flex-justify-start flex-items-center p-0 f5 navigation-item js-navigation-item js-jump-to-global-search d-none" role="option">
  <a tabindex="-1" class="no-underline d-flex flex-auto flex-items-center jump-to-suggestions-path js-jump-to-suggestion-path js-navigation-open p-2" href="https://github.com/Maher-Zeg/IronMaher/blame/main/LAB%2031%20encoding/LAB%2031%20encoding.ipynb" data-item-type="global_search">
    <div class="jump-to-octicon js-jump-to-octicon flex-shrink-0 mr-2 text-center d-none">
      <svg title="Repository" aria-label="Repository" role="img" height="16" viewBox="0 0 16 16" version="1.1" width="16" data-view-component="true" class="octicon octicon-repo js-jump-to-octicon-repo d-none flex-shrink-0">
    <path fill-rule="evenodd" d="M2 2.5A2.5 2.5 0 014.5 0h8.75a.75.75 0 01.75.75v12.5a.75.75 0 01-.75.75h-2.5a.75.75 0 110-1.5h1.75v-2h-8a1 1 0 00-.714 1.7.75.75 0 01-1.072 1.05A2.495 2.495 0 012 11.5v-9zm10.5-1V9h-8c-.356 0-.694.074-1 .208V2.5a1 1 0 011-1h8zM5 12.25v3.25a.25.25 0 00.4.2l1.45-1.087a.25.25 0 01.3 0L8.6 15.7a.25.25 0 00.4-.2v-3.25a.25.25 0 00-.25-.25h-3.5a.25.25 0 00-.25.25z"></path>
</svg>
      <svg title="Project" aria-label="Project" role="img" height="16" viewBox="0 0 16 16" version="1.1" width="16" data-view-component="true" class="octicon octicon-project js-jump-to-octicon-project d-none flex-shrink-0">
    <path fill-rule="evenodd" d="M1.75 0A1.75 1.75 0 000 1.75v12.5C0 15.216.784 16 1.75 16h12.5A1.75 1.75 0 0016 14.25V1.75A1.75 1.75 0 0014.25 0H1.75zM1.5 1.75a.25.25 0 01.25-.25h12.5a.25.25 0 01.25.25v12.5a.25.25 0 01-.25.25H1.75a.25.25 0 01-.25-.25V1.75zM11.75 3a.75.75 0 00-.75.75v7.5a.75.75 0 001.5 0v-7.5a.75.75 0 00-.75-.75zm-8.25.75a.75.75 0 011.5 0v5.5a.75.75 0 01-1.5 0v-5.5zM8 3a.75.75 0 00-.75.75v3.5a.75.75 0 001.5 0v-3.5A.75.75 0 008 3z"></path>
</svg>
      <svg title="Search" aria-label="Search" role="img" height="16" viewBox="0 0 16 16" version="1.1" width="16" data-view-component="true" class="octicon octicon-search js-jump-to-octicon-search d-none flex-shrink-0">
    <path fill-rule="evenodd" d="M11.5 7a4.499 4.499 0 11-8.998 0A4.499 4.499 0 0111.5 7zm-.82 4.74a6 6 0 111.06-1.06l3.04 3.04a.75.75 0 11-1.06 1.06l-3.04-3.04z"></path>
</svg>
    </div>

    <img class="avatar mr-2 flex-shrink-0 js-jump-to-suggestion-avatar d-none" alt="" aria-label="Team" src="https://github.com/Maher-Zeg/IronMaher/blame/main/LAB%2031%20encoding/LAB%2031%20encoding.ipynb" width="28" height="28">

    <div class="jump-to-suggestion-name js-jump-to-suggestion-name flex-auto overflow-hidden text-left no-wrap css-truncate css-truncate-target">
    </div>

    <div class="border rounded-2 flex-shrink-0 color-bg-subtle px-1 color-fg-muted ml-1 f6 d-none js-jump-to-badge-search">
      <span class="js-jump-to-badge-search-text-default d-none" aria-label="in this repository">
        In this repository
      </span>
      <span class="js-jump-to-badge-search-text-global d-none" aria-label="in all of GitHub">
        All GitHub
      </span>
      <span aria-hidden="true" class="d-inline-block ml-1 v-align-middle">↵</span>
    </div>

    <div aria-hidden="true" class="border rounded-2 flex-shrink-0 color-bg-subtle px-1 color-fg-muted ml-1 f6 d-none d-on-nav-focus js-jump-to-badge-jump">
      Jump to
      <span class="d-inline-block ml-1 v-align-middle">↵</span>
    </div>
  </a>
</li>


    <li class="d-flex flex-justify-center flex-items-center p-0 f5 js-jump-to-suggestion">
      <svg style="box-sizing: content-box; color: var(--color-icon-primary);" width="32" height="32" viewBox="0 0 16 16" fill="none" data-view-component="true" class="m-3 anim-rotate">
  <circle cx="8" cy="8" r="7" stroke="currentColor" stroke-opacity="0.25" stroke-width="2" vector-effect="non-scaling-stroke"></circle>
  <path d="M15 8a7.002 7.002 0 00-7-7" stroke="currentColor" stroke-width="2" stroke-linecap="round" vector-effect="non-scaling-stroke"></path>
</svg>
    </li>
</ul>

          </div>
      </label>
</form>  </div>
</div>

        <nav class="d-flex flex-column flex-md-row flex-self-stretch flex-md-self-auto" aria-label="Global">
      <a class="Header-link py-md-3 d-block d-md-none py-2 border-top border-md-top-0 border-white-fade" data-ga-click="Header, click, Nav menu - item:dashboard:user" aria-label="Dashboard" data-turbo="false" href="https://github.com/dashboard">Dashboard</a>

    <a class="js-selected-navigation-item Header-link mt-md-n3 mb-md-n3 py-2 py-md-3 mr-0 mr-md-3 border-top border-md-top-0 border-white-fade" data-hotkey="g p" data-ga-click="Header, click, Nav menu - item:pulls context:user" aria-label="Pull requests you created" data-turbo="false" data-selected-links="/pulls /pulls/assigned /pulls/mentioned /pulls" href="https://github.com/pulls">
        Pull<span class="d-inline d-md-none d-lg-inline"> request</span>s
</a>
    <a class="js-selected-navigation-item Header-link mt-md-n3 mb-md-n3 py-2 py-md-3 mr-0 mr-md-3 border-top border-md-top-0 border-white-fade" data-hotkey="g i" data-ga-click="Header, click, Nav menu - item:issues context:user" aria-label="Issues you created" data-turbo="false" data-selected-links="/issues /issues/assigned /issues/mentioned /issues" href="https://github.com/issues">Issues</a>

      <div class="d-flex position-relative">
        <a class="js-selected-navigation-item Header-link flex-auto mt-md-n3 mb-md-n3 py-2 py-md-3 mr-0 mr-md-3 border-top border-md-top-0 border-white-fade" data-ga-click="Header, click, Nav menu - item:marketplace context:user" data-octo-click="marketplace_click" data-octo-dimensions="location:nav_bar" data-turbo="false" data-selected-links=" /marketplace" href="https://github.com/marketplace">Marketplace</a>
      </div>

    <a class="js-selected-navigation-item Header-link mt-md-n3 mb-md-n3 py-2 py-md-3 mr-0 mr-md-3 border-top border-md-top-0 border-white-fade" data-ga-click="Header, click, Nav menu - item:explore" data-turbo="false" data-selected-links="/explore /trending /trending/developers /integrations /integrations/feature/code /integrations/feature/collaborate /integrations/feature/ship showcases showcases_search showcases_landing /explore" href="https://github.com/explore">Explore</a>

    <a class="js-selected-navigation-item Header-link d-block d-md-none py-2 py-md-3 border-top border-md-top-0 border-white-fade" data-ga-click="Header, click, Nav menu - item:workspaces context:user" data-turbo="false" data-selected-links="/codespaces /codespaces" href="https://github.com/codespaces">Codespaces</a>

      <a class="js-selected-navigation-item Header-link d-block d-md-none py-2 py-md-3 border-top border-md-top-0 border-white-fade" data-ga-click="Header, click, Nav menu - item:Sponsors" data-hydro-click="{&quot;event_type&quot;:&quot;sponsors.button_click&quot;,&quot;payload&quot;:{&quot;button&quot;:&quot;HEADER_SPONSORS_DASHBOARD&quot;,&quot;sponsorable_login&quot;:&quot;Maher-Zeg&quot;,&quot;originating_url&quot;:&quot;https://github.com/Maher-Zeg/IronMaher/blame/main/LAB%2031%20encoding/LAB%2031%20encoding.ipynb&quot;,&quot;user_id&quot;:94024100}}" data-hydro-click-hmac="0c51fd4b9ccc9a8feb34b68c0cd8dd2a2c97d8f2260e5965fb1aaa51c031544a" data-turbo="false" data-selected-links=" /sponsors/accounts" href="https://github.com/sponsors/accounts">Sponsors</a>

    <a class="Header-link d-block d-md-none mr-0 mr-md-3 py-2 py-md-3 border-top border-md-top-0 border-white-fade" data-turbo="false" href="https://github.com/settings/profile">Settings</a>

    <a class="Header-link d-block d-md-none mr-0 mr-md-3 py-2 py-md-3 border-top border-md-top-0 border-white-fade" data-turbo="false" href="https://github.com/Maher-Zeg">
      <img class="avatar avatar-user" loading="lazy" decoding="async" src="./LAB 31 encoding_files/94024100" width="20" height="20" alt="@Maher-Zeg">
      Maher-Zeg
</a>
    <!-- '"` --><!-- </textarea></xmp> --><form data-turbo="false" action="https://github.com/logout" accept-charset="UTF-8" method="post"><input type="hidden" name="authenticity_token" value="J7cm7bznyIDhXNHjsB4qCXBUNt48FGG9hivYLChypDvWrEP-L1gU12XeV2-L3bJNQsueYfKfLzu3T3vQVKzUGQ">
      <button type="submit" class="Header-link mr-0 mr-md-3 py-2 py-md-3 border-top border-md-top-0 border-white-fade d-md-none btn-link d-block width-full text-left" style="padding-left: 2px;" data-analytics-event="{&quot;category&quot;:&quot;Header&quot;,&quot;action&quot;:&quot;sign out&quot;,&quot;label&quot;:&quot;icon:logout&quot;}">
        <svg aria-hidden="true" height="16" viewBox="0 0 16 16" version="1.1" width="16" data-view-component="true" class="octicon octicon-sign-out v-align-middle">
    <path fill-rule="evenodd" d="M2 2.75C2 1.784 2.784 1 3.75 1h2.5a.75.75 0 010 1.5h-2.5a.25.25 0 00-.25.25v10.5c0 .138.112.25.25.25h2.5a.75.75 0 010 1.5h-2.5A1.75 1.75 0 012 13.25V2.75zm10.44 4.5H6.75a.75.75 0 000 1.5h5.69l-1.97 1.97a.75.75 0 101.06 1.06l3.25-3.25a.75.75 0 000-1.06l-3.25-3.25a.75.75 0 10-1.06 1.06l1.97 1.97z"></path>
</svg>
        Sign out
      </button>
</form></nav>

    </div>

    <div class="Header-item Header-item--full flex-justify-center d-md-none position-relative">
        <a class="Header-link " href="https://github.com/" data-hotkey="g d" aria-label="Homepage " data-turbo="false" data-analytics-event="{&quot;category&quot;:&quot;Header&quot;,&quot;action&quot;:&quot;go to dashboard&quot;,&quot;label&quot;:&quot;icon:logo&quot;}">
  <svg height="32" aria-hidden="true" viewBox="0 0 16 16" version="1.1" width="32" data-view-component="true" class="octicon octicon-mark-github v-align-middle">
    <path fill-rule="evenodd" d="M8 0C3.58 0 0 3.58 0 8c0 3.54 2.29 6.53 5.47 7.59.4.07.55-.17.55-.38 0-.19-.01-.82-.01-1.49-2.01.37-2.53-.49-2.69-.94-.09-.23-.48-.94-.82-1.13-.28-.15-.68-.52-.01-.53.63-.01 1.08.58 1.23.82.72 1.21 1.87.87 2.33.66.07-.52.28-.87.51-1.07-1.78-.2-3.64-.89-3.64-3.95 0-.87.31-1.59.82-2.15-.08-.2-.36-1.02.08-2.12 0 0 .67-.21 2.2.82.64-.18 1.32-.27 2-.27.68 0 1.36.09 2 .27 1.53-1.04 2.2-.82 2.2-.82.44 1.1.16 1.92.08 2.12.51.56.82 1.27.82 2.15 0 3.07-1.87 3.75-3.65 3.95.29.25.54.73.54 1.48 0 1.07-.01 1.93-.01 2.2 0 .21.15.46.55.38A8.013 8.013 0 0016 8c0-4.42-3.58-8-8-8z"></path>
</svg>
</a>

    </div>

    <div class="Header-item mr-0 mr-md-3 flex-order-1 flex-md-order-none">
        


      <notification-indicator class="js-socket-channel" data-test-selector="notifications-indicator" data-channel="eyJjIjoibm90aWZpY2F0aW9uLWNoYW5nZWQ6OTQwMjQxMDAiLCJ0IjoxNjQ4NzYxNTcwfQ==--cf050e9585670fb772f2f7665262a01161d78a70ac2042455ee4453fb25a482c" data-catalyst="">
        <a href="https://github.com/notifications" data-turbo="false" class="Header-link notification-indicator position-relative tooltipped tooltipped-sw" aria-label="You have no unread notifications" data-hotkey="g n" data-ga-click="Header, go to notifications, icon:read" data-target="notification-indicator.link">
          <span class="mail-status  " data-target="notification-indicator.modifier"></span>
          <svg aria-hidden="true" height="16" viewBox="0 0 16 16" version="1.1" width="16" data-view-component="true" class="octicon octicon-bell">
    <path d="M8 16a2 2 0 001.985-1.75c.017-.137-.097-.25-.235-.25h-3.5c-.138 0-.252.113-.235.25A2 2 0 008 16z"></path><path fill-rule="evenodd" d="M8 1.5A3.5 3.5 0 004.5 5v2.947c0 .346-.102.683-.294.97l-1.703 2.556a.018.018 0 00-.003.01l.001.006c0 .002.002.004.004.006a.017.017 0 00.006.004l.007.001h10.964l.007-.001a.016.016 0 00.006-.004.016.016 0 00.004-.006l.001-.007a.017.017 0 00-.003-.01l-1.703-2.554a1.75 1.75 0 01-.294-.97V5A3.5 3.5 0 008 1.5zM3 5a5 5 0 0110 0v2.947c0 .05.015.098.042.139l1.703 2.555A1.518 1.518 0 0113.482 13H2.518a1.518 1.518 0 01-1.263-2.36l1.703-2.554A.25.25 0 003 7.947V5z"></path>
</svg>
        </a>
      </notification-indicator>

    </div>


    <div class="Header-item position-relative d-none d-md-flex">
        <details class="details-overlay details-reset">
  <summary class="Header-link" aria-label="Create new…" data-analytics-event="{&quot;category&quot;:&quot;Header&quot;,&quot;action&quot;:&quot;create new&quot;,&quot;label&quot;:&quot;icon:add&quot;}" aria-haspopup="menu" role="button">
      <svg aria-hidden="true" height="16" viewBox="0 0 16 16" version="1.1" width="16" data-view-component="true" class="octicon octicon-plus">
    <path fill-rule="evenodd" d="M7.75 2a.75.75 0 01.75.75V7h4.25a.75.75 0 110 1.5H8.5v4.25a.75.75 0 11-1.5 0V8.5H2.75a.75.75 0 010-1.5H7V2.75A.75.75 0 017.75 2z"></path>
</svg> <span class="dropdown-caret"></span>
  </summary>
  <details-menu class="dropdown-menu dropdown-menu-sw" role="menu">
    
<a role="menuitem" class="dropdown-item" href="https://github.com/new" data-ga-click="Header, create new repository">
  New repository
</a>

  <a role="menuitem" class="dropdown-item" href="https://github.com/new/import" data-ga-click="Header, import a repository">
    Import repository
  </a>

<a role="menuitem" class="dropdown-item" href="https://gist.github.com/" data-ga-click="Header, create new gist">
  New gist
</a>

  <a role="menuitem" class="dropdown-item" href="https://github.com/organizations/new" data-ga-click="Header, create new organization">
    New organization
  </a>



  </details-menu>
</details>

    </div>

    <div class="Header-item position-relative mr-0 d-none d-md-flex">
        
  <details class="details-overlay details-reset js-feature-preview-indicator-container" data-feature-preview-indicator-src="/users/Maher-Zeg/feature_preview/indicator_check">

  <summary class="Header-link" aria-label="View profile and more" data-analytics-event="{&quot;category&quot;:&quot;Header&quot;,&quot;action&quot;:&quot;show menu&quot;,&quot;label&quot;:&quot;icon:avatar&quot;}" aria-haspopup="menu" role="button">
    <img src="./LAB 31 encoding_files/94024100" alt="@Maher-Zeg" size="20" height="20" width="20" data-view-component="true" class="avatar avatar-small circle">
      <span class="feature-preview-indicator js-feature-preview-indicator" style="top: 1px;"></span>
    <span class="dropdown-caret"></span>
  </summary>
  <details-menu class="dropdown-menu dropdown-menu-sw" style="width: 180px" preload="" role="menu">
      <include-fragment src="/users/94024100/menu" loading="lazy">
        <p class="text-center mt-3" data-hide-on-error="">
          <svg style="box-sizing: content-box; color: var(--color-icon-primary);" width="32" height="32" viewBox="0 0 16 16" fill="none" data-view-component="true" class="anim-rotate">
  <circle cx="8" cy="8" r="7" stroke="currentColor" stroke-opacity="0.25" stroke-width="2" vector-effect="non-scaling-stroke"></circle>
  <path d="M15 8a7.002 7.002 0 00-7-7" stroke="currentColor" stroke-width="2" stroke-linecap="round" vector-effect="non-scaling-stroke"></path>
</svg>
        </p>
        <p class="ml-1 mb-2 mt-2 color-fg-default" data-show-on-error="">
          <svg aria-hidden="true" height="16" viewBox="0 0 16 16" version="1.1" width="16" data-view-component="true" class="octicon octicon-alert">
    <path fill-rule="evenodd" d="M8.22 1.754a.25.25 0 00-.44 0L1.698 13.132a.25.25 0 00.22.368h12.164a.25.25 0 00.22-.368L8.22 1.754zm-1.763-.707c.659-1.234 2.427-1.234 3.086 0l6.082 11.378A1.75 1.75 0 0114.082 15H1.918a1.75 1.75 0 01-1.543-2.575L6.457 1.047zM9 11a1 1 0 11-2 0 1 1 0 012 0zm-.25-5.25a.75.75 0 00-1.5 0v2.5a.75.75 0 001.5 0v-2.5z"></path>
</svg>
          Sorry, something went wrong.
        </p>
      </include-fragment>
  </details-menu>
</details>

    </div>
</header>

            
    </div>

  <div id="start-of-content" class="show-on-focus"></div>







    <div data-pjax-replace="" id="js-flash-container">


  <template class="js-flash-template"></template>
</div>


    

  <include-fragment class="js-notification-shelf-include-fragment" data-base-src="https://github.com/notifications/beta/shelf"></include-fragment>




      <details class="details-reset details-overlay details-overlay-dark js-command-palette-dialog">
  <summary class="command-palette-details-summary" aria-label="command palette trigger" role="button">
  </summary>
  <details-dialog class="command-palette-details-dialog d-flex flex-column flex-justify-center height-fit" aria-label="command palette" role="dialog" aria-modal="true">
    <command-palette class="command-palette color-bg-default rounded-3 border color-shadow-small" data-return-to="/Maher-Zeg/IronMaher/blame/main/LAB%2031%20encoding/LAB%2031%20encoding.ipynb" data-user-id="94024100" data-activation-hotkey="Mod+k,Mod+Alt+k" data-command-mode-hotkey="Mod+Shift+k" data-action="
          keydown:command-palette#onKeydown
          loadingStateChanged:command-palette#loadingStateChanged
          selectedItemChanged:command-palette#selectedItemChanged
        " data-catalyst="" data-memex-activation-hotkey="Mod+p">


      <input type="hidden" name="color-mode-path" id="color-mode-path" value="/settings/appearance/color_mode" class="js-color-mode-path" autocomplete="off">
      <input type="hidden" value="IygcM4IHSMqpj_9-r0x5fflp2AasT8smZMEiZ8PsgQ-a50-zra_U_G_3fNm7hjqsnNZjERkCtGHO_rSl2k1HAw" data-csrf="true" class="js-color-mode-csrf">

        <command-palette-mode data-char="#" data-scope-types="[&quot;&quot;]" data-placeholder="Search issues and pull requests" data-catalyst=""></command-palette-mode>
        <command-palette-mode data-char="#" data-scope-types="[&quot;owner&quot;,&quot;repository&quot;]" data-placeholder="Search issues, pull requests, discussions, and projects" data-catalyst=""></command-palette-mode>
        <command-palette-mode data-char="!" data-scope-types="[&quot;owner&quot;,&quot;repository&quot;]" data-placeholder="Search projects" data-catalyst=""></command-palette-mode>
        <command-palette-mode data-char="@" data-scope-types="[&quot;&quot;]" data-placeholder="Search or jump to a user, organization, or repository" data-catalyst=""></command-palette-mode>
        <command-palette-mode data-char="@" data-scope-types="[&quot;owner&quot;]" data-placeholder="Search or jump to a repository" data-catalyst=""></command-palette-mode>
        <command-palette-mode data-char="/" data-scope-types="[&quot;repository&quot;]" data-placeholder="Search files" data-catalyst=""></command-palette-mode>
        <command-palette-mode data-char="?" data-catalyst="" data-placeholder="" data-scope-types=""></command-palette-mode>
        <command-palette-mode data-char="&gt;" data-placeholder="Run a command" data-catalyst="" data-scope-types=""></command-palette-mode>
        <command-palette-mode data-char="" data-scope-types="[&quot;owner&quot;]" data-placeholder="Search or jump to..." data-catalyst=""></command-palette-mode>
      <command-palette-mode class="js-command-palette-default-mode" data-char="" data-placeholder="Search or jump to..." data-catalyst="" data-scope-types=""></command-palette-mode>

      <command-palette-input placeholder="Search or jump to..." data-action="
          command-palette-input:command-palette#onInput
          command-palette-select:command-palette#onSelect
          command-palette-descope:command-palette#onDescope
          command-palette-cleared:command-palette#onInputClear
        " data-catalyst="" class="d-flex flex-items-center flex-nowrap py-1 pl-3 pr-2 border-bottom">
        <div class="js-search-icon d-flex flex-items-center mr-2" style="height: 26px">
          <svg aria-hidden="true" height="16" viewBox="0 0 16 16" version="1.1" width="16" data-view-component="true" class="octicon octicon-search color-fg-muted">
    <path fill-rule="evenodd" d="M11.5 7a4.499 4.499 0 11-8.998 0A4.499 4.499 0 0111.5 7zm-.82 4.74a6 6 0 111.06-1.06l3.04 3.04a.75.75 0 11-1.06 1.06l-3.04-3.04z"></path>
</svg>
        </div>
        <div class="js-spinner d-flex flex-items-center mr-2 color-fg-muted" hidden="">
          <svg aria-label="Loading" class="anim-rotate" viewBox="0 0 16 16" fill="none" width="16" height="16">
            <circle cx="8" cy="8" r="7" stroke="currentColor" stroke-opacity="0.25" stroke-width="2" vector-effect="non-scaling-stroke"></circle>
            <path d="M15 8a7.002 7.002 0 00-7-7" stroke="currentColor" stroke-width="2" stroke-linecap="round" vector-effect="non-scaling-stroke"></path>
          </svg>
        </div>
        <command-palette-scope data-catalyst="" class="d-inline-flex">
          <div data-target="command-palette-scope.placeholder" hidden="" class="color-fg-subtle">/&nbsp;&nbsp;<span class="text-semibold color-fg-default">...</span>&nbsp;&nbsp;/&nbsp;&nbsp;</div>
              <command-palette-token data-text="Maher-Zeg" data-id="U_kgDOBZqxpA" data-type="owner" data-value="Maher-Zeg" data-targets="command-palette-scope.tokens" class="color-fg-default text-semibold" style="white-space:nowrap;line-height:20px;" id="" data-catalyst="">Maher-Zeg<span class="color-fg-subtle text-normal">&nbsp;&nbsp;/&nbsp;&nbsp;</span></command-palette-token>
              <command-palette-token data-text="IronMaher" data-id="R_kgDOGc9cww" data-type="repository" data-value="IronMaher" data-targets="command-palette-scope.tokens" class="color-fg-default text-semibold" style="white-space:nowrap;line-height:20px;" id="" data-catalyst="">IronMaher<span class="color-fg-subtle text-normal">&nbsp;&nbsp;/&nbsp;&nbsp;</span></command-palette-token>
        </command-palette-scope>
        <div class="command-palette-input-group flex-1 form-control border-0 box-shadow-none" style="z-index: 0">
          <div class="command-palette-typeahead position-absolute d-flex flex-items-center Truncate">
            <span class="typeahead-segment input-mirror" data-target="command-palette-input.mirror"></span>
            <span class="Truncate-text" data-target="command-palette-input.typeaheadText"></span>
            <span class="typeahead-segment" data-target="command-palette-input.typeaheadPlaceholder"></span>
          </div>
          <input class="js-overlay-input typeahead-input d-none" disabled="" tabindex="-1" aria-label="Hidden input for typeahead">
          <input type="text" autocomplete="off" autocorrect="off" autocapitalize="off" spellcheck="false" class="js-input typeahead-input form-control border-0 box-shadow-none input-block width-full" aria-label="Command palette input" aria-haspopup="listbox" aria-expanded="false" aria-autocomplete="list" aria-controls="command-palette-item-stack" role="combobox" data-action="
              input:command-palette-input#onInput
              keydown:command-palette-input#onKeydown
            " placeholder="Search or jump to...">
        </div>
        <button aria-label="clear command palette" aria-keyshortcuts="Control+Backspace" data-action="click:command-palette-input#onClear keydown:command-palette-input#onClear" id="command-palette-clear-button" type="button" data-view-component="true" class="btn-octicon js-clear command-palette-input-clear-button" aria-describedby="tooltip-1648761636720-7596"><svg aria-hidden="true" height="16" viewBox="0 0 16 16" version="1.1" width="16" data-view-component="true" class="octicon octicon-x-circle-fill">
    <path fill-rule="evenodd" d="M2.343 13.657A8 8 0 1113.657 2.343 8 8 0 012.343 13.657zM6.03 4.97a.75.75 0 00-1.06 1.06L6.94 8 4.97 9.97a.75.75 0 101.06 1.06L8 9.06l1.97 1.97a.75.75 0 101.06-1.06L9.06 8l1.97-1.97a.75.75 0 10-1.06-1.06L8 6.94 6.03 4.97z"></path>
</svg></button>
        <primer-tooltip hidden="" for="command-palette-clear-button" data-direction="w" data-type="description" data-view-component="true" id="tooltip-1648761636720-7596" class="hx_tooltip" role="tooltip">Clear</primer-tooltip>
      </command-palette-input>

        <command-palette-item-stack id="command-palette-item-stack" class="item-stack-transition-height rounded-bottom-2" role="listbox" aria-label="Command palette results" data-action="itemsUpdated:command-palette#itemsUpdated" data-catalyst="" data-top-group-threshold="6.5" data-max-height-vh="65">
            <command-palette-tip class="color-fg-muted f6 px-3 py-1 my-2" data-scope-types="[&quot;&quot;,&quot;owner&quot;,&quot;repository&quot;]" data-mode="" data-value="" data-catalyst="" data-match-mode="" hidden="">
              <div class="d-flex flex-items-start flex-justify-between">
                <div>
                  <span class="text-bold">Tip:</span>
                    Type <kbd class="hx_kbd">#</kbd> to search pull requests
                </div>
                <div class="ml-2 flex-shrink-0">
                  Type <kbd class="hx_kbd">?</kbd> for help and tips
                </div>
              </div>
            </command-palette-tip>
            <command-palette-tip class="color-fg-muted f6 px-3 py-1 my-2" data-scope-types="[&quot;&quot;,&quot;owner&quot;,&quot;repository&quot;]" data-mode="" data-value="" data-catalyst="" data-match-mode="" hidden="">
              <div class="d-flex flex-items-start flex-justify-between">
                <div>
                  <span class="text-bold">Tip:</span>
                    Type <kbd class="hx_kbd">#</kbd> to search issues
                </div>
                <div class="ml-2 flex-shrink-0">
                  Type <kbd class="hx_kbd">?</kbd> for help and tips
                </div>
              </div>
            </command-palette-tip>
            <command-palette-tip class="color-fg-muted f6 px-3 py-1 my-2" data-scope-types="[&quot;owner&quot;,&quot;repository&quot;]" data-mode="" data-value="" data-catalyst="" data-match-mode="" hidden="">
              <div class="d-flex flex-items-start flex-justify-between">
                <div>
                  <span class="text-bold">Tip:</span>
                    Type <kbd class="hx_kbd">#</kbd> to search discussions
                </div>
                <div class="ml-2 flex-shrink-0">
                  Type <kbd class="hx_kbd">?</kbd> for help and tips
                </div>
              </div>
            </command-palette-tip>
            <command-palette-tip class="color-fg-muted f6 px-3 py-1 my-2" data-scope-types="[&quot;owner&quot;,&quot;repository&quot;]" data-mode="" data-value="" data-catalyst="" data-match-mode="" hidden="">
              <div class="d-flex flex-items-start flex-justify-between">
                <div>
                  <span class="text-bold">Tip:</span>
                    Type <kbd class="hx_kbd">!</kbd> to search projects
                </div>
                <div class="ml-2 flex-shrink-0">
                  Type <kbd class="hx_kbd">?</kbd> for help and tips
                </div>
              </div>
            </command-palette-tip>
            <command-palette-tip class="color-fg-muted f6 px-3 py-1 my-2" data-scope-types="[&quot;owner&quot;]" data-mode="" data-value="" data-catalyst="" data-match-mode="" hidden="">
              <div class="d-flex flex-items-start flex-justify-between">
                <div>
                  <span class="text-bold">Tip:</span>
                    Type <kbd class="hx_kbd">@</kbd> to search teams
                </div>
                <div class="ml-2 flex-shrink-0">
                  Type <kbd class="hx_kbd">?</kbd> for help and tips
                </div>
              </div>
            </command-palette-tip>
            <command-palette-tip class="color-fg-muted f6 px-3 py-1 my-2" data-scope-types="[&quot;&quot;]" data-mode="" data-value="" data-catalyst="" data-match-mode="" hidden="">
              <div class="d-flex flex-items-start flex-justify-between">
                <div>
                  <span class="text-bold">Tip:</span>
                    Type <kbd class="hx_kbd">@</kbd> to search people and organizations
                </div>
                <div class="ml-2 flex-shrink-0">
                  Type <kbd class="hx_kbd">?</kbd> for help and tips
                </div>
              </div>
            </command-palette-tip>
            <command-palette-tip class="color-fg-muted f6 px-3 py-1 my-2" data-scope-types="[&quot;&quot;,&quot;owner&quot;,&quot;repository&quot;]" data-mode="" data-value="" data-catalyst="" data-match-mode="" hidden="">
              <div class="d-flex flex-items-start flex-justify-between">
                <div>
                  <span class="text-bold">Tip:</span>
                    Type <kbd class="hx_kbd">&gt;</kbd> to activate command mode
                </div>
                <div class="ml-2 flex-shrink-0">
                  Type <kbd class="hx_kbd">?</kbd> for help and tips
                </div>
              </div>
            </command-palette-tip>
            <command-palette-tip class="color-fg-muted f6 px-3 py-1 my-2" data-scope-types="[&quot;&quot;,&quot;owner&quot;,&quot;repository&quot;]" data-mode="" data-value="" data-catalyst="" data-match-mode="" hidden="">
              <div class="d-flex flex-items-start flex-justify-between">
                <div>
                  <span class="text-bold">Tip:</span>
                    Go to your accessibility settings to change your keyboard shortcuts
                </div>
                <div class="ml-2 flex-shrink-0">
                  Type <kbd class="hx_kbd">?</kbd> for help and tips
                </div>
              </div>
            </command-palette-tip>
            <command-palette-tip class="color-fg-muted f6 px-3 py-1 my-2" data-scope-types="[&quot;&quot;,&quot;owner&quot;,&quot;repository&quot;]" data-mode="#" data-value="" data-catalyst="" data-match-mode="" hidden="">
              <div class="d-flex flex-items-start flex-justify-between">
                <div>
                  <span class="text-bold">Tip:</span>
                    Type author:@me to search your content
                </div>
                <div class="ml-2 flex-shrink-0">
                  Type <kbd class="hx_kbd">?</kbd> for help and tips
                </div>
              </div>
            </command-palette-tip>
            <command-palette-tip class="color-fg-muted f6 px-3 py-1 my-2" data-scope-types="[&quot;&quot;,&quot;owner&quot;,&quot;repository&quot;]" data-mode="#" data-value="" data-catalyst="" data-match-mode="" hidden="">
              <div class="d-flex flex-items-start flex-justify-between">
                <div>
                  <span class="text-bold">Tip:</span>
                    Type is:pr to filter to pull requests
                </div>
                <div class="ml-2 flex-shrink-0">
                  Type <kbd class="hx_kbd">?</kbd> for help and tips
                </div>
              </div>
            </command-palette-tip>
            <command-palette-tip class="color-fg-muted f6 px-3 py-1 my-2" data-scope-types="[&quot;&quot;,&quot;owner&quot;,&quot;repository&quot;]" data-mode="#" data-value="" data-catalyst="" data-match-mode="" hidden="">
              <div class="d-flex flex-items-start flex-justify-between">
                <div>
                  <span class="text-bold">Tip:</span>
                    Type is:issue to filter to issues
                </div>
                <div class="ml-2 flex-shrink-0">
                  Type <kbd class="hx_kbd">?</kbd> for help and tips
                </div>
              </div>
            </command-palette-tip>
            <command-palette-tip class="color-fg-muted f6 px-3 py-1 my-2" data-scope-types="[&quot;owner&quot;,&quot;repository&quot;]" data-mode="#" data-value="" data-catalyst="" data-match-mode="" hidden="">
              <div class="d-flex flex-items-start flex-justify-between">
                <div>
                  <span class="text-bold">Tip:</span>
                    Type is:project to filter to projects
                </div>
                <div class="ml-2 flex-shrink-0">
                  Type <kbd class="hx_kbd">?</kbd> for help and tips
                </div>
              </div>
            </command-palette-tip>
            <command-palette-tip class="color-fg-muted f6 px-3 py-1 my-2" data-scope-types="[&quot;&quot;,&quot;owner&quot;,&quot;repository&quot;]" data-mode="#" data-value="" data-catalyst="" data-match-mode="" hidden="">
              <div class="d-flex flex-items-start flex-justify-between">
                <div>
                  <span class="text-bold">Tip:</span>
                    Type is:open to filter to open content
                </div>
                <div class="ml-2 flex-shrink-0">
                  Type <kbd class="hx_kbd">?</kbd> for help and tips
                </div>
              </div>
            </command-palette-tip>
          <command-palette-tip class="mx-3 my-2 flash flash-error d-flex flex-items-center" data-on-error="" data-catalyst="" data-scope-types="" data-mode="*" data-match-mode="" data-value="*" hidden="">
            <div>
              <svg aria-hidden="true" height="16" viewBox="0 0 16 16" version="1.1" width="16" data-view-component="true" class="octicon octicon-alert">
    <path fill-rule="evenodd" d="M8.22 1.754a.25.25 0 00-.44 0L1.698 13.132a.25.25 0 00.22.368h12.164a.25.25 0 00.22-.368L8.22 1.754zm-1.763-.707c.659-1.234 2.427-1.234 3.086 0l6.082 11.378A1.75 1.75 0 0114.082 15H1.918a1.75 1.75 0 01-1.543-2.575L6.457 1.047zM9 11a1 1 0 11-2 0 1 1 0 012 0zm-.25-5.25a.75.75 0 00-1.5 0v2.5a.75.75 0 001.5 0v-2.5z"></path>
</svg>
            </div>
            <div class="px-2">
              We’ve encountered an error and some results aren't available at this time. Type a new search or try again later.
            </div>
          </command-palette-tip>
          <command-palette-tip class="h4 color-fg-default pl-3 pb-2 pt-3" data-on-empty="" data-match-mode="[^?]|^$" data-catalyst="" data-scope-types="" data-mode="*" data-value="*" hidden="">
            No results matched your search
          </command-palette-tip>

            <command-palette-item-group data-group-id="top" data-group-title="Top result" data-group-hint="" data-group-limits="{}" data-targets="command-palette-item-stack.groups" data-catalyst="" data-default-priority="0" class="py-2 border-top" hidden="true">
            
          <div class="d-flex flex-justify-between my-2 px-3">
            <span data-target="command-palette-item-group.header" class="color-fg-muted text-bold f6 text-normal">
              Top result
            </span>
            <span data-target="command-palette-item-group.header" class="color-fg-muted f6 text-normal">
              
            </span>
          </div>
          <div role="listbox" class="list-style-none" data-target="command-palette-item-group.list" aria-label="Top result results"></div>
        </command-palette-item-group>
            <command-palette-item-group data-group-id="commands" data-group-title="Commands" data-group-hint="Type &gt; to filter" data-group-limits="{&quot;static_items_page&quot;:50}" data-targets="command-palette-item-stack.groups" data-catalyst="" data-default-priority="0" class="py-2 border-top" hidden="true">
            
          <div class="d-flex flex-justify-between my-2 px-3">
            <span data-target="command-palette-item-group.header" class="color-fg-muted text-bold f6 text-normal">
              Commands
            </span>
            <span data-target="command-palette-item-group.header" class="color-fg-muted f6 text-normal">
              Type &gt; to filter
            </span>
          </div>
          <div role="listbox" class="list-style-none" data-target="command-palette-item-group.list" aria-label="Commands results"></div>
        </command-palette-item-group>
            <command-palette-item-group data-group-id="global_commands" data-group-title="Global Commands" data-group-hint="Type &gt; to filter" data-group-limits="{}" data-targets="command-palette-item-stack.groups" data-catalyst="" data-default-priority="0" class="py-2 border-top" hidden="true">
            
          <div class="d-flex flex-justify-between my-2 px-3">
            <span data-target="command-palette-item-group.header" class="color-fg-muted text-bold f6 text-normal">
              Global Commands
            </span>
            <span data-target="command-palette-item-group.header" class="color-fg-muted f6 text-normal">
              Type &gt; to filter
            </span>
          </div>
          <div role="listbox" class="list-style-none" data-target="command-palette-item-group.list" aria-label="Global Commands results"></div>
        </command-palette-item-group>
            <command-palette-item-group data-group-id="files" data-group-title="Files" data-group-hint="" data-group-limits="{}" data-targets="command-palette-item-stack.groups" data-catalyst="" data-default-priority="0" class="py-2 border-top" hidden="true">
            
          <div class="d-flex flex-justify-between my-2 px-3">
            <span data-target="command-palette-item-group.header" class="color-fg-muted text-bold f6 text-normal">
              Files
            </span>
            <span data-target="command-palette-item-group.header" class="color-fg-muted f6 text-normal">
              
            </span>
          </div>
          <div role="listbox" class="list-style-none" data-target="command-palette-item-group.list" aria-label="Files results"></div>
        </command-palette-item-group>
            <command-palette-item-group data-group-id="pages" data-group-title="Pages" data-group-hint="" data-group-limits="{&quot;repository&quot;:10}" data-targets="command-palette-item-stack.groups" data-catalyst="" data-default-priority="0" class="py-2 border-top" hidden="true">
            
          <div class="d-flex flex-justify-between my-2 px-3">
            <span data-target="command-palette-item-group.header" class="color-fg-muted text-bold f6 text-normal">
              Pages
            </span>
            <span data-target="command-palette-item-group.header" class="color-fg-muted f6 text-normal">
              
            </span>
          </div>
          <div role="listbox" class="list-style-none" data-target="command-palette-item-group.list" aria-label="Pages results"></div>
        </command-palette-item-group>
            <command-palette-item-group data-group-id="access_policies" data-group-title="Access Policies" data-group-hint="" data-group-limits="{}" data-targets="command-palette-item-stack.groups" data-catalyst="" data-default-priority="0" class="py-2 border-top" hidden="true">
            
          <div class="d-flex flex-justify-between my-2 px-3">
            <span data-target="command-palette-item-group.header" class="color-fg-muted text-bold f6 text-normal">
              Access Policies
            </span>
            <span data-target="command-palette-item-group.header" class="color-fg-muted f6 text-normal">
              
            </span>
          </div>
          <div role="listbox" class="list-style-none" data-target="command-palette-item-group.list" aria-label="Access Policies results"></div>
        </command-palette-item-group>
            <command-palette-item-group data-group-id="organizations" data-group-title="Organizations" data-group-hint="" data-group-limits="{}" data-targets="command-palette-item-stack.groups" data-catalyst="" data-default-priority="0" class="py-2 border-top" hidden="true">
            
          <div class="d-flex flex-justify-between my-2 px-3">
            <span data-target="command-palette-item-group.header" class="color-fg-muted text-bold f6 text-normal">
              Organizations
            </span>
            <span data-target="command-palette-item-group.header" class="color-fg-muted f6 text-normal">
              
            </span>
          </div>
          <div role="listbox" class="list-style-none" data-target="command-palette-item-group.list" aria-label="Organizations results"></div>
        </command-palette-item-group>
            <command-palette-item-group data-group-id="repositories" data-group-title="Repositories" data-group-hint="" data-group-limits="{}" data-targets="command-palette-item-stack.groups" data-catalyst="" data-default-priority="0" class="py-2 border-top" hidden="true">
            
          <div class="d-flex flex-justify-between my-2 px-3">
            <span data-target="command-palette-item-group.header" class="color-fg-muted text-bold f6 text-normal">
              Repositories
            </span>
            <span data-target="command-palette-item-group.header" class="color-fg-muted f6 text-normal">
              
            </span>
          </div>
          <div role="listbox" class="list-style-none" data-target="command-palette-item-group.list" aria-label="Repositories results"></div>
        </command-palette-item-group>
            <command-palette-item-group data-group-id="references" data-group-title="Issues, pull requests, and discussions" data-group-hint="Type # to filter" data-group-limits="{}" data-targets="command-palette-item-stack.groups" data-catalyst="" data-default-priority="0" class="py-2 border-top" hidden="true">
            
          <div class="d-flex flex-justify-between my-2 px-3">
            <span data-target="command-palette-item-group.header" class="color-fg-muted text-bold f6 text-normal">
              Issues, pull requests, and discussions
            </span>
            <span data-target="command-palette-item-group.header" class="color-fg-muted f6 text-normal">
              Type # to filter
            </span>
          </div>
          <div role="listbox" class="list-style-none" data-target="command-palette-item-group.list" aria-label="Issues, pull requests, and discussions results"></div>
        </command-palette-item-group>
            <command-palette-item-group data-group-id="teams" data-group-title="Teams" data-group-hint="" data-group-limits="{}" data-targets="command-palette-item-stack.groups" data-catalyst="" data-default-priority="0" class="py-2 border-top" hidden="true">
            
          <div class="d-flex flex-justify-between my-2 px-3">
            <span data-target="command-palette-item-group.header" class="color-fg-muted text-bold f6 text-normal">
              Teams
            </span>
            <span data-target="command-palette-item-group.header" class="color-fg-muted f6 text-normal">
              
            </span>
          </div>
          <div role="listbox" class="list-style-none" data-target="command-palette-item-group.list" aria-label="Teams results"></div>
        </command-palette-item-group>
            <command-palette-item-group data-group-id="users" data-group-title="Users" data-group-hint="" data-group-limits="{}" data-targets="command-palette-item-stack.groups" data-catalyst="" data-default-priority="0" class="py-2 border-top" hidden="true">
            
          <div class="d-flex flex-justify-between my-2 px-3">
            <span data-target="command-palette-item-group.header" class="color-fg-muted text-bold f6 text-normal">
              Users
            </span>
            <span data-target="command-palette-item-group.header" class="color-fg-muted f6 text-normal">
              
            </span>
          </div>
          <div role="listbox" class="list-style-none" data-target="command-palette-item-group.list" aria-label="Users results"></div>
        </command-palette-item-group>
            <command-palette-item-group data-group-id="projects" data-group-title="Projects" data-group-hint="" data-group-limits="{}" data-targets="command-palette-item-stack.groups" data-catalyst="" data-default-priority="0" class="py-2 border-top" hidden="true">
            
          <div class="d-flex flex-justify-between my-2 px-3">
            <span data-target="command-palette-item-group.header" class="color-fg-muted text-bold f6 text-normal">
              Projects
            </span>
            <span data-target="command-palette-item-group.header" class="color-fg-muted f6 text-normal">
              
            </span>
          </div>
          <div role="listbox" class="list-style-none" data-target="command-palette-item-group.list" aria-label="Projects results"></div>
        </command-palette-item-group>
            <command-palette-item-group data-group-id="footer" data-group-title="Footer" data-group-hint="" data-group-limits="{}" data-targets="command-palette-item-stack.groups" data-catalyst="" data-default-priority="0" class="py-2 border-top" hidden="true">
            
          <div role="listbox" class="list-style-none" data-target="command-palette-item-group.list" aria-label="Footer results"></div>
        </command-palette-item-group>
            <command-palette-item-group data-group-id="modes_help" data-group-title="Modes" data-group-hint="" data-group-limits="{}" data-targets="command-palette-item-stack.groups" data-catalyst="" data-default-priority="0" class="py-2 border-top" hidden="true">
            
          <div class="d-flex flex-justify-between my-2 px-3">
            <span data-target="command-palette-item-group.header" class="color-fg-muted text-bold f6 text-normal">
              Modes
            </span>
            <span data-target="command-palette-item-group.header" class="color-fg-muted f6 text-normal">
              
            </span>
          </div>
          <div role="listbox" class="list-style-none" data-target="command-palette-item-group.list" aria-label="Modes results"></div>
        </command-palette-item-group>
            <command-palette-item-group data-group-id="filters_help" data-group-title="Use filters in issues, pull requests, discussions, and projects" data-group-hint="" data-group-limits="{}" data-targets="command-palette-item-stack.groups" data-catalyst="" data-default-priority="0" class="py-2 border-top" hidden="true">
            
          <div class="d-flex flex-justify-between my-2 px-3">
            <span data-target="command-palette-item-group.header" class="color-fg-muted text-bold f6 text-normal">
              Use filters in issues, pull requests, discussions, and projects
            </span>
            <span data-target="command-palette-item-group.header" class="color-fg-muted f6 text-normal">
              
            </span>
          </div>
          <div role="listbox" class="list-style-none" data-target="command-palette-item-group.list" aria-label="Use filters in issues, pull requests, discussions, and projects results"></div>
        </command-palette-item-group>
        </command-palette-item-stack>

      <div class="js-command-local-provider-octicons" hidden="">
          <div data-local-provider-octicon-id="arrow-right-color-fg-muted">
            <svg height="16" class="octicon octicon-arrow-right color-fg-muted" viewBox="0 0 16 16" version="1.1" width="16" aria-hidden="true"><path fill-rule="evenodd" d="M8.22 2.97a.75.75 0 011.06 0l4.25 4.25a.75.75 0 010 1.06l-4.25 4.25a.75.75 0 01-1.06-1.06l2.97-2.97H3.75a.75.75 0 010-1.5h7.44L8.22 4.03a.75.75 0 010-1.06z"></path></svg>
          </div>
          <div data-local-provider-octicon-id="arrow-right-color-fg-default">
            <svg height="16" class="octicon octicon-arrow-right color-fg-default" viewBox="0 0 16 16" version="1.1" width="16" aria-hidden="true"><path fill-rule="evenodd" d="M8.22 2.97a.75.75 0 011.06 0l4.25 4.25a.75.75 0 010 1.06l-4.25 4.25a.75.75 0 01-1.06-1.06l2.97-2.97H3.75a.75.75 0 010-1.5h7.44L8.22 4.03a.75.75 0 010-1.06z"></path></svg>
          </div>
          <div data-local-provider-octicon-id="codespaces-color-fg-muted">
            <svg height="16" class="octicon octicon-codespaces color-fg-muted" viewBox="0 0 16 16" version="1.1" width="16" aria-hidden="true"><path fill-rule="evenodd" d="M2 1.75C2 .784 2.784 0 3.75 0h8.5C13.216 0 14 .784 14 1.75v5a1.75 1.75 0 01-1.75 1.75h-8.5A1.75 1.75 0 012 6.75v-5zm1.75-.25a.25.25 0 00-.25.25v5c0 .138.112.25.25.25h8.5a.25.25 0 00.25-.25v-5a.25.25 0 00-.25-.25h-8.5zM0 11.25c0-.966.784-1.75 1.75-1.75h12.5c.966 0 1.75.784 1.75 1.75v3A1.75 1.75 0 0114.25 16H1.75A1.75 1.75 0 010 14.25v-3zM1.75 11a.25.25 0 00-.25.25v3c0 .138.112.25.25.25h12.5a.25.25 0 00.25-.25v-3a.25.25 0 00-.25-.25H1.75z"></path><path fill-rule="evenodd" d="M3 12.75a.75.75 0 01.75-.75h.5a.75.75 0 010 1.5h-.5a.75.75 0 01-.75-.75zm4 0a.75.75 0 01.75-.75h4.5a.75.75 0 010 1.5h-4.5a.75.75 0 01-.75-.75z"></path></svg>
          </div>
          <div data-local-provider-octicon-id="copy-color-fg-muted">
            <svg height="16" class="octicon octicon-copy color-fg-muted" viewBox="0 0 16 16" version="1.1" width="16" aria-hidden="true"><path fill-rule="evenodd" d="M0 6.75C0 5.784.784 5 1.75 5h1.5a.75.75 0 010 1.5h-1.5a.25.25 0 00-.25.25v7.5c0 .138.112.25.25.25h7.5a.25.25 0 00.25-.25v-1.5a.75.75 0 011.5 0v1.5A1.75 1.75 0 019.25 16h-7.5A1.75 1.75 0 010 14.25v-7.5z"></path><path fill-rule="evenodd" d="M5 1.75C5 .784 5.784 0 6.75 0h7.5C15.216 0 16 .784 16 1.75v7.5A1.75 1.75 0 0114.25 11h-7.5A1.75 1.75 0 015 9.25v-7.5zm1.75-.25a.25.25 0 00-.25.25v7.5c0 .138.112.25.25.25h7.5a.25.25 0 00.25-.25v-7.5a.25.25 0 00-.25-.25h-7.5z"></path></svg>
          </div>
          <div data-local-provider-octicon-id="dash-color-fg-muted">
            <svg height="16" class="octicon octicon-dash color-fg-muted" viewBox="0 0 16 16" version="1.1" width="16" aria-hidden="true"><path fill-rule="evenodd" d="M2 7.75A.75.75 0 012.75 7h10a.75.75 0 010 1.5h-10A.75.75 0 012 7.75z"></path></svg>
          </div>
          <div data-local-provider-octicon-id="file-color-fg-muted">
            <svg height="16" class="octicon octicon-file color-fg-muted" viewBox="0 0 16 16" version="1.1" width="16" aria-hidden="true"><path fill-rule="evenodd" d="M3.75 1.5a.25.25 0 00-.25.25v11.5c0 .138.112.25.25.25h8.5a.25.25 0 00.25-.25V6H9.75A1.75 1.75 0 018 4.25V1.5H3.75zm5.75.56v2.19c0 .138.112.25.25.25h2.19L9.5 2.06zM2 1.75C2 .784 2.784 0 3.75 0h5.086c.464 0 .909.184 1.237.513l3.414 3.414c.329.328.513.773.513 1.237v8.086A1.75 1.75 0 0112.25 15h-8.5A1.75 1.75 0 012 13.25V1.75z"></path></svg>
          </div>
          <div data-local-provider-octicon-id="lock-color-fg-muted">
            <svg height="16" class="octicon octicon-lock color-fg-muted" viewBox="0 0 16 16" version="1.1" width="16" aria-hidden="true"><path fill-rule="evenodd" d="M4 4v2h-.25A1.75 1.75 0 002 7.75v5.5c0 .966.784 1.75 1.75 1.75h8.5A1.75 1.75 0 0014 13.25v-5.5A1.75 1.75 0 0012.25 6H12V4a4 4 0 10-8 0zm6.5 2V4a2.5 2.5 0 00-5 0v2h5zM12 7.5h.25a.25.25 0 01.25.25v5.5a.25.25 0 01-.25.25h-8.5a.25.25 0 01-.25-.25v-5.5a.25.25 0 01.25-.25H12z"></path></svg>
          </div>
          <div data-local-provider-octicon-id="moon-color-fg-muted">
            <svg height="16" class="octicon octicon-moon color-fg-muted" viewBox="0 0 16 16" version="1.1" width="16" aria-hidden="true"><path fill-rule="evenodd" d="M9.598 1.591a.75.75 0 01.785-.175 7 7 0 11-8.967 8.967.75.75 0 01.961-.96 5.5 5.5 0 007.046-7.046.75.75 0 01.175-.786zm1.616 1.945a7 7 0 01-7.678 7.678 5.5 5.5 0 107.678-7.678z"></path></svg>
          </div>
          <div data-local-provider-octicon-id="person-color-fg-muted">
            <svg height="16" class="octicon octicon-person color-fg-muted" viewBox="0 0 16 16" version="1.1" width="16" aria-hidden="true"><path fill-rule="evenodd" d="M10.5 5a2.5 2.5 0 11-5 0 2.5 2.5 0 015 0zm.061 3.073a4 4 0 10-5.123 0 6.004 6.004 0 00-3.431 5.142.75.75 0 001.498.07 4.5 4.5 0 018.99 0 .75.75 0 101.498-.07 6.005 6.005 0 00-3.432-5.142z"></path></svg>
          </div>
          <div data-local-provider-octicon-id="pencil-color-fg-muted">
            <svg height="16" class="octicon octicon-pencil color-fg-muted" viewBox="0 0 16 16" version="1.1" width="16" aria-hidden="true"><path fill-rule="evenodd" d="M11.013 1.427a1.75 1.75 0 012.474 0l1.086 1.086a1.75 1.75 0 010 2.474l-8.61 8.61c-.21.21-.47.364-.756.445l-3.251.93a.75.75 0 01-.927-.928l.929-3.25a1.75 1.75 0 01.445-.758l8.61-8.61zm1.414 1.06a.25.25 0 00-.354 0L10.811 3.75l1.439 1.44 1.263-1.263a.25.25 0 000-.354l-1.086-1.086zM11.189 6.25L9.75 4.81l-6.286 6.287a.25.25 0 00-.064.108l-.558 1.953 1.953-.558a.249.249 0 00.108-.064l6.286-6.286z"></path></svg>
          </div>
          <div data-local-provider-octicon-id="issue-opened-open">
            <svg height="16" class="octicon octicon-issue-opened open" viewBox="0 0 16 16" version="1.1" width="16" aria-hidden="true"><path d="M8 9.5a1.5 1.5 0 100-3 1.5 1.5 0 000 3z"></path><path fill-rule="evenodd" d="M8 0a8 8 0 100 16A8 8 0 008 0zM1.5 8a6.5 6.5 0 1113 0 6.5 6.5 0 01-13 0z"></path></svg>
          </div>
          <div data-local-provider-octicon-id="git-pull-request-draft-color-fg-muted">
            <svg height="16" class="octicon octicon-git-pull-request-draft color-fg-muted" viewBox="0 0 16 16" version="1.1" width="16" aria-hidden="true"><path fill-rule="evenodd" d="M2.5 3.25a.75.75 0 111.5 0 .75.75 0 01-1.5 0zM3.25 1a2.25 2.25 0 00-.75 4.372v5.256a2.251 2.251 0 101.5 0V5.372A2.25 2.25 0 003.25 1zm0 11a.75.75 0 100 1.5.75.75 0 000-1.5zm9.5 3a2.25 2.25 0 100-4.5 2.25 2.25 0 000 4.5zm0-3a.75.75 0 100 1.5.75.75 0 000-1.5z"></path><path d="M14 7.5a1.25 1.25 0 11-2.5 0 1.25 1.25 0 012.5 0zm0-4.25a1.25 1.25 0 11-2.5 0 1.25 1.25 0 012.5 0z"></path></svg>
          </div>
          <div data-local-provider-octicon-id="search-color-fg-muted">
            <svg height="16" class="octicon octicon-search color-fg-muted" viewBox="0 0 16 16" version="1.1" width="16" aria-hidden="true"><path fill-rule="evenodd" d="M11.5 7a4.499 4.499 0 11-8.998 0A4.499 4.499 0 0111.5 7zm-.82 4.74a6 6 0 111.06-1.06l3.04 3.04a.75.75 0 11-1.06 1.06l-3.04-3.04z"></path></svg>
          </div>
          <div data-local-provider-octicon-id="sun-color-fg-muted">
            <svg height="16" class="octicon octicon-sun color-fg-muted" viewBox="0 0 16 16" version="1.1" width="16" aria-hidden="true"><path fill-rule="evenodd" d="M8 10.5a2.5 2.5 0 100-5 2.5 2.5 0 000 5zM8 12a4 4 0 100-8 4 4 0 000 8zM8 0a.75.75 0 01.75.75v1.5a.75.75 0 01-1.5 0V.75A.75.75 0 018 0zm0 13a.75.75 0 01.75.75v1.5a.75.75 0 01-1.5 0v-1.5A.75.75 0 018 13zM2.343 2.343a.75.75 0 011.061 0l1.06 1.061a.75.75 0 01-1.06 1.06l-1.06-1.06a.75.75 0 010-1.06zm9.193 9.193a.75.75 0 011.06 0l1.061 1.06a.75.75 0 01-1.06 1.061l-1.061-1.06a.75.75 0 010-1.061zM16 8a.75.75 0 01-.75.75h-1.5a.75.75 0 010-1.5h1.5A.75.75 0 0116 8zM3 8a.75.75 0 01-.75.75H.75a.75.75 0 010-1.5h1.5A.75.75 0 013 8zm10.657-5.657a.75.75 0 010 1.061l-1.061 1.06a.75.75 0 11-1.06-1.06l1.06-1.06a.75.75 0 011.06 0zm-9.193 9.193a.75.75 0 010 1.06l-1.06 1.061a.75.75 0 11-1.061-1.06l1.06-1.061a.75.75 0 011.061 0z"></path></svg>
          </div>
          <div data-local-provider-octicon-id="sync-color-fg-muted">
            <svg height="16" class="octicon octicon-sync color-fg-muted" viewBox="0 0 16 16" version="1.1" width="16" aria-hidden="true"><path fill-rule="evenodd" d="M8 2.5a5.487 5.487 0 00-4.131 1.869l1.204 1.204A.25.25 0 014.896 6H1.25A.25.25 0 011 5.75V2.104a.25.25 0 01.427-.177l1.38 1.38A7.001 7.001 0 0114.95 7.16a.75.75 0 11-1.49.178A5.501 5.501 0 008 2.5zM1.705 8.005a.75.75 0 01.834.656 5.501 5.501 0 009.592 2.97l-1.204-1.204a.25.25 0 01.177-.427h3.646a.25.25 0 01.25.25v3.646a.25.25 0 01-.427.177l-1.38-1.38A7.001 7.001 0 011.05 8.84a.75.75 0 01.656-.834z"></path></svg>
          </div>
          <div data-local-provider-octicon-id="trash-color-fg-muted">
            <svg height="16" class="octicon octicon-trash color-fg-muted" viewBox="0 0 16 16" version="1.1" width="16" aria-hidden="true"><path fill-rule="evenodd" d="M6.5 1.75a.25.25 0 01.25-.25h2.5a.25.25 0 01.25.25V3h-3V1.75zm4.5 0V3h2.25a.75.75 0 010 1.5H2.75a.75.75 0 010-1.5H5V1.75C5 .784 5.784 0 6.75 0h2.5C10.216 0 11 .784 11 1.75zM4.496 6.675a.75.75 0 10-1.492.15l.66 6.6A1.75 1.75 0 005.405 15h5.19c.9 0 1.652-.681 1.741-1.576l.66-6.6a.75.75 0 00-1.492-.149l-.66 6.6a.25.25 0 01-.249.225h-5.19a.25.25 0 01-.249-.225l-.66-6.6z"></path></svg>
          </div>
          <div data-local-provider-octicon-id="key-color-fg-muted">
            <svg height="16" class="octicon octicon-key color-fg-muted" viewBox="0 0 16 16" version="1.1" width="16" aria-hidden="true"><path fill-rule="evenodd" d="M6.5 5.5a4 4 0 112.731 3.795.75.75 0 00-.768.18L7.44 10.5H6.25a.75.75 0 00-.75.75v1.19l-.06.06H4.25a.75.75 0 00-.75.75v1.19l-.06.06H1.75a.25.25 0 01-.25-.25v-1.69l5.024-5.023a.75.75 0 00.181-.768A3.995 3.995 0 016.5 5.5zm4-5.5a5.5 5.5 0 00-5.348 6.788L.22 11.72a.75.75 0 00-.22.53v2C0 15.216.784 16 1.75 16h2a.75.75 0 00.53-.22l.5-.5a.75.75 0 00.22-.53V14h.75a.75.75 0 00.53-.22l.5-.5a.75.75 0 00.22-.53V12h.75a.75.75 0 00.53-.22l.932-.932A5.5 5.5 0 1010.5 0zm.5 6a1 1 0 100-2 1 1 0 000 2z"></path></svg>
          </div>
          <div data-local-provider-octicon-id="comment-discussion-color-fg-muted">
            <svg height="16" class="octicon octicon-comment-discussion color-fg-muted" viewBox="0 0 16 16" version="1.1" width="16" aria-hidden="true"><path fill-rule="evenodd" d="M1.5 2.75a.25.25 0 01.25-.25h8.5a.25.25 0 01.25.25v5.5a.25.25 0 01-.25.25h-3.5a.75.75 0 00-.53.22L3.5 11.44V9.25a.75.75 0 00-.75-.75h-1a.25.25 0 01-.25-.25v-5.5zM1.75 1A1.75 1.75 0 000 2.75v5.5C0 9.216.784 10 1.75 10H2v1.543a1.457 1.457 0 002.487 1.03L7.061 10h3.189A1.75 1.75 0 0012 8.25v-5.5A1.75 1.75 0 0010.25 1h-8.5zM14.5 4.75a.25.25 0 00-.25-.25h-.5a.75.75 0 110-1.5h.5c.966 0 1.75.784 1.75 1.75v5.5A1.75 1.75 0 0114.25 12H14v1.543a1.457 1.457 0 01-2.487 1.03L9.22 12.28a.75.75 0 111.06-1.06l2.22 2.22v-2.19a.75.75 0 01.75-.75h1a.25.25 0 00.25-.25v-5.5z"></path></svg>
          </div>
          <div data-local-provider-octicon-id="bell-color-fg-muted">
            <svg height="16" class="octicon octicon-bell color-fg-muted" viewBox="0 0 16 16" version="1.1" width="16" aria-hidden="true"><path d="M8 16a2 2 0 001.985-1.75c.017-.137-.097-.25-.235-.25h-3.5c-.138 0-.252.113-.235.25A2 2 0 008 16z"></path><path fill-rule="evenodd" d="M8 1.5A3.5 3.5 0 004.5 5v2.947c0 .346-.102.683-.294.97l-1.703 2.556a.018.018 0 00-.003.01l.001.006c0 .002.002.004.004.006a.017.017 0 00.006.004l.007.001h10.964l.007-.001a.016.016 0 00.006-.004.016.016 0 00.004-.006l.001-.007a.017.017 0 00-.003-.01l-1.703-2.554a1.75 1.75 0 01-.294-.97V5A3.5 3.5 0 008 1.5zM3 5a5 5 0 0110 0v2.947c0 .05.015.098.042.139l1.703 2.555A1.518 1.518 0 0113.482 13H2.518a1.518 1.518 0 01-1.263-2.36l1.703-2.554A.25.25 0 003 7.947V5z"></path></svg>
          </div>
          <div data-local-provider-octicon-id="bell-slash-color-fg-muted">
            <svg height="16" class="octicon octicon-bell-slash color-fg-muted" viewBox="0 0 16 16" version="1.1" width="16" aria-hidden="true"><path fill-rule="evenodd" d="M8 1.5c-.997 0-1.895.416-2.534 1.086A.75.75 0 014.38 1.55 5 5 0 0113 5v2.373a.75.75 0 01-1.5 0V5A3.5 3.5 0 008 1.5zM4.182 4.31L1.19 2.143a.75.75 0 10-.88 1.214L3 5.305v2.642a.25.25 0 01-.042.139L1.255 10.64A1.518 1.518 0 002.518 13h11.108l1.184.857a.75.75 0 10.88-1.214l-1.375-.996a1.196 1.196 0 00-.013-.01L4.198 4.321a.733.733 0 00-.016-.011zm7.373 7.19L4.5 6.391v1.556c0 .346-.102.683-.294.97l-1.703 2.556a.018.018 0 00-.003.01.015.015 0 00.005.012.017.017 0 00.006.004l.007.001h9.037zM8 16a2 2 0 001.985-1.75c.017-.137-.097-.25-.235-.25h-3.5c-.138 0-.252.113-.235.25A2 2 0 008 16z"></path></svg>
          </div>
          <div data-local-provider-octicon-id="paintbrush-color-fg-muted">
            <svg height="16" class="octicon octicon-paintbrush color-fg-muted" viewBox="0 0 16 16" version="1.1" width="16" aria-hidden="true"><path fill-rule="evenodd" d="M11.134 1.535C9.722 2.562 8.16 4.057 6.889 5.312 5.8 6.387 5.041 7.401 4.575 8.294a3.745 3.745 0 00-3.227 1.054c-.43.431-.69 1.066-.86 1.657a11.982 11.982 0 00-.358 1.914A21.263 21.263 0 000 15.203v.054l.75-.007-.007.75h.054a14.404 14.404 0 00.654-.012 21.243 21.243 0 001.63-.118c.62-.07 1.3-.18 1.914-.357.592-.17 1.226-.43 1.657-.861a3.745 3.745 0 001.055-3.217c.908-.461 1.942-1.216 3.04-2.3 1.279-1.262 2.764-2.825 3.775-4.249.501-.706.923-1.428 1.125-2.096.2-.659.235-1.469-.368-2.07-.606-.607-1.42-.55-2.069-.34-.66.213-1.376.646-2.076 1.155zm-3.95 8.48a3.76 3.76 0 00-1.19-1.192 9.758 9.758 0 011.161-1.607l1.658 1.658a9.853 9.853 0 01-1.63 1.142zM.742 16l.007-.75-.75.008A.75.75 0 00.743 16zM12.016 2.749c-1.224.89-2.605 2.189-3.822 3.384l1.718 1.718c1.21-1.205 2.51-2.597 3.387-3.833.47-.662.78-1.227.912-1.662.134-.444.032-.551.009-.575h-.001V1.78c-.014-.014-.112-.113-.548.027-.432.14-.995.462-1.655.942zM1.62 13.089a19.56 19.56 0 00-.104 1.395 19.55 19.55 0 001.396-.104 10.528 10.528 0 001.668-.309c.526-.151.856-.325 1.011-.48a2.25 2.25 0 00-3.182-3.182c-.155.155-.329.485-.48 1.01a10.515 10.515 0 00-.309 1.67z"></path></svg>
          </div>
      </div>

      <server-defined-provider data-type="search-links" data-targets="command-palette.serverDefinedProviderElements" data-catalyst="" data-supported-modes="" data-fetch-debounce="" data-supported-scope-types="" data-src="" data-supports-commands=""></server-defined-provider>
      <server-defined-provider data-type="help" data-targets="command-palette.serverDefinedProviderElements" data-catalyst="" data-supported-modes="" data-fetch-debounce="" data-supported-scope-types="" data-src="" data-supports-commands="">
          <command-palette-help data-group="modes_help" data-prefix="#" data-scope-types="[&quot;&quot;]" data-catalyst="" hidden="">
            <span data-target="command-palette-help.titleElement">Search for <strong>issues</strong> and <strong>pull requests</strong></span>
              <span data-target="command-palette-help.hintElement">
                <kbd class="hx_kbd">#</kbd>
              </span>
          </command-palette-help>
          <command-palette-help data-group="modes_help" data-prefix="#" data-scope-types="[&quot;owner&quot;,&quot;repository&quot;]" data-catalyst="" hidden="">
            <span data-target="command-palette-help.titleElement">Search for <strong>issues, pull requests, discussions,</strong> and <strong>projects</strong></span>
              <span data-target="command-palette-help.hintElement">
                <kbd class="hx_kbd">#</kbd>
              </span>
          </command-palette-help>
          <command-palette-help data-group="modes_help" data-prefix="@" data-scope-types="[&quot;&quot;]" data-catalyst="" hidden="">
            <span data-target="command-palette-help.titleElement">Search for <strong>organizations, repositories,</strong> and <strong>users</strong></span>
              <span data-target="command-palette-help.hintElement">
                <kbd class="hx_kbd">@</kbd>
              </span>
          </command-palette-help>
          <command-palette-help data-group="modes_help" data-prefix="!" data-scope-types="[&quot;owner&quot;,&quot;repository&quot;]" data-catalyst="" hidden="">
            <span data-target="command-palette-help.titleElement">Search for <strong>projects</strong></span>
              <span data-target="command-palette-help.hintElement">
                <kbd class="hx_kbd">!</kbd>
              </span>
          </command-palette-help>
          <command-palette-help data-group="modes_help" data-prefix="/" data-scope-types="[&quot;repository&quot;]" data-catalyst="" hidden="">
            <span data-target="command-palette-help.titleElement">Search for <strong>files</strong></span>
              <span data-target="command-palette-help.hintElement">
                <kbd class="hx_kbd">/</kbd>
              </span>
          </command-palette-help>
          <command-palette-help data-group="modes_help" data-prefix="&gt;" data-catalyst="" data-scope-types="" hidden="">
            <span data-target="command-palette-help.titleElement">Activate <strong>command mode</strong></span>
              <span data-target="command-palette-help.hintElement">
                <kbd class="hx_kbd">&gt;</kbd>
              </span>
          </command-palette-help>
          <command-palette-help data-group="filters_help" data-prefix="# author:@me" data-catalyst="" data-scope-types="" hidden="">
            <span data-target="command-palette-help.titleElement">Search your issues, pull requests, and discussions</span>
              <span data-target="command-palette-help.hintElement">
                <kbd class="hx_kbd"># author:@me</kbd>
              </span>
          </command-palette-help>
          <command-palette-help data-group="filters_help" data-prefix="# author:@me" data-catalyst="" data-scope-types="" hidden="">
            <span data-target="command-palette-help.titleElement">Search your issues, pull requests, and discussions</span>
              <span data-target="command-palette-help.hintElement">
                <kbd class="hx_kbd"># author:@me</kbd>
              </span>
          </command-palette-help>
          <command-palette-help data-group="filters_help" data-prefix="# is:pr" data-catalyst="" data-scope-types="" hidden="">
            <span data-target="command-palette-help.titleElement">Filter to pull requests</span>
              <span data-target="command-palette-help.hintElement">
                <kbd class="hx_kbd"># is:pr</kbd>
              </span>
          </command-palette-help>
          <command-palette-help data-group="filters_help" data-prefix="# is:issue" data-catalyst="" data-scope-types="" hidden="">
            <span data-target="command-palette-help.titleElement">Filter to issues</span>
              <span data-target="command-palette-help.hintElement">
                <kbd class="hx_kbd"># is:issue</kbd>
              </span>
          </command-palette-help>
          <command-palette-help data-group="filters_help" data-prefix="# is:discussion" data-scope-types="[&quot;owner&quot;,&quot;repository&quot;]" data-catalyst="" hidden="">
            <span data-target="command-palette-help.titleElement">Filter to discussions</span>
              <span data-target="command-palette-help.hintElement">
                <kbd class="hx_kbd"># is:discussion</kbd>
              </span>
          </command-palette-help>
          <command-palette-help data-group="filters_help" data-prefix="# is:project" data-scope-types="[&quot;owner&quot;,&quot;repository&quot;]" data-catalyst="" hidden="">
            <span data-target="command-palette-help.titleElement">Filter to projects</span>
              <span data-target="command-palette-help.hintElement">
                <kbd class="hx_kbd"># is:project</kbd>
              </span>
          </command-palette-help>
          <command-palette-help data-group="filters_help" data-prefix="# is:open" data-catalyst="" data-scope-types="" hidden="">
            <span data-target="command-palette-help.titleElement">Filter to open issues, pull requests, and discussions</span>
              <span data-target="command-palette-help.hintElement">
                <kbd class="hx_kbd"># is:open</kbd>
              </span>
          </command-palette-help>
      </server-defined-provider>

        <server-defined-provider data-type="prefetched" data-fetch-debounce="0" data-src="/command_palette/commands" data-supported-modes="[&quot;&gt;&quot;]" data-supports-commands="" data-targets="command-palette.serverDefinedProviderElements" data-catalyst="" data-supported-scope-types=""></server-defined-provider>
        <server-defined-provider data-type="prefetched" data-fetch-debounce="0" data-src="/command_palette/jump_to_page_navigation" data-supported-modes="[&quot;&quot;]" data-targets="command-palette.serverDefinedProviderElements" data-catalyst="" data-supported-scope-types="" data-supports-commands=""></server-defined-provider>
        <server-defined-provider data-type="remote" data-fetch-debounce="200" data-src="/command_palette/issues" data-supported-modes="[&quot;#&quot;,&quot;#&quot;]" data-supported-scope-types="[&quot;owner&quot;,&quot;repository&quot;,&quot;&quot;]" data-targets="command-palette.serverDefinedProviderElements" data-catalyst="" data-supports-commands=""></server-defined-provider>
        <server-defined-provider data-type="remote" data-fetch-debounce="200" data-src="/command_palette/jump_to" data-supported-modes="[&quot;@&quot;,&quot;@&quot;]" data-supported-scope-types="[&quot;&quot;,&quot;owner&quot;]" data-targets="command-palette.serverDefinedProviderElements" data-catalyst="" data-supports-commands=""></server-defined-provider>
        <server-defined-provider data-type="remote" data-fetch-debounce="200" data-src="/command_palette/jump_to_members_only" data-supported-modes="[&quot;&quot;]" data-targets="command-palette.serverDefinedProviderElements" data-catalyst="" data-supported-scope-types="" data-supports-commands=""></server-defined-provider>
        <server-defined-provider data-type="prefetched" data-fetch-debounce="0" data-src="/command_palette/jump_to_members_only_prefetched" data-supported-modes="[&quot;@&quot;,&quot;@&quot;,&quot;&quot;]" data-supported-scope-types="[&quot;&quot;,&quot;owner&quot;]" data-targets="command-palette.serverDefinedProviderElements" data-catalyst="" data-supports-commands=""></server-defined-provider>
        <server-defined-provider data-type="files" data-fetch-debounce="0" data-src="/command_palette/files" data-supported-modes="[&quot;/&quot;]" data-supported-scope-types="[&quot;repository&quot;]" data-targets="command-palette.serverDefinedProviderElements" data-catalyst="" data-supports-commands=""></server-defined-provider>
        <server-defined-provider data-type="remote" data-fetch-debounce="200" data-src="/command_palette/discussions" data-supported-modes="[&quot;#&quot;]" data-supported-scope-types="[&quot;owner&quot;,&quot;repository&quot;]" data-targets="command-palette.serverDefinedProviderElements" data-catalyst="" data-supports-commands=""></server-defined-provider>
        <server-defined-provider data-type="remote" data-fetch-debounce="200" data-src="/command_palette/projects" data-supported-modes="[&quot;#&quot;,&quot;!&quot;]" data-supported-scope-types="[&quot;owner&quot;,&quot;repository&quot;]" data-targets="command-palette.serverDefinedProviderElements" data-catalyst="" data-supports-commands=""></server-defined-provider>
        <server-defined-provider data-type="prefetched" data-fetch-debounce="0" data-src="/command_palette/recent_issues" data-supported-modes="[&quot;#&quot;,&quot;#&quot;]" data-supported-scope-types="[&quot;owner&quot;,&quot;repository&quot;,&quot;&quot;]" data-targets="command-palette.serverDefinedProviderElements" data-catalyst="" data-supports-commands=""></server-defined-provider>
        <server-defined-provider data-type="remote" data-fetch-debounce="200" data-src="/command_palette/teams" data-supported-modes="[&quot;@&quot;,&quot;&quot;]" data-supported-scope-types="[&quot;owner&quot;]" data-targets="command-palette.serverDefinedProviderElements" data-catalyst="" data-supports-commands=""></server-defined-provider>
        <server-defined-provider data-type="remote" data-fetch-debounce="200" data-src="/command_palette/name_with_owner_repository" data-supported-modes="[&quot;&quot;]" data-targets="command-palette.serverDefinedProviderElements" data-catalyst="" data-supported-scope-types="" data-supports-commands=""></server-defined-provider>
    <client-defined-provider data-catalyst="" data-provider-id="main-window-commands-provider" data-targets="command-palette.clientDefinedProviderElements"></client-defined-provider></command-palette>
  </details-dialog>
</details>

<div class="position-fixed bottom-0 left-0 ml-5 mb-5 js-command-palette-toasts" style="z-index: 1000">
  <div hidden="" class="Toast Toast--loading">
    <span class="Toast-icon">
      <svg class="Toast--spinner" viewBox="0 0 32 32" width="18" height="18" aria-hidden="true">
        <path fill="#959da5" d="M16 0 A16 16 0 0 0 16 32 A16 16 0 0 0 16 0 M16 4 A12 12 0 0 1 16 28 A12 12 0 0 1 16 4"></path>
        <path fill="#ffffff" d="M16 0 A16 16 0 0 1 32 16 L28 16 A12 12 0 0 0 16 4z"></path>
      </svg>
    </span>
    <span class="Toast-content"></span>
  </div>

  <div hidden="" class="anim-fade-in fast Toast Toast--error">
    <span class="Toast-icon">
      <svg aria-hidden="true" height="16" viewBox="0 0 16 16" version="1.1" width="16" data-view-component="true" class="octicon octicon-stop">
    <path fill-rule="evenodd" d="M4.47.22A.75.75 0 015 0h6a.75.75 0 01.53.22l4.25 4.25c.141.14.22.331.22.53v6a.75.75 0 01-.22.53l-4.25 4.25A.75.75 0 0111 16H5a.75.75 0 01-.53-.22L.22 11.53A.75.75 0 010 11V5a.75.75 0 01.22-.53L4.47.22zm.84 1.28L1.5 5.31v5.38l3.81 3.81h5.38l3.81-3.81V5.31L10.69 1.5H5.31zM8 4a.75.75 0 01.75.75v3.5a.75.75 0 01-1.5 0v-3.5A.75.75 0 018 4zm0 8a1 1 0 100-2 1 1 0 000 2z"></path>
</svg>
    </span>
    <span class="Toast-content"></span>
  </div>

  <div hidden="" class="anim-fade-in fast Toast Toast--warning">
    <span class="Toast-icon">
      <svg aria-hidden="true" height="16" viewBox="0 0 16 16" version="1.1" width="16" data-view-component="true" class="octicon octicon-alert">
    <path fill-rule="evenodd" d="M8.22 1.754a.25.25 0 00-.44 0L1.698 13.132a.25.25 0 00.22.368h12.164a.25.25 0 00.22-.368L8.22 1.754zm-1.763-.707c.659-1.234 2.427-1.234 3.086 0l6.082 11.378A1.75 1.75 0 0114.082 15H1.918a1.75 1.75 0 01-1.543-2.575L6.457 1.047zM9 11a1 1 0 11-2 0 1 1 0 012 0zm-.25-5.25a.75.75 0 00-1.5 0v2.5a.75.75 0 001.5 0v-2.5z"></path>
</svg>
    </span>
    <span class="Toast-content"></span>
  </div>


  <div hidden="" class="anim-fade-in fast Toast Toast--success">
    <span class="Toast-icon">
      <svg aria-hidden="true" height="16" viewBox="0 0 16 16" version="1.1" width="16" data-view-component="true" class="octicon octicon-check">
    <path fill-rule="evenodd" d="M13.78 4.22a.75.75 0 010 1.06l-7.25 7.25a.75.75 0 01-1.06 0L2.22 9.28a.75.75 0 011.06-1.06L6 10.94l6.72-6.72a.75.75 0 011.06 0z"></path>
</svg>
    </span>
    <span class="Toast-content"></span>
  </div>

  <div hidden="" class="anim-fade-in fast Toast">
    <span class="Toast-icon">
      <svg aria-hidden="true" height="16" viewBox="0 0 16 16" version="1.1" width="16" data-view-component="true" class="octicon octicon-info">
    <path fill-rule="evenodd" d="M8 1.5a6.5 6.5 0 100 13 6.5 6.5 0 000-13zM0 8a8 8 0 1116 0A8 8 0 010 8zm6.5-.25A.75.75 0 017.25 7h1a.75.75 0 01.75.75v2.75h.25a.75.75 0 010 1.5h-2a.75.75 0 010-1.5h.25v-2h-.25a.75.75 0 01-.75-.75zM8 6a1 1 0 100-2 1 1 0 000 2z"></path>
</svg>
    </span>
    <span class="Toast-content"></span>
  </div>
</div>

        <command-palette-pjax-metadata hidden="" class="js-command-palette-pjax-metadata" data-pjax-replace="" id="command-palette-pjax-metadata" data-default-scope-id="R_kgDOGc9cww" data-default-scope-type="Repository" data-catalyst="">
</command-palette-pjax-metadata>


  <div class="application-main " data-commit-hovercards-enabled="" data-discussion-hovercards-enabled="" data-issue-and-pr-hovercards-enabled="">
        <div itemscope="" itemtype="http://schema.org/SoftwareSourceCode" class="">
    <main id="js-repo-pjax-container" data-pjax-container="">
      
    






  <div id="repository-container-header" class="pt-3 hide-full-screen" style="background-color: var(--color-page-header-bg);" data-pjax-replace="">

      <div class="d-flex mb-3 px-3 px-md-4 px-lg-5">

        <div class="flex-auto min-width-0 width-fit mr-3">
            <h1 class=" d-flex flex-wrap flex-items-center wb-break-word f3 text-normal">
    <svg aria-hidden="true" height="16" viewBox="0 0 16 16" version="1.1" width="16" data-view-component="true" class="octicon octicon-lock color-fg-muted mr-2">
    <path fill-rule="evenodd" d="M4 4v2h-.25A1.75 1.75 0 002 7.75v5.5c0 .966.784 1.75 1.75 1.75h8.5A1.75 1.75 0 0014 13.25v-5.5A1.75 1.75 0 0012.25 6H12V4a4 4 0 10-8 0zm6.5 2V4a2.5 2.5 0 00-5 0v2h5zM12 7.5h.25a.25.25 0 01.25.25v5.5a.25.25 0 01-.25.25h-8.5a.25.25 0 01-.25-.25v-5.5a.25.25 0 01.25-.25H12z"></path>
</svg>
  <span class="author flex-self-stretch" itemprop="author">
    <a class="url fn" rel="author" data-hovercard-type="user" data-hovercard-url="/users/Maher-Zeg/hovercard" data-octo-click="hovercard-link-click" data-octo-dimensions="link_type:self" href="https://github.com/Maher-Zeg">Maher-Zeg</a>
  </span>
  <span class="mx-1 flex-self-stretch color-fg-muted">/</span>
  <strong itemprop="name" class="mr-2 flex-self-stretch">
    <a data-pjax="#repo-content-pjax-container" href="https://github.com/Maher-Zeg/IronMaher">IronMaher</a>
  </strong>

  <span></span><span class="Label Label--secondary v-align-middle mr-1">Private</span>
</h1>

        </div>

          <ul class="pagehead-actions flex-shrink-0 d-none d-md-inline" style="padding: 2px 0;">

  

  <li>
        <notifications-list-subscription-form data-action="notifications-dialog-label-toggled:notifications-list-subscription-form#handleDialogLabelToggle" class="f5 position-relative" data-catalyst="">
      <details class="details-reset details-overlay f5 position-relative" data-target="notifications-list-subscription-form.details" data-action="toggle:notifications-list-subscription-form#detailsToggled">

      <summary data-hydro-click="{&quot;event_type&quot;:&quot;repository.click&quot;,&quot;payload&quot;:{&quot;target&quot;:&quot;WATCH_BUTTON&quot;,&quot;repository_id&quot;:433020099,&quot;originating_url&quot;:&quot;https://github.com/Maher-Zeg/IronMaher/blame/main/LAB%2031%20encoding/LAB%2031%20encoding.ipynb&quot;,&quot;user_id&quot;:94024100}}" data-hydro-click-hmac="0b1432d12902daf12de6668bf69b48db13e64ff4f96c4d94e38b2c86ef29ec46" data-ga-click="Repository, click Watch settings, action:blob#blame" aria-label="Notification settings" data-view-component="true" class="btn-sm btn" aria-haspopup="menu" role="button">  <span data-menu-button="">
            <span data-target="notifications-list-subscription-form.unwatchButtonCopy">
              <svg aria-hidden="true" height="16" viewBox="0 0 16 16" version="1.1" width="16" data-view-component="true" class="octicon octicon-eye">
    <path fill-rule="evenodd" d="M1.679 7.932c.412-.621 1.242-1.75 2.366-2.717C5.175 4.242 6.527 3.5 8 3.5c1.473 0 2.824.742 3.955 1.715 1.124.967 1.954 2.096 2.366 2.717a.119.119 0 010 .136c-.412.621-1.242 1.75-2.366 2.717C10.825 11.758 9.473 12.5 8 12.5c-1.473 0-2.824-.742-3.955-1.715C2.92 9.818 2.09 8.69 1.679 8.068a.119.119 0 010-.136zM8 2c-1.981 0-3.67.992-4.933 2.078C1.797 5.169.88 6.423.43 7.1a1.619 1.619 0 000 1.798c.45.678 1.367 1.932 2.637 3.024C4.329 13.008 6.019 14 8 14c1.981 0 3.67-.992 4.933-2.078 1.27-1.091 2.187-2.345 2.637-3.023a1.619 1.619 0 000-1.798c-.45-.678-1.367-1.932-2.637-3.023C11.671 2.992 9.981 2 8 2zm0 8a2 2 0 100-4 2 2 0 000 4z"></path>
</svg>
              Unwatch
            </span>
            <span hidden="" data-target="notifications-list-subscription-form.stopIgnoringButtonCopy">
              <svg aria-hidden="true" height="16" viewBox="0 0 16 16" version="1.1" width="16" data-view-component="true" class="octicon octicon-bell-slash">
    <path fill-rule="evenodd" d="M8 1.5c-.997 0-1.895.416-2.534 1.086A.75.75 0 014.38 1.55 5 5 0 0113 5v2.373a.75.75 0 01-1.5 0V5A3.5 3.5 0 008 1.5zM4.182 4.31L1.19 2.143a.75.75 0 10-.88 1.214L3 5.305v2.642a.25.25 0 01-.042.139L1.255 10.64A1.518 1.518 0 002.518 13h11.108l1.184.857a.75.75 0 10.88-1.214l-1.375-.996a1.196 1.196 0 00-.013-.01L4.198 4.321a.733.733 0 00-.016-.011zm7.373 7.19L4.5 6.391v1.556c0 .346-.102.683-.294.97l-1.703 2.556a.018.018 0 00-.003.01.015.015 0 00.005.012.017.017 0 00.006.004l.007.001h9.037zM8 16a2 2 0 001.985-1.75c.017-.137-.097-.25-.235-.25h-3.5c-.138 0-.252.113-.235.25A2 2 0 008 16z"></path>
</svg>
              Stop ignoring
            </span>
            <span hidden="" data-target="notifications-list-subscription-form.watchButtonCopy">
              <svg aria-hidden="true" height="16" viewBox="0 0 16 16" version="1.1" width="16" data-view-component="true" class="octicon octicon-eye">
    <path fill-rule="evenodd" d="M1.679 7.932c.412-.621 1.242-1.75 2.366-2.717C5.175 4.242 6.527 3.5 8 3.5c1.473 0 2.824.742 3.955 1.715 1.124.967 1.954 2.096 2.366 2.717a.119.119 0 010 .136c-.412.621-1.242 1.75-2.366 2.717C10.825 11.758 9.473 12.5 8 12.5c-1.473 0-2.824-.742-3.955-1.715C2.92 9.818 2.09 8.69 1.679 8.068a.119.119 0 010-.136zM8 2c-1.981 0-3.67.992-4.933 2.078C1.797 5.169.88 6.423.43 7.1a1.619 1.619 0 000 1.798c.45.678 1.367 1.932 2.637 3.024C4.329 13.008 6.019 14 8 14c1.981 0 3.67-.992 4.933-2.078 1.27-1.091 2.187-2.345 2.637-3.023a1.619 1.619 0 000-1.798c-.45-.678-1.367-1.932-2.637-3.023C11.671 2.992 9.981 2 8 2zm0 8a2 2 0 100-4 2 2 0 000 4z"></path>
</svg>
              Watch
            </span>
          </span>
            <span id="repo-notifications-counter" data-target="notifications-list-subscription-form.socialCount" data-pjax-replace="true" title="1" data-view-component="true" class="Counter">1</span>
          <span class="dropdown-caret"></span>
</summary>
        <details-menu class="SelectMenu  " role="menu" data-target="notifications-list-subscription-form.menu">
          <div class="SelectMenu-modal notifications-component-menu-modal">
            <header class="SelectMenu-header">
              <h3 class="SelectMenu-title">Notifications</h3>
              <button class="SelectMenu-closeButton" type="button" aria-label="Close menu" data-action="click:notifications-list-subscription-form#closeMenu">
                <svg aria-hidden="true" height="16" viewBox="0 0 16 16" version="1.1" width="16" data-view-component="true" class="octicon octicon-x">
    <path fill-rule="evenodd" d="M3.72 3.72a.75.75 0 011.06 0L8 6.94l3.22-3.22a.75.75 0 111.06 1.06L9.06 8l3.22 3.22a.75.75 0 11-1.06 1.06L8 9.06l-3.22 3.22a.75.75 0 01-1.06-1.06L6.94 8 3.72 4.78a.75.75 0 010-1.06z"></path>
</svg>
              </button>
            </header>

            <div class="SelectMenu-list">
              <form data-target="notifications-list-subscription-form.form" data-action="submit:notifications-list-subscription-form#submitForm" data-turbo="false" action="https://github.com/notifications/subscribe" accept-charset="UTF-8" method="post"><input type="hidden" name="authenticity_token" value="1g6N9qeMdoJ-GSmJpF8oOK7jzsR1_vorb2zjxztOi1BhkAevzKq84Gut5RKjYPgMt5wgtFCv1G0PtH5FLI8mWw" autocomplete="off">

                <input type="hidden" name="repository_id" value="433020099">

                <button type="submit" name="do" value="included" class="SelectMenu-item flex-items-start" role="menuitemradio" aria-checked="false" data-targets="notifications-list-subscription-form.subscriptionButtons">
                  <span class="f5">
                    <svg aria-hidden="true" height="16" viewBox="0 0 16 16" version="1.1" width="16" data-view-component="true" class="octicon octicon-check SelectMenu-icon SelectMenu-icon--check">
    <path fill-rule="evenodd" d="M13.78 4.22a.75.75 0 010 1.06l-7.25 7.25a.75.75 0 01-1.06 0L2.22 9.28a.75.75 0 011.06-1.06L6 10.94l6.72-6.72a.75.75 0 011.06 0z"></path>
</svg>
                  </span>
                  <div>
                    <div class="f5 text-bold">
                      Participating and @mentions
                    </div>
                    <div class="text-small color-fg-muted text-normal pb-1">
                      Only receive notifications from this repository when participating or @mentioned.
                    </div>
                  </div>
                </button>

                <button type="submit" name="do" value="subscribed" class="SelectMenu-item flex-items-start" role="menuitemradio" aria-checked="true" data-targets="notifications-list-subscription-form.subscriptionButtons">
                  <span class="f5">
                    <svg aria-hidden="true" height="16" viewBox="0 0 16 16" version="1.1" width="16" data-view-component="true" class="octicon octicon-check SelectMenu-icon SelectMenu-icon--check">
    <path fill-rule="evenodd" d="M13.78 4.22a.75.75 0 010 1.06l-7.25 7.25a.75.75 0 01-1.06 0L2.22 9.28a.75.75 0 011.06-1.06L6 10.94l6.72-6.72a.75.75 0 011.06 0z"></path>
</svg>
                  </span>
                  <div>
                    <div class="f5 text-bold">
                      All Activity
                    </div>
                    <div class="text-small color-fg-muted text-normal pb-1">
                      Notified of all notifications on this repository.
                    </div>
                  </div>
                </button>

                <button type="submit" name="do" value="ignore" class="SelectMenu-item flex-items-start" role="menuitemradio" aria-checked="false" data-targets="notifications-list-subscription-form.subscriptionButtons">
                  <span class="f5">
                    <svg aria-hidden="true" height="16" viewBox="0 0 16 16" version="1.1" width="16" data-view-component="true" class="octicon octicon-check SelectMenu-icon SelectMenu-icon--check">
    <path fill-rule="evenodd" d="M13.78 4.22a.75.75 0 010 1.06l-7.25 7.25a.75.75 0 01-1.06 0L2.22 9.28a.75.75 0 011.06-1.06L6 10.94l6.72-6.72a.75.75 0 011.06 0z"></path>
</svg>
                  </span>
                  <div>
                    <div class="f5 text-bold">
                      Ignore
                    </div>
                    <div class="text-small color-fg-muted text-normal pb-1">
                      Never be notified.
                    </div>
                  </div>
                </button>
</form>
              <button class="SelectMenu-item flex-items-start pr-3" type="button" role="menuitemradio" data-target="notifications-list-subscription-form.customButton" data-action="click:notifications-list-subscription-form#openCustomDialog" aria-haspopup="true" aria-checked="false">
                <span class="f5">
                  <svg aria-hidden="true" height="16" viewBox="0 0 16 16" version="1.1" width="16" data-view-component="true" class="octicon octicon-check SelectMenu-icon SelectMenu-icon--check">
    <path fill-rule="evenodd" d="M13.78 4.22a.75.75 0 010 1.06l-7.25 7.25a.75.75 0 01-1.06 0L2.22 9.28a.75.75 0 011.06-1.06L6 10.94l6.72-6.72a.75.75 0 011.06 0z"></path>
</svg>
                </span>
                <div>
                  <div class="d-flex flex-items-start flex-justify-between">
                    <div class="f5 text-bold">Custom</div>
                    <div class="f5 pr-1">
                      <svg aria-hidden="true" height="16" viewBox="0 0 16 16" version="1.1" width="16" data-view-component="true" class="octicon octicon-arrow-right">
    <path fill-rule="evenodd" d="M8.22 2.97a.75.75 0 011.06 0l4.25 4.25a.75.75 0 010 1.06l-4.25 4.25a.75.75 0 01-1.06-1.06l2.97-2.97H3.75a.75.75 0 010-1.5h7.44L8.22 4.03a.75.75 0 010-1.06z"></path>
</svg>
                    </div>
                  </div>
                  <div class="text-small color-fg-muted text-normal pb-1">
                    Select events you want to be notified of in addition to participating and @mentions.
                  </div>
                </div>
              </button>

                <div class="px-3 py-2 d-flex color-bg-subtle flex-items-center">
                  <span class="f5">
                    <svg aria-hidden="true" height="16" viewBox="0 0 16 16" version="1.1" width="16" data-view-component="true" class="octicon octicon-device-mobile SelectMenu-icon SelectMenu-icon--device-mobile">
    <path fill-rule="evenodd" d="M3.75 0A1.75 1.75 0 002 1.75v12.5c0 .966.784 1.75 1.75 1.75h8.5A1.75 1.75 0 0014 14.25V1.75A1.75 1.75 0 0012.25 0h-8.5zM3.5 1.75a.25.25 0 01.25-.25h8.5a.25.25 0 01.25.25v12.5a.25.25 0 01-.25.25h-8.5a.25.25 0 01-.25-.25V1.75zM8 13a1 1 0 100-2 1 1 0 000 2z"></path>
</svg>
                  </span>
                  <span classname="text-small color-fg-muted text-normal pb-1">
                    Get push notifications on <a target="_blank" rel="noopener noreferrer" href="https://apps.apple.com/app/apple-store/id1477376905?ct=watch-dropdown&amp;mt=8&amp;pt=524675">iOS</a> or <a target="_blank" rel="noopener noreferrer" href="https://play.google.com/store/apps/details?id=com.github.android&amp;referrer=utm_campaign%3Dwatch-dropdown%26utm_medium%3Dweb%26utm_source%3Dgithub">Android</a>.
                  </span>
                </div>
            </div>
          </div>
        </details-menu>

        <details-dialog class="notifications-component-dialog " data-target="notifications-list-subscription-form.customDialog" aria-label="Custom dialog" hidden="" role="dialog" aria-modal="true">
          <div class="SelectMenu-modal notifications-component-dialog-modal overflow-visible">
            <form data-target="notifications-list-subscription-form.customform" data-action="submit:notifications-list-subscription-form#submitCustomForm" data-turbo="false" action="https://github.com/notifications/subscribe" accept-charset="UTF-8" method="post"><input type="hidden" name="authenticity_token" value="Hzno0rFIMkcyNvuS8s43k8FCQxK5LBrsCWfXvIyNr4Wop2KL2m74JSeCNwn18een2D2tYpx9NKppv0o-m0wCjg" autocomplete="off">

              <input type="hidden" name="repository_id" value="433020099">

              <header class="d-sm-none SelectMenu-header pb-0 border-bottom-0 px-2 px-sm-3">
                <h1 class="f3 SelectMenu-title d-inline-flex">
                  <button class="color-bg-default border-0 px-2 py-0 m-0 Link--secondary f5" aria-label="Return to menu" type="button" data-action="click:notifications-list-subscription-form#closeCustomDialog">
                    <svg aria-hidden="true" height="16" viewBox="0 0 16 16" version="1.1" width="16" data-view-component="true" class="octicon octicon-arrow-left">
    <path fill-rule="evenodd" d="M7.78 12.53a.75.75 0 01-1.06 0L2.47 8.28a.75.75 0 010-1.06l4.25-4.25a.75.75 0 011.06 1.06L4.81 7h7.44a.75.75 0 010 1.5H4.81l2.97 2.97a.75.75 0 010 1.06z"></path>
</svg>
                  </button>
                  Custom
                </h1>
              </header>

              <header class="d-none d-sm-flex flex-items-start pt-1">
                <button class="border-0 px-2 pt-1 m-0 Link--secondary f5" style="background-color: transparent;" aria-label="Return to menu" type="button" data-action="click:notifications-list-subscription-form#closeCustomDialog">
                  <svg style="position: relative; left: 2px; top: 1px" aria-hidden="true" height="16" viewBox="0 0 16 16" version="1.1" width="16" data-view-component="true" class="octicon octicon-arrow-left">
    <path fill-rule="evenodd" d="M7.78 12.53a.75.75 0 01-1.06 0L2.47 8.28a.75.75 0 010-1.06l4.25-4.25a.75.75 0 011.06 1.06L4.81 7h7.44a.75.75 0 010 1.5H4.81l2.97 2.97a.75.75 0 010 1.06z"></path>
</svg>
                </button>

                <h1 class="pt-1 pr-4 pb-0 pl-0 f5 text-bold">
                  Custom
                </h1>
              </header>

              <fieldset>
                <legend>
                  <div class="text-small color-fg-muted pt-0 pr-3 pb-3 pl-6 pl-sm-5 border-bottom mb-3">
                    Select events you want to be notified of in addition to participating and @mentions.
                  </div>
                </legend>
                <div data-target="notifications-list-subscription-form.labelInputs">
                </div>
                  <div class="form-checkbox mr-3 ml-6 ml-sm-5 mb-2 mt-0">
                    <label class="f5 text-normal">
                      <input type="checkbox" name="thread_types[]" value="Issue" data-targets="notifications-list-subscription-form.threadTypeCheckboxes" data-action="change:notifications-list-subscription-form#threadTypeCheckboxesUpdated">
                      Issues
                    </label>

                  </div>
                  <div class="form-checkbox mr-3 ml-6 ml-sm-5 mb-2 mt-0">
                    <label class="f5 text-normal">
                      <input type="checkbox" name="thread_types[]" value="PullRequest" data-targets="notifications-list-subscription-form.threadTypeCheckboxes" data-action="change:notifications-list-subscription-form#threadTypeCheckboxesUpdated">
                      Pull requests
                    </label>

                  </div>
                  <div class="form-checkbox mr-3 ml-6 ml-sm-5 mb-2 mt-0">
                    <label class="f5 text-normal">
                      <input type="checkbox" name="thread_types[]" value="Release" data-targets="notifications-list-subscription-form.threadTypeCheckboxes" data-action="change:notifications-list-subscription-form#threadTypeCheckboxesUpdated">
                      Releases
                    </label>

                  </div>
                  <div class="form-checkbox mr-3 ml-6 ml-sm-5 mb-2 mt-0">
                    <label class="f5 text-normal">
                      <input type="checkbox" name="thread_types[]" value="Discussion" data-targets="notifications-list-subscription-form.threadTypeCheckboxes" data-action="change:notifications-list-subscription-form#threadTypeCheckboxesUpdated">
                      Discussions
                    </label>

                      <span class="tooltipped tooltipped-nw mr-2 p-1 float-right" aria-label="Discussions are not enabled for this repo">
                        <svg aria-hidden="true" height="16" viewBox="0 0 16 16" version="1.1" width="16" data-view-component="true" class="octicon octicon-info color-fg-muted">
    <path fill-rule="evenodd" d="M8 1.5a6.5 6.5 0 100 13 6.5 6.5 0 000-13zM0 8a8 8 0 1116 0A8 8 0 010 8zm6.5-.25A.75.75 0 017.25 7h1a.75.75 0 01.75.75v2.75h.25a.75.75 0 010 1.5h-2a.75.75 0 010-1.5h.25v-2h-.25a.75.75 0 01-.75-.75zM8 6a1 1 0 100-2 1 1 0 000 2z"></path>
</svg>
                      </span>
                  </div>
                  <div class="form-checkbox mr-3 ml-6 ml-sm-5 mb-2 mt-0">
                    <label class="f5 text-normal">
                      <input type="checkbox" name="thread_types[]" value="SecurityAlert" data-targets="notifications-list-subscription-form.threadTypeCheckboxes" data-action="change:notifications-list-subscription-form#threadTypeCheckboxesUpdated">
                      Security alerts
                    </label>

                  </div>
              </fieldset>
              <div class="pt-2 pb-3 px-3 d-flex flex-justify-start flex-row-reverse">
                <button name="do" value="custom" data-target="notifications-list-subscription-form.customSubmit" disabled="disabled" type="submit" data-view-component="true" class="btn-primary btn-sm btn ml-2">  Apply
</button>

                <button data-action="click:notifications-list-subscription-form#resetForm" data-close-dialog="" type="button" data-view-component="true" class="btn-sm btn">  Cancel
</button>
              </div>
</form>          </div>
        </details-dialog>


        <div class="notifications-component-dialog-overlay"></div>
      </details>
    </notifications-list-subscription-form>



  </li>

  <li>
          <button aria-label="Cannot fork because you own this repository and are not a member of any organizations." disabled="disabled" type="button" data-view-component="true" class="tooltipped tooltipped-s btn-sm btn">  <svg aria-hidden="true" height="16" viewBox="0 0 16 16" version="1.1" width="16" data-view-component="true" class="octicon octicon-repo-forked mr-2">
    <path fill-rule="evenodd" d="M5 3.25a.75.75 0 11-1.5 0 .75.75 0 011.5 0zm0 2.122a2.25 2.25 0 10-1.5 0v.878A2.25 2.25 0 005.75 8.5h1.5v2.128a2.251 2.251 0 101.5 0V8.5h1.5a2.25 2.25 0 002.25-2.25v-.878a2.25 2.25 0 10-1.5 0v.878a.75.75 0 01-.75.75h-4.5A.75.75 0 015 6.25v-.878zm3.75 7.378a.75.75 0 11-1.5 0 .75.75 0 011.5 0zm3-8.75a.75.75 0 100-1.5.75.75 0 000 1.5z"></path>
</svg>Fork
      <span id="repo-network-counter" data-pjax-replace="true" title="0" data-view-component="true" class="Counter">0</span>
</button>
  </li>

  <li>
        <template class="js-unstar-confirmation-dialog-template"></template>

  <div data-view-component="true" class="js-toggler-container js-social-container starring-container BtnGroup d-flex">
    <form class="starred js-social-form BtnGroup-parent flex-auto js-deferred-toggler-target" data-turbo="false" action="https://github.com/Maher-Zeg/IronMaher/unstar" accept-charset="UTF-8" method="post"><input type="hidden" name="authenticity_token" value="p5yoo5pMcpyxjUTWsv7yDDy6v36ZYQTzNkTXVG7PxGtBssLSdFFj0IXx6F0W3XgV7dldi2t4rZZwMqo4Xjx7bQ" autocomplete="off">
        <input type="hidden" value="S860enu6OvXOAYkgKDnlm2JMR1ph8_wh8af-VPgQYRWt4N4Llacrufp9JauMGm-Csy-lr5PqVUS30YM4yOPeEw" data-csrf="true" class="js-confirm-csrf-token">
      <input type="hidden" name="context" value="repository">
      <button data-hydro-click="{&quot;event_type&quot;:&quot;repository.click&quot;,&quot;payload&quot;:{&quot;target&quot;:&quot;UNSTAR_BUTTON&quot;,&quot;repository_id&quot;:433020099,&quot;originating_url&quot;:&quot;https://github.com/Maher-Zeg/IronMaher/blame/main/LAB%2031%20encoding/LAB%2031%20encoding.ipynb&quot;,&quot;user_id&quot;:94024100}}" data-hydro-click-hmac="083ef6703c524385270d22d4dccf33714e430605d5571f66c6c2185c14401f2a" data-ga-click="Repository, click unstar button, action:blob#blame; text:Unstar" aria-label="Unstar this repository" type="submit" data-view-component="true" class="rounded-left-2 border-right-0 btn-sm btn BtnGroup-item">  <svg aria-hidden="true" height="16" viewBox="0 0 16 16" version="1.1" width="16" data-view-component="true" class="octicon octicon-star-fill starred-button-icon d-inline-block mr-2">
    <path fill-rule="evenodd" d="M8 .25a.75.75 0 01.673.418l1.882 3.815 4.21.612a.75.75 0 01.416 1.279l-3.046 2.97.719 4.192a.75.75 0 01-1.088.791L8 12.347l-3.766 1.98a.75.75 0 01-1.088-.79l.72-4.194L.818 6.374a.75.75 0 01.416-1.28l4.21-.611L7.327.668A.75.75 0 018 .25z"></path>
</svg><span data-view-component="true" class="d-inline">
          Starred
</span>          <span id="repo-stars-counter-unstar" aria-label="0 users starred this repository" data-singular-suffix="user starred this repository" data-plural-suffix="users starred this repository" data-pjax-replace="true" title="0" data-view-component="true" class="Counter js-social-count">0</span>
</button></form>
    <form class="unstarred js-social-form BtnGroup-parent flex-auto" data-turbo="false" action="https://github.com/Maher-Zeg/IronMaher/star" accept-charset="UTF-8" method="post"><input type="hidden" name="authenticity_token" value="l6q7MKHYVRiI2FEsEcWE1WItKzYXVRiO3_Q3KJXicHsllH_9gET_1wGAOWc_ivXLEDPboD99bQdQyozLqQPT0Q" autocomplete="off">
      <input type="hidden" name="context" value="repository">
      <button data-hydro-click="{&quot;event_type&quot;:&quot;repository.click&quot;,&quot;payload&quot;:{&quot;target&quot;:&quot;STAR_BUTTON&quot;,&quot;repository_id&quot;:433020099,&quot;originating_url&quot;:&quot;https://github.com/Maher-Zeg/IronMaher/blame/main/LAB%2031%20encoding/LAB%2031%20encoding.ipynb&quot;,&quot;user_id&quot;:94024100}}" data-hydro-click-hmac="3487789145edeae1a0075dc4c9e2541da46e4f3471d1d5fe27a4d24dc307c0f9" data-ga-click="Repository, click star button, action:blob#blame; text:Star" aria-label="Star this repository" type="submit" data-view-component="true" class="js-toggler-target rounded-left-2 btn-sm btn BtnGroup-item">  <svg aria-hidden="true" height="16" viewBox="0 0 16 16" version="1.1" width="16" data-view-component="true" class="octicon octicon-star d-inline-block mr-2">
    <path fill-rule="evenodd" d="M8 .25a.75.75 0 01.673.418l1.882 3.815 4.21.612a.75.75 0 01.416 1.279l-3.046 2.97.719 4.192a.75.75 0 01-1.088.791L8 12.347l-3.766 1.98a.75.75 0 01-1.088-.79l.72-4.194L.818 6.374a.75.75 0 01.416-1.28l4.21-.611L7.327.668A.75.75 0 018 .25zm0 2.445L6.615 5.5a.75.75 0 01-.564.41l-3.097.45 2.24 2.184a.75.75 0 01.216.664l-.528 3.084 2.769-1.456a.75.75 0 01.698 0l2.77 1.456-.53-3.084a.75.75 0 01.216-.664l2.24-2.183-3.096-.45a.75.75 0 01-.564-.41L8 2.694v.001z"></path>
</svg><span data-view-component="true" class="d-inline">
          Star
</span>          <span id="repo-stars-counter-star" aria-label="0 users starred this repository" data-singular-suffix="user starred this repository" data-plural-suffix="users starred this repository" data-pjax-replace="true" title="0" data-view-component="true" class="Counter js-social-count">0</span>
</button></form>
      <details id="details-user-list-433020099" data-view-component="true" class="details-reset details-overlay BtnGroup-parent js-user-list-menu d-inline-block position-relative">
      <summary aria-label="Add this repository to a list" data-view-component="true" class="btn-sm btn BtnGroup-item px-2 float-none" aria-haspopup="menu" role="button">  <svg aria-hidden="true" height="16" viewBox="0 0 16 16" version="1.1" width="16" data-view-component="true" class="octicon octicon-triangle-down">
    <path d="M4.427 7.427l3.396 3.396a.25.25 0 00.354 0l3.396-3.396A.25.25 0 0011.396 7H4.604a.25.25 0 00-.177.427z"></path>
</svg>
</summary>
  <details-menu class="SelectMenu right-0" src="/Maher-Zeg/IronMaher/lists" role="menu">
    <div class="SelectMenu-modal">
        <button class="SelectMenu-closeButton position-absolute right-0 m-2" type="button" aria-label="Close menu" data-toggle-for="details-1d7cd3">
          <svg aria-hidden="true" height="16" viewBox="0 0 16 16" version="1.1" width="16" data-view-component="true" class="octicon octicon-x">
    <path fill-rule="evenodd" d="M3.72 3.72a.75.75 0 011.06 0L8 6.94l3.22-3.22a.75.75 0 111.06 1.06L9.06 8l3.22 3.22a.75.75 0 11-1.06 1.06L8 9.06l-3.22 3.22a.75.75 0 01-1.06-1.06L6.94 8 3.72 4.78a.75.75 0 010-1.06z"></path>
</svg>
        </button>
      <div id="filter-menu-1d7cd3" class="d-flex flex-column flex-1 overflow-hidden">
        <div class="SelectMenu-list">

            <include-fragment class="SelectMenu-loading" aria-label="Loading">
              <svg style="box-sizing: content-box; color: var(--color-icon-primary);" width="32" height="32" viewBox="0 0 16 16" fill="none" data-view-component="true" class="anim-rotate">
  <circle cx="8" cy="8" r="7" stroke="currentColor" stroke-opacity="0.25" stroke-width="2" vector-effect="non-scaling-stroke"></circle>
  <path d="M15 8a7.002 7.002 0 00-7-7" stroke="currentColor" stroke-width="2" stroke-linecap="round" vector-effect="non-scaling-stroke"></path>
</svg>
            </include-fragment>
        </div>
        
      </div>
    </div>
  </details-menu>
</details>
</div>
  </li>

  

</ul>

      </div>

      <div id="responsive-meta-container" data-pjax-replace="">
</div>


        
<nav data-pjax="#js-repo-pjax-container" aria-label="Repository" data-view-component="true" class="js-repo-nav js-sidenav-container-pjax js-responsive-underlinenav overflow-hidden UnderlineNav px-3 px-md-4 px-lg-5">

  <ul data-view-component="true" class="UnderlineNav-body list-style-none">
      <li data-view-component="true" class="d-inline-flex">
  <a id="code-tab" href="https://github.com/Maher-Zeg/IronMaher" data-tab-item="i0code-tab" data-selected-links="repo_source repo_downloads repo_commits repo_releases repo_tags repo_branches repo_packages repo_deployments /Maher-Zeg/IronMaher" data-pjax="#repo-content-pjax-container" data-hotkey="g c" data-ga-click="Repository, Navigation click, Code tab" aria-current="page" data-view-component="true" class="UnderlineNav-item hx_underlinenav-item no-wrap js-responsive-underlinenav-item js-selected-navigation-item selected">
    
                  <svg aria-hidden="true" height="16" viewBox="0 0 16 16" version="1.1" width="16" data-view-component="true" class="octicon octicon-code UnderlineNav-octicon d-none d-sm-inline">
    <path fill-rule="evenodd" d="M4.72 3.22a.75.75 0 011.06 1.06L2.06 8l3.72 3.72a.75.75 0 11-1.06 1.06L.47 8.53a.75.75 0 010-1.06l4.25-4.25zm6.56 0a.75.75 0 10-1.06 1.06L13.94 8l-3.72 3.72a.75.75 0 101.06 1.06l4.25-4.25a.75.75 0 000-1.06l-4.25-4.25z"></path>
</svg>
          <span data-content="Code">Code</span>
            <span id="code-repo-tab-count" data-pjax-replace="" title="Not available" data-view-component="true" class="Counter"></span>


    
</a></li>
      <li data-view-component="true" class="d-inline-flex">
  <a id="issues-tab" href="https://github.com/Maher-Zeg/IronMaher/issues" data-tab-item="i1issues-tab" data-selected-links="repo_issues repo_labels repo_milestones /Maher-Zeg/IronMaher/issues" data-pjax="#repo-content-pjax-container" data-hotkey="g i" data-ga-click="Repository, Navigation click, Issues tab" data-view-component="true" class="UnderlineNav-item hx_underlinenav-item no-wrap js-responsive-underlinenav-item js-selected-navigation-item">
    
                  <svg aria-hidden="true" height="16" viewBox="0 0 16 16" version="1.1" width="16" data-view-component="true" class="octicon octicon-issue-opened UnderlineNav-octicon d-none d-sm-inline">
    <path d="M8 9.5a1.5 1.5 0 100-3 1.5 1.5 0 000 3z"></path><path fill-rule="evenodd" d="M8 0a8 8 0 100 16A8 8 0 008 0zM1.5 8a6.5 6.5 0 1113 0 6.5 6.5 0 01-13 0z"></path>
</svg>
          <span data-content="Issues">Issues</span>
            <span id="issues-repo-tab-count" data-pjax-replace="" title="0" hidden="hidden" data-view-component="true" class="Counter">0</span>


    
</a></li>
      <li data-view-component="true" class="d-inline-flex">
  <a id="pull-requests-tab" href="https://github.com/Maher-Zeg/IronMaher/pulls" data-tab-item="i2pull-requests-tab" data-selected-links="repo_pulls checks /Maher-Zeg/IronMaher/pulls" data-pjax="#repo-content-pjax-container" data-hotkey="g p" data-ga-click="Repository, Navigation click, Pull requests tab" data-view-component="true" class="UnderlineNav-item hx_underlinenav-item no-wrap js-responsive-underlinenav-item js-selected-navigation-item">
    
                  <svg aria-hidden="true" height="16" viewBox="0 0 16 16" version="1.1" width="16" data-view-component="true" class="octicon octicon-git-pull-request UnderlineNav-octicon d-none d-sm-inline">
    <path fill-rule="evenodd" d="M7.177 3.073L9.573.677A.25.25 0 0110 .854v4.792a.25.25 0 01-.427.177L7.177 3.427a.25.25 0 010-.354zM3.75 2.5a.75.75 0 100 1.5.75.75 0 000-1.5zm-2.25.75a2.25 2.25 0 113 2.122v5.256a2.251 2.251 0 11-1.5 0V5.372A2.25 2.25 0 011.5 3.25zM11 2.5h-1V4h1a1 1 0 011 1v5.628a2.251 2.251 0 101.5 0V5A2.5 2.5 0 0011 2.5zm1 10.25a.75.75 0 111.5 0 .75.75 0 01-1.5 0zM3.75 12a.75.75 0 100 1.5.75.75 0 000-1.5z"></path>
</svg>
          <span data-content="Pull requests">Pull requests</span>
            <span id="pull-requests-repo-tab-count" data-pjax-replace="" title="0" hidden="hidden" data-view-component="true" class="Counter">0</span>


    
</a></li>
      <li data-view-component="true" class="d-inline-flex">
  <a id="actions-tab" href="https://github.com/Maher-Zeg/IronMaher/actions" data-tab-item="i3actions-tab" data-selected-links="repo_actions /Maher-Zeg/IronMaher/actions" data-pjax="#repo-content-pjax-container" data-hotkey="g a" data-ga-click="Repository, Navigation click, Actions tab" data-view-component="true" class="UnderlineNav-item hx_underlinenav-item no-wrap js-responsive-underlinenav-item js-selected-navigation-item">
    
                  <svg aria-hidden="true" height="16" viewBox="0 0 16 16" version="1.1" width="16" data-view-component="true" class="octicon octicon-play UnderlineNav-octicon d-none d-sm-inline">
    <path fill-rule="evenodd" d="M1.5 8a6.5 6.5 0 1113 0 6.5 6.5 0 01-13 0zM8 0a8 8 0 100 16A8 8 0 008 0zM6.379 5.227A.25.25 0 006 5.442v5.117a.25.25 0 00.379.214l4.264-2.559a.25.25 0 000-.428L6.379 5.227z"></path>
</svg>
          <span data-content="Actions">Actions</span>
            <span id="actions-repo-tab-count" data-pjax-replace="" title="Not available" data-view-component="true" class="Counter"></span>


    
</a></li>
      <li data-view-component="true" class="d-inline-flex">
  <a id="projects-tab" href="https://github.com/Maher-Zeg/IronMaher/projects?type=beta" data-tab-item="i4projects-tab" data-selected-links="repo_projects new_repo_project repo_project /Maher-Zeg/IronMaher/projects?type=beta" data-pjax="#repo-content-pjax-container" data-hotkey="g b" data-ga-click="Repository, Navigation click, Projects tab" data-view-component="true" class="UnderlineNav-item hx_underlinenav-item no-wrap js-responsive-underlinenav-item js-selected-navigation-item">
    
                  <svg aria-hidden="true" height="16" viewBox="0 0 16 16" version="1.1" width="16" data-view-component="true" class="octicon octicon-table UnderlineNav-octicon d-none d-sm-inline">
    <path fill-rule="evenodd" d="M0 1.75C0 .784.784 0 1.75 0h12.5C15.216 0 16 .784 16 1.75v3.585a.746.746 0 010 .83v8.085A1.75 1.75 0 0114.25 16H6.309a.748.748 0 01-1.118 0H1.75A1.75 1.75 0 010 14.25V6.165a.746.746 0 010-.83V1.75zM1.5 6.5v7.75c0 .138.112.25.25.25H5v-8H1.5zM5 5H1.5V1.75a.25.25 0 01.25-.25H5V5zm1.5 1.5v8h7.75a.25.25 0 00.25-.25V6.5h-8zm8-1.5h-8V1.5h7.75a.25.25 0 01.25.25V5z"></path>
</svg>
          <span data-content="Projects">Projects</span>
            <span id="projects-repo-tab-count" data-pjax-replace="" title="1" data-view-component="true" class="Counter">1</span>


    
</a></li>
      <li data-view-component="true" class="d-inline-flex">
  <a id="security-tab" href="https://github.com/Maher-Zeg/IronMaher/security" data-tab-item="i5security-tab" data-selected-links="security overview alerts policy token_scanning code_scanning /Maher-Zeg/IronMaher/security" data-pjax="#repo-content-pjax-container" data-hotkey="g s" data-ga-click="Repository, Navigation click, Security tab" data-view-component="true" class="UnderlineNav-item hx_underlinenav-item no-wrap js-responsive-underlinenav-item js-selected-navigation-item">
    
                  <svg aria-hidden="true" height="16" viewBox="0 0 16 16" version="1.1" width="16" data-view-component="true" class="octicon octicon-shield UnderlineNav-octicon d-none d-sm-inline">
    <path fill-rule="evenodd" d="M7.467.133a1.75 1.75 0 011.066 0l5.25 1.68A1.75 1.75 0 0115 3.48V7c0 1.566-.32 3.182-1.303 4.682-.983 1.498-2.585 2.813-5.032 3.855a1.7 1.7 0 01-1.33 0c-2.447-1.042-4.049-2.357-5.032-3.855C1.32 10.182 1 8.566 1 7V3.48a1.75 1.75 0 011.217-1.667l5.25-1.68zm.61 1.429a.25.25 0 00-.153 0l-5.25 1.68a.25.25 0 00-.174.238V7c0 1.358.275 2.666 1.057 3.86.784 1.194 2.121 2.34 4.366 3.297a.2.2 0 00.154 0c2.245-.956 3.582-2.104 4.366-3.298C13.225 9.666 13.5 8.36 13.5 7V3.48a.25.25 0 00-.174-.237l-5.25-1.68zM9 10.5a1 1 0 11-2 0 1 1 0 012 0zm-.25-5.75a.75.75 0 10-1.5 0v3a.75.75 0 001.5 0v-3z"></path>
</svg>
          <span data-content="Security">Security</span>
            

    
</a></li>
      <li data-view-component="true" class="d-inline-flex">
  <a id="insights-tab" href="https://github.com/Maher-Zeg/IronMaher/network/dependencies" data-tab-item="i6insights-tab" data-selected-links="repo_graphs repo_contributors dependency_graph dependabot_updates pulse people community /Maher-Zeg/IronMaher/network/dependencies" data-pjax="#repo-content-pjax-container" data-ga-click="Repository, Navigation click, Insights tab" data-view-component="true" class="UnderlineNav-item hx_underlinenav-item no-wrap js-responsive-underlinenav-item js-selected-navigation-item">
    
                  <svg aria-hidden="true" height="16" viewBox="0 0 16 16" version="1.1" width="16" data-view-component="true" class="octicon octicon-graph UnderlineNav-octicon d-none d-sm-inline">
    <path fill-rule="evenodd" d="M1.5 1.75a.75.75 0 00-1.5 0v12.5c0 .414.336.75.75.75h14.5a.75.75 0 000-1.5H1.5V1.75zm14.28 2.53a.75.75 0 00-1.06-1.06L10 7.94 7.53 5.47a.75.75 0 00-1.06 0L3.22 8.72a.75.75 0 001.06 1.06L7 7.06l2.47 2.47a.75.75 0 001.06 0l5.25-5.25z"></path>
</svg>
          <span data-content="Insights">Insights</span>
            <span id="insights-repo-tab-count" data-pjax-replace="" title="Not available" data-view-component="true" class="Counter"></span>


    
</a></li>
      <li data-view-component="true" class="d-inline-flex">
  <a id="settings-tab" href="https://github.com/Maher-Zeg/IronMaher/settings" data-tab-item="i7settings-tab" data-selected-links="repo_settings repo_branch_settings collaborators hooks integration_installations repo_keys_settings issue_template_editor secrets_settings_actions secrets_settings_codespaces secrets_settings_dependabot security_analysis key_links_settings repo_actions_settings notifications repository_actions_settings_runners repository_environments interaction_limits repository_actions_settings_general repository_actions_settings_add_new_runner repo_pages_settings /Maher-Zeg/IronMaher/settings" data-pjax="#repo-content-pjax-container" data-ga-click="Repository, Navigation click, Settings tab" data-view-component="true" class="UnderlineNav-item hx_underlinenav-item no-wrap js-responsive-underlinenav-item js-selected-navigation-item">
    
                  <svg aria-hidden="true" height="16" viewBox="0 0 16 16" version="1.1" width="16" data-view-component="true" class="octicon octicon-gear UnderlineNav-octicon d-none d-sm-inline">
    <path fill-rule="evenodd" d="M7.429 1.525a6.593 6.593 0 011.142 0c.036.003.108.036.137.146l.289 1.105c.147.56.55.967.997 1.189.174.086.341.183.501.29.417.278.97.423 1.53.27l1.102-.303c.11-.03.175.016.195.046.219.31.41.641.573.989.014.031.022.11-.059.19l-.815.806c-.411.406-.562.957-.53 1.456a4.588 4.588 0 010 .582c-.032.499.119 1.05.53 1.456l.815.806c.08.08.073.159.059.19a6.494 6.494 0 01-.573.99c-.02.029-.086.074-.195.045l-1.103-.303c-.559-.153-1.112-.008-1.529.27-.16.107-.327.204-.5.29-.449.222-.851.628-.998 1.189l-.289 1.105c-.029.11-.101.143-.137.146a6.613 6.613 0 01-1.142 0c-.036-.003-.108-.037-.137-.146l-.289-1.105c-.147-.56-.55-.967-.997-1.189a4.502 4.502 0 01-.501-.29c-.417-.278-.97-.423-1.53-.27l-1.102.303c-.11.03-.175-.016-.195-.046a6.492 6.492 0 01-.573-.989c-.014-.031-.022-.11.059-.19l.815-.806c.411-.406.562-.957.53-1.456a4.587 4.587 0 010-.582c.032-.499-.119-1.05-.53-1.456l-.815-.806c-.08-.08-.073-.159-.059-.19a6.44 6.44 0 01.573-.99c.02-.029.086-.075.195-.045l1.103.303c.559.153 1.112.008 1.529-.27.16-.107.327-.204.5-.29.449-.222.851-.628.998-1.189l.289-1.105c.029-.11.101-.143.137-.146zM8 0c-.236 0-.47.01-.701.03-.743.065-1.29.615-1.458 1.261l-.29 1.106c-.017.066-.078.158-.211.224a5.994 5.994 0 00-.668.386c-.123.082-.233.09-.3.071L3.27 2.776c-.644-.177-1.392.02-1.82.63a7.977 7.977 0 00-.704 1.217c-.315.675-.111 1.422.363 1.891l.815.806c.05.048.098.147.088.294a6.084 6.084 0 000 .772c.01.147-.038.246-.088.294l-.815.806c-.474.469-.678 1.216-.363 1.891.2.428.436.835.704 1.218.428.609 1.176.806 1.82.63l1.103-.303c.066-.019.176-.011.299.071.213.143.436.272.668.386.133.066.194.158.212.224l.289 1.106c.169.646.715 1.196 1.458 1.26a8.094 8.094 0 001.402 0c.743-.064 1.29-.614 1.458-1.26l.29-1.106c.017-.066.078-.158.211-.224a5.98 5.98 0 00.668-.386c.123-.082.233-.09.3-.071l1.102.302c.644.177 1.392-.02 1.82-.63.268-.382.505-.789.704-1.217.315-.675.111-1.422-.364-1.891l-.814-.806c-.05-.048-.098-.147-.088-.294a6.1 6.1 0 000-.772c-.01-.147.039-.246.088-.294l.814-.806c.475-.469.679-1.216.364-1.891a7.992 7.992 0 00-.704-1.218c-.428-.609-1.176-.806-1.82-.63l-1.103.303c-.066.019-.176.011-.299-.071a5.991 5.991 0 00-.668-.386c-.133-.066-.194-.158-.212-.224L10.16 1.29C9.99.645 9.444.095 8.701.031A8.094 8.094 0 008 0zm1.5 8a1.5 1.5 0 11-3 0 1.5 1.5 0 013 0zM11 8a3 3 0 11-6 0 3 3 0 016 0z"></path>
</svg>
          <span data-content="Settings">Settings</span>
            <span id="settings-repo-tab-count" data-pjax-replace="" title="Not available" data-view-component="true" class="Counter"></span>


    
</a></li>
</ul>
    <div style="visibility:hidden;" data-view-component="true" class="UnderlineNav-actions js-responsive-underlinenav-overflow position-absolute pr-3 pr-md-4 pr-lg-5 right-0">      <details data-view-component="true" class="details-overlay details-reset position-relative">
  <summary role="button" data-view-component="true">          <div class="UnderlineNav-item mr-0 border-0">
            <svg aria-hidden="true" height="16" viewBox="0 0 16 16" version="1.1" width="16" data-view-component="true" class="octicon octicon-kebab-horizontal">
    <path d="M8 9a1.5 1.5 0 100-3 1.5 1.5 0 000 3zM1.5 9a1.5 1.5 0 100-3 1.5 1.5 0 000 3zm13 0a1.5 1.5 0 100-3 1.5 1.5 0 000 3z"></path>
</svg>
            <span class="sr-only">More</span>
          </div>
</summary>
  <div data-view-component="true">          <details-menu role="menu" data-view-component="true" class="dropdown-menu dropdown-menu-sw">
  
            <ul>
                <li data-menu-item="i0code-tab" hidden="">
                  <a role="menuitem" class="js-selected-navigation-item selected dropdown-item" aria-current="page" data-selected-links="repo_source repo_downloads repo_commits repo_releases repo_tags repo_branches repo_packages repo_deployments /Maher-Zeg/IronMaher" href="https://github.com/Maher-Zeg/IronMaher">
                    Code
</a>                </li>
                <li data-menu-item="i1issues-tab" hidden="">
                  <a role="menuitem" class="js-selected-navigation-item dropdown-item" data-selected-links="repo_issues repo_labels repo_milestones /Maher-Zeg/IronMaher/issues" href="https://github.com/Maher-Zeg/IronMaher/issues">
                    Issues
</a>                </li>
                <li data-menu-item="i2pull-requests-tab" hidden="">
                  <a role="menuitem" class="js-selected-navigation-item dropdown-item" data-selected-links="repo_pulls checks /Maher-Zeg/IronMaher/pulls" href="https://github.com/Maher-Zeg/IronMaher/pulls">
                    Pull requests
</a>                </li>
                <li data-menu-item="i3actions-tab" hidden="">
                  <a role="menuitem" class="js-selected-navigation-item dropdown-item" data-selected-links="repo_actions /Maher-Zeg/IronMaher/actions" href="https://github.com/Maher-Zeg/IronMaher/actions">
                    Actions
</a>                </li>
                <li data-menu-item="i4projects-tab" hidden="">
                  <a role="menuitem" class="js-selected-navigation-item dropdown-item" data-selected-links="repo_projects new_repo_project repo_project /Maher-Zeg/IronMaher/projects?type=beta" href="https://github.com/Maher-Zeg/IronMaher/projects?type=beta">
                    Projects
</a>                </li>
                <li data-menu-item="i5security-tab" hidden="">
                  <a role="menuitem" class="js-selected-navigation-item dropdown-item" data-selected-links="security overview alerts policy token_scanning code_scanning /Maher-Zeg/IronMaher/security" href="https://github.com/Maher-Zeg/IronMaher/security">
                    Security
</a>                </li>
                <li data-menu-item="i6insights-tab" hidden="">
                  <a role="menuitem" class="js-selected-navigation-item dropdown-item" data-selected-links="repo_graphs repo_contributors dependency_graph dependabot_updates pulse people community /Maher-Zeg/IronMaher/network/dependencies" href="https://github.com/Maher-Zeg/IronMaher/network/dependencies">
                    Insights
</a>                </li>
                <li data-menu-item="i7settings-tab" hidden="">
                  <a role="menuitem" class="js-selected-navigation-item dropdown-item" data-selected-links="repo_settings repo_branch_settings collaborators hooks integration_installations repo_keys_settings issue_template_editor secrets_settings_actions secrets_settings_codespaces secrets_settings_dependabot security_analysis key_links_settings repo_actions_settings notifications repository_actions_settings_runners repository_environments interaction_limits repository_actions_settings_general repository_actions_settings_add_new_runner repo_pages_settings /Maher-Zeg/IronMaher/settings" href="https://github.com/Maher-Zeg/IronMaher/settings">
                    Settings
</a>                </li>
            </ul>

</details-menu></div>
</details></div>
</nav>
  </div>



<div id="repo-content-pjax-container" class="repository-content ">
  
  


  
      
<div class="clearfix container-xl px-3 px-md-4 px-lg-5 mt-4">

  
<div class="wants-full-width-container"></div>

<a class="d-none js-permalink-shortcut" data-hotkey="y" href="https://github.com/Maher-Zeg/IronMaher/blame/1715f9e72756a8667ec0b5085b78f43f35b8c706/LAB%2031%20encoding/LAB%2031%20encoding.ipynb">Permalink</a>

<div class="breadcrumb css-truncate blame-breadcrumb">
  <span id="blob-path" class="css-truncate-target"><span class="js-repo-root text-bold"><span class="js-path-segment d-inline-block wb-break-all"><a data-pjax="true" href="https://github.com/Maher-Zeg/IronMaher"><span>IronMaher</span></a></span></span><span class="separator">/</span><span class="js-path-segment d-inline-block wb-break-all"><a data-pjax="true" href="https://github.com/Maher-Zeg/IronMaher/tree/main/LAB%2031%20encoding"><span>LAB 31 encoding</span></a></span><span class="separator">/</span><strong class="final-path">LAB 31 encoding.ipynb</strong></span>
  <clipboard-copy aria-label="Copy file path to clipboard" value="LAB 31 encoding/LAB 31 encoding.ipynb" data-view-component="true" class="btn btn-sm" tabindex="0" role="button">
    <svg aria-hidden="true" height="16" viewBox="0 0 16 16" version="1.1" width="16" data-view-component="true" class="octicon octicon-copy" style="display: inline-block;">
    <path fill-rule="evenodd" d="M0 6.75C0 5.784.784 5 1.75 5h1.5a.75.75 0 010 1.5h-1.5a.25.25 0 00-.25.25v7.5c0 .138.112.25.25.25h7.5a.25.25 0 00.25-.25v-1.5a.75.75 0 011.5 0v1.5A1.75 1.75 0 019.25 16h-7.5A1.75 1.75 0 010 14.25v-7.5z"></path><path fill-rule="evenodd" d="M5 1.75C5 .784 5.784 0 6.75 0h7.5C15.216 0 16 .784 16 1.75v7.5A1.75 1.75 0 0114.25 11h-7.5A1.75 1.75 0 015 9.25v-7.5zm1.75-.25a.25.25 0 00-.25.25v7.5c0 .138.112.25.25.25h7.5a.25.25 0 00.25-.25v-7.5a.25.25 0 00-.25-.25h-7.5z"></path>
</svg>
    <svg style="display: none;" aria-hidden="true" height="16" viewBox="0 0 16 16" version="1.1" width="16" data-view-component="true" class="octicon octicon-check color-fg-success">
    <path fill-rule="evenodd" d="M13.78 4.22a.75.75 0 010 1.06l-7.25 7.25a.75.75 0 01-1.06 0L2.22 9.28a.75.75 0 011.06-1.06L6 10.94l6.72-6.72a.75.75 0 011.06 0z"></path>
</svg>
</clipboard-copy>
</div>

<div class="line-age-legend float-right mt-n4 f6">
  <span>Newer</span>
  <ol class="d-inline-block mx-1 list-style-none">
      <li class="heat d-inline-block" data-heat="1"></li>
      <li class="heat d-inline-block" data-heat="2"></li>
      <li class="heat d-inline-block" data-heat="3"></li>
      <li class="heat d-inline-block" data-heat="4"></li>
      <li class="heat d-inline-block" data-heat="5"></li>
      <li class="heat d-inline-block" data-heat="6"></li>
      <li class="heat d-inline-block" data-heat="7"></li>
      <li class="heat d-inline-block" data-heat="8"></li>
      <li class="heat d-inline-block" data-heat="9"></li>
      <li class="heat d-inline-block" data-heat="10"></li>
  </ol>
  <span>Older</span>
</div>


  <div class="file">
    <div class="file-header py-2 pl-3 pr-2">
        <div data-view-component="true" class="js-notice Popover position-absolute ml-3 mt-5 d-none d-sm-none d-md-block d-lg-block left-0">
  <div data-view-component="true" class="Popover-message Box Popover-message--top-left Popover-message--large p-4 mt-2 mx-auto text-left color-shadow-large">
    <h4 data-view-component="true" class="mb-2">            Ignore revisions
</h4>
                You can now hide commits e.g. from automated formatters. <a href="https://docs.github.com/repositories/working-with-files/using-files/viewing-a-file#ignore-commits-in-the-blame-view">Learn more.</a>

            <!-- '"` --><!-- </textarea></xmp> --><form class="mt-3 js-notice-dismiss" data-turbo="false" action="https://github.com/settings/dismiss-notice/blame_ignore_revs" accept-charset="UTF-8" method="post"><input type="hidden" name="authenticity_token" value="GuXcLNaAuJlFjj_ES4Tzbl33pYUs0o34WhVHLUlJWgIrsfquV5XAFoBqxEup8lS0rNGeX8Lm-XLZc4mBZCMD4g">
              <button type="submit" data-view-component="true" class="btn-primary btn">  Got it!
</button></form>
</div></div>
      <div class="file-actions pt-0">
        <div data-view-component="true" class="BtnGroup">
    <a href="https://github.com/Maher-Zeg/IronMaher/raw/main/LAB%2031%20encoding/LAB%2031%20encoding.ipynb" id="raw-url" data-view-component="true" class="btn-sm btn BtnGroup-item">  Raw
</a>
    <a href="https://github.com/Maher-Zeg/IronMaher/blob/main/LAB%2031%20encoding/LAB%2031%20encoding.ipynb" data-view-component="true" class="js-update-url-with-hash btn-sm btn BtnGroup-item">  Normal view
</a>
    <a href="https://github.com/Maher-Zeg/IronMaher/commits/main/LAB%2031%20encoding/LAB%2031%20encoding.ipynb" rel="nofollow" data-view-component="true" class="btn-sm btn BtnGroup-item">  History
</a>
</div>      </div>


  

      <div class="file-info" style="line-height: 28px">
        <span style="margin-left: 2px">
          <svg aria-hidden="true" height="16" viewBox="0 0 16 16" version="1.1" width="16" data-view-component="true" class="octicon octicon-file">
    <path fill-rule="evenodd" d="M3.75 1.5a.25.25 0 00-.25.25v11.5c0 .138.112.25.25.25h8.5a.25.25 0 00.25-.25V6H9.75A1.75 1.75 0 018 4.25V1.5H3.75zm5.75.56v2.19c0 .138.112.25.25.25h2.19L9.5 2.06zM2 1.75C2 .784 2.784 0 3.75 0h5.086c.464 0 .909.184 1.237.513l3.414 3.414c.329.328.513.773.513 1.237v8.086A1.75 1.75 0 0112.25 15h-8.5A1.75 1.75 0 012 13.25V1.75z"></path>
</svg>
        </span>
        <span class="file-mode" title="File Mode">100644</span>
        <span class="file-info-divider"></span>
          316 lines (316 sloc)
          <span class="file-info-divider"></span>
        13.9 KB
      </div>
    </div>

    <div class="blob-wrapper">
      <div class="blame-container  highlight data js-file-line-container tab-size" data-tab-size="8" data-paste-markdown-skip="">

          <div class="blame-hunk d-flex color-border-muted border-bottom">

            <div class="blame-commit flex-self-stretch mr-1" data-heat="10">
              <div class="blame-commit-info pl-3 pr-2">

                <div class="no-wrap d-flex flex-items-start">
                  
<div class="AvatarStack flex-self-start  ">
  <div class="AvatarStack-body" aria-label="Maher-Zeg">
      <a class="avatar avatar-user" style="width:20px;height:20px;" data-skip-pjax="true" data-test-selector="commits-avatar-stack-avatar-link" data-hovercard-type="user" data-hovercard-url="/users/Maher-Zeg/hovercard" data-octo-click="hovercard-link-click" data-octo-dimensions="link_type:self" href="https://github.com/Maher-Zeg">
        <img data-test-selector="commits-avatar-stack-avatar-image" src="./LAB 31 encoding_files/94024100" width="20" height="20" alt="@Maher-Zeg" class=" avatar-user">
</a>  </div>
</div>

                  <div class="blame-commit-content d-flex no-wrap flex-items-center">
                    <div class="blame-commit-message overflow-hidden pt-1 f6">
                      <a class="message f6 color-fg-default markdown-title" data-hovercard-type="commit" data-hovercard-url="/Maher-Zeg/IronMaher/commit/f80b5b1d6450d90785cd6f0ecfa90a4db3b2ff5b/hovercard" data-pjax="true" href="https://github.com/Maher-Zeg/IronMaher/commit/f80b5b1d6450d90785cd6f0ecfa90a4db3b2ff5b">Add files via upload</a>
                    </div>
                  </div>
                  <div class="blame-commit-date ml-3" data-heat="10"><time-ago datetime="2022-01-01T12:58:44Z" data-view-component="true" class="no-wrap" title="1 janv. 2022, 13:58 UTC+1">3 months ago</time-ago></div>
                </div>
              </div>
            </div>

            <div class="blob-reblame pl-1 pr-1">
              
            </div>

            <div class="width-full">
                <div class="d-flex flex-justify-start flex-items-start">
                  <div class="blob-num blame-blob-num color-bg-subtle js-line-number" id="L1">1</div>
                  <div class="blob-code blob-code-inner js-file-line" id="LC1">{</div>
                </div>
                <div class="d-flex flex-justify-start flex-items-start">
                  <div class="blob-num blame-blob-num color-bg-subtle js-line-number" id="L2">2</div>
                  <div class="blob-code blob-code-inner js-file-line" id="LC2"> <span class="pl-ent">"cells"</span>: [</div>
                </div>
                <div class="d-flex flex-justify-start flex-items-start">
                  <div class="blob-num blame-blob-num color-bg-subtle js-line-number" id="L3">3</div>
                  <div class="blob-code blob-code-inner js-file-line" id="LC3">  {</div>
                </div>
                <div class="d-flex flex-justify-start flex-items-start">
                  <div class="blob-num blame-blob-num color-bg-subtle js-line-number" id="L4">4</div>
                  <div class="blob-code blob-code-inner js-file-line" id="LC4">   <span class="pl-ent">"cell_type"</span>: <span class="pl-s"><span class="pl-pds">"</span>code<span class="pl-pds">"</span></span>,</div>
                </div>
                <div class="d-flex flex-justify-start flex-items-start">
                  <div class="blob-num blame-blob-num color-bg-subtle js-line-number" id="L5">5</div>
                  <div class="blob-code blob-code-inner js-file-line" id="LC5">   <span class="pl-ent">"execution_count"</span>: <span class="pl-c1">1</span>,</div>
                </div>
                <div class="d-flex flex-justify-start flex-items-start">
                  <div class="blob-num blame-blob-num color-bg-subtle js-line-number" id="L6">6</div>
                  <div class="blob-code blob-code-inner js-file-line" id="LC6">   <span class="pl-ent">"id"</span>: <span class="pl-s"><span class="pl-pds">"</span>03459ca4<span class="pl-pds">"</span></span>,</div>
                </div>
                <div class="d-flex flex-justify-start flex-items-start">
                  <div class="blob-num blame-blob-num color-bg-subtle js-line-number" id="L7">7</div>
                  <div class="blob-code blob-code-inner js-file-line" id="LC7">   <span class="pl-ent">"metadata"</span>: {},</div>
                </div>
                <div class="d-flex flex-justify-start flex-items-start">
                  <div class="blob-num blame-blob-num color-bg-subtle js-line-number" id="L8">8</div>
                  <div class="blob-code blob-code-inner js-file-line" id="LC8">   <span class="pl-ent">"outputs"</span>: [],</div>
                </div>
                <div class="d-flex flex-justify-start flex-items-start">
                  <div class="blob-num blame-blob-num color-bg-subtle js-line-number" id="L9">9</div>
                  <div class="blob-code blob-code-inner js-file-line" id="LC9">   <span class="pl-ent">"source"</span>: [</div>
                </div>
                <div class="d-flex flex-justify-start flex-items-start">
                  <div class="blob-num blame-blob-num color-bg-subtle js-line-number" id="L10">10</div>
                  <div class="blob-code blob-code-inner js-file-line" id="LC10">    <span class="pl-s"><span class="pl-pds">"</span>import pandas as pd<span class="pl-cce">\n</span><span class="pl-pds">"</span></span>,</div>
                </div>
                <div class="d-flex flex-justify-start flex-items-start">
                  <div class="blob-num blame-blob-num color-bg-subtle js-line-number" id="L11">11</div>
                  <div class="blob-code blob-code-inner js-file-line" id="LC11">    <span class="pl-s"><span class="pl-pds">"</span>import numpy as np<span class="pl-pds">"</span></span></div>
                </div>
                <div class="d-flex flex-justify-start flex-items-start">
                  <div class="blob-num blame-blob-num color-bg-subtle js-line-number" id="L12">12</div>
                  <div class="blob-code blob-code-inner js-file-line" id="LC12">   ]</div>
                </div>
                <div class="d-flex flex-justify-start flex-items-start">
                  <div class="blob-num blame-blob-num color-bg-subtle js-line-number" id="L13">13</div>
                  <div class="blob-code blob-code-inner js-file-line" id="LC13">  },</div>
                </div>
                <div class="d-flex flex-justify-start flex-items-start">
                  <div class="blob-num blame-blob-num color-bg-subtle js-line-number" id="L14">14</div>
                  <div class="blob-code blob-code-inner js-file-line" id="LC14">  {</div>
                </div>
                <div class="d-flex flex-justify-start flex-items-start">
                  <div class="blob-num blame-blob-num color-bg-subtle js-line-number" id="L15">15</div>
                  <div class="blob-code blob-code-inner js-file-line" id="LC15">   <span class="pl-ent">"cell_type"</span>: <span class="pl-s"><span class="pl-pds">"</span>code<span class="pl-pds">"</span></span>,</div>
                </div>
                <div class="d-flex flex-justify-start flex-items-start">
                  <div class="blob-num blame-blob-num color-bg-subtle js-line-number" id="L16">16</div>
                  <div class="blob-code blob-code-inner js-file-line" id="LC16">   <span class="pl-ent">"execution_count"</span>: <span class="pl-c1">2</span>,</div>
                </div>
                <div class="d-flex flex-justify-start flex-items-start">
                  <div class="blob-num blame-blob-num color-bg-subtle js-line-number" id="L17">17</div>
                  <div class="blob-code blob-code-inner js-file-line" id="LC17">   <span class="pl-ent">"id"</span>: <span class="pl-s"><span class="pl-pds">"</span>64ffe121<span class="pl-pds">"</span></span>,</div>
                </div>
                <div class="d-flex flex-justify-start flex-items-start">
                  <div class="blob-num blame-blob-num color-bg-subtle js-line-number" id="L18">18</div>
                  <div class="blob-code blob-code-inner js-file-line" id="LC18">   <span class="pl-ent">"metadata"</span>: {},</div>
                </div>
                <div class="d-flex flex-justify-start flex-items-start">
                  <div class="blob-num blame-blob-num color-bg-subtle js-line-number" id="L19">19</div>
                  <div class="blob-code blob-code-inner js-file-line" id="LC19">   <span class="pl-ent">"outputs"</span>: [],</div>
                </div>
                <div class="d-flex flex-justify-start flex-items-start">
                  <div class="blob-num blame-blob-num color-bg-subtle js-line-number" id="L20">20</div>
                  <div class="blob-code blob-code-inner js-file-line" id="LC20">   <span class="pl-ent">"source"</span>: [</div>
                </div>
                <div class="d-flex flex-justify-start flex-items-start">
                  <div class="blob-num blame-blob-num color-bg-subtle js-line-number" id="L21">21</div>
                  <div class="blob-code blob-code-inner js-file-line" id="LC21">    <span class="pl-s"><span class="pl-pds">"</span>data = {'TransactionID': [1,2,3,4,5], <span class="pl-cce">\n</span><span class="pl-pds">"</span></span>,</div>
                </div>
                <div class="d-flex flex-justify-start flex-items-start">
                  <div class="blob-num blame-blob-num color-bg-subtle js-line-number" id="L22">22</div>
                  <div class="blob-code blob-code-inner js-file-line" id="LC22">    <span class="pl-s"><span class="pl-pds">"</span>        'ClientID': [231, 765, 453, 231, 892], <span class="pl-cce">\n</span><span class="pl-pds">"</span></span>,</div>
                </div>
                <div class="d-flex flex-justify-start flex-items-start">
                  <div class="blob-num blame-blob-num color-bg-subtle js-line-number" id="L23">23</div>
                  <div class="blob-code blob-code-inner js-file-line" id="LC23">    <span class="pl-s"><span class="pl-pds">"</span>        'Profession':['Self-employed', 'students', 'Horeca', 'self-employed','finance'],<span class="pl-cce">\n</span><span class="pl-pds">"</span></span>,</div>
                </div>
                <div class="d-flex flex-justify-start flex-items-start">
                  <div class="blob-num blame-blob-num color-bg-subtle js-line-number" id="L24">24</div>
                  <div class="blob-code blob-code-inner js-file-line" id="LC24">    <span class="pl-s"><span class="pl-pds">"</span>        'Bank_dep': ['009', '005', '007', '009','003'],<span class="pl-cce">\n</span><span class="pl-pds">"</span></span>,</div>
                </div>
                <div class="d-flex flex-justify-start flex-items-start">
                  <div class="blob-num blame-blob-num color-bg-subtle js-line-number" id="L25">25</div>
                  <div class="blob-code blob-code-inner js-file-line" id="LC25">    <span class="pl-s"><span class="pl-pds">"</span>        'Risk': ['High', 'high', 'medium', 'high','low'],<span class="pl-cce">\n</span><span class="pl-pds">"</span></span>,</div>
                </div>
                <div class="d-flex flex-justify-start flex-items-start">
                  <div class="blob-num blame-blob-num color-bg-subtle js-line-number" id="L26">26</div>
                  <div class="blob-code blob-code-inner js-file-line" id="LC26">    <span class="pl-s"><span class="pl-pds">"</span>        'Number of credits': [2, 3, 5, 2, 3],<span class="pl-cce">\n</span><span class="pl-pds">"</span></span>,</div>
                </div>
                <div class="d-flex flex-justify-start flex-items-start">
                  <div class="blob-num blame-blob-num color-bg-subtle js-line-number" id="L27">27</div>
                  <div class="blob-code blob-code-inner js-file-line" id="LC27">    <span class="pl-s"><span class="pl-pds">"</span>        'Revenue': [30200, 12700, 89400, '30200',740000]}<span class="pl-pds">"</span></span></div>
                </div>
                <div class="d-flex flex-justify-start flex-items-start">
                  <div class="blob-num blame-blob-num color-bg-subtle js-line-number" id="L28">28</div>
                  <div class="blob-code blob-code-inner js-file-line" id="LC28">   ]</div>
                </div>
                <div class="d-flex flex-justify-start flex-items-start">
                  <div class="blob-num blame-blob-num color-bg-subtle js-line-number" id="L29">29</div>
                  <div class="blob-code blob-code-inner js-file-line" id="LC29">  },</div>
                </div>
                <div class="d-flex flex-justify-start flex-items-start">
                  <div class="blob-num blame-blob-num color-bg-subtle js-line-number" id="L30">30</div>
                  <div class="blob-code blob-code-inner js-file-line" id="LC30">  {</div>
                </div>
                <div class="d-flex flex-justify-start flex-items-start">
                  <div class="blob-num blame-blob-num color-bg-subtle js-line-number" id="L31">31</div>
                  <div class="blob-code blob-code-inner js-file-line" id="LC31">   <span class="pl-ent">"cell_type"</span>: <span class="pl-s"><span class="pl-pds">"</span>code<span class="pl-pds">"</span></span>,</div>
                </div>
                <div class="d-flex flex-justify-start flex-items-start">
                  <div class="blob-num blame-blob-num color-bg-subtle js-line-number" id="L32">32</div>
                  <div class="blob-code blob-code-inner js-file-line" id="LC32">   <span class="pl-ent">"execution_count"</span>: <span class="pl-c1">3</span>,</div>
                </div>
                <div class="d-flex flex-justify-start flex-items-start">
                  <div class="blob-num blame-blob-num color-bg-subtle js-line-number" id="L33">33</div>
                  <div class="blob-code blob-code-inner js-file-line" id="LC33">   <span class="pl-ent">"id"</span>: <span class="pl-s"><span class="pl-pds">"</span>95e9fc0e<span class="pl-pds">"</span></span>,</div>
                </div>
                <div class="d-flex flex-justify-start flex-items-start">
                  <div class="blob-num blame-blob-num color-bg-subtle js-line-number" id="L34">34</div>
                  <div class="blob-code blob-code-inner js-file-line" id="LC34">   <span class="pl-ent">"metadata"</span>: {},</div>
                </div>
                <div class="d-flex flex-justify-start flex-items-start">
                  <div class="blob-num blame-blob-num color-bg-subtle js-line-number" id="L35">35</div>
                  <div class="blob-code blob-code-inner js-file-line" id="LC35">   <span class="pl-ent">"outputs"</span>: [</div>
                </div>
                <div class="d-flex flex-justify-start flex-items-start">
                  <div class="blob-num blame-blob-num color-bg-subtle js-line-number" id="L36">36</div>
                  <div class="blob-code blob-code-inner js-file-line" id="LC36">    {</div>
                </div>
                <div class="d-flex flex-justify-start flex-items-start">
                  <div class="blob-num blame-blob-num color-bg-subtle js-line-number" id="L37">37</div>
                  <div class="blob-code blob-code-inner js-file-line" id="LC37">     <span class="pl-ent">"data"</span>: {</div>
                </div>
                <div class="d-flex flex-justify-start flex-items-start">
                  <div class="blob-num blame-blob-num color-bg-subtle js-line-number" id="L38">38</div>
                  <div class="blob-code blob-code-inner js-file-line" id="LC38">      <span class="pl-ent">"text/html"</span>: [</div>
                </div>
                <div class="d-flex flex-justify-start flex-items-start">
                  <div class="blob-num blame-blob-num color-bg-subtle js-line-number" id="L39">39</div>
                  <div class="blob-code blob-code-inner js-file-line" id="LC39">       <span class="pl-s"><span class="pl-pds">"</span>&lt;div&gt;<span class="pl-cce">\n</span><span class="pl-pds">"</span></span>,</div>
                </div>
                <div class="d-flex flex-justify-start flex-items-start">
                  <div class="blob-num blame-blob-num color-bg-subtle js-line-number" id="L40">40</div>
                  <div class="blob-code blob-code-inner js-file-line" id="LC40">       <span class="pl-s"><span class="pl-pds">"</span>&lt;style scoped&gt;<span class="pl-cce">\n</span><span class="pl-pds">"</span></span>,</div>
                </div>
                <div class="d-flex flex-justify-start flex-items-start">
                  <div class="blob-num blame-blob-num color-bg-subtle js-line-number" id="L41">41</div>
                  <div class="blob-code blob-code-inner js-file-line" id="LC41">       <span class="pl-s"><span class="pl-pds">"</span>    .dataframe tbody tr th:only-of-type {<span class="pl-cce">\n</span><span class="pl-pds">"</span></span>,</div>
                </div>
                <div class="d-flex flex-justify-start flex-items-start">
                  <div class="blob-num blame-blob-num color-bg-subtle js-line-number" id="L42">42</div>
                  <div class="blob-code blob-code-inner js-file-line" id="LC42">       <span class="pl-s"><span class="pl-pds">"</span>        vertical-align: middle;<span class="pl-cce">\n</span><span class="pl-pds">"</span></span>,</div>
                </div>
                <div class="d-flex flex-justify-start flex-items-start">
                  <div class="blob-num blame-blob-num color-bg-subtle js-line-number" id="L43">43</div>
                  <div class="blob-code blob-code-inner js-file-line" id="LC43">       <span class="pl-s"><span class="pl-pds">"</span>    }<span class="pl-cce">\n</span><span class="pl-pds">"</span></span>,</div>
                </div>
                <div class="d-flex flex-justify-start flex-items-start">
                  <div class="blob-num blame-blob-num color-bg-subtle js-line-number" id="L44">44</div>
                  <div class="blob-code blob-code-inner js-file-line" id="LC44">       <span class="pl-s"><span class="pl-pds">"</span><span class="pl-cce">\n</span><span class="pl-pds">"</span></span>,</div>
                </div>
                <div class="d-flex flex-justify-start flex-items-start">
                  <div class="blob-num blame-blob-num color-bg-subtle js-line-number" id="L45">45</div>
                  <div class="blob-code blob-code-inner js-file-line" id="LC45">       <span class="pl-s"><span class="pl-pds">"</span>    .dataframe tbody tr th {<span class="pl-cce">\n</span><span class="pl-pds">"</span></span>,</div>
                </div>
                <div class="d-flex flex-justify-start flex-items-start">
                  <div class="blob-num blame-blob-num color-bg-subtle js-line-number" id="L46">46</div>
                  <div class="blob-code blob-code-inner js-file-line" id="LC46">       <span class="pl-s"><span class="pl-pds">"</span>        vertical-align: top;<span class="pl-cce">\n</span><span class="pl-pds">"</span></span>,</div>
                </div>
                <div class="d-flex flex-justify-start flex-items-start">
                  <div class="blob-num blame-blob-num color-bg-subtle js-line-number" id="L47">47</div>
                  <div class="blob-code blob-code-inner js-file-line" id="LC47">       <span class="pl-s"><span class="pl-pds">"</span>    }<span class="pl-cce">\n</span><span class="pl-pds">"</span></span>,</div>
                </div>
                <div class="d-flex flex-justify-start flex-items-start">
                  <div class="blob-num blame-blob-num color-bg-subtle js-line-number" id="L48">48</div>
                  <div class="blob-code blob-code-inner js-file-line" id="LC48">       <span class="pl-s"><span class="pl-pds">"</span><span class="pl-cce">\n</span><span class="pl-pds">"</span></span>,</div>
                </div>
                <div class="d-flex flex-justify-start flex-items-start">
                  <div class="blob-num blame-blob-num color-bg-subtle js-line-number" id="L49">49</div>
                  <div class="blob-code blob-code-inner js-file-line" id="LC49">       <span class="pl-s"><span class="pl-pds">"</span>    .dataframe thead th {<span class="pl-cce">\n</span><span class="pl-pds">"</span></span>,</div>
                </div>
                <div class="d-flex flex-justify-start flex-items-start">
                  <div class="blob-num blame-blob-num color-bg-subtle js-line-number" id="L50">50</div>
                  <div class="blob-code blob-code-inner js-file-line" id="LC50">       <span class="pl-s"><span class="pl-pds">"</span>        text-align: right;<span class="pl-cce">\n</span><span class="pl-pds">"</span></span>,</div>
                </div>
                <div class="d-flex flex-justify-start flex-items-start">
                  <div class="blob-num blame-blob-num color-bg-subtle js-line-number" id="L51">51</div>
                  <div class="blob-code blob-code-inner js-file-line" id="LC51">       <span class="pl-s"><span class="pl-pds">"</span>    }<span class="pl-cce">\n</span><span class="pl-pds">"</span></span>,</div>
                </div>
                <div class="d-flex flex-justify-start flex-items-start">
                  <div class="blob-num blame-blob-num color-bg-subtle js-line-number" id="L52">52</div>
                  <div class="blob-code blob-code-inner js-file-line" id="LC52">       <span class="pl-s"><span class="pl-pds">"</span>&lt;/style&gt;<span class="pl-cce">\n</span><span class="pl-pds">"</span></span>,</div>
                </div>
                <div class="d-flex flex-justify-start flex-items-start">
                  <div class="blob-num blame-blob-num color-bg-subtle js-line-number" id="L53">53</div>
                  <div class="blob-code blob-code-inner js-file-line" id="LC53">       <span class="pl-s"><span class="pl-pds">"</span>&lt;table border=<span class="pl-cce">\"</span>1<span class="pl-cce">\"</span> class=<span class="pl-cce">\"</span>dataframe<span class="pl-cce">\"</span>&gt;<span class="pl-cce">\n</span><span class="pl-pds">"</span></span>,</div>
                </div>
                <div class="d-flex flex-justify-start flex-items-start">
                  <div class="blob-num blame-blob-num color-bg-subtle js-line-number" id="L54">54</div>
                  <div class="blob-code blob-code-inner js-file-line" id="LC54">       <span class="pl-s"><span class="pl-pds">"</span>  &lt;thead&gt;<span class="pl-cce">\n</span><span class="pl-pds">"</span></span>,</div>
                </div>
                <div class="d-flex flex-justify-start flex-items-start">
                  <div class="blob-num blame-blob-num color-bg-subtle js-line-number" id="L55">55</div>
                  <div class="blob-code blob-code-inner js-file-line" id="LC55">       <span class="pl-s"><span class="pl-pds">"</span>    &lt;tr style=<span class="pl-cce">\"</span>text-align: right;<span class="pl-cce">\"</span>&gt;<span class="pl-cce">\n</span><span class="pl-pds">"</span></span>,</div>
                </div>
                <div class="d-flex flex-justify-start flex-items-start">
                  <div class="blob-num blame-blob-num color-bg-subtle js-line-number" id="L56">56</div>
                  <div class="blob-code blob-code-inner js-file-line" id="LC56">       <span class="pl-s"><span class="pl-pds">"</span>      &lt;th&gt;&lt;/th&gt;<span class="pl-cce">\n</span><span class="pl-pds">"</span></span>,</div>
                </div>
                <div class="d-flex flex-justify-start flex-items-start">
                  <div class="blob-num blame-blob-num color-bg-subtle js-line-number" id="L57">57</div>
                  <div class="blob-code blob-code-inner js-file-line" id="LC57">       <span class="pl-s"><span class="pl-pds">"</span>      &lt;th&gt;TransactionID&lt;/th&gt;<span class="pl-cce">\n</span><span class="pl-pds">"</span></span>,</div>
                </div>
                <div class="d-flex flex-justify-start flex-items-start">
                  <div class="blob-num blame-blob-num color-bg-subtle js-line-number" id="L58">58</div>
                  <div class="blob-code blob-code-inner js-file-line" id="LC58">       <span class="pl-s"><span class="pl-pds">"</span>      &lt;th&gt;ClientID&lt;/th&gt;<span class="pl-cce">\n</span><span class="pl-pds">"</span></span>,</div>
                </div>
                <div class="d-flex flex-justify-start flex-items-start">
                  <div class="blob-num blame-blob-num color-bg-subtle js-line-number" id="L59">59</div>
                  <div class="blob-code blob-code-inner js-file-line" id="LC59">       <span class="pl-s"><span class="pl-pds">"</span>      &lt;th&gt;Profession&lt;/th&gt;<span class="pl-cce">\n</span><span class="pl-pds">"</span></span>,</div>
                </div>
                <div class="d-flex flex-justify-start flex-items-start">
                  <div class="blob-num blame-blob-num color-bg-subtle js-line-number" id="L60">60</div>
                  <div class="blob-code blob-code-inner js-file-line" id="LC60">       <span class="pl-s"><span class="pl-pds">"</span>      &lt;th&gt;Bank_dep&lt;/th&gt;<span class="pl-cce">\n</span><span class="pl-pds">"</span></span>,</div>
                </div>
                <div class="d-flex flex-justify-start flex-items-start">
                  <div class="blob-num blame-blob-num color-bg-subtle js-line-number" id="L61">61</div>
                  <div class="blob-code blob-code-inner js-file-line" id="LC61">       <span class="pl-s"><span class="pl-pds">"</span>      &lt;th&gt;Risk&lt;/th&gt;<span class="pl-cce">\n</span><span class="pl-pds">"</span></span>,</div>
                </div>
                <div class="d-flex flex-justify-start flex-items-start">
                  <div class="blob-num blame-blob-num color-bg-subtle js-line-number" id="L62">62</div>
                  <div class="blob-code blob-code-inner js-file-line" id="LC62">       <span class="pl-s"><span class="pl-pds">"</span>      &lt;th&gt;Number of credits&lt;/th&gt;<span class="pl-cce">\n</span><span class="pl-pds">"</span></span>,</div>
                </div>
                <div class="d-flex flex-justify-start flex-items-start">
                  <div class="blob-num blame-blob-num color-bg-subtle js-line-number" id="L63">63</div>
                  <div class="blob-code blob-code-inner js-file-line" id="LC63">       <span class="pl-s"><span class="pl-pds">"</span>      &lt;th&gt;Revenue&lt;/th&gt;<span class="pl-cce">\n</span><span class="pl-pds">"</span></span>,</div>
                </div>
                <div class="d-flex flex-justify-start flex-items-start">
                  <div class="blob-num blame-blob-num color-bg-subtle js-line-number" id="L64">64</div>
                  <div class="blob-code blob-code-inner js-file-line" id="LC64">       <span class="pl-s"><span class="pl-pds">"</span>    &lt;/tr&gt;<span class="pl-cce">\n</span><span class="pl-pds">"</span></span>,</div>
                </div>
                <div class="d-flex flex-justify-start flex-items-start">
                  <div class="blob-num blame-blob-num color-bg-subtle js-line-number" id="L65">65</div>
                  <div class="blob-code blob-code-inner js-file-line" id="LC65">       <span class="pl-s"><span class="pl-pds">"</span>  &lt;/thead&gt;<span class="pl-cce">\n</span><span class="pl-pds">"</span></span>,</div>
                </div>
                <div class="d-flex flex-justify-start flex-items-start">
                  <div class="blob-num blame-blob-num color-bg-subtle js-line-number" id="L66">66</div>
                  <div class="blob-code blob-code-inner js-file-line" id="LC66">       <span class="pl-s"><span class="pl-pds">"</span>  &lt;tbody&gt;<span class="pl-cce">\n</span><span class="pl-pds">"</span></span>,</div>
                </div>
                <div class="d-flex flex-justify-start flex-items-start">
                  <div class="blob-num blame-blob-num color-bg-subtle js-line-number" id="L67">67</div>
                  <div class="blob-code blob-code-inner js-file-line" id="LC67">       <span class="pl-s"><span class="pl-pds">"</span>    &lt;tr&gt;<span class="pl-cce">\n</span><span class="pl-pds">"</span></span>,</div>
                </div>
                <div class="d-flex flex-justify-start flex-items-start">
                  <div class="blob-num blame-blob-num color-bg-subtle js-line-number" id="L68">68</div>
                  <div class="blob-code blob-code-inner js-file-line" id="LC68">       <span class="pl-s"><span class="pl-pds">"</span>      &lt;th&gt;0&lt;/th&gt;<span class="pl-cce">\n</span><span class="pl-pds">"</span></span>,</div>
                </div>
                <div class="d-flex flex-justify-start flex-items-start">
                  <div class="blob-num blame-blob-num color-bg-subtle js-line-number" id="L69">69</div>
                  <div class="blob-code blob-code-inner js-file-line" id="LC69">       <span class="pl-s"><span class="pl-pds">"</span>      &lt;td&gt;1&lt;/td&gt;<span class="pl-cce">\n</span><span class="pl-pds">"</span></span>,</div>
                </div>
                <div class="d-flex flex-justify-start flex-items-start">
                  <div class="blob-num blame-blob-num color-bg-subtle js-line-number" id="L70">70</div>
                  <div class="blob-code blob-code-inner js-file-line" id="LC70">       <span class="pl-s"><span class="pl-pds">"</span>      &lt;td&gt;231&lt;/td&gt;<span class="pl-cce">\n</span><span class="pl-pds">"</span></span>,</div>
                </div>
                <div class="d-flex flex-justify-start flex-items-start">
                  <div class="blob-num blame-blob-num color-bg-subtle js-line-number" id="L71">71</div>
                  <div class="blob-code blob-code-inner js-file-line" id="LC71">       <span class="pl-s"><span class="pl-pds">"</span>      &lt;td&gt;Self-employed&lt;/td&gt;<span class="pl-cce">\n</span><span class="pl-pds">"</span></span>,</div>
                </div>
                <div class="d-flex flex-justify-start flex-items-start">
                  <div class="blob-num blame-blob-num color-bg-subtle js-line-number" id="L72">72</div>
                  <div class="blob-code blob-code-inner js-file-line" id="LC72">       <span class="pl-s"><span class="pl-pds">"</span>      &lt;td&gt;009&lt;/td&gt;<span class="pl-cce">\n</span><span class="pl-pds">"</span></span>,</div>
                </div>
                <div class="d-flex flex-justify-start flex-items-start">
                  <div class="blob-num blame-blob-num color-bg-subtle js-line-number" id="L73">73</div>
                  <div class="blob-code blob-code-inner js-file-line" id="LC73">       <span class="pl-s"><span class="pl-pds">"</span>      &lt;td&gt;High&lt;/td&gt;<span class="pl-cce">\n</span><span class="pl-pds">"</span></span>,</div>
                </div>
                <div class="d-flex flex-justify-start flex-items-start">
                  <div class="blob-num blame-blob-num color-bg-subtle js-line-number" id="L74">74</div>
                  <div class="blob-code blob-code-inner js-file-line" id="LC74">       <span class="pl-s"><span class="pl-pds">"</span>      &lt;td&gt;2&lt;/td&gt;<span class="pl-cce">\n</span><span class="pl-pds">"</span></span>,</div>
                </div>
                <div class="d-flex flex-justify-start flex-items-start">
                  <div class="blob-num blame-blob-num color-bg-subtle js-line-number" id="L75">75</div>
                  <div class="blob-code blob-code-inner js-file-line" id="LC75">       <span class="pl-s"><span class="pl-pds">"</span>      &lt;td&gt;30200&lt;/td&gt;<span class="pl-cce">\n</span><span class="pl-pds">"</span></span>,</div>
                </div>
                <div class="d-flex flex-justify-start flex-items-start">
                  <div class="blob-num blame-blob-num color-bg-subtle js-line-number" id="L76">76</div>
                  <div class="blob-code blob-code-inner js-file-line" id="LC76">       <span class="pl-s"><span class="pl-pds">"</span>    &lt;/tr&gt;<span class="pl-cce">\n</span><span class="pl-pds">"</span></span>,</div>
                </div>
                <div class="d-flex flex-justify-start flex-items-start">
                  <div class="blob-num blame-blob-num color-bg-subtle js-line-number" id="L77">77</div>
                  <div class="blob-code blob-code-inner js-file-line" id="LC77">       <span class="pl-s"><span class="pl-pds">"</span>    &lt;tr&gt;<span class="pl-cce">\n</span><span class="pl-pds">"</span></span>,</div>
                </div>
                <div class="d-flex flex-justify-start flex-items-start">
                  <div class="blob-num blame-blob-num color-bg-subtle js-line-number" id="L78">78</div>
                  <div class="blob-code blob-code-inner js-file-line" id="LC78">       <span class="pl-s"><span class="pl-pds">"</span>      &lt;th&gt;1&lt;/th&gt;<span class="pl-cce">\n</span><span class="pl-pds">"</span></span>,</div>
                </div>
                <div class="d-flex flex-justify-start flex-items-start">
                  <div class="blob-num blame-blob-num color-bg-subtle js-line-number" id="L79">79</div>
                  <div class="blob-code blob-code-inner js-file-line" id="LC79">       <span class="pl-s"><span class="pl-pds">"</span>      &lt;td&gt;2&lt;/td&gt;<span class="pl-cce">\n</span><span class="pl-pds">"</span></span>,</div>
                </div>
                <div class="d-flex flex-justify-start flex-items-start">
                  <div class="blob-num blame-blob-num color-bg-subtle js-line-number" id="L80">80</div>
                  <div class="blob-code blob-code-inner js-file-line" id="LC80">       <span class="pl-s"><span class="pl-pds">"</span>      &lt;td&gt;765&lt;/td&gt;<span class="pl-cce">\n</span><span class="pl-pds">"</span></span>,</div>
                </div>
                <div class="d-flex flex-justify-start flex-items-start">
                  <div class="blob-num blame-blob-num color-bg-subtle js-line-number" id="L81">81</div>
                  <div class="blob-code blob-code-inner js-file-line" id="LC81">       <span class="pl-s"><span class="pl-pds">"</span>      &lt;td&gt;students&lt;/td&gt;<span class="pl-cce">\n</span><span class="pl-pds">"</span></span>,</div>
                </div>
                <div class="d-flex flex-justify-start flex-items-start">
                  <div class="blob-num blame-blob-num color-bg-subtle js-line-number" id="L82">82</div>
                  <div class="blob-code blob-code-inner js-file-line" id="LC82">       <span class="pl-s"><span class="pl-pds">"</span>      &lt;td&gt;005&lt;/td&gt;<span class="pl-cce">\n</span><span class="pl-pds">"</span></span>,</div>
                </div>
                <div class="d-flex flex-justify-start flex-items-start">
                  <div class="blob-num blame-blob-num color-bg-subtle js-line-number" id="L83">83</div>
                  <div class="blob-code blob-code-inner js-file-line" id="LC83">       <span class="pl-s"><span class="pl-pds">"</span>      &lt;td&gt;high&lt;/td&gt;<span class="pl-cce">\n</span><span class="pl-pds">"</span></span>,</div>
                </div>
                <div class="d-flex flex-justify-start flex-items-start">
                  <div class="blob-num blame-blob-num color-bg-subtle js-line-number" id="L84">84</div>
                  <div class="blob-code blob-code-inner js-file-line" id="LC84">       <span class="pl-s"><span class="pl-pds">"</span>      &lt;td&gt;3&lt;/td&gt;<span class="pl-cce">\n</span><span class="pl-pds">"</span></span>,</div>
                </div>
                <div class="d-flex flex-justify-start flex-items-start">
                  <div class="blob-num blame-blob-num color-bg-subtle js-line-number" id="L85">85</div>
                  <div class="blob-code blob-code-inner js-file-line" id="LC85">       <span class="pl-s"><span class="pl-pds">"</span>      &lt;td&gt;12700&lt;/td&gt;<span class="pl-cce">\n</span><span class="pl-pds">"</span></span>,</div>
                </div>
                <div class="d-flex flex-justify-start flex-items-start">
                  <div class="blob-num blame-blob-num color-bg-subtle js-line-number" id="L86">86</div>
                  <div class="blob-code blob-code-inner js-file-line" id="LC86">       <span class="pl-s"><span class="pl-pds">"</span>    &lt;/tr&gt;<span class="pl-cce">\n</span><span class="pl-pds">"</span></span>,</div>
                </div>
                <div class="d-flex flex-justify-start flex-items-start">
                  <div class="blob-num blame-blob-num color-bg-subtle js-line-number" id="L87">87</div>
                  <div class="blob-code blob-code-inner js-file-line" id="LC87">       <span class="pl-s"><span class="pl-pds">"</span>    &lt;tr&gt;<span class="pl-cce">\n</span><span class="pl-pds">"</span></span>,</div>
                </div>
                <div class="d-flex flex-justify-start flex-items-start">
                  <div class="blob-num blame-blob-num color-bg-subtle js-line-number" id="L88">88</div>
                  <div class="blob-code blob-code-inner js-file-line" id="LC88">       <span class="pl-s"><span class="pl-pds">"</span>      &lt;th&gt;2&lt;/th&gt;<span class="pl-cce">\n</span><span class="pl-pds">"</span></span>,</div>
                </div>
                <div class="d-flex flex-justify-start flex-items-start">
                  <div class="blob-num blame-blob-num color-bg-subtle js-line-number" id="L89">89</div>
                  <div class="blob-code blob-code-inner js-file-line" id="LC89">       <span class="pl-s"><span class="pl-pds">"</span>      &lt;td&gt;3&lt;/td&gt;<span class="pl-cce">\n</span><span class="pl-pds">"</span></span>,</div>
                </div>
                <div class="d-flex flex-justify-start flex-items-start">
                  <div class="blob-num blame-blob-num color-bg-subtle js-line-number" id="L90">90</div>
                  <div class="blob-code blob-code-inner js-file-line" id="LC90">       <span class="pl-s"><span class="pl-pds">"</span>      &lt;td&gt;453&lt;/td&gt;<span class="pl-cce">\n</span><span class="pl-pds">"</span></span>,</div>
                </div>
                <div class="d-flex flex-justify-start flex-items-start">
                  <div class="blob-num blame-blob-num color-bg-subtle js-line-number" id="L91">91</div>
                  <div class="blob-code blob-code-inner js-file-line" id="LC91">       <span class="pl-s"><span class="pl-pds">"</span>      &lt;td&gt;Horeca&lt;/td&gt;<span class="pl-cce">\n</span><span class="pl-pds">"</span></span>,</div>
                </div>
                <div class="d-flex flex-justify-start flex-items-start">
                  <div class="blob-num blame-blob-num color-bg-subtle js-line-number" id="L92">92</div>
                  <div class="blob-code blob-code-inner js-file-line" id="LC92">       <span class="pl-s"><span class="pl-pds">"</span>      &lt;td&gt;007&lt;/td&gt;<span class="pl-cce">\n</span><span class="pl-pds">"</span></span>,</div>
                </div>
                <div class="d-flex flex-justify-start flex-items-start">
                  <div class="blob-num blame-blob-num color-bg-subtle js-line-number" id="L93">93</div>
                  <div class="blob-code blob-code-inner js-file-line" id="LC93">       <span class="pl-s"><span class="pl-pds">"</span>      &lt;td&gt;medium&lt;/td&gt;<span class="pl-cce">\n</span><span class="pl-pds">"</span></span>,</div>
                </div>
                <div class="d-flex flex-justify-start flex-items-start">
                  <div class="blob-num blame-blob-num color-bg-subtle js-line-number" id="L94">94</div>
                  <div class="blob-code blob-code-inner js-file-line" id="LC94">       <span class="pl-s"><span class="pl-pds">"</span>      &lt;td&gt;5&lt;/td&gt;<span class="pl-cce">\n</span><span class="pl-pds">"</span></span>,</div>
                </div>
                <div class="d-flex flex-justify-start flex-items-start">
                  <div class="blob-num blame-blob-num color-bg-subtle js-line-number" id="L95">95</div>
                  <div class="blob-code blob-code-inner js-file-line" id="LC95">       <span class="pl-s"><span class="pl-pds">"</span>      &lt;td&gt;89400&lt;/td&gt;<span class="pl-cce">\n</span><span class="pl-pds">"</span></span>,</div>
                </div>
                <div class="d-flex flex-justify-start flex-items-start">
                  <div class="blob-num blame-blob-num color-bg-subtle js-line-number" id="L96">96</div>
                  <div class="blob-code blob-code-inner js-file-line" id="LC96">       <span class="pl-s"><span class="pl-pds">"</span>    &lt;/tr&gt;<span class="pl-cce">\n</span><span class="pl-pds">"</span></span>,</div>
                </div>
                <div class="d-flex flex-justify-start flex-items-start">
                  <div class="blob-num blame-blob-num color-bg-subtle js-line-number" id="L97">97</div>
                  <div class="blob-code blob-code-inner js-file-line" id="LC97">       <span class="pl-s"><span class="pl-pds">"</span>    &lt;tr&gt;<span class="pl-cce">\n</span><span class="pl-pds">"</span></span>,</div>
                </div>
                <div class="d-flex flex-justify-start flex-items-start">
                  <div class="blob-num blame-blob-num color-bg-subtle js-line-number" id="L98">98</div>
                  <div class="blob-code blob-code-inner js-file-line" id="LC98">       <span class="pl-s"><span class="pl-pds">"</span>      &lt;th&gt;3&lt;/th&gt;<span class="pl-cce">\n</span><span class="pl-pds">"</span></span>,</div>
                </div>
                <div class="d-flex flex-justify-start flex-items-start">
                  <div class="blob-num blame-blob-num color-bg-subtle js-line-number" id="L99">99</div>
                  <div class="blob-code blob-code-inner js-file-line" id="LC99">       <span class="pl-s"><span class="pl-pds">"</span>      &lt;td&gt;4&lt;/td&gt;<span class="pl-cce">\n</span><span class="pl-pds">"</span></span>,</div>
                </div>
                <div class="d-flex flex-justify-start flex-items-start">
                  <div class="blob-num blame-blob-num color-bg-subtle js-line-number" id="L100">100</div>
                  <div class="blob-code blob-code-inner js-file-line" id="LC100">       <span class="pl-s"><span class="pl-pds">"</span>      &lt;td&gt;231&lt;/td&gt;<span class="pl-cce">\n</span><span class="pl-pds">"</span></span>,</div>
                </div>
                <div class="d-flex flex-justify-start flex-items-start">
                  <div class="blob-num blame-blob-num color-bg-subtle js-line-number" id="L101">101</div>
                  <div class="blob-code blob-code-inner js-file-line" id="LC101">       <span class="pl-s"><span class="pl-pds">"</span>      &lt;td&gt;self-employed&lt;/td&gt;<span class="pl-cce">\n</span><span class="pl-pds">"</span></span>,</div>
                </div>
                <div class="d-flex flex-justify-start flex-items-start">
                  <div class="blob-num blame-blob-num color-bg-subtle js-line-number" id="L102">102</div>
                  <div class="blob-code blob-code-inner js-file-line" id="LC102">       <span class="pl-s"><span class="pl-pds">"</span>      &lt;td&gt;009&lt;/td&gt;<span class="pl-cce">\n</span><span class="pl-pds">"</span></span>,</div>
                </div>
                <div class="d-flex flex-justify-start flex-items-start">
                  <div class="blob-num blame-blob-num color-bg-subtle js-line-number" id="L103">103</div>
                  <div class="blob-code blob-code-inner js-file-line" id="LC103">       <span class="pl-s"><span class="pl-pds">"</span>      &lt;td&gt;high&lt;/td&gt;<span class="pl-cce">\n</span><span class="pl-pds">"</span></span>,</div>
                </div>
                <div class="d-flex flex-justify-start flex-items-start">
                  <div class="blob-num blame-blob-num color-bg-subtle js-line-number" id="L104">104</div>
                  <div class="blob-code blob-code-inner js-file-line" id="LC104">       <span class="pl-s"><span class="pl-pds">"</span>      &lt;td&gt;2&lt;/td&gt;<span class="pl-cce">\n</span><span class="pl-pds">"</span></span>,</div>
                </div>
                <div class="d-flex flex-justify-start flex-items-start">
                  <div class="blob-num blame-blob-num color-bg-subtle js-line-number" id="L105">105</div>
                  <div class="blob-code blob-code-inner js-file-line" id="LC105">       <span class="pl-s"><span class="pl-pds">"</span>      &lt;td&gt;30200&lt;/td&gt;<span class="pl-cce">\n</span><span class="pl-pds">"</span></span>,</div>
                </div>
                <div class="d-flex flex-justify-start flex-items-start">
                  <div class="blob-num blame-blob-num color-bg-subtle js-line-number" id="L106">106</div>
                  <div class="blob-code blob-code-inner js-file-line" id="LC106">       <span class="pl-s"><span class="pl-pds">"</span>    &lt;/tr&gt;<span class="pl-cce">\n</span><span class="pl-pds">"</span></span>,</div>
                </div>
                <div class="d-flex flex-justify-start flex-items-start">
                  <div class="blob-num blame-blob-num color-bg-subtle js-line-number" id="L107">107</div>
                  <div class="blob-code blob-code-inner js-file-line" id="LC107">       <span class="pl-s"><span class="pl-pds">"</span>    &lt;tr&gt;<span class="pl-cce">\n</span><span class="pl-pds">"</span></span>,</div>
                </div>
                <div class="d-flex flex-justify-start flex-items-start">
                  <div class="blob-num blame-blob-num color-bg-subtle js-line-number" id="L108">108</div>
                  <div class="blob-code blob-code-inner js-file-line" id="LC108">       <span class="pl-s"><span class="pl-pds">"</span>      &lt;th&gt;4&lt;/th&gt;<span class="pl-cce">\n</span><span class="pl-pds">"</span></span>,</div>
                </div>
                <div class="d-flex flex-justify-start flex-items-start">
                  <div class="blob-num blame-blob-num color-bg-subtle js-line-number" id="L109">109</div>
                  <div class="blob-code blob-code-inner js-file-line" id="LC109">       <span class="pl-s"><span class="pl-pds">"</span>      &lt;td&gt;5&lt;/td&gt;<span class="pl-cce">\n</span><span class="pl-pds">"</span></span>,</div>
                </div>
                <div class="d-flex flex-justify-start flex-items-start">
                  <div class="blob-num blame-blob-num color-bg-subtle js-line-number" id="L110">110</div>
                  <div class="blob-code blob-code-inner js-file-line" id="LC110">       <span class="pl-s"><span class="pl-pds">"</span>      &lt;td&gt;892&lt;/td&gt;<span class="pl-cce">\n</span><span class="pl-pds">"</span></span>,</div>
                </div>
                <div class="d-flex flex-justify-start flex-items-start">
                  <div class="blob-num blame-blob-num color-bg-subtle js-line-number" id="L111">111</div>
                  <div class="blob-code blob-code-inner js-file-line" id="LC111">       <span class="pl-s"><span class="pl-pds">"</span>      &lt;td&gt;finance&lt;/td&gt;<span class="pl-cce">\n</span><span class="pl-pds">"</span></span>,</div>
                </div>
                <div class="d-flex flex-justify-start flex-items-start">
                  <div class="blob-num blame-blob-num color-bg-subtle js-line-number" id="L112">112</div>
                  <div class="blob-code blob-code-inner js-file-line" id="LC112">       <span class="pl-s"><span class="pl-pds">"</span>      &lt;td&gt;003&lt;/td&gt;<span class="pl-cce">\n</span><span class="pl-pds">"</span></span>,</div>
                </div>
                <div class="d-flex flex-justify-start flex-items-start">
                  <div class="blob-num blame-blob-num color-bg-subtle js-line-number" id="L113">113</div>
                  <div class="blob-code blob-code-inner js-file-line" id="LC113">       <span class="pl-s"><span class="pl-pds">"</span>      &lt;td&gt;low&lt;/td&gt;<span class="pl-cce">\n</span><span class="pl-pds">"</span></span>,</div>
                </div>
                <div class="d-flex flex-justify-start flex-items-start">
                  <div class="blob-num blame-blob-num color-bg-subtle js-line-number" id="L114">114</div>
                  <div class="blob-code blob-code-inner js-file-line" id="LC114">       <span class="pl-s"><span class="pl-pds">"</span>      &lt;td&gt;3&lt;/td&gt;<span class="pl-cce">\n</span><span class="pl-pds">"</span></span>,</div>
                </div>
                <div class="d-flex flex-justify-start flex-items-start">
                  <div class="blob-num blame-blob-num color-bg-subtle js-line-number" id="L115">115</div>
                  <div class="blob-code blob-code-inner js-file-line" id="LC115">       <span class="pl-s"><span class="pl-pds">"</span>      &lt;td&gt;740000&lt;/td&gt;<span class="pl-cce">\n</span><span class="pl-pds">"</span></span>,</div>
                </div>
                <div class="d-flex flex-justify-start flex-items-start">
                  <div class="blob-num blame-blob-num color-bg-subtle js-line-number" id="L116">116</div>
                  <div class="blob-code blob-code-inner js-file-line" id="LC116">       <span class="pl-s"><span class="pl-pds">"</span>    &lt;/tr&gt;<span class="pl-cce">\n</span><span class="pl-pds">"</span></span>,</div>
                </div>
                <div class="d-flex flex-justify-start flex-items-start">
                  <div class="blob-num blame-blob-num color-bg-subtle js-line-number" id="L117">117</div>
                  <div class="blob-code blob-code-inner js-file-line" id="LC117">       <span class="pl-s"><span class="pl-pds">"</span>  &lt;/tbody&gt;<span class="pl-cce">\n</span><span class="pl-pds">"</span></span>,</div>
                </div>
                <div class="d-flex flex-justify-start flex-items-start">
                  <div class="blob-num blame-blob-num color-bg-subtle js-line-number" id="L118">118</div>
                  <div class="blob-code blob-code-inner js-file-line" id="LC118">       <span class="pl-s"><span class="pl-pds">"</span>&lt;/table&gt;<span class="pl-cce">\n</span><span class="pl-pds">"</span></span>,</div>
                </div>
                <div class="d-flex flex-justify-start flex-items-start">
                  <div class="blob-num blame-blob-num color-bg-subtle js-line-number" id="L119">119</div>
                  <div class="blob-code blob-code-inner js-file-line" id="LC119">       <span class="pl-s"><span class="pl-pds">"</span>&lt;/div&gt;<span class="pl-pds">"</span></span></div>
                </div>
                <div class="d-flex flex-justify-start flex-items-start">
                  <div class="blob-num blame-blob-num color-bg-subtle js-line-number" id="L120">120</div>
                  <div class="blob-code blob-code-inner js-file-line" id="LC120">      ],</div>
                </div>
                <div class="d-flex flex-justify-start flex-items-start">
                  <div class="blob-num blame-blob-num color-bg-subtle js-line-number" id="L121">121</div>
                  <div class="blob-code blob-code-inner js-file-line" id="LC121">      <span class="pl-ent">"text/plain"</span>: [</div>
                </div>
                <div class="d-flex flex-justify-start flex-items-start">
                  <div class="blob-num blame-blob-num color-bg-subtle js-line-number" id="L122">122</div>
                  <div class="blob-code blob-code-inner js-file-line" id="LC122">       <span class="pl-s"><span class="pl-pds">"</span>   TransactionID  ClientID     Profession Bank_dep    Risk  Number of credits  <span class="pl-cce">\\\n</span><span class="pl-pds">"</span></span>,</div>
                </div>
                <div class="d-flex flex-justify-start flex-items-start">
                  <div class="blob-num blame-blob-num color-bg-subtle js-line-number" id="L123">123</div>
                  <div class="blob-code blob-code-inner js-file-line" id="LC123">       <span class="pl-s"><span class="pl-pds">"</span>0              1       231  Self-employed      009    High                  2   <span class="pl-cce">\n</span><span class="pl-pds">"</span></span>,</div>
                </div>
                <div class="d-flex flex-justify-start flex-items-start">
                  <div class="blob-num blame-blob-num color-bg-subtle js-line-number" id="L124">124</div>
                  <div class="blob-code blob-code-inner js-file-line" id="LC124">       <span class="pl-s"><span class="pl-pds">"</span>1              2       765       students      005    high                  3   <span class="pl-cce">\n</span><span class="pl-pds">"</span></span>,</div>
                </div>
                <div class="d-flex flex-justify-start flex-items-start">
                  <div class="blob-num blame-blob-num color-bg-subtle js-line-number" id="L125">125</div>
                  <div class="blob-code blob-code-inner js-file-line" id="LC125">       <span class="pl-s"><span class="pl-pds">"</span>2              3       453         Horeca      007  medium                  5   <span class="pl-cce">\n</span><span class="pl-pds">"</span></span>,</div>
                </div>
                <div class="d-flex flex-justify-start flex-items-start">
                  <div class="blob-num blame-blob-num color-bg-subtle js-line-number" id="L126">126</div>
                  <div class="blob-code blob-code-inner js-file-line" id="LC126">       <span class="pl-s"><span class="pl-pds">"</span>3              4       231  self-employed      009    high                  2   <span class="pl-cce">\n</span><span class="pl-pds">"</span></span>,</div>
                </div>
                <div class="d-flex flex-justify-start flex-items-start">
                  <div class="blob-num blame-blob-num color-bg-subtle js-line-number" id="L127">127</div>
                  <div class="blob-code blob-code-inner js-file-line" id="LC127">       <span class="pl-s"><span class="pl-pds">"</span>4              5       892        finance      003     low                  3   <span class="pl-cce">\n</span><span class="pl-pds">"</span></span>,</div>
                </div>
                <div class="d-flex flex-justify-start flex-items-start">
                  <div class="blob-num blame-blob-num color-bg-subtle js-line-number" id="L128">128</div>
                  <div class="blob-code blob-code-inner js-file-line" id="LC128">       <span class="pl-s"><span class="pl-pds">"</span><span class="pl-cce">\n</span><span class="pl-pds">"</span></span>,</div>
                </div>
                <div class="d-flex flex-justify-start flex-items-start">
                  <div class="blob-num blame-blob-num color-bg-subtle js-line-number" id="L129">129</div>
                  <div class="blob-code blob-code-inner js-file-line" id="LC129">       <span class="pl-s"><span class="pl-pds">"</span>  Revenue  <span class="pl-cce">\n</span><span class="pl-pds">"</span></span>,</div>
                </div>
                <div class="d-flex flex-justify-start flex-items-start">
                  <div class="blob-num blame-blob-num color-bg-subtle js-line-number" id="L130">130</div>
                  <div class="blob-code blob-code-inner js-file-line" id="LC130">       <span class="pl-s"><span class="pl-pds">"</span>0   30200  <span class="pl-cce">\n</span><span class="pl-pds">"</span></span>,</div>
                </div>
                <div class="d-flex flex-justify-start flex-items-start">
                  <div class="blob-num blame-blob-num color-bg-subtle js-line-number" id="L131">131</div>
                  <div class="blob-code blob-code-inner js-file-line" id="LC131">       <span class="pl-s"><span class="pl-pds">"</span>1   12700  <span class="pl-cce">\n</span><span class="pl-pds">"</span></span>,</div>
                </div>
                <div class="d-flex flex-justify-start flex-items-start">
                  <div class="blob-num blame-blob-num color-bg-subtle js-line-number" id="L132">132</div>
                  <div class="blob-code blob-code-inner js-file-line" id="LC132">       <span class="pl-s"><span class="pl-pds">"</span>2   89400  <span class="pl-cce">\n</span><span class="pl-pds">"</span></span>,</div>
                </div>
                <div class="d-flex flex-justify-start flex-items-start">
                  <div class="blob-num blame-blob-num color-bg-subtle js-line-number" id="L133">133</div>
                  <div class="blob-code blob-code-inner js-file-line" id="LC133">       <span class="pl-s"><span class="pl-pds">"</span>3   30200  <span class="pl-cce">\n</span><span class="pl-pds">"</span></span>,</div>
                </div>
                <div class="d-flex flex-justify-start flex-items-start">
                  <div class="blob-num blame-blob-num color-bg-subtle js-line-number" id="L134">134</div>
                  <div class="blob-code blob-code-inner js-file-line" id="LC134">       <span class="pl-s"><span class="pl-pds">"</span>4  740000  <span class="pl-pds">"</span></span></div>
                </div>
                <div class="d-flex flex-justify-start flex-items-start">
                  <div class="blob-num blame-blob-num color-bg-subtle js-line-number" id="L135">135</div>
                  <div class="blob-code blob-code-inner js-file-line" id="LC135">      ]</div>
                </div>
                <div class="d-flex flex-justify-start flex-items-start">
                  <div class="blob-num blame-blob-num color-bg-subtle js-line-number" id="L136">136</div>
                  <div class="blob-code blob-code-inner js-file-line" id="LC136">     },</div>
                </div>
                <div class="d-flex flex-justify-start flex-items-start">
                  <div class="blob-num blame-blob-num color-bg-subtle js-line-number" id="L137">137</div>
                  <div class="blob-code blob-code-inner js-file-line" id="LC137">     <span class="pl-ent">"execution_count"</span>: <span class="pl-c1">3</span>,</div>
                </div>
                <div class="d-flex flex-justify-start flex-items-start">
                  <div class="blob-num blame-blob-num color-bg-subtle js-line-number" id="L138">138</div>
                  <div class="blob-code blob-code-inner js-file-line" id="LC138">     <span class="pl-ent">"metadata"</span>: {},</div>
                </div>
                <div class="d-flex flex-justify-start flex-items-start">
                  <div class="blob-num blame-blob-num color-bg-subtle js-line-number" id="L139">139</div>
                  <div class="blob-code blob-code-inner js-file-line" id="LC139">     <span class="pl-ent">"output_type"</span>: <span class="pl-s"><span class="pl-pds">"</span>execute_result<span class="pl-pds">"</span></span></div>
                </div>
                <div class="d-flex flex-justify-start flex-items-start">
                  <div class="blob-num blame-blob-num color-bg-subtle js-line-number" id="L140">140</div>
                  <div class="blob-code blob-code-inner js-file-line" id="LC140">    }</div>
                </div>
                <div class="d-flex flex-justify-start flex-items-start">
                  <div class="blob-num blame-blob-num color-bg-subtle js-line-number" id="L141">141</div>
                  <div class="blob-code blob-code-inner js-file-line" id="LC141">   ],</div>
                </div>
                <div class="d-flex flex-justify-start flex-items-start">
                  <div class="blob-num blame-blob-num color-bg-subtle js-line-number" id="L142">142</div>
                  <div class="blob-code blob-code-inner js-file-line" id="LC142">   <span class="pl-ent">"source"</span>: [</div>
                </div>
                <div class="d-flex flex-justify-start flex-items-start">
                  <div class="blob-num blame-blob-num color-bg-subtle js-line-number" id="L143">143</div>
                  <div class="blob-code blob-code-inner js-file-line" id="LC143">    <span class="pl-s"><span class="pl-pds">"</span>data = pd.DataFrame(data)<span class="pl-cce">\n</span><span class="pl-pds">"</span></span>,</div>
                </div>
                <div class="d-flex flex-justify-start flex-items-start">
                  <div class="blob-num blame-blob-num color-bg-subtle js-line-number" id="L144">144</div>
                  <div class="blob-code blob-code-inner js-file-line" id="LC144">    <span class="pl-s"><span class="pl-pds">"</span>data<span class="pl-pds">"</span></span></div>
                </div>
                <div class="d-flex flex-justify-start flex-items-start">
                  <div class="blob-num blame-blob-num color-bg-subtle js-line-number" id="L145">145</div>
                  <div class="blob-code blob-code-inner js-file-line" id="LC145">   ]</div>
                </div>
                <div class="d-flex flex-justify-start flex-items-start">
                  <div class="blob-num blame-blob-num color-bg-subtle js-line-number" id="L146">146</div>
                  <div class="blob-code blob-code-inner js-file-line" id="LC146">  },</div>
                </div>
                <div class="d-flex flex-justify-start flex-items-start">
                  <div class="blob-num blame-blob-num color-bg-subtle js-line-number" id="L147">147</div>
                  <div class="blob-code blob-code-inner js-file-line" id="LC147">  {</div>
                </div>
                <div class="d-flex flex-justify-start flex-items-start">
                  <div class="blob-num blame-blob-num color-bg-subtle js-line-number" id="L148">148</div>
                  <div class="blob-code blob-code-inner js-file-line" id="LC148">   <span class="pl-ent">"cell_type"</span>: <span class="pl-s"><span class="pl-pds">"</span>code<span class="pl-pds">"</span></span>,</div>
                </div>
                <div class="d-flex flex-justify-start flex-items-start">
                  <div class="blob-num blame-blob-num color-bg-subtle js-line-number" id="L149">149</div>
                  <div class="blob-code blob-code-inner js-file-line" id="LC149">   <span class="pl-ent">"execution_count"</span>: <span class="pl-c1">4</span>,</div>
                </div>
                <div class="d-flex flex-justify-start flex-items-start">
                  <div class="blob-num blame-blob-num color-bg-subtle js-line-number" id="L150">150</div>
                  <div class="blob-code blob-code-inner js-file-line" id="LC150">   <span class="pl-ent">"id"</span>: <span class="pl-s"><span class="pl-pds">"</span>0b4d65e6<span class="pl-pds">"</span></span>,</div>
                </div>
                <div class="d-flex flex-justify-start flex-items-start">
                  <div class="blob-num blame-blob-num color-bg-subtle js-line-number" id="L151">151</div>
                  <div class="blob-code blob-code-inner js-file-line" id="LC151">   <span class="pl-ent">"metadata"</span>: {},</div>
                </div>
                <div class="d-flex flex-justify-start flex-items-start">
                  <div class="blob-num blame-blob-num color-bg-subtle js-line-number" id="L152">152</div>
                  <div class="blob-code blob-code-inner js-file-line" id="LC152">   <span class="pl-ent">"outputs"</span>: [</div>
                </div>
                <div class="d-flex flex-justify-start flex-items-start">
                  <div class="blob-num blame-blob-num color-bg-subtle js-line-number" id="L153">153</div>
                  <div class="blob-code blob-code-inner js-file-line" id="LC153">    {</div>
                </div>
                <div class="d-flex flex-justify-start flex-items-start">
                  <div class="blob-num blame-blob-num color-bg-subtle js-line-number" id="L154">154</div>
                  <div class="blob-code blob-code-inner js-file-line" id="LC154">     <span class="pl-ent">"data"</span>: {</div>
                </div>
                <div class="d-flex flex-justify-start flex-items-start">
                  <div class="blob-num blame-blob-num color-bg-subtle js-line-number" id="L155">155</div>
                  <div class="blob-code blob-code-inner js-file-line" id="LC155">      <span class="pl-ent">"text/html"</span>: [</div>
                </div>
                <div class="d-flex flex-justify-start flex-items-start">
                  <div class="blob-num blame-blob-num color-bg-subtle js-line-number" id="L156">156</div>
                  <div class="blob-code blob-code-inner js-file-line" id="LC156">       <span class="pl-s"><span class="pl-pds">"</span>&lt;div&gt;<span class="pl-cce">\n</span><span class="pl-pds">"</span></span>,</div>
                </div>
                <div class="d-flex flex-justify-start flex-items-start">
                  <div class="blob-num blame-blob-num color-bg-subtle js-line-number" id="L157">157</div>
                  <div class="blob-code blob-code-inner js-file-line" id="LC157">       <span class="pl-s"><span class="pl-pds">"</span>&lt;style scoped&gt;<span class="pl-cce">\n</span><span class="pl-pds">"</span></span>,</div>
                </div>
                <div class="d-flex flex-justify-start flex-items-start">
                  <div class="blob-num blame-blob-num color-bg-subtle js-line-number" id="L158">158</div>
                  <div class="blob-code blob-code-inner js-file-line" id="LC158">       <span class="pl-s"><span class="pl-pds">"</span>    .dataframe tbody tr th:only-of-type {<span class="pl-cce">\n</span><span class="pl-pds">"</span></span>,</div>
                </div>
                <div class="d-flex flex-justify-start flex-items-start">
                  <div class="blob-num blame-blob-num color-bg-subtle js-line-number" id="L159">159</div>
                  <div class="blob-code blob-code-inner js-file-line" id="LC159">       <span class="pl-s"><span class="pl-pds">"</span>        vertical-align: middle;<span class="pl-cce">\n</span><span class="pl-pds">"</span></span>,</div>
                </div>
                <div class="d-flex flex-justify-start flex-items-start">
                  <div class="blob-num blame-blob-num color-bg-subtle js-line-number" id="L160">160</div>
                  <div class="blob-code blob-code-inner js-file-line" id="LC160">       <span class="pl-s"><span class="pl-pds">"</span>    }<span class="pl-cce">\n</span><span class="pl-pds">"</span></span>,</div>
                </div>
                <div class="d-flex flex-justify-start flex-items-start">
                  <div class="blob-num blame-blob-num color-bg-subtle js-line-number" id="L161">161</div>
                  <div class="blob-code blob-code-inner js-file-line" id="LC161">       <span class="pl-s"><span class="pl-pds">"</span><span class="pl-cce">\n</span><span class="pl-pds">"</span></span>,</div>
                </div>
                <div class="d-flex flex-justify-start flex-items-start">
                  <div class="blob-num blame-blob-num color-bg-subtle js-line-number" id="L162">162</div>
                  <div class="blob-code blob-code-inner js-file-line" id="LC162">       <span class="pl-s"><span class="pl-pds">"</span>    .dataframe tbody tr th {<span class="pl-cce">\n</span><span class="pl-pds">"</span></span>,</div>
                </div>
                <div class="d-flex flex-justify-start flex-items-start">
                  <div class="blob-num blame-blob-num color-bg-subtle js-line-number" id="L163">163</div>
                  <div class="blob-code blob-code-inner js-file-line" id="LC163">       <span class="pl-s"><span class="pl-pds">"</span>        vertical-align: top;<span class="pl-cce">\n</span><span class="pl-pds">"</span></span>,</div>
                </div>
                <div class="d-flex flex-justify-start flex-items-start">
                  <div class="blob-num blame-blob-num color-bg-subtle js-line-number" id="L164">164</div>
                  <div class="blob-code blob-code-inner js-file-line" id="LC164">       <span class="pl-s"><span class="pl-pds">"</span>    }<span class="pl-cce">\n</span><span class="pl-pds">"</span></span>,</div>
                </div>
                <div class="d-flex flex-justify-start flex-items-start">
                  <div class="blob-num blame-blob-num color-bg-subtle js-line-number" id="L165">165</div>
                  <div class="blob-code blob-code-inner js-file-line" id="LC165">       <span class="pl-s"><span class="pl-pds">"</span><span class="pl-cce">\n</span><span class="pl-pds">"</span></span>,</div>
                </div>
                <div class="d-flex flex-justify-start flex-items-start">
                  <div class="blob-num blame-blob-num color-bg-subtle js-line-number" id="L166">166</div>
                  <div class="blob-code blob-code-inner js-file-line" id="LC166">       <span class="pl-s"><span class="pl-pds">"</span>    .dataframe thead th {<span class="pl-cce">\n</span><span class="pl-pds">"</span></span>,</div>
                </div>
                <div class="d-flex flex-justify-start flex-items-start">
                  <div class="blob-num blame-blob-num color-bg-subtle js-line-number" id="L167">167</div>
                  <div class="blob-code blob-code-inner js-file-line" id="LC167">       <span class="pl-s"><span class="pl-pds">"</span>        text-align: right;<span class="pl-cce">\n</span><span class="pl-pds">"</span></span>,</div>
                </div>
                <div class="d-flex flex-justify-start flex-items-start">
                  <div class="blob-num blame-blob-num color-bg-subtle js-line-number" id="L168">168</div>
                  <div class="blob-code blob-code-inner js-file-line" id="LC168">       <span class="pl-s"><span class="pl-pds">"</span>    }<span class="pl-cce">\n</span><span class="pl-pds">"</span></span>,</div>
                </div>
                <div class="d-flex flex-justify-start flex-items-start">
                  <div class="blob-num blame-blob-num color-bg-subtle js-line-number" id="L169">169</div>
                  <div class="blob-code blob-code-inner js-file-line" id="LC169">       <span class="pl-s"><span class="pl-pds">"</span>&lt;/style&gt;<span class="pl-cce">\n</span><span class="pl-pds">"</span></span>,</div>
                </div>
                <div class="d-flex flex-justify-start flex-items-start">
                  <div class="blob-num blame-blob-num color-bg-subtle js-line-number" id="L170">170</div>
                  <div class="blob-code blob-code-inner js-file-line" id="LC170">       <span class="pl-s"><span class="pl-pds">"</span>&lt;table border=<span class="pl-cce">\"</span>1<span class="pl-cce">\"</span> class=<span class="pl-cce">\"</span>dataframe<span class="pl-cce">\"</span>&gt;<span class="pl-cce">\n</span><span class="pl-pds">"</span></span>,</div>
                </div>
                <div class="d-flex flex-justify-start flex-items-start">
                  <div class="blob-num blame-blob-num color-bg-subtle js-line-number" id="L171">171</div>
                  <div class="blob-code blob-code-inner js-file-line" id="LC171">       <span class="pl-s"><span class="pl-pds">"</span>  &lt;thead&gt;<span class="pl-cce">\n</span><span class="pl-pds">"</span></span>,</div>
                </div>
                <div class="d-flex flex-justify-start flex-items-start">
                  <div class="blob-num blame-blob-num color-bg-subtle js-line-number" id="L172">172</div>
                  <div class="blob-code blob-code-inner js-file-line" id="LC172">       <span class="pl-s"><span class="pl-pds">"</span>    &lt;tr style=<span class="pl-cce">\"</span>text-align: right;<span class="pl-cce">\"</span>&gt;<span class="pl-cce">\n</span><span class="pl-pds">"</span></span>,</div>
                </div>
                <div class="d-flex flex-justify-start flex-items-start">
                  <div class="blob-num blame-blob-num color-bg-subtle js-line-number" id="L173">173</div>
                  <div class="blob-code blob-code-inner js-file-line" id="LC173">       <span class="pl-s"><span class="pl-pds">"</span>      &lt;th&gt;&lt;/th&gt;<span class="pl-cce">\n</span><span class="pl-pds">"</span></span>,</div>
                </div>
                <div class="d-flex flex-justify-start flex-items-start">
                  <div class="blob-num blame-blob-num color-bg-subtle js-line-number" id="L174">174</div>
                  <div class="blob-code blob-code-inner js-file-line" id="LC174">       <span class="pl-s"><span class="pl-pds">"</span>      &lt;th&gt;Job__Horeca&lt;/th&gt;<span class="pl-cce">\n</span><span class="pl-pds">"</span></span>,</div>
                </div>
                <div class="d-flex flex-justify-start flex-items-start">
                  <div class="blob-num blame-blob-num color-bg-subtle js-line-number" id="L175">175</div>
                  <div class="blob-code blob-code-inner js-file-line" id="LC175">       <span class="pl-s"><span class="pl-pds">"</span>      &lt;th&gt;Job__Self-employed&lt;/th&gt;<span class="pl-cce">\n</span><span class="pl-pds">"</span></span>,</div>
                </div>
                <div class="d-flex flex-justify-start flex-items-start">
                  <div class="blob-num blame-blob-num color-bg-subtle js-line-number" id="L176">176</div>
                  <div class="blob-code blob-code-inner js-file-line" id="LC176">       <span class="pl-s"><span class="pl-pds">"</span>      &lt;th&gt;Job__finance&lt;/th&gt;<span class="pl-cce">\n</span><span class="pl-pds">"</span></span>,</div>
                </div>
                <div class="d-flex flex-justify-start flex-items-start">
                  <div class="blob-num blame-blob-num color-bg-subtle js-line-number" id="L177">177</div>
                  <div class="blob-code blob-code-inner js-file-line" id="LC177">       <span class="pl-s"><span class="pl-pds">"</span>      &lt;th&gt;Job__self-employed&lt;/th&gt;<span class="pl-cce">\n</span><span class="pl-pds">"</span></span>,</div>
                </div>
                <div class="d-flex flex-justify-start flex-items-start">
                  <div class="blob-num blame-blob-num color-bg-subtle js-line-number" id="L178">178</div>
                  <div class="blob-code blob-code-inner js-file-line" id="LC178">       <span class="pl-s"><span class="pl-pds">"</span>      &lt;th&gt;Job__students&lt;/th&gt;<span class="pl-cce">\n</span><span class="pl-pds">"</span></span>,</div>
                </div>
                <div class="d-flex flex-justify-start flex-items-start">
                  <div class="blob-num blame-blob-num color-bg-subtle js-line-number" id="L179">179</div>
                  <div class="blob-code blob-code-inner js-file-line" id="LC179">       <span class="pl-s"><span class="pl-pds">"</span>    &lt;/tr&gt;<span class="pl-cce">\n</span><span class="pl-pds">"</span></span>,</div>
                </div>
                <div class="d-flex flex-justify-start flex-items-start">
                  <div class="blob-num blame-blob-num color-bg-subtle js-line-number" id="L180">180</div>
                  <div class="blob-code blob-code-inner js-file-line" id="LC180">       <span class="pl-s"><span class="pl-pds">"</span>  &lt;/thead&gt;<span class="pl-cce">\n</span><span class="pl-pds">"</span></span>,</div>
                </div>
                <div class="d-flex flex-justify-start flex-items-start">
                  <div class="blob-num blame-blob-num color-bg-subtle js-line-number" id="L181">181</div>
                  <div class="blob-code blob-code-inner js-file-line" id="LC181">       <span class="pl-s"><span class="pl-pds">"</span>  &lt;tbody&gt;<span class="pl-cce">\n</span><span class="pl-pds">"</span></span>,</div>
                </div>
                <div class="d-flex flex-justify-start flex-items-start">
                  <div class="blob-num blame-blob-num color-bg-subtle js-line-number" id="L182">182</div>
                  <div class="blob-code blob-code-inner js-file-line" id="LC182">       <span class="pl-s"><span class="pl-pds">"</span>    &lt;tr&gt;<span class="pl-cce">\n</span><span class="pl-pds">"</span></span>,</div>
                </div>
                <div class="d-flex flex-justify-start flex-items-start">
                  <div class="blob-num blame-blob-num color-bg-subtle js-line-number" id="L183">183</div>
                  <div class="blob-code blob-code-inner js-file-line" id="LC183">       <span class="pl-s"><span class="pl-pds">"</span>      &lt;th&gt;0&lt;/th&gt;<span class="pl-cce">\n</span><span class="pl-pds">"</span></span>,</div>
                </div>
                <div class="d-flex flex-justify-start flex-items-start">
                  <div class="blob-num blame-blob-num color-bg-subtle js-line-number" id="L184">184</div>
                  <div class="blob-code blob-code-inner js-file-line" id="LC184">       <span class="pl-s"><span class="pl-pds">"</span>      &lt;td&gt;0&lt;/td&gt;<span class="pl-cce">\n</span><span class="pl-pds">"</span></span>,</div>
                </div>
                <div class="d-flex flex-justify-start flex-items-start">
                  <div class="blob-num blame-blob-num color-bg-subtle js-line-number" id="L185">185</div>
                  <div class="blob-code blob-code-inner js-file-line" id="LC185">       <span class="pl-s"><span class="pl-pds">"</span>      &lt;td&gt;1&lt;/td&gt;<span class="pl-cce">\n</span><span class="pl-pds">"</span></span>,</div>
                </div>
                <div class="d-flex flex-justify-start flex-items-start">
                  <div class="blob-num blame-blob-num color-bg-subtle js-line-number" id="L186">186</div>
                  <div class="blob-code blob-code-inner js-file-line" id="LC186">       <span class="pl-s"><span class="pl-pds">"</span>      &lt;td&gt;0&lt;/td&gt;<span class="pl-cce">\n</span><span class="pl-pds">"</span></span>,</div>
                </div>
                <div class="d-flex flex-justify-start flex-items-start">
                  <div class="blob-num blame-blob-num color-bg-subtle js-line-number" id="L187">187</div>
                  <div class="blob-code blob-code-inner js-file-line" id="LC187">       <span class="pl-s"><span class="pl-pds">"</span>      &lt;td&gt;0&lt;/td&gt;<span class="pl-cce">\n</span><span class="pl-pds">"</span></span>,</div>
                </div>
                <div class="d-flex flex-justify-start flex-items-start">
                  <div class="blob-num blame-blob-num color-bg-subtle js-line-number" id="L188">188</div>
                  <div class="blob-code blob-code-inner js-file-line" id="LC188">       <span class="pl-s"><span class="pl-pds">"</span>      &lt;td&gt;0&lt;/td&gt;<span class="pl-cce">\n</span><span class="pl-pds">"</span></span>,</div>
                </div>
                <div class="d-flex flex-justify-start flex-items-start">
                  <div class="blob-num blame-blob-num color-bg-subtle js-line-number" id="L189">189</div>
                  <div class="blob-code blob-code-inner js-file-line" id="LC189">       <span class="pl-s"><span class="pl-pds">"</span>    &lt;/tr&gt;<span class="pl-cce">\n</span><span class="pl-pds">"</span></span>,</div>
                </div>
                <div class="d-flex flex-justify-start flex-items-start">
                  <div class="blob-num blame-blob-num color-bg-subtle js-line-number" id="L190">190</div>
                  <div class="blob-code blob-code-inner js-file-line" id="LC190">       <span class="pl-s"><span class="pl-pds">"</span>    &lt;tr&gt;<span class="pl-cce">\n</span><span class="pl-pds">"</span></span>,</div>
                </div>
                <div class="d-flex flex-justify-start flex-items-start">
                  <div class="blob-num blame-blob-num color-bg-subtle js-line-number" id="L191">191</div>
                  <div class="blob-code blob-code-inner js-file-line" id="LC191">       <span class="pl-s"><span class="pl-pds">"</span>      &lt;th&gt;1&lt;/th&gt;<span class="pl-cce">\n</span><span class="pl-pds">"</span></span>,</div>
                </div>
                <div class="d-flex flex-justify-start flex-items-start">
                  <div class="blob-num blame-blob-num color-bg-subtle js-line-number" id="L192">192</div>
                  <div class="blob-code blob-code-inner js-file-line" id="LC192">       <span class="pl-s"><span class="pl-pds">"</span>      &lt;td&gt;0&lt;/td&gt;<span class="pl-cce">\n</span><span class="pl-pds">"</span></span>,</div>
                </div>
                <div class="d-flex flex-justify-start flex-items-start">
                  <div class="blob-num blame-blob-num color-bg-subtle js-line-number" id="L193">193</div>
                  <div class="blob-code blob-code-inner js-file-line" id="LC193">       <span class="pl-s"><span class="pl-pds">"</span>      &lt;td&gt;0&lt;/td&gt;<span class="pl-cce">\n</span><span class="pl-pds">"</span></span>,</div>
                </div>
                <div class="d-flex flex-justify-start flex-items-start">
                  <div class="blob-num blame-blob-num color-bg-subtle js-line-number" id="L194">194</div>
                  <div class="blob-code blob-code-inner js-file-line" id="LC194">       <span class="pl-s"><span class="pl-pds">"</span>      &lt;td&gt;0&lt;/td&gt;<span class="pl-cce">\n</span><span class="pl-pds">"</span></span>,</div>
                </div>
                <div class="d-flex flex-justify-start flex-items-start">
                  <div class="blob-num blame-blob-num color-bg-subtle js-line-number" id="L195">195</div>
                  <div class="blob-code blob-code-inner js-file-line" id="LC195">       <span class="pl-s"><span class="pl-pds">"</span>      &lt;td&gt;0&lt;/td&gt;<span class="pl-cce">\n</span><span class="pl-pds">"</span></span>,</div>
                </div>
                <div class="d-flex flex-justify-start flex-items-start">
                  <div class="blob-num blame-blob-num color-bg-subtle js-line-number" id="L196">196</div>
                  <div class="blob-code blob-code-inner js-file-line" id="LC196">       <span class="pl-s"><span class="pl-pds">"</span>      &lt;td&gt;1&lt;/td&gt;<span class="pl-cce">\n</span><span class="pl-pds">"</span></span>,</div>
                </div>
                <div class="d-flex flex-justify-start flex-items-start">
                  <div class="blob-num blame-blob-num color-bg-subtle js-line-number" id="L197">197</div>
                  <div class="blob-code blob-code-inner js-file-line" id="LC197">       <span class="pl-s"><span class="pl-pds">"</span>    &lt;/tr&gt;<span class="pl-cce">\n</span><span class="pl-pds">"</span></span>,</div>
                </div>
                <div class="d-flex flex-justify-start flex-items-start">
                  <div class="blob-num blame-blob-num color-bg-subtle js-line-number" id="L198">198</div>
                  <div class="blob-code blob-code-inner js-file-line" id="LC198">       <span class="pl-s"><span class="pl-pds">"</span>    &lt;tr&gt;<span class="pl-cce">\n</span><span class="pl-pds">"</span></span>,</div>
                </div>
                <div class="d-flex flex-justify-start flex-items-start">
                  <div class="blob-num blame-blob-num color-bg-subtle js-line-number" id="L199">199</div>
                  <div class="blob-code blob-code-inner js-file-line" id="LC199">       <span class="pl-s"><span class="pl-pds">"</span>      &lt;th&gt;2&lt;/th&gt;<span class="pl-cce">\n</span><span class="pl-pds">"</span></span>,</div>
                </div>
                <div class="d-flex flex-justify-start flex-items-start">
                  <div class="blob-num blame-blob-num color-bg-subtle js-line-number" id="L200">200</div>
                  <div class="blob-code blob-code-inner js-file-line" id="LC200">       <span class="pl-s"><span class="pl-pds">"</span>      &lt;td&gt;1&lt;/td&gt;<span class="pl-cce">\n</span><span class="pl-pds">"</span></span>,</div>
                </div>
                <div class="d-flex flex-justify-start flex-items-start">
                  <div class="blob-num blame-blob-num color-bg-subtle js-line-number" id="L201">201</div>
                  <div class="blob-code blob-code-inner js-file-line" id="LC201">       <span class="pl-s"><span class="pl-pds">"</span>      &lt;td&gt;0&lt;/td&gt;<span class="pl-cce">\n</span><span class="pl-pds">"</span></span>,</div>
                </div>
                <div class="d-flex flex-justify-start flex-items-start">
                  <div class="blob-num blame-blob-num color-bg-subtle js-line-number" id="L202">202</div>
                  <div class="blob-code blob-code-inner js-file-line" id="LC202">       <span class="pl-s"><span class="pl-pds">"</span>      &lt;td&gt;0&lt;/td&gt;<span class="pl-cce">\n</span><span class="pl-pds">"</span></span>,</div>
                </div>
                <div class="d-flex flex-justify-start flex-items-start">
                  <div class="blob-num blame-blob-num color-bg-subtle js-line-number" id="L203">203</div>
                  <div class="blob-code blob-code-inner js-file-line" id="LC203">       <span class="pl-s"><span class="pl-pds">"</span>      &lt;td&gt;0&lt;/td&gt;<span class="pl-cce">\n</span><span class="pl-pds">"</span></span>,</div>
                </div>
                <div class="d-flex flex-justify-start flex-items-start">
                  <div class="blob-num blame-blob-num color-bg-subtle js-line-number" id="L204">204</div>
                  <div class="blob-code blob-code-inner js-file-line" id="LC204">       <span class="pl-s"><span class="pl-pds">"</span>      &lt;td&gt;0&lt;/td&gt;<span class="pl-cce">\n</span><span class="pl-pds">"</span></span>,</div>
                </div>
                <div class="d-flex flex-justify-start flex-items-start">
                  <div class="blob-num blame-blob-num color-bg-subtle js-line-number" id="L205">205</div>
                  <div class="blob-code blob-code-inner js-file-line" id="LC205">       <span class="pl-s"><span class="pl-pds">"</span>    &lt;/tr&gt;<span class="pl-cce">\n</span><span class="pl-pds">"</span></span>,</div>
                </div>
                <div class="d-flex flex-justify-start flex-items-start">
                  <div class="blob-num blame-blob-num color-bg-subtle js-line-number" id="L206">206</div>
                  <div class="blob-code blob-code-inner js-file-line" id="LC206">       <span class="pl-s"><span class="pl-pds">"</span>    &lt;tr&gt;<span class="pl-cce">\n</span><span class="pl-pds">"</span></span>,</div>
                </div>
                <div class="d-flex flex-justify-start flex-items-start">
                  <div class="blob-num blame-blob-num color-bg-subtle js-line-number" id="L207">207</div>
                  <div class="blob-code blob-code-inner js-file-line" id="LC207">       <span class="pl-s"><span class="pl-pds">"</span>      &lt;th&gt;3&lt;/th&gt;<span class="pl-cce">\n</span><span class="pl-pds">"</span></span>,</div>
                </div>
                <div class="d-flex flex-justify-start flex-items-start">
                  <div class="blob-num blame-blob-num color-bg-subtle js-line-number" id="L208">208</div>
                  <div class="blob-code blob-code-inner js-file-line" id="LC208">       <span class="pl-s"><span class="pl-pds">"</span>      &lt;td&gt;0&lt;/td&gt;<span class="pl-cce">\n</span><span class="pl-pds">"</span></span>,</div>
                </div>
                <div class="d-flex flex-justify-start flex-items-start">
                  <div class="blob-num blame-blob-num color-bg-subtle js-line-number" id="L209">209</div>
                  <div class="blob-code blob-code-inner js-file-line" id="LC209">       <span class="pl-s"><span class="pl-pds">"</span>      &lt;td&gt;0&lt;/td&gt;<span class="pl-cce">\n</span><span class="pl-pds">"</span></span>,</div>
                </div>
                <div class="d-flex flex-justify-start flex-items-start">
                  <div class="blob-num blame-blob-num color-bg-subtle js-line-number" id="L210">210</div>
                  <div class="blob-code blob-code-inner js-file-line" id="LC210">       <span class="pl-s"><span class="pl-pds">"</span>      &lt;td&gt;0&lt;/td&gt;<span class="pl-cce">\n</span><span class="pl-pds">"</span></span>,</div>
                </div>
                <div class="d-flex flex-justify-start flex-items-start">
                  <div class="blob-num blame-blob-num color-bg-subtle js-line-number" id="L211">211</div>
                  <div class="blob-code blob-code-inner js-file-line" id="LC211">       <span class="pl-s"><span class="pl-pds">"</span>      &lt;td&gt;1&lt;/td&gt;<span class="pl-cce">\n</span><span class="pl-pds">"</span></span>,</div>
                </div>
                <div class="d-flex flex-justify-start flex-items-start">
                  <div class="blob-num blame-blob-num color-bg-subtle js-line-number" id="L212">212</div>
                  <div class="blob-code blob-code-inner js-file-line" id="LC212">       <span class="pl-s"><span class="pl-pds">"</span>      &lt;td&gt;0&lt;/td&gt;<span class="pl-cce">\n</span><span class="pl-pds">"</span></span>,</div>
                </div>
                <div class="d-flex flex-justify-start flex-items-start">
                  <div class="blob-num blame-blob-num color-bg-subtle js-line-number" id="L213">213</div>
                  <div class="blob-code blob-code-inner js-file-line" id="LC213">       <span class="pl-s"><span class="pl-pds">"</span>    &lt;/tr&gt;<span class="pl-cce">\n</span><span class="pl-pds">"</span></span>,</div>
                </div>
                <div class="d-flex flex-justify-start flex-items-start">
                  <div class="blob-num blame-blob-num color-bg-subtle js-line-number" id="L214">214</div>
                  <div class="blob-code blob-code-inner js-file-line" id="LC214">       <span class="pl-s"><span class="pl-pds">"</span>    &lt;tr&gt;<span class="pl-cce">\n</span><span class="pl-pds">"</span></span>,</div>
                </div>
                <div class="d-flex flex-justify-start flex-items-start">
                  <div class="blob-num blame-blob-num color-bg-subtle js-line-number" id="L215">215</div>
                  <div class="blob-code blob-code-inner js-file-line" id="LC215">       <span class="pl-s"><span class="pl-pds">"</span>      &lt;th&gt;4&lt;/th&gt;<span class="pl-cce">\n</span><span class="pl-pds">"</span></span>,</div>
                </div>
                <div class="d-flex flex-justify-start flex-items-start">
                  <div class="blob-num blame-blob-num color-bg-subtle js-line-number" id="L216">216</div>
                  <div class="blob-code blob-code-inner js-file-line" id="LC216">       <span class="pl-s"><span class="pl-pds">"</span>      &lt;td&gt;0&lt;/td&gt;<span class="pl-cce">\n</span><span class="pl-pds">"</span></span>,</div>
                </div>
                <div class="d-flex flex-justify-start flex-items-start">
                  <div class="blob-num blame-blob-num color-bg-subtle js-line-number" id="L217">217</div>
                  <div class="blob-code blob-code-inner js-file-line" id="LC217">       <span class="pl-s"><span class="pl-pds">"</span>      &lt;td&gt;0&lt;/td&gt;<span class="pl-cce">\n</span><span class="pl-pds">"</span></span>,</div>
                </div>
                <div class="d-flex flex-justify-start flex-items-start">
                  <div class="blob-num blame-blob-num color-bg-subtle js-line-number" id="L218">218</div>
                  <div class="blob-code blob-code-inner js-file-line" id="LC218">       <span class="pl-s"><span class="pl-pds">"</span>      &lt;td&gt;1&lt;/td&gt;<span class="pl-cce">\n</span><span class="pl-pds">"</span></span>,</div>
                </div>
                <div class="d-flex flex-justify-start flex-items-start">
                  <div class="blob-num blame-blob-num color-bg-subtle js-line-number" id="L219">219</div>
                  <div class="blob-code blob-code-inner js-file-line" id="LC219">       <span class="pl-s"><span class="pl-pds">"</span>      &lt;td&gt;0&lt;/td&gt;<span class="pl-cce">\n</span><span class="pl-pds">"</span></span>,</div>
                </div>
                <div class="d-flex flex-justify-start flex-items-start">
                  <div class="blob-num blame-blob-num color-bg-subtle js-line-number" id="L220">220</div>
                  <div class="blob-code blob-code-inner js-file-line" id="LC220">       <span class="pl-s"><span class="pl-pds">"</span>      &lt;td&gt;0&lt;/td&gt;<span class="pl-cce">\n</span><span class="pl-pds">"</span></span>,</div>
                </div>
                <div class="d-flex flex-justify-start flex-items-start">
                  <div class="blob-num blame-blob-num color-bg-subtle js-line-number" id="L221">221</div>
                  <div class="blob-code blob-code-inner js-file-line" id="LC221">       <span class="pl-s"><span class="pl-pds">"</span>    &lt;/tr&gt;<span class="pl-cce">\n</span><span class="pl-pds">"</span></span>,</div>
                </div>
                <div class="d-flex flex-justify-start flex-items-start">
                  <div class="blob-num blame-blob-num color-bg-subtle js-line-number" id="L222">222</div>
                  <div class="blob-code blob-code-inner js-file-line" id="LC222">       <span class="pl-s"><span class="pl-pds">"</span>  &lt;/tbody&gt;<span class="pl-cce">\n</span><span class="pl-pds">"</span></span>,</div>
                </div>
                <div class="d-flex flex-justify-start flex-items-start">
                  <div class="blob-num blame-blob-num color-bg-subtle js-line-number" id="L223">223</div>
                  <div class="blob-code blob-code-inner js-file-line" id="LC223">       <span class="pl-s"><span class="pl-pds">"</span>&lt;/table&gt;<span class="pl-cce">\n</span><span class="pl-pds">"</span></span>,</div>
                </div>
                <div class="d-flex flex-justify-start flex-items-start">
                  <div class="blob-num blame-blob-num color-bg-subtle js-line-number" id="L224">224</div>
                  <div class="blob-code blob-code-inner js-file-line" id="LC224">       <span class="pl-s"><span class="pl-pds">"</span>&lt;/div&gt;<span class="pl-pds">"</span></span></div>
                </div>
                <div class="d-flex flex-justify-start flex-items-start">
                  <div class="blob-num blame-blob-num color-bg-subtle js-line-number" id="L225">225</div>
                  <div class="blob-code blob-code-inner js-file-line" id="LC225">      ],</div>
                </div>
                <div class="d-flex flex-justify-start flex-items-start">
                  <div class="blob-num blame-blob-num color-bg-subtle js-line-number" id="L226">226</div>
                  <div class="blob-code blob-code-inner js-file-line" id="LC226">      <span class="pl-ent">"text/plain"</span>: [</div>
                </div>
                <div class="d-flex flex-justify-start flex-items-start">
                  <div class="blob-num blame-blob-num color-bg-subtle js-line-number" id="L227">227</div>
                  <div class="blob-code blob-code-inner js-file-line" id="LC227">       <span class="pl-s"><span class="pl-pds">"</span>   Job__Horeca  Job__Self-employed  Job__finance  Job__self-employed  <span class="pl-cce">\\\n</span><span class="pl-pds">"</span></span>,</div>
                </div>
                <div class="d-flex flex-justify-start flex-items-start">
                  <div class="blob-num blame-blob-num color-bg-subtle js-line-number" id="L228">228</div>
                  <div class="blob-code blob-code-inner js-file-line" id="LC228">       <span class="pl-s"><span class="pl-pds">"</span>0            0                   1             0                   0   <span class="pl-cce">\n</span><span class="pl-pds">"</span></span>,</div>
                </div>
                <div class="d-flex flex-justify-start flex-items-start">
                  <div class="blob-num blame-blob-num color-bg-subtle js-line-number" id="L229">229</div>
                  <div class="blob-code blob-code-inner js-file-line" id="LC229">       <span class="pl-s"><span class="pl-pds">"</span>1            0                   0             0                   0   <span class="pl-cce">\n</span><span class="pl-pds">"</span></span>,</div>
                </div>
                <div class="d-flex flex-justify-start flex-items-start">
                  <div class="blob-num blame-blob-num color-bg-subtle js-line-number" id="L230">230</div>
                  <div class="blob-code blob-code-inner js-file-line" id="LC230">       <span class="pl-s"><span class="pl-pds">"</span>2            1                   0             0                   0   <span class="pl-cce">\n</span><span class="pl-pds">"</span></span>,</div>
                </div>
                <div class="d-flex flex-justify-start flex-items-start">
                  <div class="blob-num blame-blob-num color-bg-subtle js-line-number" id="L231">231</div>
                  <div class="blob-code blob-code-inner js-file-line" id="LC231">       <span class="pl-s"><span class="pl-pds">"</span>3            0                   0             0                   1   <span class="pl-cce">\n</span><span class="pl-pds">"</span></span>,</div>
                </div>
                <div class="d-flex flex-justify-start flex-items-start">
                  <div class="blob-num blame-blob-num color-bg-subtle js-line-number" id="L232">232</div>
                  <div class="blob-code blob-code-inner js-file-line" id="LC232">       <span class="pl-s"><span class="pl-pds">"</span>4            0                   0             1                   0   <span class="pl-cce">\n</span><span class="pl-pds">"</span></span>,</div>
                </div>
                <div class="d-flex flex-justify-start flex-items-start">
                  <div class="blob-num blame-blob-num color-bg-subtle js-line-number" id="L233">233</div>
                  <div class="blob-code blob-code-inner js-file-line" id="LC233">       <span class="pl-s"><span class="pl-pds">"</span><span class="pl-cce">\n</span><span class="pl-pds">"</span></span>,</div>
                </div>
                <div class="d-flex flex-justify-start flex-items-start">
                  <div class="blob-num blame-blob-num color-bg-subtle js-line-number" id="L234">234</div>
                  <div class="blob-code blob-code-inner js-file-line" id="LC234">       <span class="pl-s"><span class="pl-pds">"</span>   Job__students  <span class="pl-cce">\n</span><span class="pl-pds">"</span></span>,</div>
                </div>
                <div class="d-flex flex-justify-start flex-items-start">
                  <div class="blob-num blame-blob-num color-bg-subtle js-line-number" id="L235">235</div>
                  <div class="blob-code blob-code-inner js-file-line" id="LC235">       <span class="pl-s"><span class="pl-pds">"</span>0              0  <span class="pl-cce">\n</span><span class="pl-pds">"</span></span>,</div>
                </div>
                <div class="d-flex flex-justify-start flex-items-start">
                  <div class="blob-num blame-blob-num color-bg-subtle js-line-number" id="L236">236</div>
                  <div class="blob-code blob-code-inner js-file-line" id="LC236">       <span class="pl-s"><span class="pl-pds">"</span>1              1  <span class="pl-cce">\n</span><span class="pl-pds">"</span></span>,</div>
                </div>
                <div class="d-flex flex-justify-start flex-items-start">
                  <div class="blob-num blame-blob-num color-bg-subtle js-line-number" id="L237">237</div>
                  <div class="blob-code blob-code-inner js-file-line" id="LC237">       <span class="pl-s"><span class="pl-pds">"</span>2              0  <span class="pl-cce">\n</span><span class="pl-pds">"</span></span>,</div>
                </div>
                <div class="d-flex flex-justify-start flex-items-start">
                  <div class="blob-num blame-blob-num color-bg-subtle js-line-number" id="L238">238</div>
                  <div class="blob-code blob-code-inner js-file-line" id="LC238">       <span class="pl-s"><span class="pl-pds">"</span>3              0  <span class="pl-cce">\n</span><span class="pl-pds">"</span></span>,</div>
                </div>
                <div class="d-flex flex-justify-start flex-items-start">
                  <div class="blob-num blame-blob-num color-bg-subtle js-line-number" id="L239">239</div>
                  <div class="blob-code blob-code-inner js-file-line" id="LC239">       <span class="pl-s"><span class="pl-pds">"</span>4              0  <span class="pl-pds">"</span></span></div>
                </div>
                <div class="d-flex flex-justify-start flex-items-start">
                  <div class="blob-num blame-blob-num color-bg-subtle js-line-number" id="L240">240</div>
                  <div class="blob-code blob-code-inner js-file-line" id="LC240">      ]</div>
                </div>
                <div class="d-flex flex-justify-start flex-items-start">
                  <div class="blob-num blame-blob-num color-bg-subtle js-line-number" id="L241">241</div>
                  <div class="blob-code blob-code-inner js-file-line" id="LC241">     },</div>
                </div>
                <div class="d-flex flex-justify-start flex-items-start">
                  <div class="blob-num blame-blob-num color-bg-subtle js-line-number" id="L242">242</div>
                  <div class="blob-code blob-code-inner js-file-line" id="LC242">     <span class="pl-ent">"execution_count"</span>: <span class="pl-c1">4</span>,</div>
                </div>
                <div class="d-flex flex-justify-start flex-items-start">
                  <div class="blob-num blame-blob-num color-bg-subtle js-line-number" id="L243">243</div>
                  <div class="blob-code blob-code-inner js-file-line" id="LC243">     <span class="pl-ent">"metadata"</span>: {},</div>
                </div>
                <div class="d-flex flex-justify-start flex-items-start">
                  <div class="blob-num blame-blob-num color-bg-subtle js-line-number" id="L244">244</div>
                  <div class="blob-code blob-code-inner js-file-line" id="LC244">     <span class="pl-ent">"output_type"</span>: <span class="pl-s"><span class="pl-pds">"</span>execute_result<span class="pl-pds">"</span></span></div>
                </div>
                <div class="d-flex flex-justify-start flex-items-start">
                  <div class="blob-num blame-blob-num color-bg-subtle js-line-number" id="L245">245</div>
                  <div class="blob-code blob-code-inner js-file-line" id="LC245">    }</div>
                </div>
                <div class="d-flex flex-justify-start flex-items-start">
                  <div class="blob-num blame-blob-num color-bg-subtle js-line-number" id="L246">246</div>
                  <div class="blob-code blob-code-inner js-file-line" id="LC246">   ],</div>
                </div>
                <div class="d-flex flex-justify-start flex-items-start">
                  <div class="blob-num blame-blob-num color-bg-subtle js-line-number" id="L247">247</div>
                  <div class="blob-code blob-code-inner js-file-line" id="LC247">   <span class="pl-ent">"source"</span>: [</div>
                </div>
                <div class="d-flex flex-justify-start flex-items-start">
                  <div class="blob-num blame-blob-num color-bg-subtle js-line-number" id="L248">248</div>
                  <div class="blob-code blob-code-inner js-file-line" id="LC248">    <span class="pl-s"><span class="pl-pds">"</span>data = pd.get_dummies(data.Profession, prefix = 'Job_')<span class="pl-cce">\n</span><span class="pl-pds">"</span></span>,</div>
                </div>
                <div class="d-flex flex-justify-start flex-items-start">
                  <div class="blob-num blame-blob-num color-bg-subtle js-line-number" id="L249">249</div>
                  <div class="blob-code blob-code-inner js-file-line" id="LC249">    <span class="pl-s"><span class="pl-pds">"</span>data<span class="pl-pds">"</span></span></div>
                </div>
                <div class="d-flex flex-justify-start flex-items-start">
                  <div class="blob-num blame-blob-num color-bg-subtle js-line-number" id="L250">250</div>
                  <div class="blob-code blob-code-inner js-file-line" id="LC250">   ]</div>
                </div>
                <div class="d-flex flex-justify-start flex-items-start">
                  <div class="blob-num blame-blob-num color-bg-subtle js-line-number" id="L251">251</div>
                  <div class="blob-code blob-code-inner js-file-line" id="LC251">  },</div>
                </div>
                <div class="d-flex flex-justify-start flex-items-start">
                  <div class="blob-num blame-blob-num color-bg-subtle js-line-number" id="L252">252</div>
                  <div class="blob-code blob-code-inner js-file-line" id="LC252">  {</div>
                </div>
                <div class="d-flex flex-justify-start flex-items-start">
                  <div class="blob-num blame-blob-num color-bg-subtle js-line-number" id="L253">253</div>
                  <div class="blob-code blob-code-inner js-file-line" id="LC253">   <span class="pl-ent">"cell_type"</span>: <span class="pl-s"><span class="pl-pds">"</span>code<span class="pl-pds">"</span></span>,</div>
                </div>
                <div class="d-flex flex-justify-start flex-items-start">
                  <div class="blob-num blame-blob-num color-bg-subtle js-line-number" id="L254">254</div>
                  <div class="blob-code blob-code-inner js-file-line" id="LC254">   <span class="pl-ent">"execution_count"</span>: <span class="pl-c1">5</span>,</div>
                </div>
                <div class="d-flex flex-justify-start flex-items-start">
                  <div class="blob-num blame-blob-num color-bg-subtle js-line-number" id="L255">255</div>
                  <div class="blob-code blob-code-inner js-file-line" id="LC255">   <span class="pl-ent">"id"</span>: <span class="pl-s"><span class="pl-pds">"</span>9341049c<span class="pl-pds">"</span></span>,</div>
                </div>
                <div class="d-flex flex-justify-start flex-items-start">
                  <div class="blob-num blame-blob-num color-bg-subtle js-line-number" id="L256">256</div>
                  <div class="blob-code blob-code-inner js-file-line" id="LC256">   <span class="pl-ent">"metadata"</span>: {},</div>
                </div>
                <div class="d-flex flex-justify-start flex-items-start">
                  <div class="blob-num blame-blob-num color-bg-subtle js-line-number" id="L257">257</div>
                  <div class="blob-code blob-code-inner js-file-line" id="LC257">   <span class="pl-ent">"outputs"</span>: [</div>
                </div>
                <div class="d-flex flex-justify-start flex-items-start">
                  <div class="blob-num blame-blob-num color-bg-subtle js-line-number" id="L258">258</div>
                  <div class="blob-code blob-code-inner js-file-line" id="LC258">    {</div>
                </div>
                <div class="d-flex flex-justify-start flex-items-start">
                  <div class="blob-num blame-blob-num color-bg-subtle js-line-number" id="L259">259</div>
                  <div class="blob-code blob-code-inner js-file-line" id="LC259">     <span class="pl-ent">"ename"</span>: <span class="pl-s"><span class="pl-pds">"</span>KeyError<span class="pl-pds">"</span></span>,</div>
                </div>
                <div class="d-flex flex-justify-start flex-items-start">
                  <div class="blob-num blame-blob-num color-bg-subtle js-line-number" id="L260">260</div>
                  <div class="blob-code blob-code-inner js-file-line" id="LC260">     <span class="pl-ent">"evalue"</span>: <span class="pl-s"><span class="pl-pds">"</span>'Risk'<span class="pl-pds">"</span></span>,</div>
                </div>
                <div class="d-flex flex-justify-start flex-items-start">
                  <div class="blob-num blame-blob-num color-bg-subtle js-line-number" id="L261">261</div>
                  <div class="blob-code blob-code-inner js-file-line" id="LC261">     <span class="pl-ent">"output_type"</span>: <span class="pl-s"><span class="pl-pds">"</span>error<span class="pl-pds">"</span></span>,</div>
                </div>
                <div class="d-flex flex-justify-start flex-items-start">
                  <div class="blob-num blame-blob-num color-bg-subtle js-line-number" id="L262">262</div>
                  <div class="blob-code blob-code-inner js-file-line" id="LC262">     <span class="pl-ent">"traceback"</span>: [</div>
                </div>
                <div class="d-flex flex-justify-start flex-items-start">
                  <div class="blob-num blame-blob-num color-bg-subtle js-line-number" id="L263">263</div>
                  <div class="blob-code blob-code-inner js-file-line" id="LC263">      <span class="pl-s"><span class="pl-pds">"</span><span class="pl-cce">\u001b</span>[1;31m---------------------------------------------------------------------------<span class="pl-cce">\u001b</span>[0m<span class="pl-pds">"</span></span>,</div>
                </div>
                <div class="d-flex flex-justify-start flex-items-start">
                  <div class="blob-num blame-blob-num color-bg-subtle js-line-number" id="L264">264</div>
                  <div class="blob-code blob-code-inner js-file-line" id="LC264">      <span class="pl-s"><span class="pl-pds">"</span><span class="pl-cce">\u001b</span>[1;31mKeyError<span class="pl-cce">\u001b</span>[0m                                  Traceback (most recent call last)<span class="pl-pds">"</span></span>,</div>
                </div>
                <div class="d-flex flex-justify-start flex-items-start">
                  <div class="blob-num blame-blob-num color-bg-subtle js-line-number" id="L265">265</div>
                  <div class="blob-code blob-code-inner js-file-line" id="LC265">      <span class="pl-s"><span class="pl-pds">"</span><span class="pl-cce">\u001b</span>[1;32m~<span class="pl-cce">\\</span>anaconda3<span class="pl-cce">\\</span>lib<span class="pl-cce">\\</span>site-packages<span class="pl-cce">\\</span>pandas<span class="pl-cce">\\</span>core<span class="pl-cce">\\</span>indexes<span class="pl-cce">\\</span>base.py<span class="pl-cce">\u001b</span>[0m in <span class="pl-cce">\u001b</span>[0;36mget_loc<span class="pl-cce">\u001b</span>[1;34m(self, key, method, tolerance)<span class="pl-cce">\u001b</span>[0m<span class="pl-cce">\n</span><span class="pl-cce">\u001b</span>[0;32m   3079<span class="pl-cce">\u001b</span>[0m             <span class="pl-cce">\u001b</span>[1;32mtry<span class="pl-cce">\u001b</span>[0m<span class="pl-cce">\u001b</span>[1;33m:<span class="pl-cce">\u001b</span>[0m<span class="pl-cce">\u001b</span>[1;33m<span class="pl-cce">\u001b</span>[0m<span class="pl-cce">\u001b</span>[1;33m<span class="pl-cce">\u001b</span>[0m<span class="pl-cce">\u001b</span>[0m<span class="pl-cce">\n</span><span class="pl-cce">\u001b</span>[1;32m-&gt; 3080<span class="pl-cce">\u001b</span>[1;33m                 <span class="pl-cce">\u001b</span>[1;32mreturn<span class="pl-cce">\u001b</span>[0m <span class="pl-cce">\u001b</span>[0mself<span class="pl-cce">\u001b</span>[0m<span class="pl-cce">\u001b</span>[1;33m.<span class="pl-cce">\u001b</span>[0m<span class="pl-cce">\u001b</span>[0m_engine<span class="pl-cce">\u001b</span>[0m<span class="pl-cce">\u001b</span>[1;33m.<span class="pl-cce">\u001b</span>[0m<span class="pl-cce">\u001b</span>[0mget_loc<span class="pl-cce">\u001b</span>[0m<span class="pl-cce">\u001b</span>[1;33m(<span class="pl-cce">\u001b</span>[0m<span class="pl-cce">\u001b</span>[0mcasted_key<span class="pl-cce">\u001b</span>[0m<span class="pl-cce">\u001b</span>[1;33m)<span class="pl-cce">\u001b</span>[0m<span class="pl-cce">\u001b</span>[1;33m<span class="pl-cce">\u001b</span>[0m<span class="pl-cce">\u001b</span>[1;33m<span class="pl-cce">\u001b</span>[0m<span class="pl-cce">\u001b</span>[0m<span class="pl-cce">\n</span><span class="pl-cce">\u001b</span>[0m<span class="pl-cce">\u001b</span>[0;32m   3081<span class="pl-cce">\u001b</span>[0m             <span class="pl-cce">\u001b</span>[1;32mexcept<span class="pl-cce">\u001b</span>[0m <span class="pl-cce">\u001b</span>[0mKeyError<span class="pl-cce">\u001b</span>[0m <span class="pl-cce">\u001b</span>[1;32mas<span class="pl-cce">\u001b</span>[0m <span class="pl-cce">\u001b</span>[0merr<span class="pl-cce">\u001b</span>[0m<span class="pl-cce">\u001b</span>[1;33m:<span class="pl-cce">\u001b</span>[0m<span class="pl-cce">\u001b</span>[1;33m<span class="pl-cce">\u001b</span>[0m<span class="pl-cce">\u001b</span>[1;33m<span class="pl-cce">\u001b</span>[0m<span class="pl-cce">\u001b</span>[0m<span class="pl-cce">\n</span><span class="pl-pds">"</span></span>,</div>
                </div>
                <div class="d-flex flex-justify-start flex-items-start">
                  <div class="blob-num blame-blob-num color-bg-subtle js-line-number" id="L266">266</div>
                  <div class="blob-code blob-code-inner js-file-line" id="LC266">      <span class="pl-s"><span class="pl-pds">"</span><span class="pl-cce">\u001b</span>[1;32mpandas<span class="pl-cce">\\</span>_libs<span class="pl-cce">\\</span>index.pyx<span class="pl-cce">\u001b</span>[0m in <span class="pl-cce">\u001b</span>[0;36mpandas._libs.index.IndexEngine.get_loc<span class="pl-cce">\u001b</span>[1;34m()<span class="pl-cce">\u001b</span>[0m<span class="pl-cce">\n</span><span class="pl-pds">"</span></span>,</div>
                </div>
                <div class="d-flex flex-justify-start flex-items-start">
                  <div class="blob-num blame-blob-num color-bg-subtle js-line-number" id="L267">267</div>
                  <div class="blob-code blob-code-inner js-file-line" id="LC267">      <span class="pl-s"><span class="pl-pds">"</span><span class="pl-cce">\u001b</span>[1;32mpandas<span class="pl-cce">\\</span>_libs<span class="pl-cce">\\</span>index.pyx<span class="pl-cce">\u001b</span>[0m in <span class="pl-cce">\u001b</span>[0;36mpandas._libs.index.IndexEngine.get_loc<span class="pl-cce">\u001b</span>[1;34m()<span class="pl-cce">\u001b</span>[0m<span class="pl-cce">\n</span><span class="pl-pds">"</span></span>,</div>
                </div>
                <div class="d-flex flex-justify-start flex-items-start">
                  <div class="blob-num blame-blob-num color-bg-subtle js-line-number" id="L268">268</div>
                  <div class="blob-code blob-code-inner js-file-line" id="LC268">      <span class="pl-s"><span class="pl-pds">"</span><span class="pl-cce">\u001b</span>[1;32mpandas<span class="pl-cce">\\</span>_libs<span class="pl-cce">\\</span>hashtable_class_helper.pxi<span class="pl-cce">\u001b</span>[0m in <span class="pl-cce">\u001b</span>[0;36mpandas._libs.hashtable.PyObjectHashTable.get_item<span class="pl-cce">\u001b</span>[1;34m()<span class="pl-cce">\u001b</span>[0m<span class="pl-cce">\n</span><span class="pl-pds">"</span></span>,</div>
                </div>
                <div class="d-flex flex-justify-start flex-items-start">
                  <div class="blob-num blame-blob-num color-bg-subtle js-line-number" id="L269">269</div>
                  <div class="blob-code blob-code-inner js-file-line" id="LC269">      <span class="pl-s"><span class="pl-pds">"</span><span class="pl-cce">\u001b</span>[1;32mpandas<span class="pl-cce">\\</span>_libs<span class="pl-cce">\\</span>hashtable_class_helper.pxi<span class="pl-cce">\u001b</span>[0m in <span class="pl-cce">\u001b</span>[0;36mpandas._libs.hashtable.PyObjectHashTable.get_item<span class="pl-cce">\u001b</span>[1;34m()<span class="pl-cce">\u001b</span>[0m<span class="pl-cce">\n</span><span class="pl-pds">"</span></span>,</div>
                </div>
                <div class="d-flex flex-justify-start flex-items-start">
                  <div class="blob-num blame-blob-num color-bg-subtle js-line-number" id="L270">270</div>
                  <div class="blob-code blob-code-inner js-file-line" id="LC270">      <span class="pl-s"><span class="pl-pds">"</span><span class="pl-cce">\u001b</span>[1;31mKeyError<span class="pl-cce">\u001b</span>[0m: 'Risk'<span class="pl-pds">"</span></span>,</div>
                </div>
                <div class="d-flex flex-justify-start flex-items-start">
                  <div class="blob-num blame-blob-num color-bg-subtle js-line-number" id="L271">271</div>
                  <div class="blob-code blob-code-inner js-file-line" id="LC271">      <span class="pl-s"><span class="pl-pds">"</span><span class="pl-cce">\n</span>The above exception was the direct cause of the following exception:<span class="pl-cce">\n</span><span class="pl-pds">"</span></span>,</div>
                </div>
                <div class="d-flex flex-justify-start flex-items-start">
                  <div class="blob-num blame-blob-num color-bg-subtle js-line-number" id="L272">272</div>
                  <div class="blob-code blob-code-inner js-file-line" id="LC272">      <span class="pl-s"><span class="pl-pds">"</span><span class="pl-cce">\u001b</span>[1;31mKeyError<span class="pl-cce">\u001b</span>[0m                                  Traceback (most recent call last)<span class="pl-pds">"</span></span>,</div>
                </div>
                <div class="d-flex flex-justify-start flex-items-start">
                  <div class="blob-num blame-blob-num color-bg-subtle js-line-number" id="L273">273</div>
                  <div class="blob-code blob-code-inner js-file-line" id="LC273">      "\u001b[1;32m&lt;ipython-input-5-7f2ddbe53200&gt;\u001b[0m in \u001b[0;36m&lt;module&gt;\u001b[1;34m\u001b[0m\n\u001b[0;32m      1\u001b[0m \u001b[0mrisk_encode\u001b[0m \u001b[1;33m=\u001b[0m \u001b[1;33m{\u001b[0m\u001b[1;34m\"high\"\u001b[0m\u001b[1;33m:\u001b[0m\u001b[1;36m3\u001b[0m\u001b[1;33m,\u001b[0m\u001b[1;34m\"High\"\u001b[0m\u001b[1;33m:\u001b[0m\u001b[1;36m3\u001b[0m\u001b[1;33m,\u001b[0m \u001b[1;34m\"medium\"\u001b[0m\u001b[1;33m:\u001b[0m\u001b[1;36m2\u001b[0m\u001b[1;33m,\u001b[0m \u001b[1;34m\"low\"\u001b[0m\u001b[1;33m:\u001b[0m\u001b[1;36m1\u001b[0m\u001b[1;33m}\u001b[0m\u001b[1;33m\u001b[0m\u001b[1;33m\u001b[0m\u001b[0m\n\u001b[1;32m----&gt; 2\u001b[1;33m \u001b[0mdata\u001b[0m\u001b[1;33m[\u001b[0m\u001b[1;34m\"risk_code\"\u001b[0m\u001b[1;33m]\u001b[0m \u001b[1;33m=\u001b[0m \u001b[0mdata\u001b[0m\u001b[1;33m[\u001b[0m\u001b[1;34m\"Risk\"\u001b[0m\u001b[1;33m]\u001b[0m\u001b[1;33m.\u001b[0m\u001b[0mreplace\u001b[0m\u001b[1;33m(\u001b[0m\u001b[0mrisk_encode\u001b[0m\u001b[1;33m)\u001b[0m\u001b[1;33m\u001b[0m\u001b[1;33m\u001b[0m\u001b[0m\n\u001b[0m\u001b[0;32m      3\u001b[0m \u001b[0mdata\u001b[0m\u001b[1;33m\u001b[0m\u001b[1;33m\u001b[0m\u001b[0m\n",</div>
                </div>
                <div class="d-flex flex-justify-start flex-items-start">
                  <div class="blob-num blame-blob-num color-bg-subtle js-line-number" id="L274">274</div>
                  <div class="blob-code blob-code-inner js-file-line" id="LC274">      "\u001b[1;32m~\\anaconda3\\lib\\site-packages\\pandas\\core\\frame.py\u001b[0m in \u001b[0;36m__getitem__\u001b[1;34m(self, key)\u001b[0m\n\u001b[0;32m   3022\u001b[0m             \u001b[1;32mif\u001b[0m \u001b[0mself\u001b[0m\u001b[1;33m.\u001b[0m\u001b[0mcolumns\u001b[0m\u001b[1;33m.\u001b[0m\u001b[0mnlevels\u001b[0m \u001b[1;33m&gt;\u001b[0m \u001b[1;36m1\u001b[0m\u001b[1;33m:\u001b[0m\u001b[1;33m\u001b[0m\u001b[1;33m\u001b[0m\u001b[0m\n\u001b[0;32m   3023\u001b[0m                 \u001b[1;32mreturn\u001b[0m \u001b[0mself\u001b[0m\u001b[1;33m.\u001b[0m\u001b[0m_getitem_multilevel\u001b[0m\u001b[1;33m(\u001b[0m\u001b[0mkey\u001b[0m\u001b[1;33m)\u001b[0m\u001b[1;33m\u001b[0m\u001b[1;33m\u001b[0m\u001b[0m\n\u001b[1;32m-&gt; 3024\u001b[1;33m             \u001b[0mindexer\u001b[0m \u001b[1;33m=\u001b[0m \u001b[0mself\u001b[0m\u001b[1;33m.\u001b[0m\u001b[0mcolumns\u001b[0m\u001b[1;33m.\u001b[0m\u001b[0mget_loc\u001b[0m\u001b[1;33m(\u001b[0m\u001b[0mkey\u001b[0m\u001b[1;33m)\u001b[0m\u001b[1;33m\u001b[0m\u001b[1;33m\u001b[0m\u001b[0m\n\u001b[0m\u001b[0;32m   3025\u001b[0m             \u001b[1;32mif\u001b[0m \u001b[0mis_integer\u001b[0m\u001b[1;33m(\u001b[0m\u001b[0mindexer\u001b[0m\u001b[1;33m)\u001b[0m\u001b[1;33m:\u001b[0m\u001b[1;33m\u001b[0m\u001b[1;33m\u001b[0m\u001b[0m\n\u001b[0;32m   3026\u001b[0m                 \u001b[0mindexer\u001b[0m \u001b[1;33m=\u001b[0m \u001b[1;33m[\u001b[0m\u001b[0mindexer\u001b[0m\u001b[1;33m]\u001b[0m\u001b[1;33m\u001b[0m\u001b[1;33m\u001b[0m\u001b[0m\n",</div>
                </div>
                <div class="d-flex flex-justify-start flex-items-start">
                  <div class="blob-num blame-blob-num color-bg-subtle js-line-number" id="L275">275</div>
                  <div class="blob-code blob-code-inner js-file-line" id="LC275">      "\u001b[1;32m~\\anaconda3\\lib\\site-packages\\pandas\\core\\indexes\\base.py\u001b[0m in \u001b[0;36mget_loc\u001b[1;34m(self, key, method, tolerance)\u001b[0m\n\u001b[0;32m   3080\u001b[0m                 \u001b[1;32mreturn\u001b[0m \u001b[0mself\u001b[0m\u001b[1;33m.\u001b[0m\u001b[0m_engine\u001b[0m\u001b[1;33m.\u001b[0m\u001b[0mget_loc\u001b[0m\u001b[1;33m(\u001b[0m\u001b[0mcasted_key\u001b[0m\u001b[1;33m)\u001b[0m\u001b[1;33m\u001b[0m\u001b[1;33m\u001b[0m\u001b[0m\n\u001b[0;32m   3081\u001b[0m             \u001b[1;32mexcept\u001b[0m \u001b[0mKeyError\u001b[0m \u001b[1;32mas\u001b[0m \u001b[0merr\u001b[0m\u001b[1;33m:\u001b[0m\u001b[1;33m\u001b[0m\u001b[1;33m\u001b[0m\u001b[0m\n\u001b[1;32m-&gt; 3082\u001b[1;33m                 \u001b[1;32mraise\u001b[0m \u001b[0mKeyError\u001b[0m\u001b[1;33m(\u001b[0m\u001b[0mkey\u001b[0m\u001b[1;33m)\u001b[0m \u001b[1;32mfrom\u001b[0m \u001b[0merr\u001b[0m\u001b[1;33m\u001b[0m\u001b[1;33m\u001b[0m\u001b[0m\n\u001b[0m\u001b[0;32m   3083\u001b[0m \u001b[1;33m\u001b[0m\u001b[0m\n\u001b[0;32m   3084\u001b[0m         \u001b[1;32mif\u001b[0m \u001b[0mtolerance\u001b[0m \u001b[1;32mis\u001b[0m \u001b[1;32mnot\u001b[0m \u001b[1;32mNone\u001b[0m\u001b[1;33m:\u001b[0m\u001b[1;33m\u001b[0m\u001b[1;33m\u001b[0m\u001b[0m\n",</div>
                </div>
                <div class="d-flex flex-justify-start flex-items-start">
                  <div class="blob-num blame-blob-num color-bg-subtle js-line-number" id="L276">276</div>
                  <div class="blob-code blob-code-inner js-file-line" id="LC276">      <span class="pl-s"><span class="pl-pds">"</span><span class="pl-cce">\u001b</span>[1;31mKeyError<span class="pl-cce">\u001b</span>[0m: 'Risk'<span class="pl-pds">"</span></span></div>
                </div>
                <div class="d-flex flex-justify-start flex-items-start">
                  <div class="blob-num blame-blob-num color-bg-subtle js-line-number" id="L277">277</div>
                  <div class="blob-code blob-code-inner js-file-line" id="LC277">     ]</div>
                </div>
                <div class="d-flex flex-justify-start flex-items-start">
                  <div class="blob-num blame-blob-num color-bg-subtle js-line-number" id="L278">278</div>
                  <div class="blob-code blob-code-inner js-file-line" id="LC278">    }</div>
                </div>
                <div class="d-flex flex-justify-start flex-items-start">
                  <div class="blob-num blame-blob-num color-bg-subtle js-line-number" id="L279">279</div>
                  <div class="blob-code blob-code-inner js-file-line" id="LC279">   ],</div>
                </div>
                <div class="d-flex flex-justify-start flex-items-start">
                  <div class="blob-num blame-blob-num color-bg-subtle js-line-number" id="L280">280</div>
                  <div class="blob-code blob-code-inner js-file-line" id="LC280">   <span class="pl-ent">"source"</span>: [</div>
                </div>
                <div class="d-flex flex-justify-start flex-items-start">
                  <div class="blob-num blame-blob-num color-bg-subtle js-line-number" id="L281">281</div>
                  <div class="blob-code blob-code-inner js-file-line" id="LC281">    <span class="pl-s"><span class="pl-pds">"</span>risk_encode = {<span class="pl-cce">\"</span>high<span class="pl-cce">\"</span>:3,<span class="pl-cce">\"</span>High<span class="pl-cce">\"</span>:3, <span class="pl-cce">\"</span>medium<span class="pl-cce">\"</span>:2, <span class="pl-cce">\"</span>low<span class="pl-cce">\"</span>:1}<span class="pl-cce">\n</span><span class="pl-pds">"</span></span>,</div>
                </div>
                <div class="d-flex flex-justify-start flex-items-start">
                  <div class="blob-num blame-blob-num color-bg-subtle js-line-number" id="L282">282</div>
                  <div class="blob-code blob-code-inner js-file-line" id="LC282">    <span class="pl-s"><span class="pl-pds">"</span>data[<span class="pl-cce">\"</span>risk_code<span class="pl-cce">\"</span>] = data[<span class="pl-cce">\"</span>Risk<span class="pl-cce">\"</span>].replace(risk_encode)<span class="pl-cce">\n</span><span class="pl-pds">"</span></span>,</div>
                </div>
                <div class="d-flex flex-justify-start flex-items-start">
                  <div class="blob-num blame-blob-num color-bg-subtle js-line-number" id="L283">283</div>
                  <div class="blob-code blob-code-inner js-file-line" id="LC283">    <span class="pl-s"><span class="pl-pds">"</span>data<span class="pl-pds">"</span></span></div>
                </div>
                <div class="d-flex flex-justify-start flex-items-start">
                  <div class="blob-num blame-blob-num color-bg-subtle js-line-number" id="L284">284</div>
                  <div class="blob-code blob-code-inner js-file-line" id="LC284">   ]</div>
                </div>
                <div class="d-flex flex-justify-start flex-items-start">
                  <div class="blob-num blame-blob-num color-bg-subtle js-line-number" id="L285">285</div>
                  <div class="blob-code blob-code-inner js-file-line" id="LC285">  },</div>
                </div>
                <div class="d-flex flex-justify-start flex-items-start">
                  <div class="blob-num blame-blob-num color-bg-subtle js-line-number" id="L286">286</div>
                  <div class="blob-code blob-code-inner js-file-line" id="LC286">  {</div>
                </div>
                <div class="d-flex flex-justify-start flex-items-start">
                  <div class="blob-num blame-blob-num color-bg-subtle js-line-number" id="L287">287</div>
                  <div class="blob-code blob-code-inner js-file-line" id="LC287">   <span class="pl-ent">"cell_type"</span>: <span class="pl-s"><span class="pl-pds">"</span>code<span class="pl-pds">"</span></span>,</div>
                </div>
                <div class="d-flex flex-justify-start flex-items-start">
                  <div class="blob-num blame-blob-num color-bg-subtle js-line-number" id="L288">288</div>
                  <div class="blob-code blob-code-inner js-file-line" id="LC288">   <span class="pl-ent">"execution_count"</span>: <span class="pl-c1">null</span>,</div>
                </div>
                <div class="d-flex flex-justify-start flex-items-start">
                  <div class="blob-num blame-blob-num color-bg-subtle js-line-number" id="L289">289</div>
                  <div class="blob-code blob-code-inner js-file-line" id="LC289">   <span class="pl-ent">"id"</span>: <span class="pl-s"><span class="pl-pds">"</span>d2e66d48<span class="pl-pds">"</span></span>,</div>
                </div>
                <div class="d-flex flex-justify-start flex-items-start">
                  <div class="blob-num blame-blob-num color-bg-subtle js-line-number" id="L290">290</div>
                  <div class="blob-code blob-code-inner js-file-line" id="LC290">   <span class="pl-ent">"metadata"</span>: {},</div>
                </div>
                <div class="d-flex flex-justify-start flex-items-start">
                  <div class="blob-num blame-blob-num color-bg-subtle js-line-number" id="L291">291</div>
                  <div class="blob-code blob-code-inner js-file-line" id="LC291">   <span class="pl-ent">"outputs"</span>: [],</div>
                </div>
                <div class="d-flex flex-justify-start flex-items-start">
                  <div class="blob-num blame-blob-num color-bg-subtle js-line-number" id="L292">292</div>
                  <div class="blob-code blob-code-inner js-file-line" id="LC292">   <span class="pl-ent">"source"</span>: []</div>
                </div>
                <div class="d-flex flex-justify-start flex-items-start">
                  <div class="blob-num blame-blob-num color-bg-subtle js-line-number" id="L293">293</div>
                  <div class="blob-code blob-code-inner js-file-line" id="LC293">  }</div>
                </div>
                <div class="d-flex flex-justify-start flex-items-start">
                  <div class="blob-num blame-blob-num color-bg-subtle js-line-number" id="L294">294</div>
                  <div class="blob-code blob-code-inner js-file-line" id="LC294"> ],</div>
                </div>
                <div class="d-flex flex-justify-start flex-items-start">
                  <div class="blob-num blame-blob-num color-bg-subtle js-line-number" id="L295">295</div>
                  <div class="blob-code blob-code-inner js-file-line" id="LC295"> <span class="pl-ent">"metadata"</span>: {</div>
                </div>
                <div class="d-flex flex-justify-start flex-items-start">
                  <div class="blob-num blame-blob-num color-bg-subtle js-line-number" id="L296">296</div>
                  <div class="blob-code blob-code-inner js-file-line" id="LC296">  <span class="pl-ent">"kernelspec"</span>: {</div>
                </div>
                <div class="d-flex flex-justify-start flex-items-start">
                  <div class="blob-num blame-blob-num color-bg-subtle js-line-number" id="L297">297</div>
                  <div class="blob-code blob-code-inner js-file-line" id="LC297">   <span class="pl-ent">"display_name"</span>: <span class="pl-s"><span class="pl-pds">"</span>Python 3<span class="pl-pds">"</span></span>,</div>
                </div>
                <div class="d-flex flex-justify-start flex-items-start">
                  <div class="blob-num blame-blob-num color-bg-subtle js-line-number" id="L298">298</div>
                  <div class="blob-code blob-code-inner js-file-line" id="LC298">   <span class="pl-ent">"language"</span>: <span class="pl-s"><span class="pl-pds">"</span>python<span class="pl-pds">"</span></span>,</div>
                </div>
                <div class="d-flex flex-justify-start flex-items-start">
                  <div class="blob-num blame-blob-num color-bg-subtle js-line-number" id="L299">299</div>
                  <div class="blob-code blob-code-inner js-file-line" id="LC299">   <span class="pl-ent">"name"</span>: <span class="pl-s"><span class="pl-pds">"</span>python3<span class="pl-pds">"</span></span></div>
                </div>
                <div class="d-flex flex-justify-start flex-items-start">
                  <div class="blob-num blame-blob-num color-bg-subtle js-line-number" id="L300">300</div>
                  <div class="blob-code blob-code-inner js-file-line" id="LC300">  },</div>
                </div>
                <div class="d-flex flex-justify-start flex-items-start">
                  <div class="blob-num blame-blob-num color-bg-subtle js-line-number" id="L301">301</div>
                  <div class="blob-code blob-code-inner js-file-line" id="LC301">  <span class="pl-ent">"language_info"</span>: {</div>
                </div>
                <div class="d-flex flex-justify-start flex-items-start">
                  <div class="blob-num blame-blob-num color-bg-subtle js-line-number" id="L302">302</div>
                  <div class="blob-code blob-code-inner js-file-line" id="LC302">   <span class="pl-ent">"codemirror_mode"</span>: {</div>
                </div>
                <div class="d-flex flex-justify-start flex-items-start">
                  <div class="blob-num blame-blob-num color-bg-subtle js-line-number" id="L303">303</div>
                  <div class="blob-code blob-code-inner js-file-line" id="LC303">    <span class="pl-ent">"name"</span>: <span class="pl-s"><span class="pl-pds">"</span>ipython<span class="pl-pds">"</span></span>,</div>
                </div>
                <div class="d-flex flex-justify-start flex-items-start">
                  <div class="blob-num blame-blob-num color-bg-subtle js-line-number" id="L304">304</div>
                  <div class="blob-code blob-code-inner js-file-line" id="LC304">    <span class="pl-ent">"version"</span>: <span class="pl-c1">3</span></div>
                </div>
                <div class="d-flex flex-justify-start flex-items-start">
                  <div class="blob-num blame-blob-num color-bg-subtle js-line-number" id="L305">305</div>
                  <div class="blob-code blob-code-inner js-file-line" id="LC305">   },</div>
                </div>
                <div class="d-flex flex-justify-start flex-items-start">
                  <div class="blob-num blame-blob-num color-bg-subtle js-line-number" id="L306">306</div>
                  <div class="blob-code blob-code-inner js-file-line" id="LC306">   <span class="pl-ent">"file_extension"</span>: <span class="pl-s"><span class="pl-pds">"</span>.py<span class="pl-pds">"</span></span>,</div>
                </div>
                <div class="d-flex flex-justify-start flex-items-start">
                  <div class="blob-num blame-blob-num color-bg-subtle js-line-number" id="L307">307</div>
                  <div class="blob-code blob-code-inner js-file-line" id="LC307">   <span class="pl-ent">"mimetype"</span>: <span class="pl-s"><span class="pl-pds">"</span>text/x-python<span class="pl-pds">"</span></span>,</div>
                </div>
                <div class="d-flex flex-justify-start flex-items-start">
                  <div class="blob-num blame-blob-num color-bg-subtle js-line-number" id="L308">308</div>
                  <div class="blob-code blob-code-inner js-file-line" id="LC308">   <span class="pl-ent">"name"</span>: <span class="pl-s"><span class="pl-pds">"</span>python<span class="pl-pds">"</span></span>,</div>
                </div>
                <div class="d-flex flex-justify-start flex-items-start">
                  <div class="blob-num blame-blob-num color-bg-subtle js-line-number" id="L309">309</div>
                  <div class="blob-code blob-code-inner js-file-line" id="LC309">   <span class="pl-ent">"nbconvert_exporter"</span>: <span class="pl-s"><span class="pl-pds">"</span>python<span class="pl-pds">"</span></span>,</div>
                </div>
                <div class="d-flex flex-justify-start flex-items-start">
                  <div class="blob-num blame-blob-num color-bg-subtle js-line-number" id="L310">310</div>
                  <div class="blob-code blob-code-inner js-file-line" id="LC310">   <span class="pl-ent">"pygments_lexer"</span>: <span class="pl-s"><span class="pl-pds">"</span>ipython3<span class="pl-pds">"</span></span>,</div>
                </div>
                <div class="d-flex flex-justify-start flex-items-start">
                  <div class="blob-num blame-blob-num color-bg-subtle js-line-number" id="L311">311</div>
                  <div class="blob-code blob-code-inner js-file-line" id="LC311">   <span class="pl-ent">"version"</span>: <span class="pl-s"><span class="pl-pds">"</span>3.8.8<span class="pl-pds">"</span></span></div>
                </div>
                <div class="d-flex flex-justify-start flex-items-start">
                  <div class="blob-num blame-blob-num color-bg-subtle js-line-number" id="L312">312</div>
                  <div class="blob-code blob-code-inner js-file-line" id="LC312">  }</div>
                </div>
                <div class="d-flex flex-justify-start flex-items-start">
                  <div class="blob-num blame-blob-num color-bg-subtle js-line-number" id="L313">313</div>
                  <div class="blob-code blob-code-inner js-file-line" id="LC313"> },</div>
                </div>
                <div class="d-flex flex-justify-start flex-items-start">
                  <div class="blob-num blame-blob-num color-bg-subtle js-line-number" id="L314">314</div>
                  <div class="blob-code blob-code-inner js-file-line" id="LC314"> <span class="pl-ent">"nbformat"</span>: <span class="pl-c1">4</span>,</div>
                </div>
                <div class="d-flex flex-justify-start flex-items-start">
                  <div class="blob-num blame-blob-num color-bg-subtle js-line-number" id="L315">315</div>
                  <div class="blob-code blob-code-inner js-file-line" id="LC315"> <span class="pl-ent">"nbformat_minor"</span>: <span class="pl-c1">5</span></div>
                </div>
                <div class="d-flex flex-justify-start flex-items-start">
                  <div class="blob-num blame-blob-num color-bg-subtle js-line-number" id="L316">316</div>
                  <div class="blob-code blob-code-inner js-file-line" id="LC316">}</div>
                </div>
            </div>
          </div>
      </div>
    </div>

  </div>

</div>


</div>

    </main>
  </div>

  </div>

          <footer class="footer width-full container-xl p-responsive" role="contentinfo">


  <div class="position-relative d-flex flex-items-center pb-2 f6 color-fg-muted border-top color-border-muted flex-column-reverse flex-lg-row flex-wrap flex-lg-nowrap mt-6 pt-6">
    <ul class="list-style-none d-flex flex-wrap col-0 col-lg-2 flex-justify-start flex-lg-justify-between mb-2 mb-lg-0">
      <li class="mt-2 mt-lg-0 d-flex flex-items-center">
        <a aria-label="Homepage" title="GitHub" class="footer-octicon mr-2" href="https://github.com/">
          <svg aria-hidden="true" height="24" viewBox="0 0 16 16" version="1.1" width="24" data-view-component="true" class="octicon octicon-mark-github">
    <path fill-rule="evenodd" d="M8 0C3.58 0 0 3.58 0 8c0 3.54 2.29 6.53 5.47 7.59.4.07.55-.17.55-.38 0-.19-.01-.82-.01-1.49-2.01.37-2.53-.49-2.69-.94-.09-.23-.48-.94-.82-1.13-.28-.15-.68-.52-.01-.53.63-.01 1.08.58 1.23.82.72 1.21 1.87.87 2.33.66.07-.52.28-.87.51-1.07-1.78-.2-3.64-.89-3.64-3.95 0-.87.31-1.59.82-2.15-.08-.2-.36-1.02.08-2.12 0 0 .67-.21 2.2.82.64-.18 1.32-.27 2-.27.68 0 1.36.09 2 .27 1.53-1.04 2.2-.82 2.2-.82.44 1.1.16 1.92.08 2.12.51.56.82 1.27.82 2.15 0 3.07-1.87 3.75-3.65 3.95.29.25.54.73.54 1.48 0 1.07-.01 1.93-.01 2.2 0 .21.15.46.55.38A8.013 8.013 0 0016 8c0-4.42-3.58-8-8-8z"></path>
</svg>
</a>        <span>
        © 2022 GitHub, Inc.
        </span>
      </li>
    </ul>
    <ul class="list-style-none d-flex flex-wrap col-12 col-lg-8 flex-justify-center flex-lg-justify-between mb-2 mb-lg-0">
        <li class="mr-3 mr-lg-0"><a href="https://docs.github.com/en/github/site-policy/github-terms-of-service" data-analytics-event="{&quot;category&quot;:&quot;Footer&quot;,&quot;action&quot;:&quot;go to terms&quot;,&quot;label&quot;:&quot;text:terms&quot;}">Terms</a></li>
        <li class="mr-3 mr-lg-0"><a href="https://docs.github.com/en/github/site-policy/github-privacy-statement" data-analytics-event="{&quot;category&quot;:&quot;Footer&quot;,&quot;action&quot;:&quot;go to privacy&quot;,&quot;label&quot;:&quot;text:privacy&quot;}">Privacy</a></li>
        <li class="mr-3 mr-lg-0"><a data-analytics-event="{&quot;category&quot;:&quot;Footer&quot;,&quot;action&quot;:&quot;go to security&quot;,&quot;label&quot;:&quot;text:security&quot;}" href="https://github.com/security">Security</a></li>
        <li class="mr-3 mr-lg-0"><a href="https://www.githubstatus.com/" data-analytics-event="{&quot;category&quot;:&quot;Footer&quot;,&quot;action&quot;:&quot;go to status&quot;,&quot;label&quot;:&quot;text:status&quot;}">Status</a></li>
        <li class="mr-3 mr-lg-0"><a data-ga-click="Footer, go to help, text:Docs" href="https://docs.github.com/">Docs</a></li>
        <li class="mr-3 mr-lg-0"><a href="https://support.github.com/?tags=dotcom-footer" data-analytics-event="{&quot;category&quot;:&quot;Footer&quot;,&quot;action&quot;:&quot;go to contact&quot;,&quot;label&quot;:&quot;text:contact&quot;}">Contact GitHub</a></li>
        <li class="mr-3 mr-lg-0"><a href="https://github.com/pricing" data-analytics-event="{&quot;category&quot;:&quot;Footer&quot;,&quot;action&quot;:&quot;go to Pricing&quot;,&quot;label&quot;:&quot;text:Pricing&quot;}">Pricing</a></li>
      <li class="mr-3 mr-lg-0"><a href="https://docs.github.com/" data-analytics-event="{&quot;category&quot;:&quot;Footer&quot;,&quot;action&quot;:&quot;go to api&quot;,&quot;label&quot;:&quot;text:api&quot;}">API</a></li>
      <li class="mr-3 mr-lg-0"><a href="https://services.github.com/" data-analytics-event="{&quot;category&quot;:&quot;Footer&quot;,&quot;action&quot;:&quot;go to training&quot;,&quot;label&quot;:&quot;text:training&quot;}">Training</a></li>
        <li class="mr-3 mr-lg-0"><a href="https://github.blog/" data-analytics-event="{&quot;category&quot;:&quot;Footer&quot;,&quot;action&quot;:&quot;go to blog&quot;,&quot;label&quot;:&quot;text:blog&quot;}">Blog</a></li>
        <li><a data-ga-click="Footer, go to about, text:about" href="https://github.com/about">About</a></li>
    </ul>
  </div>
  <div class="d-flex flex-justify-center pb-6">
    <span class="f6 color-fg-muted"></span>
  </div>
</footer>




  <div id="ajax-error-message" class="ajax-error-message flash flash-error" hidden="">
    <svg aria-hidden="true" height="16" viewBox="0 0 16 16" version="1.1" width="16" data-view-component="true" class="octicon octicon-alert">
    <path fill-rule="evenodd" d="M8.22 1.754a.25.25 0 00-.44 0L1.698 13.132a.25.25 0 00.22.368h12.164a.25.25 0 00.22-.368L8.22 1.754zm-1.763-.707c.659-1.234 2.427-1.234 3.086 0l6.082 11.378A1.75 1.75 0 0114.082 15H1.918a1.75 1.75 0 01-1.543-2.575L6.457 1.047zM9 11a1 1 0 11-2 0 1 1 0 012 0zm-.25-5.25a.75.75 0 00-1.5 0v2.5a.75.75 0 001.5 0v-2.5z"></path>
</svg>
    <button type="button" class="flash-close js-ajax-error-dismiss" aria-label="Dismiss error">
      <svg aria-hidden="true" height="16" viewBox="0 0 16 16" version="1.1" width="16" data-view-component="true" class="octicon octicon-x">
    <path fill-rule="evenodd" d="M3.72 3.72a.75.75 0 011.06 0L8 6.94l3.22-3.22a.75.75 0 111.06 1.06L9.06 8l3.22 3.22a.75.75 0 11-1.06 1.06L8 9.06l-3.22 3.22a.75.75 0 01-1.06-1.06L6.94 8 3.72 4.78a.75.75 0 010-1.06z"></path>
</svg>
    </button>
    You can’t perform that action at this time.
  </div>

  <div class="js-stale-session-flash flash flash-warn flash-banner" hidden="">
    <svg aria-hidden="true" height="16" viewBox="0 0 16 16" version="1.1" width="16" data-view-component="true" class="octicon octicon-alert">
    <path fill-rule="evenodd" d="M8.22 1.754a.25.25 0 00-.44 0L1.698 13.132a.25.25 0 00.22.368h12.164a.25.25 0 00.22-.368L8.22 1.754zm-1.763-.707c.659-1.234 2.427-1.234 3.086 0l6.082 11.378A1.75 1.75 0 0114.082 15H1.918a1.75 1.75 0 01-1.543-2.575L6.457 1.047zM9 11a1 1 0 11-2 0 1 1 0 012 0zm-.25-5.25a.75.75 0 00-1.5 0v2.5a.75.75 0 001.5 0v-2.5z"></path>
</svg>
    <span class="js-stale-session-flash-signed-in" hidden="">You signed in with another tab or window. <a href="https://github.com/Maher-Zeg/IronMaher/blame/main/LAB%2031%20encoding/LAB%2031%20encoding.ipynb">Reload</a> to refresh your session.</span>
    <span class="js-stale-session-flash-signed-out" hidden="">You signed out in another tab or window. <a href="https://github.com/Maher-Zeg/IronMaher/blame/main/LAB%2031%20encoding/LAB%2031%20encoding.ipynb">Reload</a> to refresh your session.</span>
  </div>
    <template id="site-details-dialog"></template>

    <div class="Popover js-hovercard-content position-absolute" style="display: none; outline: none;" tabindex="0">
  <div class="Popover-message Popover-message--bottom-left Popover-message--large Box color-shadow-large" style="width:360px;">
  </div>
</div>

    <template id="snippet-clipboard-copy-button"></template>


    <style>
      .user-mention[href$="/Maher-Zeg"] {
        color: var(--color-user-mention-fg);
        background-color: var(--color-user-mention-bg);
        border-radius: 2px;
        margin-left: -2px;
        margin-right: -2px;
        padding: 0 2px;
      }
    </style>


  


<div aria-live="polite" class="sr-only"></div></body><div id="huntr-react-container-2"></div></html>