{
 "cells": [
  {
   "cell_type": "code",
   "execution_count": null,
   "id": "a345dcf1",
   "metadata": {},
   "outputs": [],
   "source": [
    "def my_function(X):\n",
    "    try:\n",
    "        solutions = [[x,y,z] for x in range(5, X) for y in range(4, X) for z in range(3, X) if (x*x==y*y+z*z)]\n",
    "        m = max([max(solution) for solution in solutions])\n",
    "        return m\n",
    "    except:\n",
    "        print('no triangle within the input length')\n",
    "        \n",
    "X = input(\"What is the maximal length of the triangle side? Enter a number: \")\n",
    "print(\"The longest side possible is \" + str(my_function(int(X))))"
   ]
  }
 ],
 "metadata": {
  "kernelspec": {
   "display_name": "Python 3",
   "language": "python",
   "name": "python3"
  },
  "language_info": {
   "codemirror_mode": {
    "name": "ipython",
    "version": 3
   },
   "file_extension": ".py",
   "mimetype": "text/x-python",
   "name": "python",
   "nbconvert_exporter": "python",
   "pygments_lexer": "ipython3",
   "version": "3.8.8"
  }
 },
 "nbformat": 4,
 "nbformat_minor": 5
}
