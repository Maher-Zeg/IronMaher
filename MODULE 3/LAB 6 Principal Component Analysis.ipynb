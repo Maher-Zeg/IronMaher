{
 "cells": [
  {
   "cell_type": "markdown",
   "metadata": {},
   "source": [
    "# Before your start:\n",
    "- Read the README.md file\n",
    "- Comment as much as you can and use the resources (README.md file)\n",
    "- Happy learning!"
   ]
  },
  {
   "cell_type": "code",
   "execution_count": 1,
   "metadata": {},
   "outputs": [],
   "source": [
    "# Run this code:\n",
    "\n",
    "%matplotlib inline\n",
    "\n",
    "import matplotlib.pyplot as plt"
   ]
  },
  {
   "cell_type": "code",
   "execution_count": 2,
   "metadata": {},
   "outputs": [],
   "source": [
    "# Import numpy and pandas:\n",
    "import pandas as pd \n",
    "import numpy as np"
   ]
  },
  {
   "cell_type": "markdown",
   "metadata": {},
   "source": [
    "# Challenge 1 - Reading and Standardizing the Data\n",
    "\n",
    "In this challenge we will work with image data and reduce the dimensions of the data to create a 2 dimensional plot. While we have not worked much with image data before, it can be represented as a numpy array where each pixel is assigned a numeric value. In this lesson, we will look at a dataset of cats and a dataset of dogs and see whether reducing them to two dimensions allows us to see if the data is separable. We will start by loading and processing the data. Run the cell below to load the two csv files and convert them into numpy arrays."
   ]
  },
  {
   "cell_type": "code",
   "execution_count": 3,
   "metadata": {},
   "outputs": [],
   "source": [
    "# Run this code\n",
    "\n",
    "cats = np.array(pd.read_csv(\"https://raw.githubusercontent.com/bioramble/pca/master/cat.csv\", header=None))\n",
    "dogs = np.array(pd.read_csv(\"https://raw.githubusercontent.com/bioramble/pca/master/dog.csv\", header=None))"
   ]
  },
  {
   "cell_type": "markdown",
   "metadata": {},
   "source": [
    "Next, we'll examine the shape of both the cats and the dogs arrays. Print out both shapes below."
   ]
  },
  {
   "cell_type": "code",
   "execution_count": 4,
   "metadata": {},
   "outputs": [
    {
     "name": "stdout",
     "output_type": "stream",
     "text": [
      "shape cats is (4096, 80)\n",
      "shape dogs is (4096, 80)\n"
     ]
    }
   ],
   "source": [
    "# Your code here:\n",
    "\n",
    "print(f'shape cats is {cats.shape}')\n",
    "print(f'shape dogs is {dogs.shape}')"
   ]
  },
  {
   "cell_type": "markdown",
   "metadata": {},
   "source": [
    "What this means is that both arrays contain 80 images each (the number of columns). Each image is comprised of 64x64 pixels (so a total of 4096 pixels per image). The images have been flattened such that all 4096 are in a single row.\n",
    "\n",
    "Print out column 0 of the cats array to see what the pixels values look like."
   ]
  },
  {
   "cell_type": "code",
   "execution_count": 5,
   "metadata": {},
   "outputs": [
    {
     "data": {
      "text/plain": [
       "array([ 64,  23, 250, 137,  55, 173,  18, 134,  19,  47, 109, 164,  41,\n",
       "        78, 108, 108, 247, 105, 158,  54, 103,   4,  23, 102, 239,  72,\n",
       "        42,  21, 168, 109, 112, 177,  22, 233,  15, 236, 250, 137,  32,\n",
       "         5, 178, 109,  24, 107,  53, 241, 226, 143,   5, 136,  98, 100,\n",
       "        89,  66, 228,  92, 255,  88, 230,  56, 160,  69,   6,  24, 195,\n",
       "       183, 239,  35, 154, 154, 122,  18,  87, 106, 174,  69,  28,  60,\n",
       "       223, 101], dtype=int64)"
      ]
     },
     "execution_count": 5,
     "metadata": {},
     "output_type": "execute_result"
    }
   ],
   "source": [
    "# Your code here:\n",
    "cats[0]\n"
   ]
  },
  {
   "cell_type": "markdown",
   "metadata": {},
   "source": [
    "Using `matplotlib` we can plot a single cat or a single dog. We do this by reshaping the vector back to a 64x64 image and then using the `imshow` function.\n",
    "\n",
    "Run the code below to look at the first dog and the first cat."
   ]
  },
  {
   "cell_type": "code",
   "execution_count": 6,
   "metadata": {},
   "outputs": [
    {
     "data": {
      "text/plain": [
       "<matplotlib.image.AxesImage at 0x1856d681730>"
      ]
     },
     "execution_count": 6,
     "metadata": {},
     "output_type": "execute_result"
    },
    {
     "data": {
      "image/png": "[encoded data removed]",
      "text/plain": [
       "<Figure size 432x288 with 1 Axes>"
      ]
     },
     "metadata": {
      "needs_background": "light"
     },
     "output_type": "display_data"
    }
   ],
   "source": [
    "# Run this code:\n",
    "\n",
    "fig, ax = plt.subplots()\n",
    "ax.imshow(cats[:,0].reshape(64, 64).T, cmap=plt.cm.bone, interpolation='nearest') "
   ]
  },
  {
   "cell_type": "code",
   "execution_count": 7,
   "metadata": {},
   "outputs": [
    {
     "data": {
      "text/plain": [
       "<matplotlib.image.AxesImage at 0x1856e381eb0>"
      ]
     },
     "execution_count": 7,
     "metadata": {},
     "output_type": "execute_result"
    },
    {
     "data": {
      "image/png": "[encoded data removed]",
      "text/plain": [
       "<Figure size 432x288 with 1 Axes>"
      ]
     },
     "metadata": {
      "needs_background": "light"
     },
     "output_type": "display_data"
    }
   ],
   "source": [
    "# Run this code:\n",
    "\n",
    "fig, ax = plt.subplots()\n",
    "ax.imshow(dogs[:,0].reshape(64, 64).T, cmap=plt.cm.bone, interpolation='nearest') "
   ]
  },
  {
   "cell_type": "code",
   "execution_count": 11,
   "metadata": {},
   "outputs": [
    {
     "data": {
      "text/plain": [
       "(4096, 160)"
      ]
     },
     "execution_count": 11,
     "metadata": {},
     "output_type": "execute_result"
    }
   ],
   "source": [
    "dc = np.concatenate((dogs, cats), axis=1)\n",
    "dc.shape"
   ]
  },
  {
   "cell_type": "markdown",
   "metadata": {},
   "source": [
    "Next, we would like to create a standardization function. This function will find the mean and standard deviation of each image. We subtract the mean from each pixel and divide each pixel by the standard deviation. Write the function below.\n",
    "\n",
    "Hint: To find the mean and standard deviation of each image, use `numpy`'s version of mean and stadnard deviation and use `axis=0`."
   ]
  },
  {
   "cell_type": "code",
   "execution_count": 14,
   "metadata": {},
   "outputs": [],
   "source": [
    "def stand(x):\n",
    "    #This function takes as input a numpy array and returns a stadardized numpy array of the same dimensions.\n",
    "    #Sample input: np.array([[1,2,3],[4,5,6]])\n",
    "    #Sample output: np.array([[-1,-1,-1],[1,1,1]])\n",
    "    \n",
    "    # Your code here:\n",
    "    for i in range(x.shape[1]):\n",
    "        p_mean = np.mean(x[:, i])\n",
    "        p_std = np.std(x[:, i])\n",
    "        x[:, i] = (x[:, i] - p_mean) / p_std\n",
    "    return x"
   ]
  },
  {
   "cell_type": "markdown",
   "metadata": {},
   "source": [
    "Now, use the `np.concatenate` function to combine the cats and dogs arrays. Use `axis=1` to combine the two correctly. Make sure to put dogs first."
   ]
  },
  {
   "cell_type": "code",
   "execution_count": 15,
   "metadata": {},
   "outputs": [
    {
     "data": {
      "text/plain": [
       "array([[ 2,  0,  0, ..., -1,  1,  0],\n",
       "       [ 2,  0,  1, ..., -2,  1,  0],\n",
       "       [ 2,  0,  0, ..., -1,  1,  0],\n",
       "       ...,\n",
       "       [ 0,  0,  0, ...,  0,  0,  0],\n",
       "       [ 0,  0,  0, ...,  0,  0,  0],\n",
       "       [ 0,  0,  0, ...,  0,  0,  0]], dtype=int64)"
      ]
     },
     "execution_count": 15,
     "metadata": {},
     "output_type": "execute_result"
    }
   ],
   "source": [
    "# Your code here:\n",
    "\n",
    "de_prep = np.copy(dc)\n",
    "dc_stand = stand(de_prep)\n",
    "dc_stand"
   ]
  },
  {
   "cell_type": "markdown",
   "metadata": {},
   "source": [
    "Standardize the concatenated array below."
   ]
  },
  {
   "cell_type": "code",
   "execution_count": 16,
   "metadata": {},
   "outputs": [
    {
     "data": {
      "text/plain": [
       "array([[224, 131, 127, ...,  60, 223, 101],\n",
       "       [224, 124, 136, ...,  50, 224, 107],\n",
       "       [224, 104, 127, ...,  63, 225, 106],\n",
       "       ...,\n",
       "       [100, 104, 115, ..., 105, 180, 114],\n",
       "       [100, 124, 104, ..., 118, 182,  91],\n",
       "       [100, 124, 104, ..., 104, 177, 113]], dtype=int64)"
      ]
     },
     "execution_count": 16,
     "metadata": {},
     "output_type": "execute_result"
    }
   ],
   "source": [
    "# Your code here:\n",
    "dc\n"
   ]
  },
  {
   "cell_type": "code",
   "execution_count": 17,
   "metadata": {},
   "outputs": [
    {
     "data": {
      "text/plain": [
       "<matplotlib.image.AxesImage at 0x1856e8680d0>"
      ]
     },
     "execution_count": 17,
     "metadata": {},
     "output_type": "execute_result"
    },
    {
     "data": {
      "image/png": "[encoded data removed]",
      "text/plain": [
       "<Figure size 432x288 with 1 Axes>"
      ]
     },
     "metadata": {
      "needs_background": "light"
     },
     "output_type": "display_data"
    }
   ],
   "source": [
    "fig, ax = plt.subplots()\n",
    "ax.imshow(np.asarray(dc_stand[:,102]).reshape(64, 64).T, cmap=plt.cm.bone, interpolation='nearest')"
   ]
  },
  {
   "cell_type": "markdown",
   "metadata": {},
   "source": [
    "# Challenge 2 - Using PCA\n",
    "\n",
    "Now that we have created a standardized matrix of cats and dogs, we'll find the two most important components in the data.\n",
    "\n",
    "Load the `PCA` function from `statsmodels` (read about this function [here](https://www.statsmodels.org/dev/generated/statsmodels.multivariate.pca.PCA.html)) and apply the function to our standarized data. Create a PCA model with two components."
   ]
  },
  {
   "cell_type": "code",
   "execution_count": 18,
   "metadata": {},
   "outputs": [
    {
     "data": {
      "text/plain": [
       "array([[-0.12692522, -0.13069747],\n",
       "       [-0.12888318,  0.0166622 ],\n",
       "       [ 0.02638035,  0.02942792],\n",
       "       [-0.04075754,  0.11858896],\n",
       "       [-0.07276603, -0.04009964],\n",
       "       [ 0.00406832,  0.16151679],\n",
       "       [-0.04976018,  0.01308829],\n",
       "       [-0.07048121,  0.09432868],\n",
       "       [-0.06384201,  0.11634322],\n",
       "       [-0.10576089, -0.05699742],\n",
       "       [-0.00611212,  0.10626264],\n",
       "       [-0.07202418,  0.06072108],\n",
       "       [-0.02100131,  0.00436779],\n",
       "       [-0.0071214 ,  0.0193367 ],\n",
       "       [-0.07470011,  0.05656499],\n",
       "       [-0.08677383,  0.10379417],\n",
       "       [-0.0463318 , -0.02090129],\n",
       "       [-0.14044599,  0.03185525],\n",
       "       [-0.06760094,  0.05453679],\n",
       "       [-0.07887996,  0.13448372],\n",
       "       [ 0.01952759,  0.14061652],\n",
       "       [-0.02836786,  0.12821065],\n",
       "       [-0.01585913,  0.00260094],\n",
       "       [-0.06853882,  0.11865909],\n",
       "       [-0.11269829,  0.06975689],\n",
       "       [-0.00423844,  0.10045597],\n",
       "       [-0.00896664,  0.02624475],\n",
       "       [ 0.00042455,  0.07027949],\n",
       "       [-0.04949081,  0.15066984],\n",
       "       [-0.04835145,  0.05772259],\n",
       "       [-0.03769709,  0.05677697],\n",
       "       [-0.0364891 ,  0.04190677],\n",
       "       [-0.11956023,  0.06594254],\n",
       "       [-0.08660861,  0.09720917],\n",
       "       [ 0.01075982,  0.15007904],\n",
       "       [-0.05762381, -0.02618788],\n",
       "       [ 0.03549552,  0.1257378 ],\n",
       "       [-0.00897811,  0.09570081],\n",
       "       [ 0.00242352,  0.12661687],\n",
       "       [-0.10938846,  0.00512589],\n",
       "       [-0.07097839,  0.0860094 ],\n",
       "       [-0.00864927, -0.09512079],\n",
       "       [ 0.01019206,  0.11309867],\n",
       "       [-0.05774552,  0.06663408],\n",
       "       [ 0.01655994,  0.04526689],\n",
       "       [-0.0638947 , -0.10387271],\n",
       "       [-0.05137035, -0.03306037],\n",
       "       [ 0.00902902,  0.02332742],\n",
       "       [-0.0073804 , -0.05276667],\n",
       "       [ 0.0535507 ,  0.11043708],\n",
       "       [-0.09076459, -0.05036004],\n",
       "       [-0.102305  , -0.14290347],\n",
       "       [ 0.01476157, -0.05162223],\n",
       "       [ 0.05191723,  0.14822086],\n",
       "       [ 0.05816102, -0.01213673],\n",
       "       [ 0.04599098,  0.00152811],\n",
       "       [-0.07144564, -0.05918532],\n",
       "       [-0.05126881, -0.06719025],\n",
       "       [ 0.03333446,  0.12234374],\n",
       "       [-0.00213976,  0.08434577],\n",
       "       [-0.04082174,  0.11916828],\n",
       "       [-0.08536682, -0.09607879],\n",
       "       [-0.10792523, -0.06700438],\n",
       "       [ 0.05904519, -0.02812046],\n",
       "       [ 0.00906169,  0.02797609],\n",
       "       [-0.08732342, -0.01502447],\n",
       "       [-0.00566145, -0.09339963],\n",
       "       [ 0.10669695,  0.06991186],\n",
       "       [ 0.01845275, -0.03984809],\n",
       "       [-0.06351832,  0.09799059],\n",
       "       [ 0.01929847,  0.00776634],\n",
       "       [-0.02216681,  0.09435308],\n",
       "       [-0.09211791,  0.06009429],\n",
       "       [ 0.03395818,  0.09323015],\n",
       "       [-0.01282816, -0.10455034],\n",
       "       [-0.11306405, -0.11070337],\n",
       "       [-0.08328593,  0.01067446],\n",
       "       [ 0.00579794,  0.1241174 ],\n",
       "       [-0.00198793,  0.11681854],\n",
       "       [-0.14178571, -0.02657727],\n",
       "       [ 0.07684152, -0.05030577],\n",
       "       [ 0.14023357, -0.01542967],\n",
       "       [-0.08979093, -0.0532098 ],\n",
       "       [-0.11657277, -0.03177676],\n",
       "       [ 0.09025019, -0.07967596],\n",
       "       [ 0.08529148, -0.11306896],\n",
       "       [ 0.14340003,  0.00545107],\n",
       "       [ 0.044133  , -0.07307771],\n",
       "       [ 0.12964587, -0.05246414],\n",
       "       [ 0.07477897, -0.10746363],\n",
       "       [ 0.00289229, -0.04325815],\n",
       "       [ 0.0077859 , -0.04625696],\n",
       "       [ 0.15898093, -0.0349427 ],\n",
       "       [ 0.1091702 , -0.0771304 ],\n",
       "       [-0.05822741, -0.10615938],\n",
       "       [ 0.10203399, -0.08298585],\n",
       "       [-0.06984886, -0.07242702],\n",
       "       [ 0.11637329, -0.05090922],\n",
       "       [-0.13618626, -0.03363292],\n",
       "       [ 0.15733863, -0.02935814],\n",
       "       [ 0.03644383, -0.08243149],\n",
       "       [ 0.10816596,  0.00037455],\n",
       "       [ 0.09900659,  0.0496861 ],\n",
       "       [ 0.10110977,  0.14539724],\n",
       "       [-0.14207829, -0.09675414],\n",
       "       [-0.00085972,  0.06854119],\n",
       "       [ 0.0954838 , -0.0982159 ],\n",
       "       [ 0.08814531,  0.06687906],\n",
       "       [-0.05856358, -0.05655274],\n",
       "       [ 0.05331064, -0.08224236],\n",
       "       [ 0.01705109, -0.08142179],\n",
       "       [-0.00921061, -0.09296608],\n",
       "       [ 0.09098655, -0.12255708],\n",
       "       [-0.09192986, -0.07170864],\n",
       "       [ 0.16895812,  0.02077381],\n",
       "       [ 0.02243039,  0.00352776],\n",
       "       [-0.14843005, -0.03517811],\n",
       "       [ 0.13351614, -0.01208575],\n",
       "       [ 0.05760236,  0.0537497 ],\n",
       "       [ 0.03124209, -0.06534103],\n",
       "       [ 0.03503249, -0.07910945],\n",
       "       [ 0.08158088, -0.06435901],\n",
       "       [ 0.10671166,  0.0448677 ],\n",
       "       [ 0.05414998,  0.06690649],\n",
       "       [ 0.10268659,  0.07728858],\n",
       "       [-0.08191185, -0.07532537],\n",
       "       [-0.1009238 , -0.02658102],\n",
       "       [-0.07532139, -0.07374654],\n",
       "       [ 0.13831577,  0.04771733],\n",
       "       [ 0.03475759, -0.06765889],\n",
       "       [ 0.06799777, -0.04502599],\n",
       "       [ 0.04533711,  0.02643783],\n",
       "       [ 0.15248439, -0.06760571],\n",
       "       [ 0.12602052, -0.0858345 ],\n",
       "       [-0.04605033, -0.12473301],\n",
       "       [ 0.10951791, -0.08155388],\n",
       "       [ 0.11403395, -0.16126589],\n",
       "       [ 0.0553496 ,  0.01991424],\n",
       "       [-0.07811468, -0.14814836],\n",
       "       [ 0.05757279,  0.09876043],\n",
       "       [ 0.00437334, -0.0039595 ],\n",
       "       [ 0.03987528, -0.10850292],\n",
       "       [ 0.14259946, -0.06388329],\n",
       "       [ 0.10694435,  0.04541263],\n",
       "       [-0.04164813, -0.03615415],\n",
       "       [ 0.02463171, -0.09788341],\n",
       "       [-0.15502837, -0.08604063],\n",
       "       [ 0.04744951, -0.04555892],\n",
       "       [-0.05873545, -0.0498178 ],\n",
       "       [-0.08632647, -0.00077898],\n",
       "       [-0.04881579, -0.05985795],\n",
       "       [ 0.1140859 ,  0.01741358],\n",
       "       [ 0.03292214, -0.10216703],\n",
       "       [-0.00712956, -0.01929553],\n",
       "       [-0.03850724, -0.02100758],\n",
       "       [ 0.07222197,  0.04691488],\n",
       "       [ 0.06640616,  0.10685023],\n",
       "       [ 0.12607862,  0.05847586],\n",
       "       [-0.04787413, -0.00120414],\n",
       "       [ 0.03027847, -0.07438833]])"
      ]
     },
     "execution_count": 18,
     "metadata": {},
     "output_type": "execute_result"
    }
   ],
   "source": [
    "# Your code here:\n",
    "from statsmodels.multivariate.pca import PCA\n",
    "components1= PCA(dc_stand.T, ncomp=2)\n",
    "components1.factors\n"
   ]
  },
  {
   "cell_type": "markdown",
   "metadata": {},
   "source": [
    "Use `numpy` to find to transpose the standardized pet array. This will help us compute the projection."
   ]
  },
  {
   "cell_type": "code",
   "execution_count": 19,
   "metadata": {},
   "outputs": [
    {
     "data": {
      "text/plain": [
       "array([[ 2.87110317e+01,  1.81156310e+01],\n",
       "       [ 2.35876702e+01, -8.60241585e+00],\n",
       "       [-6.25011172e+00,  1.40698684e-02],\n",
       "       [ 4.15210450e+00, -1.86780417e+01],\n",
       "       [ 1.55528757e+01, -3.48172094e-01],\n",
       "       [-4.93141419e+00, -2.42692457e+01],\n",
       "       [ 1.02934382e+01, -3.20360925e+00],\n",
       "       [ 1.13429530e+01, -1.70641652e+01],\n",
       "       [ 9.19733504e+00, -2.02722502e+01],\n",
       "       [ 2.07340721e+01,  5.28358003e+00],\n",
       "       [-2.12372233e+00, -1.63099579e+01],\n",
       "       [ 1.27094358e+01, -1.20208797e+01],\n",
       "       [ 3.81267890e+00, -2.54257491e+00],\n",
       "       [ 1.99424285e-01, -8.61816826e-01],\n",
       "       [ 1.14740302e+01, -1.02507986e+01],\n",
       "       [ 1.44066751e+01, -1.75955977e+01],\n",
       "       [ 9.27944488e+00,  1.14237985e-01],\n",
       "       [ 2.55182056e+01, -8.51618999e+00],\n",
       "       [ 1.17061595e+01, -1.16193764e+01],\n",
       "       [ 1.15473566e+01, -2.15805607e+01],\n",
       "       [-6.36388741e+00, -2.06429719e+01],\n",
       "       [ 1.56399138e+00, -1.91510129e+01],\n",
       "       [ 4.60996623e+00,  2.12762397e+00],\n",
       "       [ 1.04595747e+01, -2.07274636e+01],\n",
       "       [ 1.97352028e+01, -1.57006207e+01],\n",
       "       [-1.56572815e+00, -1.69443571e+01],\n",
       "       [ 3.65383328e-01, -3.92698223e-01],\n",
       "       [-1.39903800e+00, -9.44184694e+00],\n",
       "       [ 4.78780271e+00, -2.53605305e+01],\n",
       "       [ 6.51502706e+00, -7.53765372e+00],\n",
       "       [ 3.39966794e+00, -9.76409598e+00],\n",
       "       [ 5.25852260e+00, -8.92661570e+00],\n",
       "       [ 2.11092081e+01, -1.31702408e+01],\n",
       "       [ 1.24292451e+01, -1.83007676e+01],\n",
       "       [-6.15629987e+00, -2.12827494e+01],\n",
       "       [ 9.91937777e+00, -1.12261216e+00],\n",
       "       [-1.14049655e+01, -1.94448281e+01],\n",
       "       [-2.41950253e+00, -1.52069625e+01],\n",
       "       [-4.52333863e+00, -1.96875454e+01],\n",
       "       [ 1.99034288e+01, -6.06829688e+00],\n",
       "       [ 1.17500715e+01, -1.57674385e+01],\n",
       "       [ 4.03543120e+00,  1.67359300e+01],\n",
       "       [-7.85905691e+00, -2.22269496e+01],\n",
       "       [ 1.27930929e+01, -1.47997939e+01],\n",
       "       [-3.76277954e+00, -4.72216773e+00],\n",
       "       [ 1.48377357e+01,  1.25034645e+01],\n",
       "       [ 8.80039022e+00, -1.61270526e+00],\n",
       "       [-2.24995077e+00, -4.61100672e+00],\n",
       "       [ 6.10268263e+00,  4.70181639e+00],\n",
       "       [-1.35670454e+01, -1.61428732e+01],\n",
       "       [ 1.84293213e+01,  4.73110908e+00],\n",
       "       [ 2.97257743e+01,  2.58276068e+01],\n",
       "       [-1.02245556e+00,  1.03516004e+01],\n",
       "       [-1.36652619e+01, -2.19862032e+01],\n",
       "       [-1.08988936e+01,  6.85537190e+00],\n",
       "       [-9.58559789e+00, -6.33537612e-01],\n",
       "       [ 1.35812902e+01,  6.96250476e+00],\n",
       "       [ 9.34931563e+00,  9.26617895e+00],\n",
       "       [-1.20183463e+01, -1.29069552e+01],\n",
       "       [-2.36308034e+00, -9.54301363e+00],\n",
       "       [ 5.65929122e+00, -2.12857342e+01],\n",
       "       [ 1.88318600e+01,  1.15653039e+01],\n",
       "       [ 2.40484940e+01,  5.78114169e+00],\n",
       "       [-1.13180693e+01,  7.87173487e+00],\n",
       "       [-3.65068975e+00, -6.81669629e+00],\n",
       "       [ 1.92946748e+01, -1.00043155e-01],\n",
       "       [ 5.13291395e+00,  1.52397412e+01],\n",
       "       [-2.22810726e+01, -5.19262713e+00],\n",
       "       [-1.14849898e+00,  3.52476871e+00],\n",
       "       [ 9.72545994e+00, -1.36811581e+01],\n",
       "       [-3.62138677e+00, -3.92539163e+00],\n",
       "       [ 3.21336556e+00, -1.22905328e+01],\n",
       "       [ 1.60712188e+01, -1.18861050e+01],\n",
       "       [-1.08977111e+01, -1.58957375e+01],\n",
       "       [ 4.81462374e+00,  1.56519040e+01],\n",
       "       [ 2.59085089e+01,  1.26964300e+01],\n",
       "       [ 1.64368430e+01, -4.11670749e+00],\n",
       "       [-5.73167007e+00, -1.66031236e+01],\n",
       "       [-4.08594843e+00, -2.03786273e+01],\n",
       "       [ 2.81007310e+01,  2.66178793e+00],\n",
       "       [-1.26612320e+01,  1.25014050e+01],\n",
       "       [-2.85591171e+01,  4.32033676e+00],\n",
       "       [ 2.16517971e+01,  8.10567866e+00],\n",
       "       [ 2.37133157e+01,  2.46804015e+00],\n",
       "       [-1.51532811e+01,  1.86727885e+01],\n",
       "       [-1.32916050e+01,  1.99568326e+01],\n",
       "       [-2.91220514e+01,  1.58407072e+00],\n",
       "       [-8.19581617e+00,  1.24985048e+01],\n",
       "       [-2.64819102e+01,  9.16998841e+00],\n",
       "       [-1.09943665e+01,  1.33624628e+01],\n",
       "       [ 2.64961256e+00,  4.11936364e+00],\n",
       "       [-9.47873579e-01,  6.64516077e+00],\n",
       "       [-3.29512584e+01,  9.17720614e+00],\n",
       "       [-1.82175879e+01,  1.80776001e+01],\n",
       "       [ 1.54991624e+01,  1.21098197e+01],\n",
       "       [-1.74904344e+01,  1.54068248e+01],\n",
       "       [ 1.84332790e+01,  9.82842485e+00],\n",
       "       [-2.26695625e+01,  1.32120370e+01],\n",
       "       [ 2.87679743e+01,  1.87143312e-01],\n",
       "       [-3.13751851e+01,  8.96332787e+00],\n",
       "       [-4.65214170e+00,  1.47561190e+01],\n",
       "       [-2.22683153e+01,  3.95182534e+00],\n",
       "       [-2.27851587e+01, -1.64864449e+00],\n",
       "       [-2.34774749e+01, -1.59189282e+01],\n",
       "       [ 3.56645020e+01,  1.47705903e+01],\n",
       "       [-1.98882898e+00, -5.10156253e+00],\n",
       "       [-1.55617682e+01,  1.74754268e+01],\n",
       "       [-2.22224709e+01, -9.20799438e+00],\n",
       "       [ 1.31679434e+01,  6.38922481e+00],\n",
       "       [-8.91988451e+00,  1.27844930e+01],\n",
       "       [-6.69679943e-02,  1.32576644e+01],\n",
       "       [ 6.43511200e+00,  1.85964912e+01],\n",
       "       [-1.45440598e+01,  2.13148530e+01],\n",
       "       [ 2.24984521e+01,  1.01896001e+01],\n",
       "       [-3.68595461e+01, -3.91989992e-01],\n",
       "       [-6.44631738e+00, -1.07083606e+00],\n",
       "       [ 3.49375092e+01,  3.88207035e+00],\n",
       "       [-2.59572039e+01,  6.88660596e+00],\n",
       "       [-1.63666094e+01, -8.08201312e+00],\n",
       "       [-3.60057506e+00,  1.06208194e+01],\n",
       "       [-4.05594195e+00,  8.54997601e+00],\n",
       "       [-1.15289104e+01,  1.41101827e+01],\n",
       "       [-2.51307090e+01, -4.84855308e+00],\n",
       "       [-1.38967387e+01, -1.19110654e+01],\n",
       "       [-2.45829030e+01, -9.75815538e+00],\n",
       "       [ 1.97455220e+01,  8.28887485e+00],\n",
       "       [ 2.22425709e+01,  3.17387464e+00],\n",
       "       [ 1.85799335e+01,  6.34540712e+00],\n",
       "       [-2.84011506e+01, -3.48550287e+00],\n",
       "       [-4.90866883e+00,  7.49607018e+00],\n",
       "       [-1.01541015e+01,  1.11547945e+01],\n",
       "       [-1.13761701e+01, -4.89558252e+00],\n",
       "       [-2.82907685e+01,  1.53490561e+01],\n",
       "       [-2.15804977e+01,  1.35451594e+01],\n",
       "       [ 1.38361031e+01,  1.51208729e+01],\n",
       "       [-1.97929076e+01,  1.52125467e+01],\n",
       "       [-1.76174683e+01,  2.37261785e+01],\n",
       "       [-9.69057939e+00,  4.01889198e-01],\n",
       "       [ 2.25289864e+01,  2.27782050e+01],\n",
       "       [-1.41085659e+01, -1.15858529e+01],\n",
       "       [-2.97540404e+00,  1.66713824e+00],\n",
       "       [-6.15010847e+00,  1.72361528e+01],\n",
       "       [-2.90098925e+01,  1.24615222e+01],\n",
       "       [-2.32018318e+01, -4.06422722e+00],\n",
       "       [ 9.74350271e+00,  2.14103597e+00],\n",
       "       [-8.21158149e-01,  1.40041850e+01],\n",
       "       [ 3.75274897e+01,  1.16998784e+01],\n",
       "       [-7.46099370e+00,  6.04172910e+00],\n",
       "       [ 1.54912457e+01,  5.92359178e+00],\n",
       "       [ 1.64163725e+01, -7.51734353e-01],\n",
       "       [ 1.25422921e+01,  9.32351530e+00],\n",
       "       [-2.30819474e+01, -1.60529517e+00],\n",
       "       [-4.75814423e+00,  1.84088125e+01],\n",
       "       [ 1.51778920e-01,  5.13680275e+00],\n",
       "       [ 8.99565280e+00,  2.96059849e+00],\n",
       "       [-1.31870907e+01, -3.93080412e+00],\n",
       "       [-1.58558026e+01, -1.21660822e+01],\n",
       "       [-3.04026760e+01, -6.65134037e+00],\n",
       "       [ 1.33116058e+01,  3.39205397e-01],\n",
       "       [-2.74083717e+00,  1.03872221e+01]])"
      ]
     },
     "execution_count": 19,
     "metadata": {},
     "output_type": "execute_result"
    }
   ],
   "source": [
    "# Your code here:\n",
    "\n",
    "from sklearn.decomposition import PCA\n",
    "pca = PCA(n_components=2)\n",
    "components2 = pca.fit_transform(dc_stand.T)\n",
    "components2"
   ]
  },
  {
   "cell_type": "markdown",
   "metadata": {},
   "source": [
    "Find the dot product of the transposed standardized pet matrix and the `factors` of the `PCA` model found above. This will be the projection onto 2 dimensions. This means that each cat and dog image will now only have two columns instead of 4096."
   ]
  },
  {
   "cell_type": "code",
   "execution_count": 20,
   "metadata": {},
   "outputs": [
    {
     "data": {
      "text/html": [
       "<div>\n",
       "<style scoped>\n",
       "    .dataframe tbody tr th:only-of-type {\n",
       "        vertical-align: middle;\n",
       "    }\n",
       "\n",
       "    .dataframe tbody tr th {\n",
       "        vertical-align: top;\n",
       "    }\n",
       "\n",
       "    .dataframe thead th {\n",
       "        text-align: right;\n",
       "    }\n",
       "</style>\n",
       "<table border=\"1\" class=\"dataframe\">\n",
       "  <thead>\n",
       "    <tr style=\"text-align: right;\">\n",
       "      <th></th>\n",
       "      <th>pca1</th>\n",
       "      <th>pca2</th>\n",
       "    </tr>\n",
       "  </thead>\n",
       "  <tbody>\n",
       "    <tr>\n",
       "      <th>0</th>\n",
       "      <td>28.711032</td>\n",
       "      <td>18.115631</td>\n",
       "    </tr>\n",
       "    <tr>\n",
       "      <th>1</th>\n",
       "      <td>23.587670</td>\n",
       "      <td>-8.602416</td>\n",
       "    </tr>\n",
       "    <tr>\n",
       "      <th>2</th>\n",
       "      <td>-6.250112</td>\n",
       "      <td>0.014070</td>\n",
       "    </tr>\n",
       "    <tr>\n",
       "      <th>3</th>\n",
       "      <td>4.152104</td>\n",
       "      <td>-18.678042</td>\n",
       "    </tr>\n",
       "    <tr>\n",
       "      <th>4</th>\n",
       "      <td>15.552876</td>\n",
       "      <td>-0.348172</td>\n",
       "    </tr>\n",
       "    <tr>\n",
       "      <th>...</th>\n",
       "      <td>...</td>\n",
       "      <td>...</td>\n",
       "    </tr>\n",
       "    <tr>\n",
       "      <th>155</th>\n",
       "      <td>-13.187091</td>\n",
       "      <td>-3.930804</td>\n",
       "    </tr>\n",
       "    <tr>\n",
       "      <th>156</th>\n",
       "      <td>-15.855803</td>\n",
       "      <td>-12.166082</td>\n",
       "    </tr>\n",
       "    <tr>\n",
       "      <th>157</th>\n",
       "      <td>-30.402676</td>\n",
       "      <td>-6.651340</td>\n",
       "    </tr>\n",
       "    <tr>\n",
       "      <th>158</th>\n",
       "      <td>13.311606</td>\n",
       "      <td>0.339205</td>\n",
       "    </tr>\n",
       "    <tr>\n",
       "      <th>159</th>\n",
       "      <td>-2.740837</td>\n",
       "      <td>10.387222</td>\n",
       "    </tr>\n",
       "  </tbody>\n",
       "</table>\n",
       "<p>160 rows × 2 columns</p>\n",
       "</div>"
      ],
      "text/plain": [
       "          pca1       pca2\n",
       "0    28.711032  18.115631\n",
       "1    23.587670  -8.602416\n",
       "2    -6.250112   0.014070\n",
       "3     4.152104 -18.678042\n",
       "4    15.552876  -0.348172\n",
       "..         ...        ...\n",
       "155 -13.187091  -3.930804\n",
       "156 -15.855803 -12.166082\n",
       "157 -30.402676  -6.651340\n",
       "158  13.311606   0.339205\n",
       "159  -2.740837  10.387222\n",
       "\n",
       "[160 rows x 2 columns]"
      ]
     },
     "execution_count": 20,
     "metadata": {},
     "output_type": "execute_result"
    }
   ],
   "source": [
    "# Your code here:\n",
    "df = pd.DataFrame(components2)\n",
    "df.columns =['pca1','pca2']\n",
    "df"
   ]
  },
  {
   "cell_type": "markdown",
   "metadata": {},
   "source": [
    "# Challenge 3 - Plotting the Data\n",
    "\n",
    "Now that we have reduced our cats and dogs arrays, we can easily plot the data in a way that the human eye can understand. We can look at this plot to see whether there are differences between the cat and dog images. \n",
    "\n",
    "In the cell below, turn the two dimensional projection into a pandas dataframe and name the columns `pc1`, and `pc2` respectively."
   ]
  },
  {
   "cell_type": "code",
   "execution_count": 21,
   "metadata": {},
   "outputs": [
    {
     "data": {
      "text/html": [
       "<div>\n",
       "<style scoped>\n",
       "    .dataframe tbody tr th:only-of-type {\n",
       "        vertical-align: middle;\n",
       "    }\n",
       "\n",
       "    .dataframe tbody tr th {\n",
       "        vertical-align: top;\n",
       "    }\n",
       "\n",
       "    .dataframe thead th {\n",
       "        text-align: right;\n",
       "    }\n",
       "</style>\n",
       "<table border=\"1\" class=\"dataframe\">\n",
       "  <thead>\n",
       "    <tr style=\"text-align: right;\">\n",
       "      <th></th>\n",
       "      <th>pca1</th>\n",
       "      <th>pca2</th>\n",
       "    </tr>\n",
       "  </thead>\n",
       "  <tbody>\n",
       "    <tr>\n",
       "      <th>0</th>\n",
       "      <td>28.711032</td>\n",
       "      <td>18.115631</td>\n",
       "    </tr>\n",
       "    <tr>\n",
       "      <th>1</th>\n",
       "      <td>23.587670</td>\n",
       "      <td>-8.602416</td>\n",
       "    </tr>\n",
       "    <tr>\n",
       "      <th>2</th>\n",
       "      <td>-6.250112</td>\n",
       "      <td>0.014070</td>\n",
       "    </tr>\n",
       "    <tr>\n",
       "      <th>3</th>\n",
       "      <td>4.152104</td>\n",
       "      <td>-18.678042</td>\n",
       "    </tr>\n",
       "    <tr>\n",
       "      <th>4</th>\n",
       "      <td>15.552876</td>\n",
       "      <td>-0.348172</td>\n",
       "    </tr>\n",
       "    <tr>\n",
       "      <th>...</th>\n",
       "      <td>...</td>\n",
       "      <td>...</td>\n",
       "    </tr>\n",
       "    <tr>\n",
       "      <th>155</th>\n",
       "      <td>-13.187091</td>\n",
       "      <td>-3.930804</td>\n",
       "    </tr>\n",
       "    <tr>\n",
       "      <th>156</th>\n",
       "      <td>-15.855803</td>\n",
       "      <td>-12.166082</td>\n",
       "    </tr>\n",
       "    <tr>\n",
       "      <th>157</th>\n",
       "      <td>-30.402676</td>\n",
       "      <td>-6.651340</td>\n",
       "    </tr>\n",
       "    <tr>\n",
       "      <th>158</th>\n",
       "      <td>13.311606</td>\n",
       "      <td>0.339205</td>\n",
       "    </tr>\n",
       "    <tr>\n",
       "      <th>159</th>\n",
       "      <td>-2.740837</td>\n",
       "      <td>10.387222</td>\n",
       "    </tr>\n",
       "  </tbody>\n",
       "</table>\n",
       "<p>160 rows × 2 columns</p>\n",
       "</div>"
      ],
      "text/plain": [
       "          pca1       pca2\n",
       "0    28.711032  18.115631\n",
       "1    23.587670  -8.602416\n",
       "2    -6.250112   0.014070\n",
       "3     4.152104 -18.678042\n",
       "4    15.552876  -0.348172\n",
       "..         ...        ...\n",
       "155 -13.187091  -3.930804\n",
       "156 -15.855803 -12.166082\n",
       "157 -30.402676  -6.651340\n",
       "158  13.311606   0.339205\n",
       "159  -2.740837  10.387222\n",
       "\n",
       "[160 rows x 2 columns]"
      ]
     },
     "execution_count": 21,
     "metadata": {},
     "output_type": "execute_result"
    }
   ],
   "source": [
    "# Your code here:\n",
    "df = pd.DataFrame(components2)\n",
    "df.columns =['pca1','pca2']\n",
    "df\n"
   ]
  },
  {
   "cell_type": "markdown",
   "metadata": {},
   "source": [
    "Create a labels list. This list will be of size 160. The first 80 elements in the list will be the word `blue`, and the last 80 elements will be `red`. This will ensure that all dog observations will be colored in blue and all cats will be colored in red. Name this list `colors`."
   ]
  },
  {
   "cell_type": "code",
   "execution_count": 22,
   "metadata": {},
   "outputs": [],
   "source": [
    "# Your code here:\n",
    "\n",
    "blue = ['blue']*80\n",
    "red = ['red']*80\n",
    "lables = blue + red"
   ]
  },
  {
   "cell_type": "markdown",
   "metadata": {},
   "source": [
    "Create a scatter plot of `pc1` and `pc2` below. Use the `colors` list above to color the observations by setting `c=colors`."
   ]
  },
  {
   "cell_type": "code",
   "execution_count": 23,
   "metadata": {},
   "outputs": [
    {
     "data": {
      "text/plain": [
       "<AxesSubplot:xlabel='pca1', ylabel='pca2'>"
      ]
     },
     "execution_count": 23,
     "metadata": {},
     "output_type": "execute_result"
    },
    {
     "data": {
      "image/png": "[encoded data removed]",
      "text/plain": [
       "<Figure size 432x288 with 1 Axes>"
      ]
     },
     "metadata": {
      "needs_background": "light"
     },
     "output_type": "display_data"
    }
   ],
   "source": [
    "# Your code here:\n",
    "import seaborn as sns \n",
    "import matplotlib.pyplot as plt\n",
    "\n",
    "df.plot.scatter(x='pca1', y='pca2', c=lables)\n"
   ]
  },
  {
   "cell_type": "markdown",
   "metadata": {},
   "source": [
    "Do you see a clear separation between cats and dogs? Write your answer below."
   ]
  },
  {
   "cell_type": "code",
   "execution_count": 24,
   "metadata": {},
   "outputs": [],
   "source": [
    "\n",
    "# Your conclusions here:\n",
    "# There is slight difference between cats and dogs, also some intersection\n"
   ]
  },
  {
   "cell_type": "code",
   "execution_count": 25,
   "metadata": {},
   "outputs": [],
   "source": [
    "from sklearn.manifold import TSNE"
   ]
  },
  {
   "cell_type": "code",
   "execution_count": 26,
   "metadata": {},
   "outputs": [
    {
     "name": "stdout",
     "output_type": "stream",
     "text": [
      "[t-SNE] Computing 121 nearest neighbors...\n",
      "[t-SNE] Indexed 160 samples in 0.000s...\n",
      "[t-SNE] Computed neighbors for 160 samples in 0.040s...\n",
      "[t-SNE] Computed conditional probabilities for sample 160 / 160\n",
      "[t-SNE] Mean sigma: 10.136090\n",
      "[t-SNE] KL divergence after 250 iterations with early exaggeration: 54.001759\n",
      "[t-SNE] KL divergence after 300 iterations: 0.375946\n"
     ]
    },
    {
     "data": {
      "text/plain": [
       "array([[ 8.3116941e+00, -1.0947869e+01],\n",
       "       [ 3.4841897e+00, -1.3249482e+01],\n",
       "       [-6.1615629e+00,  4.0999093e+00],\n",
       "       [-5.0396557e+00, -3.4494486e+00],\n",
       "       [ 3.9548118e+00, -6.7552514e+00],\n",
       "       [-3.0680017e+00, -5.8360147e-01],\n",
       "       [ 9.4624031e-01, -5.3879447e+00],\n",
       "       [-4.1696401e+00, -5.6640120e+00],\n",
       "       [-5.7896190e+00, -5.0657654e+00],\n",
       "       [ 6.3783197e+00, -8.2657900e+00],\n",
       "       [-5.6925879e+00, -1.2389328e+00],\n",
       "       [-1.9900455e+00, -6.2749491e+00],\n",
       "       [-6.2545136e-02, -3.0420332e+00],\n",
       "       [-7.8898053e+00,  2.5639124e+00],\n",
       "       [-1.3555620e+00, -5.5050116e+00],\n",
       "       [-4.1723189e+00, -6.8907647e+00],\n",
       "       [ 2.5270488e+00, -4.8824677e+00],\n",
       "       [ 6.3331575e+00, -5.0628872e+00],\n",
       "       [-2.4103348e+00, -5.4908791e+00],\n",
       "       [-4.8630118e+00, -5.1390238e+00],\n",
       "       [-4.1675248e+00,  6.1707371e-01],\n",
       "       [-5.3254819e+00, -2.4499173e+00],\n",
       "       [ 1.2507033e+00, -3.1892772e+00],\n",
       "       [-5.0346012e+00, -5.7844028e+00],\n",
       "       [-3.6921229e+00, -8.0428667e+00],\n",
       "       [-4.8762007e+00, -1.5585268e+00],\n",
       "       [-5.4607072e+00,  2.3661604e+00],\n",
       "       [-6.8607183e+00,  1.9723904e-01],\n",
       "       [-6.3444080e+00, -3.6935294e+00],\n",
       "       [-1.3848584e+00, -4.0185866e+00],\n",
       "       [-2.9523957e+00, -2.8521025e+00],\n",
       "       [-2.2915380e+00, -3.5676842e+00],\n",
       "       [-2.6293519e+00, -8.1175947e+00],\n",
       "       [-4.8083515e+00, -6.4574342e+00],\n",
       "       [-3.7396696e+00,  7.3699886e-03],\n",
       "       [ 1.8999444e+00, -5.3963284e+00],\n",
       "       [-2.8441222e+00,  1.6770384e+00],\n",
       "       [-5.7195311e+00, -6.6129082e-01],\n",
       "       [-4.5776186e+00, -5.3430110e-01],\n",
       "       [ 4.9527330e+00, -5.1973095e+00],\n",
       "       [-3.4059246e+00, -5.5537357e+00],\n",
       "       [ 2.2234752e+00, -1.1073586e+01],\n",
       "       [-3.0091405e+00,  4.7186828e-01],\n",
       "       [-3.2712948e+00, -6.3127356e+00],\n",
       "       [-7.0831051e+00,  2.8070302e+00],\n",
       "       [ 4.7002172e+00, -1.0311901e+01],\n",
       "       [ 1.6659005e+00, -4.5949883e+00],\n",
       "       [-6.5428782e+00,  2.0948763e+00],\n",
       "       [ 2.6594460e+00, -3.1365588e+00],\n",
       "       [-3.2843051e+00,  3.8058748e+00],\n",
       "       [ 5.3403869e+00, -7.7107005e+00],\n",
       "       [ 8.5731468e+00, -1.1753520e+01],\n",
       "       [ 2.2864940e+00,  3.2946835e+00],\n",
       "       [-3.5176566e+00,  1.5018376e+00],\n",
       "       [-5.6055292e-02,  6.5568819e+00],\n",
       "       [-6.9299598e+00,  5.2099705e+00],\n",
       "       [ 4.1025243e+00, -8.8133154e+00],\n",
       "       [ 2.7871988e+00, -8.9943762e+00],\n",
       "       [-3.9609473e+00,  4.5018263e+00],\n",
       "       [-6.3021903e+00,  6.2511140e-01],\n",
       "       [-5.2997818e+00, -3.9308879e+00],\n",
       "       [ 6.0919943e+00, -1.0378576e+01],\n",
       "       [ 7.5391488e+00, -8.4140892e+00],\n",
       "       [ 6.1958152e-01,  6.7476354e+00],\n",
       "       [-6.6012340e+00,  1.4979963e+00],\n",
       "       [ 5.5370636e+00, -6.6449833e+00],\n",
       "       [ 3.9263029e+00,  1.4871044e+00],\n",
       "       [-4.1361427e+00,  8.4278479e+00],\n",
       "       [-4.5028620e+00,  3.1476262e+00],\n",
       "       [-3.2073841e+00, -4.8098063e+00],\n",
       "       [-6.5555592e+00,  2.9638603e+00],\n",
       "       [-3.7811530e+00, -2.9944408e+00],\n",
       "       [-2.0411651e+00, -6.8597579e+00],\n",
       "       [-3.4001698e+00,  2.5337579e+00],\n",
       "       [ 4.0961366e+00,  2.3605940e+00],\n",
       "       [ 7.8268170e+00, -1.0070108e+01],\n",
       "       [ 3.8741405e+00, -5.5431104e+00],\n",
       "       [-4.9061489e+00,  2.5275409e-01],\n",
       "       [-4.0453253e+00, -9.0319204e-01],\n",
       "       [ 8.2378407e+00, -7.6859708e+00],\n",
       "       [ 1.0500381e+00,  7.9551396e+00],\n",
       "       [-2.5528855e+00,  1.1144444e+01],\n",
       "       [ 6.9041872e+00, -9.1351795e+00],\n",
       "       [ 7.0518961e+00, -7.0529351e+00],\n",
       "       [ 2.4638793e+00,  9.5053587e+00],\n",
       "       [ 2.7343175e+00,  8.7429104e+00],\n",
       "       [-3.1556182e+00,  1.0754355e+01],\n",
       "       [ 2.0872037e+00,  6.0397902e+00],\n",
       "       [-1.0682821e+00,  1.0704589e+01],\n",
       "       [ 1.9986829e+00,  7.6330786e+00],\n",
       "       [ 1.0969375e+00,  3.2123607e-01],\n",
       "       [ 9.5877093e-01,  3.3230374e+00],\n",
       "       [-2.0321460e+00,  1.2209260e+01],\n",
       "       [ 1.6752846e+00,  1.0405311e+01],\n",
       "       [ 5.2401414e+00, -1.0263035e+01],\n",
       "       [ 8.1343102e-01,  9.2461948e+00],\n",
       "       [ 5.3877864e+00, -9.5257425e+00],\n",
       "       [ 1.7635724e-01,  1.0771847e+01],\n",
       "       [-8.5503206e+00, -1.1715208e+01],\n",
       "       [-1.6064287e+00,  1.1704871e+01],\n",
       "       [ 3.2945426e+00,  5.4996638e+00],\n",
       "       [-2.2140605e+00,  9.6170349e+00],\n",
       "       [-3.3140833e+00,  9.0705328e+00],\n",
       "       [-6.2223887e+00,  8.3411837e+00],\n",
       "       [ 9.2559242e+00, -1.0446537e+01],\n",
       "       [-7.3657947e+00,  1.6719234e+00],\n",
       "       [ 1.8050294e+00,  9.1304340e+00],\n",
       "       [-5.0569768e+00,  8.2206898e+00],\n",
       "       [ 3.5387530e+00, -8.2470837e+00],\n",
       "       [ 2.4244010e+00,  6.6913724e+00],\n",
       "       [ 3.2661955e+00,  3.4649088e+00],\n",
       "       [ 1.5365111e+00, -9.8051386e+00],\n",
       "       [ 3.5178816e+00,  9.2781115e+00],\n",
       "       [ 6.9768791e+00, -9.7882671e+00],\n",
       "       [-3.7924266e+00,  1.1816143e+01],\n",
       "       [-7.0399299e+00,  4.0561705e+00],\n",
       "       [ 9.1269760e+00, -8.6959066e+00],\n",
       "       [-1.7564292e+00,  1.0479504e+01],\n",
       "       [-4.9283566e+00,  6.9242778e+00],\n",
       "       [ 2.3304210e+00,  4.8645692e+00],\n",
       "       [ 1.3158125e+00,  4.8572984e+00],\n",
       "       [ 2.5735395e+00,  7.8300962e+00],\n",
       "       [-4.7820659e+00,  9.8297968e+00],\n",
       "       [-3.8683105e+00,  5.3589773e+00],\n",
       "       [-5.5578461e+00,  9.1042271e+00],\n",
       "       [ 6.0319118e+00, -9.0514622e+00],\n",
       "       [ 6.4676309e+00, -7.4254932e+00],\n",
       "       [ 5.4719415e+00, -8.4420929e+00],\n",
       "       [-4.1615529e+00,  1.0523941e+01],\n",
       "       [ 6.7994815e-01,  4.5724339e+00],\n",
       "       [ 1.3869202e+00,  6.8365355e+00],\n",
       "       [-5.6843910e+00,  5.5885296e+00],\n",
       "       [ 7.2651915e-02,  1.1824153e+01],\n",
       "       [ 1.7801072e-02,  9.9037476e+00],\n",
       "       [ 4.7447152e+00, -1.1191379e+01],\n",
       "       [ 1.0817457e+00,  1.0046819e+01],\n",
       "       [ 2.8761661e+00,  1.0386505e+01],\n",
       "       [-6.3008480e+00,  5.0206861e+00],\n",
       "       [ 7.2734084e+00, -1.1778682e+01],\n",
       "       [-4.5025878e+00,  5.6775756e+00],\n",
       "       [-5.4569244e+00,  3.4344907e+00],\n",
       "       [ 3.6860540e+00,  6.9253907e+00],\n",
       "       [-7.7651310e-01,  1.1793066e+01],\n",
       "       [-4.4059105e+00,  9.2099714e+00],\n",
       "       [ 2.4082663e+00, -5.8561091e+00],\n",
       "       [ 3.4822154e+00,  4.3462863e+00],\n",
       "       [ 9.2770910e+00, -9.7488670e+00],\n",
       "       [-9.7532123e-02,  5.3397713e+00],\n",
       "       [ 4.5405765e+00, -8.1888237e+00],\n",
       "       [ 4.6244249e+00, -6.4571242e+00],\n",
       "       [ 3.8647370e+00, -9.8609619e+00],\n",
       "       [-3.5828757e+00,  9.6404810e+00],\n",
       "       [ 3.9205551e+00,  6.2665811e+00],\n",
       "       [ 7.9837155e-01,  2.0979743e+00],\n",
       "       [ 1.9925646e+00, -6.6157837e+00],\n",
       "       [-5.9938698e+00,  6.3336105e+00],\n",
       "       [-4.0074716e+00,  6.3901539e+00],\n",
       "       [-5.1290550e+00,  1.0664051e+01],\n",
       "       [ 3.1712701e+00, -6.5898685e+00],\n",
       "       [ 2.0003984e+00,  4.1630054e+00]], dtype=float32)"
      ]
     },
     "execution_count": 26,
     "metadata": {},
     "output_type": "execute_result"
    }
   ],
   "source": [
    "# And now let's use t-SNE to reduce the dimensions till 2 components\n",
    "tsne = TSNE(n_components=2, verbose=1, perplexity=40, n_iter=300)\n",
    "df_tsne = tsne.fit_transform(df)\n",
    "df_tsne"
   ]
  },
  {
   "cell_type": "code",
   "execution_count": 27,
   "metadata": {},
   "outputs": [
    {
     "data": {
      "text/html": [
       "<div>\n",
       "<style scoped>\n",
       "    .dataframe tbody tr th:only-of-type {\n",
       "        vertical-align: middle;\n",
       "    }\n",
       "\n",
       "    .dataframe tbody tr th {\n",
       "        vertical-align: top;\n",
       "    }\n",
       "\n",
       "    .dataframe thead th {\n",
       "        text-align: right;\n",
       "    }\n",
       "</style>\n",
       "<table border=\"1\" class=\"dataframe\">\n",
       "  <thead>\n",
       "    <tr style=\"text-align: right;\">\n",
       "      <th></th>\n",
       "      <th>tsne1</th>\n",
       "      <th>tsne2</th>\n",
       "    </tr>\n",
       "  </thead>\n",
       "  <tbody>\n",
       "    <tr>\n",
       "      <th>0</th>\n",
       "      <td>8.311694</td>\n",
       "      <td>-10.947869</td>\n",
       "    </tr>\n",
       "    <tr>\n",
       "      <th>1</th>\n",
       "      <td>3.484190</td>\n",
       "      <td>-13.249482</td>\n",
       "    </tr>\n",
       "    <tr>\n",
       "      <th>2</th>\n",
       "      <td>-6.161563</td>\n",
       "      <td>4.099909</td>\n",
       "    </tr>\n",
       "    <tr>\n",
       "      <th>3</th>\n",
       "      <td>-5.039656</td>\n",
       "      <td>-3.449449</td>\n",
       "    </tr>\n",
       "    <tr>\n",
       "      <th>4</th>\n",
       "      <td>3.954812</td>\n",
       "      <td>-6.755251</td>\n",
       "    </tr>\n",
       "    <tr>\n",
       "      <th>...</th>\n",
       "      <td>...</td>\n",
       "      <td>...</td>\n",
       "    </tr>\n",
       "    <tr>\n",
       "      <th>155</th>\n",
       "      <td>-5.993870</td>\n",
       "      <td>6.333611</td>\n",
       "    </tr>\n",
       "    <tr>\n",
       "      <th>156</th>\n",
       "      <td>-4.007472</td>\n",
       "      <td>6.390154</td>\n",
       "    </tr>\n",
       "    <tr>\n",
       "      <th>157</th>\n",
       "      <td>-5.129055</td>\n",
       "      <td>10.664051</td>\n",
       "    </tr>\n",
       "    <tr>\n",
       "      <th>158</th>\n",
       "      <td>3.171270</td>\n",
       "      <td>-6.589869</td>\n",
       "    </tr>\n",
       "    <tr>\n",
       "      <th>159</th>\n",
       "      <td>2.000398</td>\n",
       "      <td>4.163005</td>\n",
       "    </tr>\n",
       "  </tbody>\n",
       "</table>\n",
       "<p>160 rows × 2 columns</p>\n",
       "</div>"
      ],
      "text/plain": [
       "        tsne1      tsne2\n",
       "0    8.311694 -10.947869\n",
       "1    3.484190 -13.249482\n",
       "2   -6.161563   4.099909\n",
       "3   -5.039656  -3.449449\n",
       "4    3.954812  -6.755251\n",
       "..        ...        ...\n",
       "155 -5.993870   6.333611\n",
       "156 -4.007472   6.390154\n",
       "157 -5.129055  10.664051\n",
       "158  3.171270  -6.589869\n",
       "159  2.000398   4.163005\n",
       "\n",
       "[160 rows x 2 columns]"
      ]
     },
     "execution_count": 27,
     "metadata": {},
     "output_type": "execute_result"
    }
   ],
   "source": [
    "# How many information we can describe with 2 components?\n",
    "\n",
    "df2 = pd.DataFrame(df_tsne)\n",
    "df2.columns =['tsne1','tsne2']\n",
    "df2"
   ]
  },
  {
   "cell_type": "code",
   "execution_count": 28,
   "metadata": {},
   "outputs": [
    {
     "data": {
      "text/plain": [
       "<matplotlib.collections.PathCollection at 0x185728ec940>"
      ]
     },
     "execution_count": 28,
     "metadata": {},
     "output_type": "execute_result"
    },
    {
     "data": {
      "image/png": "[encoded data removed]",
      "text/plain": [
       "<Figure size 432x288 with 1 Axes>"
      ]
     },
     "metadata": {
      "needs_background": "light"
     },
     "output_type": "display_data"
    }
   ],
   "source": [
    "plt.scatter(df2['tsne1'],df2['tsne2'], c=lables)"
   ]
  },
  {
   "cell_type": "code",
   "execution_count": null,
   "metadata": {},
   "outputs": [],
   "source": []
  }
 ],
 "metadata": {
  "kernelspec": {
   "display_name": "Python 3 (ipykernel)",
   "language": "python",
   "name": "python3"
  },
  "language_info": {
   "codemirror_mode": {
    "name": "ipython",
    "version": 3
   },
   "file_extension": ".py",
   "mimetype": "text/x-python",
   "name": "python",
   "nbconvert_exporter": "python",
   "pygments_lexer": "ipython3",
   "version": "3.9.7"
  }
 },
 "nbformat": 4,
 "nbformat_minor": 2
}
