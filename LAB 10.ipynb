{
 "cells": [
  {
   "cell_type": "code",
   "execution_count": 1,
   "id": "ff7fd534",
   "metadata": {},
   "outputs": [
    {
     "name": "stdout",
     "output_type": "stream",
     "text": [
      "17\n"
     ]
    }
   ],
   "source": [
    "#1.counting sheep\n",
    "#Consider an array/list of sheep where some sheep may be missing from their place. We need a function that counts the number of sheep present in the array (true means present).\n",
    "\n",
    "sheep=[True,  True,  True,  False,\n",
    "  True,  True,  True,  True ,\n",
    "  True,  False, True,  False,\n",
    "  True,  False, False, True ,\n",
    "  True,  True,  True,  True ,\n",
    "  False, False, True,  True]\n",
    "\n",
    "n=0\n",
    "for s in sheep:\n",
    "    if s == True:\n",
    "        n+=1\n",
    "    else:\n",
    "        continue\n",
    "print(n)"
   ]
  },
  {
   "cell_type": "code",
   "execution_count": 2,
   "id": "95732b87",
   "metadata": {},
   "outputs": [
    {
     "name": "stdout",
     "output_type": "stream",
     "text": [
      "['Keep', 'Keep', 'Keep']\n",
      "[1, 3, 5, 7]\n"
     ]
    }
   ],
   "source": [
    "#2.Removing Elements\n",
    "#Take an array and remove every second element from the array. Always keep the first element and start removing with the next element.\n",
    "\n",
    "arr1=[\"Keep\", \"Remove\", \"Keep\", \"Remove\", \"Keep\"] \n",
    "arr2=[1,2,3,4,5,6,7]\n",
    "\n",
    "def rm2ele(lst):\n",
    "    del lst[1::2]\n",
    "    return lst\n",
    "\n",
    "print(rm2ele(arr1))\n",
    "print(rm2ele(arr2))"
   ]
  },
  {
   "cell_type": "code",
   "execution_count": 3,
   "id": "526d5d80",
   "metadata": {},
   "outputs": [
    {
     "data": {
      "text/plain": [
       "['7', '9', '5', '8', '4', '3']"
      ]
     },
     "execution_count": 3,
     "metadata": {},
     "output_type": "execute_result"
    }
   ],
   "source": [
    "#3.Convert number to reversed array of digits\n",
    "#Given a random non-negative number, you have to return the digits of this number within an array in reverse order.\n",
    "\n",
    "n1 = 348597\n",
    "\n",
    "def revn(number):\n",
    "    global lst\n",
    "    lst=[]\n",
    "    for i in str(number):\n",
    "        lst.append(i)\n",
    "    return lst[::-1]\n",
    "revn(n1)"
   ]
  },
  {
   "cell_type": "code",
   "execution_count": 4,
   "id": "cdf64002",
   "metadata": {},
   "outputs": [
    {
     "data": {
      "text/plain": [
       "'811181'"
      ]
     },
     "execution_count": 4,
     "metadata": {},
     "output_type": "execute_result"
    }
   ],
   "source": [
    "#4.Square every digit\n",
    "#Welcome. In this kata, you are asked to square every digit of a number and concatenate them.\n",
    "#solution1\n",
    "\n",
    "n1 = 9119 \n",
    "\n",
    "def sqn(number):\n",
    "    global str1\n",
    "    lst1=[]\n",
    "    str1=str()\n",
    "    for n in str(number):\n",
    "        lst1.append(int(n)**2)\n",
    "    for i in lst1:\n",
    "        str1 += str(i)\n",
    "    return str1\n",
    "\n",
    "sqn(n1)"
   ]
  },
  {
   "cell_type": "code",
   "execution_count": 5,
   "id": "cfaf4321",
   "metadata": {},
   "outputs": [
    {
     "data": {
      "text/plain": [
       "'4250'"
      ]
     },
     "execution_count": 5,
     "metadata": {},
     "output_type": "execute_result"
    }
   ],
   "source": [
    "#4.Square every digit\n",
    "#solution2\n",
    "\n",
    "def sqn(number):\n",
    "    global lst1\n",
    "    lst1=[]\n",
    "    str1=str()\n",
    "    for n in str(number):\n",
    "        lst1.append(str(int(n)**2))\n",
    "    return ''.join(lst1)\n",
    "sqn(250)"
   ]
  },
  {
   "cell_type": "code",
   "execution_count": 6,
   "id": "801f8848",
   "metadata": {},
   "outputs": [
    {
     "data": {
      "text/plain": [
       "[(1, 7), (8, 5), (4, 0)]"
      ]
     },
     "execution_count": 6,
     "metadata": {},
     "output_type": "execute_result"
    }
   ],
   "source": [
    "#5.Method For Counting Total Occurence Of Specific Digits\n",
    "#output a list of tuples, each tuple having two elements, the first one will be a digit to count, and second one, its corresponding total frequency in all the integers of the first list. This list of tuples should be ordered with the same order that the digits have in digitsList\n",
    "#ex.:\n",
    "#integers_list = [-18, -31, 81, -19, 111, -888]\n",
    "#digits_list = [1, 8, 4]\n",
    "#l.count_spec_digits(integers_list, digits_list) == [(1, 7), (8, 5), (4, 0)]\n",
    "\n",
    "def count_spec_digits(integers_list,digits_list):\n",
    "    lst1=[]\n",
    "    str1=str()\n",
    "    dict1={}\n",
    "    for i in integers_list:\n",
    "        lst1.append(str(i))\n",
    "        str1=''.join(lst1)\n",
    "        str1=str1.replace(\"-\", \"\")\n",
    "    for d in digits_list:\n",
    "        dict1[d]=str1.count(str(d))\n",
    "    return [(d, n) for d, n in dict1.items()]\n",
    "        \n",
    "integers_list1 = [-18, -31, 81, -19, 111, -888]\n",
    "digits_list1 = [1, 8, 4]\n",
    "count_spec_digits(integers_list1,digits_list1)"
   ]
  },
  {
   "cell_type": "code",
   "execution_count": null,
   "id": "267cf51d",
   "metadata": {},
   "outputs": [],
   "source": []
  }
 ],
 "metadata": {
  "kernelspec": {
   "display_name": "Python 3",
   "language": "python",
   "name": "python3"
  },
  "language_info": {
   "codemirror_mode": {
    "name": "ipython",
    "version": 3
   },
   "file_extension": ".py",
   "mimetype": "text/x-python",
   "name": "python",
   "nbconvert_exporter": "python",
   "pygments_lexer": "ipython3",
   "version": "3.8.8"
  }
 },
 "nbformat": 4,
 "nbformat_minor": 5
}
