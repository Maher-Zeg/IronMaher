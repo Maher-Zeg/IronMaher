{
 "cells": [
  {
   "cell_type": "markdown",
   "metadata": {},
   "source": [
    "# Intrduction to NumPy\n",
    "\n",
    "\n",
    "#### 1. Import NumPy under the name np."
   ]
  },
  {
   "cell_type": "code",
   "execution_count": 1,
   "metadata": {},
   "outputs": [],
   "source": [
    "# your code here\n",
    "import numpy as np"
   ]
  },
  {
   "cell_type": "markdown",
   "metadata": {},
   "source": [
    "#### 2. Print your NumPy version."
   ]
  },
  {
   "cell_type": "code",
   "execution_count": 2,
   "metadata": {},
   "outputs": [
    {
     "name": "stdout",
     "output_type": "stream",
     "text": [
      "1.20.3\n"
     ]
    }
   ],
   "source": [
    "# your code here\n",
    "print(np.__version__)"
   ]
  },
  {
   "cell_type": "markdown",
   "metadata": {},
   "source": [
    "#### 3. Generate a 2x3x5 3-dimensional array with random values. Assign the array to variable *a*.\n",
    "**Challenge**: there are at least three easy ways that use numpy to generate random arrays. How many ways can you find?"
   ]
  },
  {
   "cell_type": "code",
   "execution_count": 38,
   "metadata": {},
   "outputs": [
    {
     "data": {
      "text/plain": [
       "array([[[0.91902738, 0.76222703, 0.39590382, 0.83996678, 0.94352339],\n",
       "        [0.29503112, 0.94112479, 0.77834617, 0.54595542, 0.98371962],\n",
       "        [0.1180065 , 0.42983665, 0.60785345, 0.54775547, 0.38834338]],\n",
       "\n",
       "       [[0.77752358, 0.81279013, 0.45995048, 0.44712463, 0.91835277],\n",
       "        [0.90580191, 0.97601179, 0.82925   , 0.23374184, 0.47304811],\n",
       "        [0.58200238, 0.8167302 , 0.95002591, 0.26862474, 0.88263561]]])"
      ]
     },
     "execution_count": 38,
     "metadata": {},
     "output_type": "execute_result"
    }
   ],
   "source": [
    "# Method 1\n",
    "a = np.random.random((2,3,5))\n",
    "a"
   ]
  },
  {
   "cell_type": "code",
   "execution_count": 5,
   "metadata": {},
   "outputs": [
    {
     "data": {
      "text/plain": [
       "array([[[-1.8744219 ,  1.38640596,  1.01824708,  0.03556472,\n",
       "         -1.44529991],\n",
       "        [-0.45969963,  1.23735822, -2.14900624,  0.50026506,\n",
       "          1.10384415],\n",
       "        [-2.12318561, -0.34660704,  0.22284026, -1.02850983,\n",
       "         -0.38860661]],\n",
       "\n",
       "       [[ 0.27404737,  0.41303942,  0.72993304,  2.5583611 ,\n",
       "          0.7227015 ],\n",
       "        [-0.61514145, -0.59430651,  0.78038699, -0.02940736,\n",
       "          1.12776443],\n",
       "        [ 1.08424038, -0.70665639,  0.32444797, -0.01853268,\n",
       "          0.42367728]]])"
      ]
     },
     "execution_count": 5,
     "metadata": {},
     "output_type": "execute_result"
    }
   ],
   "source": [
    "# Method 2\n",
    "a = np.random.randn(2,3,5)\n",
    "a"
   ]
  },
  {
   "cell_type": "code",
   "execution_count": 9,
   "metadata": {},
   "outputs": [
    {
     "data": {
      "text/plain": [
       "array([[[0.86595002, 0.52818301, 0.13521583, 0.27021918, 0.80384289],\n",
       "        [0.04966537, 0.91558734, 0.07931418, 0.19123765, 0.65698186],\n",
       "        [0.98439418, 0.66477869, 0.9944374 , 0.70350438, 0.1239141 ]],\n",
       "\n",
       "       [[0.61702495, 0.03327759, 0.10613496, 0.01820792, 0.3310862 ],\n",
       "        [0.81627174, 0.33508531, 0.52972409, 0.63281712, 0.4524588 ],\n",
       "        [0.74993562, 0.62292469, 0.59625622, 0.01021499, 0.28959787]]])"
      ]
     },
     "execution_count": 9,
     "metadata": {},
     "output_type": "execute_result"
    }
   ],
   "source": [
    "# Method 3\n",
    "a = np.random.rand(2,3,5)\n",
    "a"
   ]
  },
  {
   "cell_type": "markdown",
   "metadata": {},
   "source": [
    "#### 4. Print *a*.\n"
   ]
  },
  {
   "cell_type": "code",
   "execution_count": 10,
   "metadata": {},
   "outputs": [
    {
     "name": "stdout",
     "output_type": "stream",
     "text": [
      "[[[0.86595002 0.52818301 0.13521583 0.27021918 0.80384289]\n",
      "  [0.04966537 0.91558734 0.07931418 0.19123765 0.65698186]\n",
      "  [0.98439418 0.66477869 0.9944374  0.70350438 0.1239141 ]]\n",
      "\n",
      " [[0.61702495 0.03327759 0.10613496 0.01820792 0.3310862 ]\n",
      "  [0.81627174 0.33508531 0.52972409 0.63281712 0.4524588 ]\n",
      "  [0.74993562 0.62292469 0.59625622 0.01021499 0.28959787]]]\n"
     ]
    }
   ],
   "source": [
    "# your code here\n",
    "print(a)"
   ]
  },
  {
   "cell_type": "markdown",
   "metadata": {},
   "source": [
    "#### 5. Create a 5x2x3 3-dimensional array with all values equaling 1. Assign the array to variable *b*."
   ]
  },
  {
   "cell_type": "code",
   "execution_count": 40,
   "metadata": {},
   "outputs": [],
   "source": [
    "# your code here\n",
    "b = np.ones((5,2,3))"
   ]
  },
  {
   "cell_type": "markdown",
   "metadata": {},
   "source": [
    "#### 6. Print *b*.\n"
   ]
  },
  {
   "cell_type": "code",
   "execution_count": 41,
   "metadata": {},
   "outputs": [
    {
     "name": "stdout",
     "output_type": "stream",
     "text": [
      "[[[1. 1. 1.]\n",
      "  [1. 1. 1.]]\n",
      "\n",
      " [[1. 1. 1.]\n",
      "  [1. 1. 1.]]\n",
      "\n",
      " [[1. 1. 1.]\n",
      "  [1. 1. 1.]]\n",
      "\n",
      " [[1. 1. 1.]\n",
      "  [1. 1. 1.]]\n",
      "\n",
      " [[1. 1. 1.]\n",
      "  [1. 1. 1.]]]\n"
     ]
    }
   ],
   "source": [
    "# your code here\n",
    "print(b)"
   ]
  },
  {
   "cell_type": "markdown",
   "metadata": {},
   "source": [
    "#### 7. Do *a* and *b* have the same size? How do you prove that in Python code?"
   ]
  },
  {
   "cell_type": "code",
   "execution_count": 18,
   "metadata": {},
   "outputs": [
    {
     "name": "stdout",
     "output_type": "stream",
     "text": [
      "False\n"
     ]
    }
   ],
   "source": [
    "# your code here\n",
    "if a.shape == b.shape:\n",
    "    print(True)\n",
    "else :\n",
    "    print(False)"
   ]
  },
  {
   "cell_type": "markdown",
   "metadata": {},
   "source": [
    "#### 8. Are you able to add *a* and *b*? Why or why not?\n"
   ]
  },
  {
   "cell_type": "code",
   "execution_count": 20,
   "metadata": {},
   "outputs": [],
   "source": [
    "# your answer here\n",
    "a + b\n",
    "#impossible beause they have different shape"
   ]
  },
  {
   "cell_type": "markdown",
   "metadata": {},
   "source": [
    "#### 9. Transpose *b* so that it has the same structure of *a* (i.e. become a 2x3x5 array). Assign the transposed array to variable *c*."
   ]
  },
  {
   "cell_type": "code",
   "execution_count": 22,
   "metadata": {},
   "outputs": [
    {
     "data": {
      "text/plain": [
       "array([[[1., 1., 1., 1., 1.],\n",
       "        [1., 1., 1., 1., 1.],\n",
       "        [1., 1., 1., 1., 1.]],\n",
       "\n",
       "       [[1., 1., 1., 1., 1.],\n",
       "        [1., 1., 1., 1., 1.],\n",
       "        [1., 1., 1., 1., 1.]]])"
      ]
     },
     "execution_count": 22,
     "metadata": {},
     "output_type": "execute_result"
    }
   ],
   "source": [
    "# your code here\n",
    "c = b.reshape(2,3,5)\n",
    "c"
   ]
  },
  {
   "cell_type": "markdown",
   "metadata": {},
   "source": [
    "#### 10. Try to add *a* and *c*. Now it should work. Assign the sum to variable *d*. But why does it work now?"
   ]
  },
  {
   "cell_type": "code",
   "execution_count": 24,
   "metadata": {},
   "outputs": [
    {
     "data": {
      "text/plain": [
       "array([[[1.86595002, 1.52818301, 1.13521583, 1.27021918, 1.80384289],\n",
       "        [1.04966537, 1.91558734, 1.07931418, 1.19123765, 1.65698186],\n",
       "        [1.98439418, 1.66477869, 1.9944374 , 1.70350438, 1.1239141 ]],\n",
       "\n",
       "       [[1.61702495, 1.03327759, 1.10613496, 1.01820792, 1.3310862 ],\n",
       "        [1.81627174, 1.33508531, 1.52972409, 1.63281712, 1.4524588 ],\n",
       "        [1.74993562, 1.62292469, 1.59625622, 1.01021499, 1.28959787]]])"
      ]
     },
     "execution_count": 24,
     "metadata": {},
     "output_type": "execute_result"
    }
   ],
   "source": [
    "# your code/answer here\n",
    "d = a + c \n",
    "d"
   ]
  },
  {
   "cell_type": "code",
   "execution_count": 52,
   "metadata": {},
   "outputs": [
    {
     "data": {
      "text/plain": [
       "1.0793141802258517"
      ]
     },
     "execution_count": 52,
     "metadata": {},
     "output_type": "execute_result"
    }
   ],
   "source": [
    "d[0][1][2]"
   ]
  },
  {
   "cell_type": "markdown",
   "metadata": {},
   "source": [
    "#### 11. Print *a* and *d*. Notice the difference and relation of the two array in terms of the values? Explain."
   ]
  },
  {
   "cell_type": "code",
   "execution_count": 25,
   "metadata": {},
   "outputs": [
    {
     "name": "stdout",
     "output_type": "stream",
     "text": [
      "[[[0.86595002 0.52818301 0.13521583 0.27021918 0.80384289]\n",
      "  [0.04966537 0.91558734 0.07931418 0.19123765 0.65698186]\n",
      "  [0.98439418 0.66477869 0.9944374  0.70350438 0.1239141 ]]\n",
      "\n",
      " [[0.61702495 0.03327759 0.10613496 0.01820792 0.3310862 ]\n",
      "  [0.81627174 0.33508531 0.52972409 0.63281712 0.4524588 ]\n",
      "  [0.74993562 0.62292469 0.59625622 0.01021499 0.28959787]]]\n",
      "[[[1.86595002 1.52818301 1.13521583 1.27021918 1.80384289]\n",
      "  [1.04966537 1.91558734 1.07931418 1.19123765 1.65698186]\n",
      "  [1.98439418 1.66477869 1.9944374  1.70350438 1.1239141 ]]\n",
      "\n",
      " [[1.61702495 1.03327759 1.10613496 1.01820792 1.3310862 ]\n",
      "  [1.81627174 1.33508531 1.52972409 1.63281712 1.4524588 ]\n",
      "  [1.74993562 1.62292469 1.59625622 1.01021499 1.28959787]]]\n"
     ]
    }
   ],
   "source": [
    "# your code/answer here\n",
    "print(a)\n",
    "print(d)"
   ]
  },
  {
   "cell_type": "markdown",
   "metadata": {},
   "source": [
    "#### 12. Multiply *a* and *c*. Assign the result to *e*."
   ]
  },
  {
   "cell_type": "code",
   "execution_count": 26,
   "metadata": {},
   "outputs": [
    {
     "data": {
      "text/plain": [
       "array([[[0.86595002, 0.52818301, 0.13521583, 0.27021918, 0.80384289],\n",
       "        [0.04966537, 0.91558734, 0.07931418, 0.19123765, 0.65698186],\n",
       "        [0.98439418, 0.66477869, 0.9944374 , 0.70350438, 0.1239141 ]],\n",
       "\n",
       "       [[0.61702495, 0.03327759, 0.10613496, 0.01820792, 0.3310862 ],\n",
       "        [0.81627174, 0.33508531, 0.52972409, 0.63281712, 0.4524588 ],\n",
       "        [0.74993562, 0.62292469, 0.59625622, 0.01021499, 0.28959787]]])"
      ]
     },
     "execution_count": 26,
     "metadata": {},
     "output_type": "execute_result"
    }
   ],
   "source": [
    "# your code here\n",
    "e = a * c\n",
    "e"
   ]
  },
  {
   "cell_type": "markdown",
   "metadata": {},
   "source": [
    "#### 13. Does *e* equal to *a*? Why or why not?\n"
   ]
  },
  {
   "cell_type": "code",
   "execution_count": null,
   "metadata": {},
   "outputs": [],
   "source": [
    "# your code/answer here\n",
    "yes e == a "
   ]
  },
  {
   "cell_type": "markdown",
   "metadata": {},
   "source": [
    "#### 14. Identify the max, min, and mean values in *d*. Assign those values to variables *d_max*, *d_min* and *d_mean*."
   ]
  },
  {
   "cell_type": "code",
   "execution_count": 35,
   "metadata": {},
   "outputs": [
    {
     "name": "stdout",
     "output_type": "stream",
     "text": [
      "1.9944374046990938\n",
      "1.010214991706882\n",
      "1.470274804557882\n"
     ]
    }
   ],
   "source": [
    "# your code here\n",
    "d_max = d.max()\n",
    "print(d_max)\n",
    "d_min = d.min()\n",
    "print(d_min)\n",
    "d_mean = d.mean()\n",
    "print(d_mean)"
   ]
  },
  {
   "cell_type": "markdown",
   "metadata": {},
   "source": [
    "#### 15. Now we want to label the values in *d*. First create an empty array *f* with the same shape (i.e. 2x3x5) as *d* using `np.empty`.\n"
   ]
  },
  {
   "cell_type": "code",
   "execution_count": 42,
   "metadata": {},
   "outputs": [
    {
     "data": {
      "text/plain": [
       "array([[[1., 1., 1., 1., 1.],\n",
       "        [1., 1., 1., 1., 1.],\n",
       "        [1., 1., 1., 1., 1.]],\n",
       "\n",
       "       [[1., 1., 1., 1., 1.],\n",
       "        [1., 1., 1., 1., 1.],\n",
       "        [1., 1., 1., 1., 1.]]])"
      ]
     },
     "execution_count": 42,
     "metadata": {},
     "output_type": "execute_result"
    }
   ],
   "source": [
    "# your code here\n",
    "f = np.empty((2,3,5))\n",
    "f"
   ]
  },
  {
   "cell_type": "markdown",
   "metadata": {},
   "source": [
    "#### 16. Populate the values in *f*. \n",
    "\n",
    "For each value in *d*, if it's larger than *d_min* but smaller than *d_mean*, assign 25 to the corresponding value in *f*. If a value in *d* is larger than *d_mean* but smaller than *d_max*, assign 75 to the corresponding value in *f*. If a value equals to *d_mean*, assign 50 to the corresponding value in *f*. Assign 0 to the corresponding value(s) in *f* for *d_min* in *d*. Assign 100 to the corresponding value(s) in *f* for *d_max* in *d*. In the end, f should have only the following values: 0, 25, 50, 75, and 100.\n",
    "\n",
    "**Note**: you don't have to use Numpy in this question."
   ]
  },
  {
   "cell_type": "code",
   "execution_count": 44,
   "metadata": {},
   "outputs": [
    {
     "name": "stdout",
     "output_type": "stream",
     "text": [
      "[[[1.86595002 1.52818301 1.13521583 1.27021918 1.80384289]\n",
      "  [1.04966537 1.91558734 1.07931418 1.19123765 1.65698186]\n",
      "  [1.98439418 1.66477869 1.9944374  1.70350438 1.1239141 ]]\n",
      "\n",
      " [[1.61702495 1.03327759 1.10613496 1.01820792 1.3310862 ]\n",
      "  [1.81627174 1.33508531 1.52972409 1.63281712 1.4524588 ]\n",
      "  [1.74993562 1.62292469 1.59625622 1.01021499 1.28959787]]]\n",
      "[[[ 75.  75.  25.  25.  75.]\n",
      "  [ 25.  75.  25.  25.  75.]\n",
      "  [ 75.  75. 100.  75.  25.]]\n",
      "\n",
      " [[ 75.  25.  25.  25.  25.]\n",
      "  [ 75.  25.  75.  75.  25.]\n",
      "  [ 75.  75.  75.   0.  25.]]]\n"
     ]
    }
   ],
   "source": [
    "# your code here\n",
    "for i1 in range(0,2):\n",
    "    for i2 in range(0,3):\n",
    "        for i3 in range(0,5):\n",
    "            if d_min< d[i1,i2,i3] < d_mean:\n",
    "                f[i1,i2,i3] = 25\n",
    "            elif d_mean< d[i1,i2,i3] < d_max:\n",
    "                f[i1,i2,i3] = 75\n",
    "            elif d[i1,i2,i3] == d_mean:\n",
    "                f[i1,i2,i3] = 50\n",
    "            elif d[i1,i2,i3] == d_min:\n",
    "                f[i1,i2,i3] = 0\n",
    "            else:\n",
    "                f[i1,i2,i3] = 100\n",
    "print(d)\n",
    "\n",
    "print(f)\n",
    "        "
   ]
  },
  {
   "cell_type": "markdown",
   "metadata": {},
   "source": [
    "#### 17. Print *d* and *f*. Do you have your expected *f*?\n",
    "For instance, if your *d* is:\n",
    "```python\n",
    "[[[1.85836099, 1.67064465, 1.62576044, 1.40243961, 1.88454931],\n",
    "[1.75354326, 1.69403643, 1.36729252, 1.61415071, 1.12104981],\n",
    "[1.72201435, 1.1862918 , 1.87078449, 1.7726778 , 1.88180042]],\n",
    "[[1.44747908, 1.31673383, 1.02000951, 1.52218947, 1.97066381],\n",
    "[1.79129243, 1.74983003, 1.96028037, 1.85166831, 1.65450881],\n",
    "[1.18068344, 1.9587381 , 1.00656599, 1.93402165, 1.73514584]]]\n",
    "```\n",
    "Your *f* should be:\n",
    "```python\n",
    "[[[ 75.,  75.,  75.,  25.,  75.],\n",
    "[ 75.,  75.,  25.,  25.,  25.],\n",
    "[ 75.,  25.,  75.,  75.,  75.]],\n",
    "[[ 25.,  25.,  25.,  25., 100.],\n",
    "[ 75.,  75.,  75.,  75.,  75.],\n",
    "[ 25.,  75.,   0.,  75.,  75.]]]\n",
    "```"
   ]
  },
  {
   "cell_type": "code",
   "execution_count": 48,
   "metadata": {},
   "outputs": [
    {
     "name": "stdout",
     "output_type": "stream",
     "text": [
      "[[[ 75.  75.  25.  25.  75.]\n",
      "  [ 25.  75.  25.  25.  75.]\n",
      "  [ 75.  75. 100.  75.  25.]]\n",
      "\n",
      " [[ 75.  25.  25.  25.  25.]\n",
      "  [ 75.  25.  75.  75.  25.]\n",
      "  [ 75.  75.  75.   0.  25.]]]\n"
     ]
    }
   ],
   "source": [
    "# your code here\n",
    "print(f)"
   ]
  },
  {
   "cell_type": "markdown",
   "metadata": {},
   "source": [
    "#### 18. Bonus question: instead of using numbers (i.e. 0, 25, 50, 75, and 100), use string values  (\"A\", \"B\", \"C\", \"D\", and \"E\") to label the array elements. For the example above, the expected result is:\n",
    "\n",
    "```python\n",
    "[[[ 'D',  'D',  'D',  'B',  'D'],\n",
    "[ 'D',  'D',  'B',  'B',  'B'],\n",
    "[ 'D',  'B',  'D',  'D',  'D']],\n",
    "[[ 'B',  'B',  'B',  'B',  'E'],\n",
    "[ 'D',  'D',  'D',  'D',  'D'],\n",
    "[ 'B',  'D',   'A',  'D', 'D']]]\n",
    "```\n",
    "**Note**: you don't have to use Numpy in this question."
   ]
  },
  {
   "cell_type": "code",
   "execution_count": 47,
   "metadata": {},
   "outputs": [
    {
     "name": "stdout",
     "output_type": "stream",
     "text": [
      "[[['D' 'D' 'B' 'B' 'D']\n",
      "  ['B' 'D' 'B' 'B' 'D']\n",
      "  ['D' 'D' 'E' 'D' 'B']]\n",
      "\n",
      " [['D' 'B' 'B' 'B' 'B']\n",
      "  ['D' 'B' 'D' 'D' 'B']\n",
      "  ['D' 'D' 'D' 'A' 'B']]]\n"
     ]
    }
   ],
   "source": [
    "# your code here\n",
    "g = np.empty((2,3,5),str)\n",
    "for i1 in range(0,2):\n",
    "    for i2 in range(0,3):\n",
    "        for i3 in range(0,5):\n",
    "            if d_min< d[i1,i2,i3] < d_mean:\n",
    "                g[i1,i2,i3] = 'B'\n",
    "            elif d_mean< d[i1,i2,i3] < d_max: \n",
    "                g[i1,i2,i3] = 'D'\n",
    "            elif d[i1,i2,i3] == d_mean:\n",
    "                g[i1,i2,i3] = 'C'\n",
    "            elif d[i1,i2,i3] == d_min:\n",
    "                g[i1,i2,i3] = 'A'\n",
    "            else:\n",
    "                g[i1,i2,i3] = 'E'\n",
    "print(g)"
   ]
  },
  {
   "cell_type": "code",
   "execution_count": null,
   "metadata": {},
   "outputs": [],
   "source": [
    "g"
   ]
  }
 ],
 "metadata": {
  "kernelspec": {
   "display_name": "Python 3 (ipykernel)",
   "language": "python",
   "name": "python3"
  },
  "language_info": {
   "codemirror_mode": {
    "name": "ipython",
    "version": 3
   },
   "file_extension": ".py",
   "mimetype": "text/x-python",
   "name": "python",
   "nbconvert_exporter": "python",
   "pygments_lexer": "ipython3",
   "version": "3.9.7"
  }
 },
 "nbformat": 4,
 "nbformat_minor": 2
}
